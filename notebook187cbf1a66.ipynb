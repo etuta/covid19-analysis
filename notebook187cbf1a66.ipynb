{
 "cells": [
  {
   "cell_type": "markdown",
   "metadata": {
    "papermill": {
     "duration": 0.023927,
     "end_time": "2021-01-14T18:16:17.822713",
     "exception": false,
     "start_time": "2021-01-14T18:16:17.798786",
     "status": "completed"
    },
    "tags": []
   },
   "source": [
    "COVID-19 is is a contagious respiratory disease that was first identified in Wuhan, China in 2019. The disease is caused by a new strain of the coronavirus. Symptoms include: fever, cough, headache, loss of taste or smell, shortness of breath, muscle pain, etc. Although COVID-19 might not be fatal, it is contagious and spreads similarly to the common cold. \n",
    "\n",
    "One of the main goals of the scientinsts today is to \"flatten the curve\", which means having a distribution of the number of cases over a longer period of time. Slowing down the infection spread prevents overburdening the health care system and allows for better medical care for those infected. Currently COVID-19 has an exponential growth rate around the world, wich will be calculated and seen in this notebook. \n",
    "\n",
    "This notebook will also look at the distribution across time and across countries of the Covid-19 cases, paying close attention at:\n",
    "- the total number of confirmed cases, which I will refer as \"Confirmed\"\n",
    "- the total number of people that recovered after being infected, which I will refer as \"Recovered\"\n",
    "- the total number of people that died as a result of the virus, which I will refer as \"Deaths\"\n"
   ]
  },
  {
   "cell_type": "code",
   "execution_count": 1,
   "metadata": {
    "execution": {
     "iopub.execute_input": "2021-01-14T18:16:17.875856Z",
     "iopub.status.busy": "2021-01-14T18:16:17.875184Z",
     "iopub.status.idle": "2021-01-14T18:16:20.138781Z",
     "shell.execute_reply": "2021-01-14T18:16:20.138179Z"
    },
    "papermill": {
     "duration": 2.293322,
     "end_time": "2021-01-14T18:16:20.138913",
     "exception": false,
     "start_time": "2021-01-14T18:16:17.845591",
     "status": "completed"
    },
    "tags": []
   },
   "outputs": [],
   "source": [
    "#Importing libraries\n",
    "import pandas as pd\n",
    "import numpy as np\n",
    "import matplotlib.pyplot as plt\n",
    "import plotly.express as px \n",
    "from plotly.subplots import make_subplots\n",
    "import plotly.graph_objects as go\n",
    "import seaborn as sns"
   ]
  },
  {
   "cell_type": "code",
   "execution_count": 2,
   "metadata": {
    "execution": {
     "iopub.execute_input": "2021-01-14T18:16:20.198859Z",
     "iopub.status.busy": "2021-01-14T18:16:20.198182Z",
     "iopub.status.idle": "2021-01-14T18:16:20.646995Z",
     "shell.execute_reply": "2021-01-14T18:16:20.646273Z"
    },
    "papermill": {
     "duration": 0.484861,
     "end_time": "2021-01-14T18:16:20.647118",
     "exception": false,
     "start_time": "2021-01-14T18:16:20.162257",
     "status": "completed"
    },
    "tags": []
   },
   "outputs": [],
   "source": [
    "# Reading the csv file using the \"read_csv\" from the panda library\n",
    "data = pd.read_csv(\"../input/novel-corona-virus-2019-dataset/covid_19_data.csv\")"
   ]
  },
  {
   "cell_type": "code",
   "execution_count": 3,
   "metadata": {
    "execution": {
     "iopub.execute_input": "2021-01-14T18:16:20.715460Z",
     "iopub.status.busy": "2021-01-14T18:16:20.714755Z",
     "iopub.status.idle": "2021-01-14T18:16:20.726919Z",
     "shell.execute_reply": "2021-01-14T18:16:20.726264Z"
    },
    "papermill": {
     "duration": 0.056325,
     "end_time": "2021-01-14T18:16:20.727053",
     "exception": false,
     "start_time": "2021-01-14T18:16:20.670728",
     "status": "completed"
    },
    "tags": []
   },
   "outputs": [
    {
     "data": {
      "text/html": [
       "<div>\n",
       "<style scoped>\n",
       "    .dataframe tbody tr th:only-of-type {\n",
       "        vertical-align: middle;\n",
       "    }\n",
       "\n",
       "    .dataframe tbody tr th {\n",
       "        vertical-align: top;\n",
       "    }\n",
       "\n",
       "    .dataframe thead th {\n",
       "        text-align: right;\n",
       "    }\n",
       "</style>\n",
       "<table border=\"1\" class=\"dataframe\">\n",
       "  <thead>\n",
       "    <tr style=\"text-align: right;\">\n",
       "      <th></th>\n",
       "      <th>SNo</th>\n",
       "      <th>ObservationDate</th>\n",
       "      <th>Province/State</th>\n",
       "      <th>Country/Region</th>\n",
       "      <th>Last Update</th>\n",
       "      <th>Confirmed</th>\n",
       "      <th>Deaths</th>\n",
       "      <th>Recovered</th>\n",
       "    </tr>\n",
       "  </thead>\n",
       "  <tbody>\n",
       "    <tr>\n",
       "      <th>0</th>\n",
       "      <td>1</td>\n",
       "      <td>01/22/2020</td>\n",
       "      <td>Anhui</td>\n",
       "      <td>Mainland China</td>\n",
       "      <td>1/22/2020 17:00</td>\n",
       "      <td>1.0</td>\n",
       "      <td>0.0</td>\n",
       "      <td>0.0</td>\n",
       "    </tr>\n",
       "    <tr>\n",
       "      <th>1</th>\n",
       "      <td>2</td>\n",
       "      <td>01/22/2020</td>\n",
       "      <td>Beijing</td>\n",
       "      <td>Mainland China</td>\n",
       "      <td>1/22/2020 17:00</td>\n",
       "      <td>14.0</td>\n",
       "      <td>0.0</td>\n",
       "      <td>0.0</td>\n",
       "    </tr>\n",
       "    <tr>\n",
       "      <th>2</th>\n",
       "      <td>3</td>\n",
       "      <td>01/22/2020</td>\n",
       "      <td>Chongqing</td>\n",
       "      <td>Mainland China</td>\n",
       "      <td>1/22/2020 17:00</td>\n",
       "      <td>6.0</td>\n",
       "      <td>0.0</td>\n",
       "      <td>0.0</td>\n",
       "    </tr>\n",
       "    <tr>\n",
       "      <th>3</th>\n",
       "      <td>4</td>\n",
       "      <td>01/22/2020</td>\n",
       "      <td>Fujian</td>\n",
       "      <td>Mainland China</td>\n",
       "      <td>1/22/2020 17:00</td>\n",
       "      <td>1.0</td>\n",
       "      <td>0.0</td>\n",
       "      <td>0.0</td>\n",
       "    </tr>\n",
       "    <tr>\n",
       "      <th>4</th>\n",
       "      <td>5</td>\n",
       "      <td>01/22/2020</td>\n",
       "      <td>Gansu</td>\n",
       "      <td>Mainland China</td>\n",
       "      <td>1/22/2020 17:00</td>\n",
       "      <td>0.0</td>\n",
       "      <td>0.0</td>\n",
       "      <td>0.0</td>\n",
       "    </tr>\n",
       "  </tbody>\n",
       "</table>\n",
       "</div>"
      ],
      "text/plain": [
       "   SNo ObservationDate Province/State  Country/Region      Last Update  \\\n",
       "0    1      01/22/2020          Anhui  Mainland China  1/22/2020 17:00   \n",
       "1    2      01/22/2020        Beijing  Mainland China  1/22/2020 17:00   \n",
       "2    3      01/22/2020      Chongqing  Mainland China  1/22/2020 17:00   \n",
       "3    4      01/22/2020         Fujian  Mainland China  1/22/2020 17:00   \n",
       "4    5      01/22/2020          Gansu  Mainland China  1/22/2020 17:00   \n",
       "\n",
       "   Confirmed  Deaths  Recovered  \n",
       "0        1.0     0.0        0.0  \n",
       "1       14.0     0.0        0.0  \n",
       "2        6.0     0.0        0.0  \n",
       "3        1.0     0.0        0.0  \n",
       "4        0.0     0.0        0.0  "
      ]
     },
     "execution_count": 3,
     "metadata": {},
     "output_type": "execute_result"
    }
   ],
   "source": [
    "#Displaying the first entries in the csv file\n",
    "data.head()"
   ]
  },
  {
   "cell_type": "code",
   "execution_count": 4,
   "metadata": {
    "execution": {
     "iopub.execute_input": "2021-01-14T18:16:20.780640Z",
     "iopub.status.busy": "2021-01-14T18:16:20.779921Z",
     "iopub.status.idle": "2021-01-14T18:16:20.859856Z",
     "shell.execute_reply": "2021-01-14T18:16:20.859196Z"
    },
    "papermill": {
     "duration": 0.10876,
     "end_time": "2021-01-14T18:16:20.859993",
     "exception": false,
     "start_time": "2021-01-14T18:16:20.751233",
     "status": "completed"
    },
    "tags": []
   },
   "outputs": [
    {
     "name": "stdout",
     "output_type": "stream",
     "text": [
      "Size/shape of the dataset: (172480, 8)\n",
      "Null values in the dataset SNo                    0\n",
      "ObservationDate        0\n",
      "Province/State     47883\n",
      "Country/Region         0\n",
      "Last Update            0\n",
      "Confirmed              0\n",
      "Deaths                 0\n",
      "Recovered              0\n",
      "dtype: int64\n"
     ]
    }
   ],
   "source": [
    "#Looking at the datatset's shape/length of the corresponding array and null values \n",
    "print(\"Size/shape of the dataset:\", data.shape)\n",
    "print(\"Null values in the dataset\", data.isnull().sum())"
   ]
  },
  {
   "cell_type": "code",
   "execution_count": 5,
   "metadata": {
    "execution": {
     "iopub.execute_input": "2021-01-14T18:16:20.926616Z",
     "iopub.status.busy": "2021-01-14T18:16:20.925928Z",
     "iopub.status.idle": "2021-01-14T18:16:20.929306Z",
     "shell.execute_reply": "2021-01-14T18:16:20.928448Z"
    },
    "papermill": {
     "duration": 0.045297,
     "end_time": "2021-01-14T18:16:20.929448",
     "exception": false,
     "start_time": "2021-01-14T18:16:20.884151",
     "status": "completed"
    },
    "tags": []
   },
   "outputs": [],
   "source": [
    "#Dropping SNo, since it does not have a use for the current analysis and Province/State, \n",
    "#since it has many null values\n",
    "data.drop([\"SNo\"], 1, inplace = True)"
   ]
  },
  {
   "cell_type": "code",
   "execution_count": 6,
   "metadata": {
    "execution": {
     "iopub.execute_input": "2021-01-14T18:16:20.985510Z",
     "iopub.status.busy": "2021-01-14T18:16:20.984785Z",
     "iopub.status.idle": "2021-01-14T18:16:21.000123Z",
     "shell.execute_reply": "2021-01-14T18:16:21.000592Z"
    },
    "papermill": {
     "duration": 0.046937,
     "end_time": "2021-01-14T18:16:21.000743",
     "exception": false,
     "start_time": "2021-01-14T18:16:20.953806",
     "status": "completed"
    },
    "tags": []
   },
   "outputs": [
    {
     "data": {
      "text/html": [
       "<div>\n",
       "<style scoped>\n",
       "    .dataframe tbody tr th:only-of-type {\n",
       "        vertical-align: middle;\n",
       "    }\n",
       "\n",
       "    .dataframe tbody tr th {\n",
       "        vertical-align: top;\n",
       "    }\n",
       "\n",
       "    .dataframe thead th {\n",
       "        text-align: right;\n",
       "    }\n",
       "</style>\n",
       "<table border=\"1\" class=\"dataframe\">\n",
       "  <thead>\n",
       "    <tr style=\"text-align: right;\">\n",
       "      <th></th>\n",
       "      <th>ObservationDate</th>\n",
       "      <th>Province/State</th>\n",
       "      <th>Country/Region</th>\n",
       "      <th>Last Update</th>\n",
       "      <th>Confirmed</th>\n",
       "      <th>Deaths</th>\n",
       "      <th>Recovered</th>\n",
       "    </tr>\n",
       "  </thead>\n",
       "  <tbody>\n",
       "    <tr>\n",
       "      <th>0</th>\n",
       "      <td>01/22/2020</td>\n",
       "      <td>Anhui</td>\n",
       "      <td>Mainland China</td>\n",
       "      <td>1/22/2020 17:00</td>\n",
       "      <td>1.0</td>\n",
       "      <td>0.0</td>\n",
       "      <td>0.0</td>\n",
       "    </tr>\n",
       "    <tr>\n",
       "      <th>1</th>\n",
       "      <td>01/22/2020</td>\n",
       "      <td>Beijing</td>\n",
       "      <td>Mainland China</td>\n",
       "      <td>1/22/2020 17:00</td>\n",
       "      <td>14.0</td>\n",
       "      <td>0.0</td>\n",
       "      <td>0.0</td>\n",
       "    </tr>\n",
       "    <tr>\n",
       "      <th>2</th>\n",
       "      <td>01/22/2020</td>\n",
       "      <td>Chongqing</td>\n",
       "      <td>Mainland China</td>\n",
       "      <td>1/22/2020 17:00</td>\n",
       "      <td>6.0</td>\n",
       "      <td>0.0</td>\n",
       "      <td>0.0</td>\n",
       "    </tr>\n",
       "    <tr>\n",
       "      <th>3</th>\n",
       "      <td>01/22/2020</td>\n",
       "      <td>Fujian</td>\n",
       "      <td>Mainland China</td>\n",
       "      <td>1/22/2020 17:00</td>\n",
       "      <td>1.0</td>\n",
       "      <td>0.0</td>\n",
       "      <td>0.0</td>\n",
       "    </tr>\n",
       "    <tr>\n",
       "      <th>4</th>\n",
       "      <td>01/22/2020</td>\n",
       "      <td>Gansu</td>\n",
       "      <td>Mainland China</td>\n",
       "      <td>1/22/2020 17:00</td>\n",
       "      <td>0.0</td>\n",
       "      <td>0.0</td>\n",
       "      <td>0.0</td>\n",
       "    </tr>\n",
       "    <tr>\n",
       "      <th>...</th>\n",
       "      <td>...</td>\n",
       "      <td>...</td>\n",
       "      <td>...</td>\n",
       "      <td>...</td>\n",
       "      <td>...</td>\n",
       "      <td>...</td>\n",
       "      <td>...</td>\n",
       "    </tr>\n",
       "    <tr>\n",
       "      <th>172475</th>\n",
       "      <td>12/06/2020</td>\n",
       "      <td>Zaporizhia Oblast</td>\n",
       "      <td>Ukraine</td>\n",
       "      <td>2020-12-07 05:26:14</td>\n",
       "      <td>36539.0</td>\n",
       "      <td>337.0</td>\n",
       "      <td>6556.0</td>\n",
       "    </tr>\n",
       "    <tr>\n",
       "      <th>172476</th>\n",
       "      <td>12/06/2020</td>\n",
       "      <td>Zeeland</td>\n",
       "      <td>Netherlands</td>\n",
       "      <td>2020-12-07 05:26:14</td>\n",
       "      <td>6710.0</td>\n",
       "      <td>104.0</td>\n",
       "      <td>0.0</td>\n",
       "    </tr>\n",
       "    <tr>\n",
       "      <th>172477</th>\n",
       "      <td>12/06/2020</td>\n",
       "      <td>Zhejiang</td>\n",
       "      <td>Mainland China</td>\n",
       "      <td>2020-12-07 05:26:14</td>\n",
       "      <td>1295.0</td>\n",
       "      <td>1.0</td>\n",
       "      <td>1288.0</td>\n",
       "    </tr>\n",
       "    <tr>\n",
       "      <th>172478</th>\n",
       "      <td>12/06/2020</td>\n",
       "      <td>Zhytomyr Oblast</td>\n",
       "      <td>Ukraine</td>\n",
       "      <td>2020-12-07 05:26:14</td>\n",
       "      <td>31967.0</td>\n",
       "      <td>531.0</td>\n",
       "      <td>22263.0</td>\n",
       "    </tr>\n",
       "    <tr>\n",
       "      <th>172479</th>\n",
       "      <td>12/06/2020</td>\n",
       "      <td>Zuid-Holland</td>\n",
       "      <td>Netherlands</td>\n",
       "      <td>2020-12-07 05:26:14</td>\n",
       "      <td>154813.0</td>\n",
       "      <td>2414.0</td>\n",
       "      <td>0.0</td>\n",
       "    </tr>\n",
       "  </tbody>\n",
       "</table>\n",
       "<p>172480 rows × 7 columns</p>\n",
       "</div>"
      ],
      "text/plain": [
       "       ObservationDate     Province/State  Country/Region  \\\n",
       "0           01/22/2020              Anhui  Mainland China   \n",
       "1           01/22/2020            Beijing  Mainland China   \n",
       "2           01/22/2020          Chongqing  Mainland China   \n",
       "3           01/22/2020             Fujian  Mainland China   \n",
       "4           01/22/2020              Gansu  Mainland China   \n",
       "...                ...                ...             ...   \n",
       "172475      12/06/2020  Zaporizhia Oblast         Ukraine   \n",
       "172476      12/06/2020            Zeeland     Netherlands   \n",
       "172477      12/06/2020           Zhejiang  Mainland China   \n",
       "172478      12/06/2020    Zhytomyr Oblast         Ukraine   \n",
       "172479      12/06/2020       Zuid-Holland     Netherlands   \n",
       "\n",
       "                Last Update  Confirmed  Deaths  Recovered  \n",
       "0           1/22/2020 17:00        1.0     0.0        0.0  \n",
       "1           1/22/2020 17:00       14.0     0.0        0.0  \n",
       "2           1/22/2020 17:00        6.0     0.0        0.0  \n",
       "3           1/22/2020 17:00        1.0     0.0        0.0  \n",
       "4           1/22/2020 17:00        0.0     0.0        0.0  \n",
       "...                     ...        ...     ...        ...  \n",
       "172475  2020-12-07 05:26:14    36539.0   337.0     6556.0  \n",
       "172476  2020-12-07 05:26:14     6710.0   104.0        0.0  \n",
       "172477  2020-12-07 05:26:14     1295.0     1.0     1288.0  \n",
       "172478  2020-12-07 05:26:14    31967.0   531.0    22263.0  \n",
       "172479  2020-12-07 05:26:14   154813.0  2414.0        0.0  \n",
       "\n",
       "[172480 rows x 7 columns]"
      ]
     },
     "execution_count": 6,
     "metadata": {},
     "output_type": "execute_result"
    }
   ],
   "source": [
    "#Visualizing the result in the dataset\n",
    "data"
   ]
  },
  {
   "cell_type": "code",
   "execution_count": 7,
   "metadata": {
    "execution": {
     "iopub.execute_input": "2021-01-14T18:16:21.054453Z",
     "iopub.status.busy": "2021-01-14T18:16:21.053815Z",
     "iopub.status.idle": "2021-01-14T18:16:21.107936Z",
     "shell.execute_reply": "2021-01-14T18:16:21.106831Z"
    },
    "papermill": {
     "duration": 0.081945,
     "end_time": "2021-01-14T18:16:21.108125",
     "exception": false,
     "start_time": "2021-01-14T18:16:21.026180",
     "status": "completed"
    },
    "tags": []
   },
   "outputs": [],
   "source": [
    "#Converting to standard date format\n",
    "data[\"ObservationDate\"] = pd.to_datetime(data[\"ObservationDate\"])"
   ]
  },
  {
   "cell_type": "code",
   "execution_count": 8,
   "metadata": {
    "execution": {
     "iopub.execute_input": "2021-01-14T18:16:21.169116Z",
     "iopub.status.busy": "2021-01-14T18:16:21.168356Z",
     "iopub.status.idle": "2021-01-14T18:16:21.232955Z",
     "shell.execute_reply": "2021-01-14T18:16:21.232260Z"
    },
    "papermill": {
     "duration": 0.0996,
     "end_time": "2021-01-14T18:16:21.233089",
     "exception": false,
     "start_time": "2021-01-14T18:16:21.133489",
     "status": "completed"
    },
    "tags": []
   },
   "outputs": [
    {
     "data": {
      "text/html": [
       "<div>\n",
       "<style scoped>\n",
       "    .dataframe tbody tr th:only-of-type {\n",
       "        vertical-align: middle;\n",
       "    }\n",
       "\n",
       "    .dataframe tbody tr th {\n",
       "        vertical-align: top;\n",
       "    }\n",
       "\n",
       "    .dataframe thead th {\n",
       "        text-align: right;\n",
       "    }\n",
       "</style>\n",
       "<table border=\"1\" class=\"dataframe\">\n",
       "  <thead>\n",
       "    <tr style=\"text-align: right;\">\n",
       "      <th></th>\n",
       "      <th></th>\n",
       "      <th>Confirmed</th>\n",
       "      <th>Recovered</th>\n",
       "      <th>Deaths</th>\n",
       "    </tr>\n",
       "    <tr>\n",
       "      <th>Country/Region</th>\n",
       "      <th>ObservationDate</th>\n",
       "      <th></th>\n",
       "      <th></th>\n",
       "      <th></th>\n",
       "    </tr>\n",
       "  </thead>\n",
       "  <tbody>\n",
       "    <tr>\n",
       "      <th>Azerbaijan</th>\n",
       "      <th>2020-02-28</th>\n",
       "      <td>1.0</td>\n",
       "      <td>0.0</td>\n",
       "      <td>0.0</td>\n",
       "    </tr>\n",
       "    <tr>\n",
       "      <th>('St. Martin',)</th>\n",
       "      <th>2020-03-10</th>\n",
       "      <td>2.0</td>\n",
       "      <td>0.0</td>\n",
       "      <td>0.0</td>\n",
       "    </tr>\n",
       "    <tr>\n",
       "      <th rowspan=\"3\" valign=\"top\">Afghanistan</th>\n",
       "      <th>2020-02-24</th>\n",
       "      <td>1.0</td>\n",
       "      <td>0.0</td>\n",
       "      <td>0.0</td>\n",
       "    </tr>\n",
       "    <tr>\n",
       "      <th>2020-02-25</th>\n",
       "      <td>1.0</td>\n",
       "      <td>0.0</td>\n",
       "      <td>0.0</td>\n",
       "    </tr>\n",
       "    <tr>\n",
       "      <th>2020-02-26</th>\n",
       "      <td>1.0</td>\n",
       "      <td>0.0</td>\n",
       "      <td>0.0</td>\n",
       "    </tr>\n",
       "    <tr>\n",
       "      <th>...</th>\n",
       "      <th>...</th>\n",
       "      <td>...</td>\n",
       "      <td>...</td>\n",
       "      <td>...</td>\n",
       "    </tr>\n",
       "    <tr>\n",
       "      <th rowspan=\"5\" valign=\"top\">occupied Palestinian territory</th>\n",
       "      <th>2020-03-12</th>\n",
       "      <td>0.0</td>\n",
       "      <td>0.0</td>\n",
       "      <td>0.0</td>\n",
       "    </tr>\n",
       "    <tr>\n",
       "      <th>2020-03-14</th>\n",
       "      <td>0.0</td>\n",
       "      <td>0.0</td>\n",
       "      <td>0.0</td>\n",
       "    </tr>\n",
       "    <tr>\n",
       "      <th>2020-03-15</th>\n",
       "      <td>0.0</td>\n",
       "      <td>0.0</td>\n",
       "      <td>0.0</td>\n",
       "    </tr>\n",
       "    <tr>\n",
       "      <th>2020-03-16</th>\n",
       "      <td>0.0</td>\n",
       "      <td>0.0</td>\n",
       "      <td>0.0</td>\n",
       "    </tr>\n",
       "    <tr>\n",
       "      <th>2020-03-17</th>\n",
       "      <td>0.0</td>\n",
       "      <td>0.0</td>\n",
       "      <td>0.0</td>\n",
       "    </tr>\n",
       "  </tbody>\n",
       "</table>\n",
       "<p>53014 rows × 3 columns</p>\n",
       "</div>"
      ],
      "text/plain": [
       "                                                Confirmed  Recovered  Deaths\n",
       "Country/Region                 ObservationDate                              \n",
       " Azerbaijan                    2020-02-28             1.0        0.0     0.0\n",
       "('St. Martin',)                2020-03-10             2.0        0.0     0.0\n",
       "Afghanistan                    2020-02-24             1.0        0.0     0.0\n",
       "                               2020-02-25             1.0        0.0     0.0\n",
       "                               2020-02-26             1.0        0.0     0.0\n",
       "...                                                   ...        ...     ...\n",
       "occupied Palestinian territory 2020-03-12             0.0        0.0     0.0\n",
       "                               2020-03-14             0.0        0.0     0.0\n",
       "                               2020-03-15             0.0        0.0     0.0\n",
       "                               2020-03-16             0.0        0.0     0.0\n",
       "                               2020-03-17             0.0        0.0     0.0\n",
       "\n",
       "[53014 rows x 3 columns]"
      ]
     },
     "execution_count": 8,
     "metadata": {},
     "output_type": "execute_result"
    }
   ],
   "source": [
    "#Grouping and aggregating by country\n",
    "grouped_country = data.groupby([\"Country/Region\", \"ObservationDate\"]).agg({\"Confirmed\" : 'sum', \"Recovered\": 'sum', \"Deaths\": 'sum'})\n",
    "#Visualizing the changes made to the data\n",
    "grouped_country"
   ]
  },
  {
   "cell_type": "code",
   "execution_count": 9,
   "metadata": {
    "execution": {
     "iopub.execute_input": "2021-01-14T18:16:21.294091Z",
     "iopub.status.busy": "2021-01-14T18:16:21.293005Z",
     "iopub.status.idle": "2021-01-14T18:16:21.341780Z",
     "shell.execute_reply": "2021-01-14T18:16:21.342632Z"
    },
    "papermill": {
     "duration": 0.083284,
     "end_time": "2021-01-14T18:16:21.342811",
     "exception": false,
     "start_time": "2021-01-14T18:16:21.259527",
     "status": "completed"
    },
    "tags": []
   },
   "outputs": [
    {
     "name": "stderr",
     "output_type": "stream",
     "text": [
      "/opt/conda/lib/python3.7/site-packages/pandas/core/series.py:726: RuntimeWarning: divide by zero encountered in log\n",
      "  result = getattr(ufunc, method)(*inputs, **kwargs)\n",
      "/opt/conda/lib/python3.7/site-packages/pandas/core/series.py:726: RuntimeWarning: invalid value encountered in log\n",
      "  result = getattr(ufunc, method)(*inputs, **kwargs)\n"
     ]
    }
   ],
   "source": [
    "grouped_country[\"Active Cases\"] = grouped_country[\"Confirmed\"] - grouped_country[\"Recovered\"] - grouped_country[\"Deaths\"]\n",
    "grouped_country[\"log_confirmed\"] = np.log(grouped_country[\"Confirmed\"])\n",
    "grouped_country[\"log_active\"] = np.log(grouped_country[\"Active Cases\"])"
   ]
  },
  {
   "cell_type": "code",
   "execution_count": 10,
   "metadata": {
    "execution": {
     "iopub.execute_input": "2021-01-14T18:16:21.403681Z",
     "iopub.status.busy": "2021-01-14T18:16:21.402913Z",
     "iopub.status.idle": "2021-01-14T18:16:21.413211Z",
     "shell.execute_reply": "2021-01-14T18:16:21.412614Z"
    },
    "papermill": {
     "duration": 0.043579,
     "end_time": "2021-01-14T18:16:21.413333",
     "exception": false,
     "start_time": "2021-01-14T18:16:21.369754",
     "status": "completed"
    },
    "tags": []
   },
   "outputs": [],
   "source": [
    "#Grouping the cases by date\n",
    "grouped_date = data.groupby([\"ObservationDate\"]).agg({\"Confirmed\": 'sum', \"Recovered\": 'sum', \"Deaths\": 'sum'})"
   ]
  },
  {
   "cell_type": "code",
   "execution_count": 11,
   "metadata": {
    "_cell_guid": "79c7e3d0-c299-4dcb-8224-4455121ee9b0",
    "_uuid": "d629ff2d2480ee46fbb7e2d37f6b5fab8052498a",
    "execution": {
     "iopub.execute_input": "2021-01-14T18:16:21.495655Z",
     "iopub.status.busy": "2021-01-14T18:16:21.481682Z",
     "iopub.status.idle": "2021-01-14T18:16:21.510111Z",
     "shell.execute_reply": "2021-01-14T18:16:21.509134Z"
    },
    "papermill": {
     "duration": 0.069833,
     "end_time": "2021-01-14T18:16:21.510303",
     "exception": false,
     "start_time": "2021-01-14T18:16:21.440470",
     "status": "completed"
    },
    "tags": []
   },
   "outputs": [
    {
     "name": "stdout",
     "output_type": "stream",
     "text": [
      "Basic Information\n",
      "Totol number of countries with Disease Spread:  226\n",
      "Total number of Confirmed Cases around the World:  67073728.0\n",
      "Total number of Recovered Cases around the World:  43103827.0\n",
      "Total number of Deaths Cases around the World:  1536056.0\n",
      "Total number of Active Cases around the World:  22433845.0\n",
      "Total number of Closed Cases around the World:  44639883.0\n",
      "Approximate number of Confirmed Cases per Day around the World:  209605.0\n",
      "Approximate number of Recovered Cases per Day around the World:  134699.0\n",
      "Approximate number of Death Cases per Day around the World:  4800.0\n",
      "Approximate number of Confirmed Cases per hour around the World:  8734.0\n",
      "Approximate number of Recovered Cases per hour around the World:  5612.0\n",
      "Approximate number of Death Cases per hour around the World:  200.0\n",
      "Number of Confirmed Cases in last 24 hours:  533694.0\n",
      "Number of Recovered Cases in last 24 hours:  313948.0\n",
      "Number of Death Cases in last 24 hours:  7188.0\n"
     ]
    }
   ],
   "source": [
    "print(\"Basic Information\")\n",
    "print(\"Totol number of countries with Disease Spread: \",len(data[\"Country/Region\"].unique()))\n",
    "print(\"Total number of Confirmed Cases around the World: \", grouped_date[\"Confirmed\"].iloc[-1])\n",
    "print(\"Total number of Recovered Cases around the World: \",grouped_date[\"Recovered\"].iloc[-1])\n",
    "print(\"Total number of Deaths Cases around the World: \",grouped_date[\"Deaths\"].iloc[-1])\n",
    "print(\"Total number of Active Cases around the World: \",(grouped_date[\"Confirmed\"].iloc[-1] - grouped_date[\"Recovered\"].iloc[-1] - grouped_date[\"Deaths\"].iloc[-1]))\n",
    "print(\"Total number of Closed Cases around the World: \",grouped_date[\"Recovered\"].iloc[-1] + grouped_date[\"Deaths\"].iloc[-1])\n",
    "print(\"Approximate number of Confirmed Cases per Day around the World: \",np.round(grouped_date[\"Confirmed\"].iloc[-1] / grouped_date.shape[0]))\n",
    "print(\"Approximate number of Recovered Cases per Day around the World: \",np.round(grouped_date[\"Recovered\"].iloc[-1] / grouped_date.shape[0]))\n",
    "print(\"Approximate number of Death Cases per Day around the World: \",np.round(grouped_date[\"Deaths\"].iloc[-1] / grouped_date.shape[0]))\n",
    "print(\"Approximate number of Confirmed Cases per hour around the World: \",np.round(grouped_date[\"Confirmed\"].iloc[-1] / ((grouped_date.shape[0])*24)))\n",
    "print(\"Approximate number of Recovered Cases per hour around the World: \",np.round(grouped_date[\"Recovered\"].iloc[-1] / ((grouped_date.shape[0])*24)))\n",
    "print(\"Approximate number of Death Cases per hour around the World: \",np.round(grouped_date[\"Deaths\"].iloc[-1] / ((grouped_date.shape[0])*24)))\n",
    "print(\"Number of Confirmed Cases in last 24 hours: \",grouped_date[\"Confirmed\"].iloc[-1] - grouped_date[\"Confirmed\"].iloc[-2])\n",
    "print(\"Number of Recovered Cases in last 24 hours: \",grouped_date[\"Recovered\"].iloc[-1] - grouped_date[\"Recovered\"].iloc[-2])\n",
    "print(\"Number of Death Cases in last 24 hours: \",grouped_date[\"Deaths\"].iloc[-1] - grouped_date[\"Deaths\"].iloc[-2])"
   ]
  },
  {
   "cell_type": "code",
   "execution_count": 12,
   "metadata": {
    "execution": {
     "iopub.execute_input": "2021-01-14T18:16:21.573231Z",
     "iopub.status.busy": "2021-01-14T18:16:21.572525Z",
     "iopub.status.idle": "2021-01-14T18:16:23.024518Z",
     "shell.execute_reply": "2021-01-14T18:16:23.023837Z"
    },
    "papermill": {
     "duration": 1.485597,
     "end_time": "2021-01-14T18:16:23.024632",
     "exception": false,
     "start_time": "2021-01-14T18:16:21.539035",
     "status": "completed"
    },
    "tags": []
   },
   "outputs": [
    {
     "data": {
      "text/html": [
       "        <script type=\"text/javascript\">\n",
       "        window.PlotlyConfig = {MathJaxConfig: 'local'};\n",
       "        if (window.MathJax) {MathJax.Hub.Config({SVG: {font: \"STIX-Web\"}});}\n",
       "        if (typeof require !== 'undefined') {\n",
       "        require.undef(\"plotly\");\n",
       "        requirejs.config({\n",
       "            paths: {\n",
       "                'plotly': ['https://cdn.plot.ly/plotly-latest.min']\n",
       "            }\n",
       "        });\n",
       "        require(['plotly'], function(Plotly) {\n",
       "            window._Plotly = Plotly;\n",
       "        });\n",
       "        }\n",
       "        </script>\n",
       "        "
      ]
     },
     "metadata": {},
     "output_type": "display_data"
    },
    {
     "data": {
      "text/html": [
       "<div>                            <div id=\"64ca7423-eae6-4923-b567-74668842ca1b\" class=\"plotly-graph-div\" style=\"height:525px; width:100%;\"></div>            <script type=\"text/javascript\">                require([\"plotly\"], function(Plotly) {                    window.PLOTLYENV=window.PLOTLYENV || {};                                    if (document.getElementById(\"64ca7423-eae6-4923-b567-74668842ca1b\")) {                    Plotly.newPlot(                        \"64ca7423-eae6-4923-b567-74668842ca1b\",                        [{\"alignmentgroup\": \"True\", \"hovertemplate\": \"x=%{x}<br>y=%{y}<extra></extra>\", \"legendgroup\": \"\", \"marker\": {\"color\": \"#636efa\"}, \"name\": \"\", \"offsetgroup\": \"\", \"orientation\": \"v\", \"showlegend\": false, \"textposition\": \"auto\", \"type\": \"bar\", \"x\": [\"2020-01-22T00:00:00\", \"2020-01-23T00:00:00\", \"2020-01-24T00:00:00\", \"2020-01-25T00:00:00\", \"2020-01-26T00:00:00\", \"2020-01-27T00:00:00\", \"2020-01-28T00:00:00\", \"2020-01-29T00:00:00\", \"2020-01-30T00:00:00\", \"2020-01-31T00:00:00\", \"2020-02-01T00:00:00\", \"2020-02-02T00:00:00\", \"2020-02-03T00:00:00\", \"2020-02-04T00:00:00\", \"2020-02-05T00:00:00\", \"2020-02-06T00:00:00\", \"2020-02-07T00:00:00\", \"2020-02-08T00:00:00\", \"2020-02-09T00:00:00\", \"2020-02-10T00:00:00\", \"2020-02-11T00:00:00\", \"2020-02-12T00:00:00\", \"2020-02-13T00:00:00\", \"2020-02-14T00:00:00\", \"2020-02-15T00:00:00\", \"2020-02-16T00:00:00\", \"2020-02-17T00:00:00\", \"2020-02-18T00:00:00\", \"2020-02-19T00:00:00\", \"2020-02-20T00:00:00\", \"2020-02-21T00:00:00\", \"2020-02-22T00:00:00\", \"2020-02-23T00:00:00\", \"2020-02-24T00:00:00\", \"2020-02-25T00:00:00\", \"2020-02-26T00:00:00\", \"2020-02-27T00:00:00\", \"2020-02-28T00:00:00\", \"2020-02-29T00:00:00\", \"2020-03-01T00:00:00\", \"2020-03-02T00:00:00\", \"2020-03-03T00:00:00\", \"2020-03-04T00:00:00\", \"2020-03-05T00:00:00\", \"2020-03-06T00:00:00\", \"2020-03-07T00:00:00\", \"2020-03-08T00:00:00\", \"2020-03-09T00:00:00\", \"2020-03-10T00:00:00\", \"2020-03-11T00:00:00\", \"2020-03-12T00:00:00\", \"2020-03-13T00:00:00\", \"2020-03-14T00:00:00\", \"2020-03-15T00:00:00\", \"2020-03-16T00:00:00\", \"2020-03-17T00:00:00\", \"2020-03-18T00:00:00\", \"2020-03-19T00:00:00\", \"2020-03-20T00:00:00\", \"2020-03-21T00:00:00\", \"2020-03-22T00:00:00\", \"2020-03-23T00:00:00\", \"2020-03-24T00:00:00\", \"2020-03-25T00:00:00\", \"2020-03-26T00:00:00\", \"2020-03-27T00:00:00\", \"2020-03-28T00:00:00\", \"2020-03-29T00:00:00\", \"2020-03-30T00:00:00\", \"2020-03-31T00:00:00\", \"2020-04-01T00:00:00\", \"2020-04-02T00:00:00\", \"2020-04-03T00:00:00\", \"2020-04-04T00:00:00\", \"2020-04-05T00:00:00\", \"2020-04-06T00:00:00\", \"2020-04-07T00:00:00\", \"2020-04-08T00:00:00\", \"2020-04-09T00:00:00\", \"2020-04-10T00:00:00\", \"2020-04-11T00:00:00\", \"2020-04-12T00:00:00\", \"2020-04-13T00:00:00\", \"2020-04-14T00:00:00\", \"2020-04-15T00:00:00\", \"2020-04-16T00:00:00\", \"2020-04-17T00:00:00\", \"2020-04-18T00:00:00\", \"2020-04-19T00:00:00\", \"2020-04-20T00:00:00\", \"2020-04-21T00:00:00\", \"2020-04-22T00:00:00\", \"2020-04-23T00:00:00\", \"2020-04-24T00:00:00\", \"2020-04-25T00:00:00\", \"2020-04-26T00:00:00\", \"2020-04-27T00:00:00\", \"2020-04-28T00:00:00\", \"2020-04-29T00:00:00\", \"2020-04-30T00:00:00\", \"2020-05-01T00:00:00\", \"2020-05-02T00:00:00\", \"2020-05-03T00:00:00\", \"2020-05-04T00:00:00\", \"2020-05-05T00:00:00\", \"2020-05-06T00:00:00\", \"2020-05-07T00:00:00\", \"2020-05-08T00:00:00\", \"2020-05-09T00:00:00\", \"2020-05-10T00:00:00\", \"2020-05-11T00:00:00\", \"2020-05-12T00:00:00\", \"2020-05-13T00:00:00\", \"2020-05-14T00:00:00\", \"2020-05-15T00:00:00\", \"2020-05-16T00:00:00\", \"2020-05-17T00:00:00\", \"2020-05-18T00:00:00\", \"2020-05-19T00:00:00\", \"2020-05-20T00:00:00\", \"2020-05-21T00:00:00\", \"2020-05-22T00:00:00\", \"2020-05-23T00:00:00\", \"2020-05-24T00:00:00\", \"2020-05-25T00:00:00\", \"2020-05-26T00:00:00\", \"2020-05-27T00:00:00\", \"2020-05-28T00:00:00\", \"2020-05-29T00:00:00\", \"2020-05-30T00:00:00\", \"2020-05-31T00:00:00\", \"2020-06-01T00:00:00\", \"2020-06-02T00:00:00\", \"2020-06-03T00:00:00\", \"2020-06-04T00:00:00\", \"2020-06-05T00:00:00\", \"2020-06-06T00:00:00\", \"2020-06-07T00:00:00\", \"2020-06-08T00:00:00\", \"2020-06-09T00:00:00\", \"2020-06-10T00:00:00\", \"2020-06-11T00:00:00\", \"2020-06-12T00:00:00\", \"2020-06-13T00:00:00\", \"2020-06-14T00:00:00\", \"2020-06-15T00:00:00\", \"2020-06-16T00:00:00\", \"2020-06-17T00:00:00\", \"2020-06-18T00:00:00\", \"2020-06-19T00:00:00\", \"2020-06-20T00:00:00\", \"2020-06-21T00:00:00\", \"2020-06-22T00:00:00\", \"2020-06-23T00:00:00\", \"2020-06-24T00:00:00\", \"2020-06-25T00:00:00\", \"2020-06-26T00:00:00\", \"2020-06-27T00:00:00\", \"2020-06-28T00:00:00\", \"2020-06-29T00:00:00\", \"2020-06-30T00:00:00\", \"2020-07-01T00:00:00\", \"2020-07-02T00:00:00\", \"2020-07-03T00:00:00\", \"2020-07-04T00:00:00\", \"2020-07-05T00:00:00\", \"2020-07-06T00:00:00\", \"2020-07-07T00:00:00\", \"2020-07-08T00:00:00\", \"2020-07-09T00:00:00\", \"2020-07-10T00:00:00\", \"2020-07-11T00:00:00\", \"2020-07-12T00:00:00\", \"2020-07-13T00:00:00\", \"2020-07-14T00:00:00\", \"2020-07-15T00:00:00\", \"2020-07-16T00:00:00\", \"2020-07-17T00:00:00\", \"2020-07-18T00:00:00\", \"2020-07-19T00:00:00\", \"2020-07-20T00:00:00\", \"2020-07-21T00:00:00\", \"2020-07-22T00:00:00\", \"2020-07-23T00:00:00\", \"2020-07-24T00:00:00\", \"2020-07-25T00:00:00\", \"2020-07-26T00:00:00\", \"2020-07-27T00:00:00\", \"2020-07-28T00:00:00\", \"2020-07-29T00:00:00\", \"2020-07-30T00:00:00\", \"2020-07-31T00:00:00\", \"2020-08-01T00:00:00\", \"2020-08-02T00:00:00\", \"2020-08-03T00:00:00\", \"2020-08-04T00:00:00\", \"2020-08-05T00:00:00\", \"2020-08-06T00:00:00\", \"2020-08-07T00:00:00\", \"2020-08-08T00:00:00\", \"2020-08-09T00:00:00\", \"2020-08-10T00:00:00\", \"2020-08-11T00:00:00\", \"2020-08-12T00:00:00\", \"2020-08-13T00:00:00\", \"2020-08-14T00:00:00\", \"2020-08-15T00:00:00\", \"2020-08-16T00:00:00\", \"2020-08-17T00:00:00\", \"2020-08-18T00:00:00\", \"2020-08-19T00:00:00\", \"2020-08-20T00:00:00\", \"2020-08-21T00:00:00\", \"2020-08-22T00:00:00\", \"2020-08-23T00:00:00\", \"2020-08-24T00:00:00\", \"2020-08-25T00:00:00\", \"2020-08-26T00:00:00\", \"2020-08-27T00:00:00\", \"2020-08-28T00:00:00\", \"2020-08-29T00:00:00\", \"2020-08-30T00:00:00\", \"2020-08-31T00:00:00\", \"2020-09-01T00:00:00\", \"2020-09-02T00:00:00\", \"2020-09-03T00:00:00\", \"2020-09-04T00:00:00\", \"2020-09-05T00:00:00\", \"2020-09-06T00:00:00\", \"2020-09-07T00:00:00\", \"2020-09-08T00:00:00\", \"2020-09-09T00:00:00\", \"2020-09-10T00:00:00\", \"2020-09-11T00:00:00\", \"2020-09-12T00:00:00\", \"2020-09-13T00:00:00\", \"2020-09-14T00:00:00\", \"2020-09-15T00:00:00\", \"2020-09-16T00:00:00\", \"2020-09-17T00:00:00\", \"2020-09-18T00:00:00\", \"2020-09-19T00:00:00\", \"2020-09-20T00:00:00\", \"2020-09-21T00:00:00\", \"2020-09-22T00:00:00\", \"2020-09-23T00:00:00\", \"2020-09-24T00:00:00\", \"2020-09-25T00:00:00\", \"2020-09-26T00:00:00\", \"2020-09-27T00:00:00\", \"2020-09-28T00:00:00\", \"2020-09-29T00:00:00\", \"2020-09-30T00:00:00\", \"2020-10-01T00:00:00\", \"2020-10-02T00:00:00\", \"2020-10-03T00:00:00\", \"2020-10-04T00:00:00\", \"2020-10-05T00:00:00\", \"2020-10-06T00:00:00\", \"2020-10-07T00:00:00\", \"2020-10-08T00:00:00\", \"2020-10-09T00:00:00\", \"2020-10-10T00:00:00\", \"2020-10-11T00:00:00\", \"2020-10-12T00:00:00\", \"2020-10-13T00:00:00\", \"2020-10-14T00:00:00\", \"2020-10-15T00:00:00\", \"2020-10-16T00:00:00\", \"2020-10-17T00:00:00\", \"2020-10-18T00:00:00\", \"2020-10-19T00:00:00\", \"2020-10-20T00:00:00\", \"2020-10-21T00:00:00\", \"2020-10-22T00:00:00\", \"2020-10-23T00:00:00\", \"2020-10-24T00:00:00\", \"2020-10-25T00:00:00\", \"2020-10-26T00:00:00\", \"2020-10-27T00:00:00\", \"2020-10-28T00:00:00\", \"2020-10-29T00:00:00\", \"2020-10-30T00:00:00\", \"2020-10-31T00:00:00\", \"2020-11-01T00:00:00\", \"2020-11-02T00:00:00\", \"2020-11-03T00:00:00\", \"2020-11-04T00:00:00\", \"2020-11-05T00:00:00\", \"2020-11-06T00:00:00\", \"2020-11-07T00:00:00\", \"2020-11-08T00:00:00\", \"2020-11-09T00:00:00\", \"2020-11-10T00:00:00\", \"2020-11-11T00:00:00\", \"2020-11-12T00:00:00\", \"2020-11-13T00:00:00\", \"2020-11-14T00:00:00\", \"2020-11-15T00:00:00\", \"2020-11-16T00:00:00\", \"2020-11-17T00:00:00\", \"2020-11-18T00:00:00\", \"2020-11-19T00:00:00\", \"2020-11-20T00:00:00\", \"2020-11-21T00:00:00\", \"2020-11-22T00:00:00\", \"2020-11-23T00:00:00\", \"2020-11-24T00:00:00\", \"2020-11-25T00:00:00\", \"2020-11-26T00:00:00\", \"2020-11-27T00:00:00\", \"2020-11-28T00:00:00\", \"2020-11-29T00:00:00\", \"2020-11-30T00:00:00\", \"2020-12-01T00:00:00\", \"2020-12-02T00:00:00\", \"2020-12-03T00:00:00\", \"2020-12-04T00:00:00\", \"2020-12-05T00:00:00\", \"2020-12-06T00:00:00\"], \"xaxis\": \"x\", \"y\": [510.0, 605.0, 879.0, 1357.0, 2010.0, 2784.0, 5340.0, 5906.0, 7921.0, 9490.0, 11495.0, 15953.0, 18832.0, 22548.0, 25948.0, 28697.0, 31662.0, 33699.0, 36001.0, 37804.0, 39007.0, 38954.0, 52704.0, 57306.0, 57971.0, 58591.0, 58809.0, 58779.0, 57398.0, 55775.0, 55702.0, 53255.0, 53122.0, 51714.0, 49802.0, 48243.0, 46666.0, 44544.0, 43290.0, 42657.0, 41625.0, 41460.0, 40703.0, 40746.0, 42479.0, 43928.0, 45335.0, 47078.0, 49936.0, 54236.0, 55289.0, 69533.0, 77646.0, 84940.0, 96365.0, 108474.0, 122943.0, 147846.0, 173572.0, 200059.0, 225489.0, 261056.0, 291820.0, 332871.0, 383833.0, 435659.0, 491022.0, 537403.0, 580647.0, 637799.0, 692782.0, 750177.0, 811471.0, 886788.0, 942814.0, 994072.0, 1044334.0, 1094523.0, 1146161.0, 1213218.0, 1260991.0, 1311049.0, 1349301.0, 1375985.0, 1410999.0, 1466713.0, 1517868.0, 1565919.0, 1612370.0, 1656383.0, 1692773.0, 1731147.0, 1779400.0, 1819980.0, 1877266.0, 1898844.0, 1936227.0, 1970245.0, 1993400.0, 2008365.0, 2051593.0, 2090389.0, 2133805.0, 2168620.0, 2206534.0, 2245931.0, 2291211.0, 2341013.0, 2369031.0, 2409807.0, 2434916.0, 2476757.0, 2501205.0, 2551746.0, 2597493.0, 2629153.0, 2664666.0, 2696798.0, 2735578.0, 2771005.0, 2820983.0, 2816278.0, 2856417.0, 2894174.0, 2917392.0, 2952583.0, 2986489.0, 3033074.0, 3066379.0, 3125958.0, 3154008.0, 3194356.0, 3276597.0, 3317975.0, 3372271.0, 3361615.0, 3411491.0, 3467291.0, 3419415.0, 3455720.0, 3490011.0, 3552958.0, 3594876.0, 3639798.0, 3698801.0, 3740488.0, 3775284.0, 3827814.0, 3880483.0, 3962883.0, 3949168.0, 4040167.0, 4100470.0, 4156384.0, 4202644.0, 4282514.0, 4363617.0, 4429713.0, 4505455.0, 4562194.0, 4612607.0, 4600119.0, 4596699.0, 4686158.0, 4678182.0, 4737330.0, 4780521.0, 4839458.0, 4888569.0, 4975082.0, 5061728.0, 5149292.0, 5226303.0, 5275393.0, 5347475.0, 5413844.0, 5505328.0, 5565497.0, 5646106.0, 5768424.0, 5808075.0, 5864411.0, 5959771.0, 6055184.0, 6102574.0, 6130881.0, 6195518.0, 6247704.0, 6310845.0, 6403751.0, 6464803.0, 6550451.0, 6611714.0, 6700680.0, 6677010.0, 6707991.0, 6753237.0, 6843939.0, 6928496.0, 6982142.0, 7025201.0, 7082826.0, 7025995.0, 7066455.0, 7173475.0, 7184496.0, 7261175.0, 7238211.0, 7238894.0, 7260400.0, 7310636.0, 7364715.0, 7462399.0, 7512493.0, 7499198.0, 7521393.0, 7526876.0, 7582375.0, 7643435.0, 7722372.0, 7768286.0, 7780975.0, 7838477.0, 7842232.0, 7900601.0, 7947234.0, 8043048.0, 8099626.0, 8106739.0, 8139919.0, 8173829.0, 8209020.0, 8284934.0, 8376240.0, 8425128.0, 8469958.0, 8513630.0, 8571379.0, 8639256.0, 8728617.0, 8797265.0, 8834900.0, 8836801.0, 8886518.0, 8947356.0, 8940478.0, 9042221.0, 9132564.0, 9139759.0, 9166300.0, 9212759.0, 9253273.0, 9325707.0, 9416186.0, 9535667.0, 9576674.0, 9614343.0, 9695146.0, 9788370.0, 9875758.0, 10011906.0, 10159282.0, 10288764.0, 10333442.0, 10454333.0, 10588403.0, 10751115.0, 10945709.0, 11147474.0, 11284605.0, 11366797.0, 11607812.0, 11781872.0, 12007415.0, 12247468.0, 12538901.0, 12731733.0, 12922173.0, 13170681.0, 13044081.0, 13290417.0, 13575654.0, 14741219.0, 14091114.0, 14269707.0, 14433951.0, 14653835.0, 15047989.0, 15330375.0, 15674968.0, 15879599.0, 16186672.0, 16390749.0, 16684586.0, 16939189.0, 17351146.0, 17688671.0, 17995542.0, 18233238.0, 18365002.0, 18528170.0, 18777767.0, 19044466.0, 19343111.0, 19581443.0, 19786259.0, 19889597.0, 20093590.0, 20277601.0, 20482951.0, 20767927.0, 21001682.0, 21155379.0, 21251215.0, 21367745.0, 21540457.0, 21782689.0, 22028750.0, 22221287.0, 22433845.0], \"yaxis\": \"y\"}],                        {\"barmode\": \"relative\", \"legend\": {\"tracegroupgap\": 0}, \"margin\": {\"t\": 60}, \"template\": {\"data\": {\"bar\": [{\"error_x\": {\"color\": \"#2a3f5f\"}, \"error_y\": {\"color\": \"#2a3f5f\"}, \"marker\": {\"line\": {\"color\": \"#E5ECF6\", \"width\": 0.5}}, \"type\": \"bar\"}], \"barpolar\": [{\"marker\": {\"line\": {\"color\": \"#E5ECF6\", \"width\": 0.5}}, \"type\": \"barpolar\"}], \"carpet\": [{\"aaxis\": {\"endlinecolor\": \"#2a3f5f\", \"gridcolor\": \"white\", \"linecolor\": \"white\", \"minorgridcolor\": \"white\", \"startlinecolor\": \"#2a3f5f\"}, \"baxis\": {\"endlinecolor\": \"#2a3f5f\", \"gridcolor\": \"white\", \"linecolor\": \"white\", \"minorgridcolor\": \"white\", \"startlinecolor\": \"#2a3f5f\"}, \"type\": \"carpet\"}], \"choropleth\": [{\"colorbar\": {\"outlinewidth\": 0, \"ticks\": \"\"}, \"type\": \"choropleth\"}], \"contour\": [{\"colorbar\": {\"outlinewidth\": 0, \"ticks\": \"\"}, \"colorscale\": [[0.0, \"#0d0887\"], [0.1111111111111111, \"#46039f\"], [0.2222222222222222, \"#7201a8\"], [0.3333333333333333, \"#9c179e\"], [0.4444444444444444, \"#bd3786\"], [0.5555555555555556, \"#d8576b\"], [0.6666666666666666, \"#ed7953\"], [0.7777777777777778, \"#fb9f3a\"], [0.8888888888888888, \"#fdca26\"], [1.0, \"#f0f921\"]], \"type\": \"contour\"}], \"contourcarpet\": [{\"colorbar\": {\"outlinewidth\": 0, \"ticks\": \"\"}, \"type\": \"contourcarpet\"}], \"heatmap\": [{\"colorbar\": {\"outlinewidth\": 0, \"ticks\": \"\"}, \"colorscale\": [[0.0, \"#0d0887\"], [0.1111111111111111, \"#46039f\"], [0.2222222222222222, \"#7201a8\"], [0.3333333333333333, \"#9c179e\"], [0.4444444444444444, \"#bd3786\"], [0.5555555555555556, \"#d8576b\"], [0.6666666666666666, \"#ed7953\"], [0.7777777777777778, \"#fb9f3a\"], [0.8888888888888888, \"#fdca26\"], [1.0, \"#f0f921\"]], \"type\": \"heatmap\"}], \"heatmapgl\": [{\"colorbar\": {\"outlinewidth\": 0, \"ticks\": \"\"}, \"colorscale\": [[0.0, \"#0d0887\"], [0.1111111111111111, \"#46039f\"], [0.2222222222222222, \"#7201a8\"], [0.3333333333333333, \"#9c179e\"], [0.4444444444444444, \"#bd3786\"], [0.5555555555555556, \"#d8576b\"], [0.6666666666666666, \"#ed7953\"], [0.7777777777777778, \"#fb9f3a\"], [0.8888888888888888, \"#fdca26\"], [1.0, \"#f0f921\"]], \"type\": \"heatmapgl\"}], \"histogram\": [{\"marker\": {\"colorbar\": {\"outlinewidth\": 0, \"ticks\": \"\"}}, \"type\": \"histogram\"}], \"histogram2d\": [{\"colorbar\": {\"outlinewidth\": 0, \"ticks\": \"\"}, \"colorscale\": [[0.0, \"#0d0887\"], [0.1111111111111111, \"#46039f\"], [0.2222222222222222, \"#7201a8\"], [0.3333333333333333, \"#9c179e\"], [0.4444444444444444, \"#bd3786\"], [0.5555555555555556, \"#d8576b\"], [0.6666666666666666, \"#ed7953\"], [0.7777777777777778, \"#fb9f3a\"], [0.8888888888888888, \"#fdca26\"], [1.0, \"#f0f921\"]], \"type\": \"histogram2d\"}], \"histogram2dcontour\": [{\"colorbar\": {\"outlinewidth\": 0, \"ticks\": \"\"}, \"colorscale\": [[0.0, \"#0d0887\"], [0.1111111111111111, \"#46039f\"], [0.2222222222222222, \"#7201a8\"], [0.3333333333333333, \"#9c179e\"], [0.4444444444444444, \"#bd3786\"], [0.5555555555555556, \"#d8576b\"], [0.6666666666666666, \"#ed7953\"], [0.7777777777777778, \"#fb9f3a\"], [0.8888888888888888, \"#fdca26\"], [1.0, \"#f0f921\"]], \"type\": \"histogram2dcontour\"}], \"mesh3d\": [{\"colorbar\": {\"outlinewidth\": 0, \"ticks\": \"\"}, \"type\": \"mesh3d\"}], \"parcoords\": [{\"line\": {\"colorbar\": {\"outlinewidth\": 0, \"ticks\": \"\"}}, \"type\": \"parcoords\"}], \"pie\": [{\"automargin\": true, \"type\": \"pie\"}], \"scatter\": [{\"marker\": {\"colorbar\": {\"outlinewidth\": 0, \"ticks\": \"\"}}, \"type\": \"scatter\"}], \"scatter3d\": [{\"line\": {\"colorbar\": {\"outlinewidth\": 0, \"ticks\": \"\"}}, \"marker\": {\"colorbar\": {\"outlinewidth\": 0, \"ticks\": \"\"}}, \"type\": \"scatter3d\"}], \"scattercarpet\": [{\"marker\": {\"colorbar\": {\"outlinewidth\": 0, \"ticks\": \"\"}}, \"type\": \"scattercarpet\"}], \"scattergeo\": [{\"marker\": {\"colorbar\": {\"outlinewidth\": 0, \"ticks\": \"\"}}, \"type\": \"scattergeo\"}], \"scattergl\": [{\"marker\": {\"colorbar\": {\"outlinewidth\": 0, \"ticks\": \"\"}}, \"type\": \"scattergl\"}], \"scattermapbox\": [{\"marker\": {\"colorbar\": {\"outlinewidth\": 0, \"ticks\": \"\"}}, \"type\": \"scattermapbox\"}], \"scatterpolar\": [{\"marker\": {\"colorbar\": {\"outlinewidth\": 0, \"ticks\": \"\"}}, \"type\": \"scatterpolar\"}], \"scatterpolargl\": [{\"marker\": {\"colorbar\": {\"outlinewidth\": 0, \"ticks\": \"\"}}, \"type\": \"scatterpolargl\"}], \"scatterternary\": [{\"marker\": {\"colorbar\": {\"outlinewidth\": 0, \"ticks\": \"\"}}, \"type\": \"scatterternary\"}], \"surface\": [{\"colorbar\": {\"outlinewidth\": 0, \"ticks\": \"\"}, \"colorscale\": [[0.0, \"#0d0887\"], [0.1111111111111111, \"#46039f\"], [0.2222222222222222, \"#7201a8\"], [0.3333333333333333, \"#9c179e\"], [0.4444444444444444, \"#bd3786\"], [0.5555555555555556, \"#d8576b\"], [0.6666666666666666, \"#ed7953\"], [0.7777777777777778, \"#fb9f3a\"], [0.8888888888888888, \"#fdca26\"], [1.0, \"#f0f921\"]], \"type\": \"surface\"}], \"table\": [{\"cells\": {\"fill\": {\"color\": \"#EBF0F8\"}, \"line\": {\"color\": \"white\"}}, \"header\": {\"fill\": {\"color\": \"#C8D4E3\"}, \"line\": {\"color\": \"white\"}}, \"type\": \"table\"}]}, \"layout\": {\"annotationdefaults\": {\"arrowcolor\": \"#2a3f5f\", \"arrowhead\": 0, \"arrowwidth\": 1}, \"autotypenumbers\": \"strict\", \"coloraxis\": {\"colorbar\": {\"outlinewidth\": 0, \"ticks\": \"\"}}, \"colorscale\": {\"diverging\": [[0, \"#8e0152\"], [0.1, \"#c51b7d\"], [0.2, \"#de77ae\"], [0.3, \"#f1b6da\"], [0.4, \"#fde0ef\"], [0.5, \"#f7f7f7\"], [0.6, \"#e6f5d0\"], [0.7, \"#b8e186\"], [0.8, \"#7fbc41\"], [0.9, \"#4d9221\"], [1, \"#276419\"]], \"sequential\": [[0.0, \"#0d0887\"], [0.1111111111111111, \"#46039f\"], [0.2222222222222222, \"#7201a8\"], [0.3333333333333333, \"#9c179e\"], [0.4444444444444444, \"#bd3786\"], [0.5555555555555556, \"#d8576b\"], [0.6666666666666666, \"#ed7953\"], [0.7777777777777778, \"#fb9f3a\"], [0.8888888888888888, \"#fdca26\"], [1.0, \"#f0f921\"]], \"sequentialminus\": [[0.0, \"#0d0887\"], [0.1111111111111111, \"#46039f\"], [0.2222222222222222, \"#7201a8\"], [0.3333333333333333, \"#9c179e\"], [0.4444444444444444, \"#bd3786\"], [0.5555555555555556, \"#d8576b\"], [0.6666666666666666, \"#ed7953\"], [0.7777777777777778, \"#fb9f3a\"], [0.8888888888888888, \"#fdca26\"], [1.0, \"#f0f921\"]]}, \"colorway\": [\"#636efa\", \"#EF553B\", \"#00cc96\", \"#ab63fa\", \"#FFA15A\", \"#19d3f3\", \"#FF6692\", \"#B6E880\", \"#FF97FF\", \"#FECB52\"], \"font\": {\"color\": \"#2a3f5f\"}, \"geo\": {\"bgcolor\": \"white\", \"lakecolor\": \"white\", \"landcolor\": \"#E5ECF6\", \"showlakes\": true, \"showland\": true, \"subunitcolor\": \"white\"}, \"hoverlabel\": {\"align\": \"left\"}, \"hovermode\": \"closest\", \"mapbox\": {\"style\": \"light\"}, \"paper_bgcolor\": \"white\", \"plot_bgcolor\": \"#E5ECF6\", \"polar\": {\"angularaxis\": {\"gridcolor\": \"white\", \"linecolor\": \"white\", \"ticks\": \"\"}, \"bgcolor\": \"#E5ECF6\", \"radialaxis\": {\"gridcolor\": \"white\", \"linecolor\": \"white\", \"ticks\": \"\"}}, \"scene\": {\"xaxis\": {\"backgroundcolor\": \"#E5ECF6\", \"gridcolor\": \"white\", \"gridwidth\": 2, \"linecolor\": \"white\", \"showbackground\": true, \"ticks\": \"\", \"zerolinecolor\": \"white\"}, \"yaxis\": {\"backgroundcolor\": \"#E5ECF6\", \"gridcolor\": \"white\", \"gridwidth\": 2, \"linecolor\": \"white\", \"showbackground\": true, \"ticks\": \"\", \"zerolinecolor\": \"white\"}, \"zaxis\": {\"backgroundcolor\": \"#E5ECF6\", \"gridcolor\": \"white\", \"gridwidth\": 2, \"linecolor\": \"white\", \"showbackground\": true, \"ticks\": \"\", \"zerolinecolor\": \"white\"}}, \"shapedefaults\": {\"line\": {\"color\": \"#2a3f5f\"}}, \"ternary\": {\"aaxis\": {\"gridcolor\": \"white\", \"linecolor\": \"white\", \"ticks\": \"\"}, \"baxis\": {\"gridcolor\": \"white\", \"linecolor\": \"white\", \"ticks\": \"\"}, \"bgcolor\": \"#E5ECF6\", \"caxis\": {\"gridcolor\": \"white\", \"linecolor\": \"white\", \"ticks\": \"\"}}, \"title\": {\"x\": 0.05}, \"xaxis\": {\"automargin\": true, \"gridcolor\": \"white\", \"linecolor\": \"white\", \"ticks\": \"\", \"title\": {\"standoff\": 15}, \"zerolinecolor\": \"white\", \"zerolinewidth\": 2}, \"yaxis\": {\"automargin\": true, \"gridcolor\": \"white\", \"linecolor\": \"white\", \"ticks\": \"\", \"title\": {\"standoff\": 15}, \"zerolinecolor\": \"white\", \"zerolinewidth\": 2}}}, \"title\": {\"text\": \"Worldwide Distribution of Number of Active Cases\"}, \"xaxis\": {\"anchor\": \"y\", \"domain\": [0.0, 1.0], \"title\": {\"text\": \"Date\"}}, \"yaxis\": {\"anchor\": \"x\", \"domain\": [0.0, 1.0], \"title\": {\"text\": \"Number of Cases\"}}},                        {\"responsive\": true}                    ).then(function(){\n",
       "                            \n",
       "var gd = document.getElementById('64ca7423-eae6-4923-b567-74668842ca1b');\n",
       "var x = new MutationObserver(function (mutations, observer) {{\n",
       "        var display = window.getComputedStyle(gd).display;\n",
       "        if (!display || display === 'none') {{\n",
       "            console.log([gd, 'removed!']);\n",
       "            Plotly.purge(gd);\n",
       "            observer.disconnect();\n",
       "        }}\n",
       "}});\n",
       "\n",
       "// Listen for the removal of the full notebook cells\n",
       "var notebookContainer = gd.closest('#notebook-container');\n",
       "if (notebookContainer) {{\n",
       "    x.observe(notebookContainer, {childList: true});\n",
       "}}\n",
       "\n",
       "// Listen for the clearing of the current output cell\n",
       "var outputEl = gd.closest('.output');\n",
       "if (outputEl) {{\n",
       "    x.observe(outputEl, {childList: true});\n",
       "}}\n",
       "\n",
       "                        })                };                });            </script>        </div>"
      ]
     },
     "metadata": {},
     "output_type": "display_data"
    }
   ],
   "source": [
    "figure = px.bar(x = grouped_date.index, y = grouped_date[\"Confirmed\"] - grouped_date[\"Recovered\"] - grouped_date[\"Deaths\"])\n",
    "figure.update_layout(title = \"Worldwide Distribution of Number of Active Cases\" , xaxis_title = \"Date\", yaxis_title = \"Number of Cases\")\n",
    "figure.show()"
   ]
  },
  {
   "cell_type": "markdown",
   "metadata": {
    "papermill": {
     "duration": 0.030191,
     "end_time": "2021-01-14T18:16:23.090936",
     "exception": false,
     "start_time": "2021-01-14T18:16:23.060745",
     "status": "completed"
    },
    "tags": []
   },
   "source": [
    "Closed Cases = number of recovered cases + number of death cases"
   ]
  },
  {
   "cell_type": "code",
   "execution_count": 13,
   "metadata": {
    "execution": {
     "iopub.execute_input": "2021-01-14T18:16:23.177345Z",
     "iopub.status.busy": "2021-01-14T18:16:23.165177Z",
     "iopub.status.idle": "2021-01-14T18:16:23.237057Z",
     "shell.execute_reply": "2021-01-14T18:16:23.236357Z"
    },
    "papermill": {
     "duration": 0.117276,
     "end_time": "2021-01-14T18:16:23.237180",
     "exception": false,
     "start_time": "2021-01-14T18:16:23.119904",
     "status": "completed"
    },
    "tags": []
   },
   "outputs": [
    {
     "data": {
      "text/html": [
       "<div>                            <div id=\"3d23fdcb-8cd7-4683-be3e-9c3ad384ae6e\" class=\"plotly-graph-div\" style=\"height:525px; width:100%;\"></div>            <script type=\"text/javascript\">                require([\"plotly\"], function(Plotly) {                    window.PLOTLYENV=window.PLOTLYENV || {};                                    if (document.getElementById(\"3d23fdcb-8cd7-4683-be3e-9c3ad384ae6e\")) {                    Plotly.newPlot(                        \"3d23fdcb-8cd7-4683-be3e-9c3ad384ae6e\",                        [{\"alignmentgroup\": \"True\", \"hovertemplate\": \"x=%{x}<br>y=%{y}<extra></extra>\", \"legendgroup\": \"\", \"marker\": {\"color\": \"#636efa\"}, \"name\": \"\", \"offsetgroup\": \"\", \"orientation\": \"v\", \"showlegend\": false, \"textposition\": \"auto\", \"type\": \"bar\", \"x\": [\"2020-01-22T00:00:00\", \"2020-01-23T00:00:00\", \"2020-01-24T00:00:00\", \"2020-01-25T00:00:00\", \"2020-01-26T00:00:00\", \"2020-01-27T00:00:00\", \"2020-01-28T00:00:00\", \"2020-01-29T00:00:00\", \"2020-01-30T00:00:00\", \"2020-01-31T00:00:00\", \"2020-02-01T00:00:00\", \"2020-02-02T00:00:00\", \"2020-02-03T00:00:00\", \"2020-02-04T00:00:00\", \"2020-02-05T00:00:00\", \"2020-02-06T00:00:00\", \"2020-02-07T00:00:00\", \"2020-02-08T00:00:00\", \"2020-02-09T00:00:00\", \"2020-02-10T00:00:00\", \"2020-02-11T00:00:00\", \"2020-02-12T00:00:00\", \"2020-02-13T00:00:00\", \"2020-02-14T00:00:00\", \"2020-02-15T00:00:00\", \"2020-02-16T00:00:00\", \"2020-02-17T00:00:00\", \"2020-02-18T00:00:00\", \"2020-02-19T00:00:00\", \"2020-02-20T00:00:00\", \"2020-02-21T00:00:00\", \"2020-02-22T00:00:00\", \"2020-02-23T00:00:00\", \"2020-02-24T00:00:00\", \"2020-02-25T00:00:00\", \"2020-02-26T00:00:00\", \"2020-02-27T00:00:00\", \"2020-02-28T00:00:00\", \"2020-02-29T00:00:00\", \"2020-03-01T00:00:00\", \"2020-03-02T00:00:00\", \"2020-03-03T00:00:00\", \"2020-03-04T00:00:00\", \"2020-03-05T00:00:00\", \"2020-03-06T00:00:00\", \"2020-03-07T00:00:00\", \"2020-03-08T00:00:00\", \"2020-03-09T00:00:00\", \"2020-03-10T00:00:00\", \"2020-03-11T00:00:00\", \"2020-03-12T00:00:00\", \"2020-03-13T00:00:00\", \"2020-03-14T00:00:00\", \"2020-03-15T00:00:00\", \"2020-03-16T00:00:00\", \"2020-03-17T00:00:00\", \"2020-03-18T00:00:00\", \"2020-03-19T00:00:00\", \"2020-03-20T00:00:00\", \"2020-03-21T00:00:00\", \"2020-03-22T00:00:00\", \"2020-03-23T00:00:00\", \"2020-03-24T00:00:00\", \"2020-03-25T00:00:00\", \"2020-03-26T00:00:00\", \"2020-03-27T00:00:00\", \"2020-03-28T00:00:00\", \"2020-03-29T00:00:00\", \"2020-03-30T00:00:00\", \"2020-03-31T00:00:00\", \"2020-04-01T00:00:00\", \"2020-04-02T00:00:00\", \"2020-04-03T00:00:00\", \"2020-04-04T00:00:00\", \"2020-04-05T00:00:00\", \"2020-04-06T00:00:00\", \"2020-04-07T00:00:00\", \"2020-04-08T00:00:00\", \"2020-04-09T00:00:00\", \"2020-04-10T00:00:00\", \"2020-04-11T00:00:00\", \"2020-04-12T00:00:00\", \"2020-04-13T00:00:00\", \"2020-04-14T00:00:00\", \"2020-04-15T00:00:00\", \"2020-04-16T00:00:00\", \"2020-04-17T00:00:00\", \"2020-04-18T00:00:00\", \"2020-04-19T00:00:00\", \"2020-04-20T00:00:00\", \"2020-04-21T00:00:00\", \"2020-04-22T00:00:00\", \"2020-04-23T00:00:00\", \"2020-04-24T00:00:00\", \"2020-04-25T00:00:00\", \"2020-04-26T00:00:00\", \"2020-04-27T00:00:00\", \"2020-04-28T00:00:00\", \"2020-04-29T00:00:00\", \"2020-04-30T00:00:00\", \"2020-05-01T00:00:00\", \"2020-05-02T00:00:00\", \"2020-05-03T00:00:00\", \"2020-05-04T00:00:00\", \"2020-05-05T00:00:00\", \"2020-05-06T00:00:00\", \"2020-05-07T00:00:00\", \"2020-05-08T00:00:00\", \"2020-05-09T00:00:00\", \"2020-05-10T00:00:00\", \"2020-05-11T00:00:00\", \"2020-05-12T00:00:00\", \"2020-05-13T00:00:00\", \"2020-05-14T00:00:00\", \"2020-05-15T00:00:00\", \"2020-05-16T00:00:00\", \"2020-05-17T00:00:00\", \"2020-05-18T00:00:00\", \"2020-05-19T00:00:00\", \"2020-05-20T00:00:00\", \"2020-05-21T00:00:00\", \"2020-05-22T00:00:00\", \"2020-05-23T00:00:00\", \"2020-05-24T00:00:00\", \"2020-05-25T00:00:00\", \"2020-05-26T00:00:00\", \"2020-05-27T00:00:00\", \"2020-05-28T00:00:00\", \"2020-05-29T00:00:00\", \"2020-05-30T00:00:00\", \"2020-05-31T00:00:00\", \"2020-06-01T00:00:00\", \"2020-06-02T00:00:00\", \"2020-06-03T00:00:00\", \"2020-06-04T00:00:00\", \"2020-06-05T00:00:00\", \"2020-06-06T00:00:00\", \"2020-06-07T00:00:00\", \"2020-06-08T00:00:00\", \"2020-06-09T00:00:00\", \"2020-06-10T00:00:00\", \"2020-06-11T00:00:00\", \"2020-06-12T00:00:00\", \"2020-06-13T00:00:00\", \"2020-06-14T00:00:00\", \"2020-06-15T00:00:00\", \"2020-06-16T00:00:00\", \"2020-06-17T00:00:00\", \"2020-06-18T00:00:00\", \"2020-06-19T00:00:00\", \"2020-06-20T00:00:00\", \"2020-06-21T00:00:00\", \"2020-06-22T00:00:00\", \"2020-06-23T00:00:00\", \"2020-06-24T00:00:00\", \"2020-06-25T00:00:00\", \"2020-06-26T00:00:00\", \"2020-06-27T00:00:00\", \"2020-06-28T00:00:00\", \"2020-06-29T00:00:00\", \"2020-06-30T00:00:00\", \"2020-07-01T00:00:00\", \"2020-07-02T00:00:00\", \"2020-07-03T00:00:00\", \"2020-07-04T00:00:00\", \"2020-07-05T00:00:00\", \"2020-07-06T00:00:00\", \"2020-07-07T00:00:00\", \"2020-07-08T00:00:00\", \"2020-07-09T00:00:00\", \"2020-07-10T00:00:00\", \"2020-07-11T00:00:00\", \"2020-07-12T00:00:00\", \"2020-07-13T00:00:00\", \"2020-07-14T00:00:00\", \"2020-07-15T00:00:00\", \"2020-07-16T00:00:00\", \"2020-07-17T00:00:00\", \"2020-07-18T00:00:00\", \"2020-07-19T00:00:00\", \"2020-07-20T00:00:00\", \"2020-07-21T00:00:00\", \"2020-07-22T00:00:00\", \"2020-07-23T00:00:00\", \"2020-07-24T00:00:00\", \"2020-07-25T00:00:00\", \"2020-07-26T00:00:00\", \"2020-07-27T00:00:00\", \"2020-07-28T00:00:00\", \"2020-07-29T00:00:00\", \"2020-07-30T00:00:00\", \"2020-07-31T00:00:00\", \"2020-08-01T00:00:00\", \"2020-08-02T00:00:00\", \"2020-08-03T00:00:00\", \"2020-08-04T00:00:00\", \"2020-08-05T00:00:00\", \"2020-08-06T00:00:00\", \"2020-08-07T00:00:00\", \"2020-08-08T00:00:00\", \"2020-08-09T00:00:00\", \"2020-08-10T00:00:00\", \"2020-08-11T00:00:00\", \"2020-08-12T00:00:00\", \"2020-08-13T00:00:00\", \"2020-08-14T00:00:00\", \"2020-08-15T00:00:00\", \"2020-08-16T00:00:00\", \"2020-08-17T00:00:00\", \"2020-08-18T00:00:00\", \"2020-08-19T00:00:00\", \"2020-08-20T00:00:00\", \"2020-08-21T00:00:00\", \"2020-08-22T00:00:00\", \"2020-08-23T00:00:00\", \"2020-08-24T00:00:00\", \"2020-08-25T00:00:00\", \"2020-08-26T00:00:00\", \"2020-08-27T00:00:00\", \"2020-08-28T00:00:00\", \"2020-08-29T00:00:00\", \"2020-08-30T00:00:00\", \"2020-08-31T00:00:00\", \"2020-09-01T00:00:00\", \"2020-09-02T00:00:00\", \"2020-09-03T00:00:00\", \"2020-09-04T00:00:00\", \"2020-09-05T00:00:00\", \"2020-09-06T00:00:00\", \"2020-09-07T00:00:00\", \"2020-09-08T00:00:00\", \"2020-09-09T00:00:00\", \"2020-09-10T00:00:00\", \"2020-09-11T00:00:00\", \"2020-09-12T00:00:00\", \"2020-09-13T00:00:00\", \"2020-09-14T00:00:00\", \"2020-09-15T00:00:00\", \"2020-09-16T00:00:00\", \"2020-09-17T00:00:00\", \"2020-09-18T00:00:00\", \"2020-09-19T00:00:00\", \"2020-09-20T00:00:00\", \"2020-09-21T00:00:00\", \"2020-09-22T00:00:00\", \"2020-09-23T00:00:00\", \"2020-09-24T00:00:00\", \"2020-09-25T00:00:00\", \"2020-09-26T00:00:00\", \"2020-09-27T00:00:00\", \"2020-09-28T00:00:00\", \"2020-09-29T00:00:00\", \"2020-09-30T00:00:00\", \"2020-10-01T00:00:00\", \"2020-10-02T00:00:00\", \"2020-10-03T00:00:00\", \"2020-10-04T00:00:00\", \"2020-10-05T00:00:00\", \"2020-10-06T00:00:00\", \"2020-10-07T00:00:00\", \"2020-10-08T00:00:00\", \"2020-10-09T00:00:00\", \"2020-10-10T00:00:00\", \"2020-10-11T00:00:00\", \"2020-10-12T00:00:00\", \"2020-10-13T00:00:00\", \"2020-10-14T00:00:00\", \"2020-10-15T00:00:00\", \"2020-10-16T00:00:00\", \"2020-10-17T00:00:00\", \"2020-10-18T00:00:00\", \"2020-10-19T00:00:00\", \"2020-10-20T00:00:00\", \"2020-10-21T00:00:00\", \"2020-10-22T00:00:00\", \"2020-10-23T00:00:00\", \"2020-10-24T00:00:00\", \"2020-10-25T00:00:00\", \"2020-10-26T00:00:00\", \"2020-10-27T00:00:00\", \"2020-10-28T00:00:00\", \"2020-10-29T00:00:00\", \"2020-10-30T00:00:00\", \"2020-10-31T00:00:00\", \"2020-11-01T00:00:00\", \"2020-11-02T00:00:00\", \"2020-11-03T00:00:00\", \"2020-11-04T00:00:00\", \"2020-11-05T00:00:00\", \"2020-11-06T00:00:00\", \"2020-11-07T00:00:00\", \"2020-11-08T00:00:00\", \"2020-11-09T00:00:00\", \"2020-11-10T00:00:00\", \"2020-11-11T00:00:00\", \"2020-11-12T00:00:00\", \"2020-11-13T00:00:00\", \"2020-11-14T00:00:00\", \"2020-11-15T00:00:00\", \"2020-11-16T00:00:00\", \"2020-11-17T00:00:00\", \"2020-11-18T00:00:00\", \"2020-11-19T00:00:00\", \"2020-11-20T00:00:00\", \"2020-11-21T00:00:00\", \"2020-11-22T00:00:00\", \"2020-11-23T00:00:00\", \"2020-11-24T00:00:00\", \"2020-11-25T00:00:00\", \"2020-11-26T00:00:00\", \"2020-11-27T00:00:00\", \"2020-11-28T00:00:00\", \"2020-11-29T00:00:00\", \"2020-11-30T00:00:00\", \"2020-12-01T00:00:00\", \"2020-12-02T00:00:00\", \"2020-12-03T00:00:00\", \"2020-12-04T00:00:00\", \"2020-12-05T00:00:00\", \"2020-12-06T00:00:00\"], \"xaxis\": \"x\", \"y\": [45.0, 48.0, 62.0, 81.0, 108.0, 143.0, 238.0, 259.0, 314.0, 435.0, 543.0, 834.0, 1049.0, 1344.0, 1688.0, 2121.0, 2730.0, 3422.0, 4150.0, 4959.0, 5796.0, 6268.0, 7666.0, 9581.0, 11061.0, 12635.0, 14451.0, 16359.0, 18243.0, 20424.0, 21141.0, 25344.0, 25863.0, 27856.0, 30613.0, 33154.0, 36090.0, 39582.0, 42722.0, 45711.0, 48686.0, 51388.0, 54424.0, 57144.0, 59324.0, 61915.0, 64496.0, 66506.0, 68662.0, 71614.0, 73040.0, 75652.0, 78440.0, 82471.0, 85211.0, 88737.0, 92041.0, 94829.0, 98699.0, 104627.0, 111848.0, 117440.0, 126293.0, 134924.0, 146096.0, 158096.0, 170057.0, 182976.0, 202130.0, 220124.0, 240240.0, 263506.0, 284852.0, 311054.0, 329740.0, 351444.0, 382222.0, 417402.0, 449722.0, 478911.0, 510883.0, 536109.0, 568512.0, 600612.0, 645474.0, 686269.0, 722595.0, 752196.0, 789423.0, 816365.0, 857004.0, 893063.0, 929601.0, 990866.0, 1019756.0, 1072640.0, 1105574.0, 1146188.0, 1200601.0, 1248507.0, 1292218.0, 1336941.0, 1372906.0, 1414434.0, 1456169.0, 1509452.0, 1554540.0, 1597040.0, 1654965.0, 1691911.0, 1742638.0, 1785493.0, 1845912.0, 1890441.0, 1944941.0, 2005007.0, 2049272.0, 2105452.0, 2162333.0, 2225694.0, 2281723.0, 2394817.0, 2454173.0, 2513596.0, 2577920.0, 2637309.0, 2705569.0, 2776127.0, 2858200.0, 2933622.0, 3013232.0, 3071447.0, 3109799.0, 3190805.0, 3260988.0, 3409173.0, 3485764.0, 3543599.0, 3699921.0, 3787067.0, 3871022.0, 3962151.0, 4038687.0, 4128027.0, 4202801.0, 4294314.0, 4398951.0, 4523049.0, 4609229.0, 4706119.0, 4842877.0, 4915557.0, 4998607.0, 5108061.0, 5228956.0, 5328339.0, 5439114.0, 5549884.0, 5642175.0, 5740712.0, 5863935.0, 6093295.0, 6274759.0, 6389700.0, 6589692.0, 6712682.0, 6840179.0, 6991311.0, 7154635.0, 7294760.0, 7439495.0, 7570195.0, 7685989.0, 7830281.0, 7978061.0, 8143340.0, 8301531.0, 8491614.0, 8648009.0, 8740056.0, 8900684.0, 9084003.0, 9269757.0, 9457112.0, 9691664.0, 9917073.0, 10058399.0, 10240602.0, 10381340.0, 10626623.0, 10846339.0, 11052266.0, 11241724.0, 11384752.0, 11611829.0, 11839803.0, 12068541.0, 12264478.0, 12462917.0, 12668634.0, 12851945.0, 13021289.0, 13332589.0, 13581081.0, 13750107.0, 14043470.0, 14217464.0, 14454619.0, 14664428.0, 14898934.0, 15123655.0, 15337482.0, 15511491.0, 15715741.0, 15946975.0, 16150856.0, 16388621.0, 16620538.0, 16834939.0, 17040059.0, 17256698.0, 17470935.0, 17675866.0, 17937557.0, 18161734.0, 18388808.0, 18598891.0, 18804363.0, 19029727.0, 19225318.0, 19429863.0, 19688934.0, 19911354.0, 20140896.0, 20368712.0, 20560199.0, 20712760.0, 21024323.0, 21259618.0, 21485275.0, 21742115.0, 21984331.0, 22225075.0, 22474650.0, 22698552.0, 22967549.0, 23229886.0, 23475003.0, 23742437.0, 23959907.0, 24186338.0, 24432460.0, 24687100.0, 24908949.0, 25094638.0, 25355595.0, 25581496.0, 25825922.0, 26062812.0, 26323840.0, 26549612.0, 26762632.0, 26962865.0, 27189397.0, 27393585.0, 27588246.0, 27806592.0, 28019553.0, 28228673.0, 28432461.0, 28637235.0, 28844608.0, 29059347.0, 29277452.0, 29510100.0, 29723903.0, 29941099.0, 30143229.0, 30387071.0, 30984165.0, 31253971.0, 31507657.0, 30907669.0, 32043633.0, 32306331.0, 32592371.0, 32851946.0, 33142680.0, 33454262.0, 33752264.0, 34058918.0, 34317536.0, 34581364.0, 34848394.0, 35239199.0, 35474578.0, 35786176.0, 36073242.0, 36309199.0, 36705749.0, 37151549.0, 37526023.0, 37910091.0, 38277304.0, 38625307.0, 38904764.0, 39323125.0, 39707435.0, 40156469.0, 40532433.0, 40919774.0, 41284720.0, 41617737.0, 42027811.0, 42516240.0, 42990060.0, 43438351.0, 43870691.0, 44318747.0, 44639883.0], \"yaxis\": \"y\"}],                        {\"barmode\": \"relative\", \"legend\": {\"tracegroupgap\": 0}, \"margin\": {\"t\": 60}, \"template\": {\"data\": {\"bar\": [{\"error_x\": {\"color\": \"#2a3f5f\"}, \"error_y\": {\"color\": \"#2a3f5f\"}, \"marker\": {\"line\": {\"color\": \"#E5ECF6\", \"width\": 0.5}}, \"type\": \"bar\"}], \"barpolar\": [{\"marker\": {\"line\": {\"color\": \"#E5ECF6\", \"width\": 0.5}}, \"type\": \"barpolar\"}], \"carpet\": [{\"aaxis\": {\"endlinecolor\": \"#2a3f5f\", \"gridcolor\": \"white\", \"linecolor\": \"white\", \"minorgridcolor\": \"white\", \"startlinecolor\": \"#2a3f5f\"}, \"baxis\": {\"endlinecolor\": \"#2a3f5f\", \"gridcolor\": \"white\", \"linecolor\": \"white\", \"minorgridcolor\": \"white\", \"startlinecolor\": \"#2a3f5f\"}, \"type\": \"carpet\"}], \"choropleth\": [{\"colorbar\": {\"outlinewidth\": 0, \"ticks\": \"\"}, \"type\": \"choropleth\"}], \"contour\": [{\"colorbar\": {\"outlinewidth\": 0, \"ticks\": \"\"}, \"colorscale\": [[0.0, \"#0d0887\"], [0.1111111111111111, \"#46039f\"], [0.2222222222222222, \"#7201a8\"], [0.3333333333333333, \"#9c179e\"], [0.4444444444444444, \"#bd3786\"], [0.5555555555555556, \"#d8576b\"], [0.6666666666666666, \"#ed7953\"], [0.7777777777777778, \"#fb9f3a\"], [0.8888888888888888, \"#fdca26\"], [1.0, \"#f0f921\"]], \"type\": \"contour\"}], \"contourcarpet\": [{\"colorbar\": {\"outlinewidth\": 0, \"ticks\": \"\"}, \"type\": \"contourcarpet\"}], \"heatmap\": [{\"colorbar\": {\"outlinewidth\": 0, \"ticks\": \"\"}, \"colorscale\": [[0.0, \"#0d0887\"], [0.1111111111111111, \"#46039f\"], [0.2222222222222222, \"#7201a8\"], [0.3333333333333333, \"#9c179e\"], [0.4444444444444444, \"#bd3786\"], [0.5555555555555556, \"#d8576b\"], [0.6666666666666666, \"#ed7953\"], [0.7777777777777778, \"#fb9f3a\"], [0.8888888888888888, \"#fdca26\"], [1.0, \"#f0f921\"]], \"type\": \"heatmap\"}], \"heatmapgl\": [{\"colorbar\": {\"outlinewidth\": 0, \"ticks\": \"\"}, \"colorscale\": [[0.0, \"#0d0887\"], [0.1111111111111111, \"#46039f\"], [0.2222222222222222, \"#7201a8\"], [0.3333333333333333, \"#9c179e\"], [0.4444444444444444, \"#bd3786\"], [0.5555555555555556, \"#d8576b\"], [0.6666666666666666, \"#ed7953\"], [0.7777777777777778, \"#fb9f3a\"], [0.8888888888888888, \"#fdca26\"], [1.0, \"#f0f921\"]], \"type\": \"heatmapgl\"}], \"histogram\": [{\"marker\": {\"colorbar\": {\"outlinewidth\": 0, \"ticks\": \"\"}}, \"type\": \"histogram\"}], \"histogram2d\": [{\"colorbar\": {\"outlinewidth\": 0, \"ticks\": \"\"}, \"colorscale\": [[0.0, \"#0d0887\"], [0.1111111111111111, \"#46039f\"], [0.2222222222222222, \"#7201a8\"], [0.3333333333333333, \"#9c179e\"], [0.4444444444444444, \"#bd3786\"], [0.5555555555555556, \"#d8576b\"], [0.6666666666666666, \"#ed7953\"], [0.7777777777777778, \"#fb9f3a\"], [0.8888888888888888, \"#fdca26\"], [1.0, \"#f0f921\"]], \"type\": \"histogram2d\"}], \"histogram2dcontour\": [{\"colorbar\": {\"outlinewidth\": 0, \"ticks\": \"\"}, \"colorscale\": [[0.0, \"#0d0887\"], [0.1111111111111111, \"#46039f\"], [0.2222222222222222, \"#7201a8\"], [0.3333333333333333, \"#9c179e\"], [0.4444444444444444, \"#bd3786\"], [0.5555555555555556, \"#d8576b\"], [0.6666666666666666, \"#ed7953\"], [0.7777777777777778, \"#fb9f3a\"], [0.8888888888888888, \"#fdca26\"], [1.0, \"#f0f921\"]], \"type\": \"histogram2dcontour\"}], \"mesh3d\": [{\"colorbar\": {\"outlinewidth\": 0, \"ticks\": \"\"}, \"type\": \"mesh3d\"}], \"parcoords\": [{\"line\": {\"colorbar\": {\"outlinewidth\": 0, \"ticks\": \"\"}}, \"type\": \"parcoords\"}], \"pie\": [{\"automargin\": true, \"type\": \"pie\"}], \"scatter\": [{\"marker\": {\"colorbar\": {\"outlinewidth\": 0, \"ticks\": \"\"}}, \"type\": \"scatter\"}], \"scatter3d\": [{\"line\": {\"colorbar\": {\"outlinewidth\": 0, \"ticks\": \"\"}}, \"marker\": {\"colorbar\": {\"outlinewidth\": 0, \"ticks\": \"\"}}, \"type\": \"scatter3d\"}], \"scattercarpet\": [{\"marker\": {\"colorbar\": {\"outlinewidth\": 0, \"ticks\": \"\"}}, \"type\": \"scattercarpet\"}], \"scattergeo\": [{\"marker\": {\"colorbar\": {\"outlinewidth\": 0, \"ticks\": \"\"}}, \"type\": \"scattergeo\"}], \"scattergl\": [{\"marker\": {\"colorbar\": {\"outlinewidth\": 0, \"ticks\": \"\"}}, \"type\": \"scattergl\"}], \"scattermapbox\": [{\"marker\": {\"colorbar\": {\"outlinewidth\": 0, \"ticks\": \"\"}}, \"type\": \"scattermapbox\"}], \"scatterpolar\": [{\"marker\": {\"colorbar\": {\"outlinewidth\": 0, \"ticks\": \"\"}}, \"type\": \"scatterpolar\"}], \"scatterpolargl\": [{\"marker\": {\"colorbar\": {\"outlinewidth\": 0, \"ticks\": \"\"}}, \"type\": \"scatterpolargl\"}], \"scatterternary\": [{\"marker\": {\"colorbar\": {\"outlinewidth\": 0, \"ticks\": \"\"}}, \"type\": \"scatterternary\"}], \"surface\": [{\"colorbar\": {\"outlinewidth\": 0, \"ticks\": \"\"}, \"colorscale\": [[0.0, \"#0d0887\"], [0.1111111111111111, \"#46039f\"], [0.2222222222222222, \"#7201a8\"], [0.3333333333333333, \"#9c179e\"], [0.4444444444444444, \"#bd3786\"], [0.5555555555555556, \"#d8576b\"], [0.6666666666666666, \"#ed7953\"], [0.7777777777777778, \"#fb9f3a\"], [0.8888888888888888, \"#fdca26\"], [1.0, \"#f0f921\"]], \"type\": \"surface\"}], \"table\": [{\"cells\": {\"fill\": {\"color\": \"#EBF0F8\"}, \"line\": {\"color\": \"white\"}}, \"header\": {\"fill\": {\"color\": \"#C8D4E3\"}, \"line\": {\"color\": \"white\"}}, \"type\": \"table\"}]}, \"layout\": {\"annotationdefaults\": {\"arrowcolor\": \"#2a3f5f\", \"arrowhead\": 0, \"arrowwidth\": 1}, \"autotypenumbers\": \"strict\", \"coloraxis\": {\"colorbar\": {\"outlinewidth\": 0, \"ticks\": \"\"}}, \"colorscale\": {\"diverging\": [[0, \"#8e0152\"], [0.1, \"#c51b7d\"], [0.2, \"#de77ae\"], [0.3, \"#f1b6da\"], [0.4, \"#fde0ef\"], [0.5, \"#f7f7f7\"], [0.6, \"#e6f5d0\"], [0.7, \"#b8e186\"], [0.8, \"#7fbc41\"], [0.9, \"#4d9221\"], [1, \"#276419\"]], \"sequential\": [[0.0, \"#0d0887\"], [0.1111111111111111, \"#46039f\"], [0.2222222222222222, \"#7201a8\"], [0.3333333333333333, \"#9c179e\"], [0.4444444444444444, \"#bd3786\"], [0.5555555555555556, \"#d8576b\"], [0.6666666666666666, \"#ed7953\"], [0.7777777777777778, \"#fb9f3a\"], [0.8888888888888888, \"#fdca26\"], [1.0, \"#f0f921\"]], \"sequentialminus\": [[0.0, \"#0d0887\"], [0.1111111111111111, \"#46039f\"], [0.2222222222222222, \"#7201a8\"], [0.3333333333333333, \"#9c179e\"], [0.4444444444444444, \"#bd3786\"], [0.5555555555555556, \"#d8576b\"], [0.6666666666666666, \"#ed7953\"], [0.7777777777777778, \"#fb9f3a\"], [0.8888888888888888, \"#fdca26\"], [1.0, \"#f0f921\"]]}, \"colorway\": [\"#636efa\", \"#EF553B\", \"#00cc96\", \"#ab63fa\", \"#FFA15A\", \"#19d3f3\", \"#FF6692\", \"#B6E880\", \"#FF97FF\", \"#FECB52\"], \"font\": {\"color\": \"#2a3f5f\"}, \"geo\": {\"bgcolor\": \"white\", \"lakecolor\": \"white\", \"landcolor\": \"#E5ECF6\", \"showlakes\": true, \"showland\": true, \"subunitcolor\": \"white\"}, \"hoverlabel\": {\"align\": \"left\"}, \"hovermode\": \"closest\", \"mapbox\": {\"style\": \"light\"}, \"paper_bgcolor\": \"white\", \"plot_bgcolor\": \"#E5ECF6\", \"polar\": {\"angularaxis\": {\"gridcolor\": \"white\", \"linecolor\": \"white\", \"ticks\": \"\"}, \"bgcolor\": \"#E5ECF6\", \"radialaxis\": {\"gridcolor\": \"white\", \"linecolor\": \"white\", \"ticks\": \"\"}}, \"scene\": {\"xaxis\": {\"backgroundcolor\": \"#E5ECF6\", \"gridcolor\": \"white\", \"gridwidth\": 2, \"linecolor\": \"white\", \"showbackground\": true, \"ticks\": \"\", \"zerolinecolor\": \"white\"}, \"yaxis\": {\"backgroundcolor\": \"#E5ECF6\", \"gridcolor\": \"white\", \"gridwidth\": 2, \"linecolor\": \"white\", \"showbackground\": true, \"ticks\": \"\", \"zerolinecolor\": \"white\"}, \"zaxis\": {\"backgroundcolor\": \"#E5ECF6\", \"gridcolor\": \"white\", \"gridwidth\": 2, \"linecolor\": \"white\", \"showbackground\": true, \"ticks\": \"\", \"zerolinecolor\": \"white\"}}, \"shapedefaults\": {\"line\": {\"color\": \"#2a3f5f\"}}, \"ternary\": {\"aaxis\": {\"gridcolor\": \"white\", \"linecolor\": \"white\", \"ticks\": \"\"}, \"baxis\": {\"gridcolor\": \"white\", \"linecolor\": \"white\", \"ticks\": \"\"}, \"bgcolor\": \"#E5ECF6\", \"caxis\": {\"gridcolor\": \"white\", \"linecolor\": \"white\", \"ticks\": \"\"}}, \"title\": {\"x\": 0.05}, \"xaxis\": {\"automargin\": true, \"gridcolor\": \"white\", \"linecolor\": \"white\", \"ticks\": \"\", \"title\": {\"standoff\": 15}, \"zerolinecolor\": \"white\", \"zerolinewidth\": 2}, \"yaxis\": {\"automargin\": true, \"gridcolor\": \"white\", \"linecolor\": \"white\", \"ticks\": \"\", \"title\": {\"standoff\": 15}, \"zerolinecolor\": \"white\", \"zerolinewidth\": 2}}}, \"title\": {\"text\": \"Worldwide Distribution of Number of Closed Cases\"}, \"xaxis\": {\"anchor\": \"y\", \"domain\": [0.0, 1.0], \"title\": {\"text\": \"Date\"}}, \"yaxis\": {\"anchor\": \"x\", \"domain\": [0.0, 1.0], \"title\": {\"text\": \"Number of Cases\"}}},                        {\"responsive\": true}                    ).then(function(){\n",
       "                            \n",
       "var gd = document.getElementById('3d23fdcb-8cd7-4683-be3e-9c3ad384ae6e');\n",
       "var x = new MutationObserver(function (mutations, observer) {{\n",
       "        var display = window.getComputedStyle(gd).display;\n",
       "        if (!display || display === 'none') {{\n",
       "            console.log([gd, 'removed!']);\n",
       "            Plotly.purge(gd);\n",
       "            observer.disconnect();\n",
       "        }}\n",
       "}});\n",
       "\n",
       "// Listen for the removal of the full notebook cells\n",
       "var notebookContainer = gd.closest('#notebook-container');\n",
       "if (notebookContainer) {{\n",
       "    x.observe(notebookContainer, {childList: true});\n",
       "}}\n",
       "\n",
       "// Listen for the clearing of the current output cell\n",
       "var outputEl = gd.closest('.output');\n",
       "if (outputEl) {{\n",
       "    x.observe(outputEl, {childList: true});\n",
       "}}\n",
       "\n",
       "                        })                };                });            </script>        </div>"
      ]
     },
     "metadata": {},
     "output_type": "display_data"
    }
   ],
   "source": [
    "figure = px.bar(x = grouped_date.index, y = grouped_date[\"Recovered\"] + grouped_date[\"Deaths\"])\n",
    "figure.update_layout(title = \"Worldwide Distribution of Number of Closed Cases\", xaxis_title = \"Date\", yaxis_title = \"Number of Cases\")\n",
    "figure.show()"
   ]
  },
  {
   "cell_type": "markdown",
   "metadata": {
    "papermill": {
     "duration": 0.030453,
     "end_time": "2021-01-14T18:16:23.297703",
     "exception": false,
     "start_time": "2021-01-14T18:16:23.267250",
     "status": "completed"
    },
    "tags": []
   },
   "source": [
    "Calculating Mortality and Recovery Rates around the World:"
   ]
  },
  {
   "cell_type": "code",
   "execution_count": 14,
   "metadata": {
    "execution": {
     "iopub.execute_input": "2021-01-14T18:16:23.378486Z",
     "iopub.status.busy": "2021-01-14T18:16:23.374436Z",
     "iopub.status.idle": "2021-01-14T18:16:23.383407Z",
     "shell.execute_reply": "2021-01-14T18:16:23.382745Z"
    },
    "papermill": {
     "duration": 0.056022,
     "end_time": "2021-01-14T18:16:23.383519",
     "exception": false,
     "start_time": "2021-01-14T18:16:23.327497",
     "status": "completed"
    },
    "tags": []
   },
   "outputs": [
    {
     "name": "stdout",
     "output_type": "stream",
     "text": [
      "Average Mortality Rate 4.058763856689485\n",
      "Median Mortality Rate 3.5552494073726955\n",
      "Average Recovery Rate 47.750118711440294\n",
      "Median Recovery Rate 54.09568616953504\n"
     ]
    }
   ],
   "source": [
    "#Mortality Rate = (Number of death cases / Number of confirmed cases) * 100\n",
    "grouped_date[\"Mortality Rate\"] = (grouped_date[\"Deaths\"] / grouped_date[\"Confirmed\"]) * 100\n",
    "#Recovery Rate = (Number of recovered cases  / Number of confirmed cases) * 100\n",
    "grouped_date[\"Recovery Rate\"] = (grouped_date[\"Recovered\"] / grouped_date[\"Confirmed\"]) * 100\n",
    "#Number of Active Cases = Number of confirmed cases - Number of death cases - Number of recovered cases\n",
    "grouped_date[\"Active Cases\"] = grouped_date[\"Confirmed\"] - grouped_date[\"Deaths\"] - grouped_date[\"Recovered\"]\n",
    "#Number of Closes Cases = Number of recovered cases + Number of death cases\n",
    "grouped_date[\"Closed Cases\"] = grouped_date[\"Recovered\"] + grouped_date[\"Deaths\"]\n",
    "\n",
    "print(\"Average Mortality Rate\", grouped_date[\"Mortality Rate\"].mean())\n",
    "print(\"Median Mortality Rate\", grouped_date[\"Mortality Rate\"].median())\n",
    "print(\"Average Recovery Rate\", grouped_date[\"Recovery Rate\"].mean())\n",
    "print(\"Median Recovery Rate\", grouped_date[\"Recovery Rate\"].median())"
   ]
  },
  {
   "cell_type": "code",
   "execution_count": 15,
   "metadata": {
    "execution": {
     "iopub.execute_input": "2021-01-14T18:16:23.457231Z",
     "iopub.status.busy": "2021-01-14T18:16:23.456531Z",
     "iopub.status.idle": "2021-01-14T18:16:23.552841Z",
     "shell.execute_reply": "2021-01-14T18:16:23.553332Z"
    },
    "papermill": {
     "duration": 0.139889,
     "end_time": "2021-01-14T18:16:23.553539",
     "exception": false,
     "start_time": "2021-01-14T18:16:23.413650",
     "status": "completed"
    },
    "tags": []
   },
   "outputs": [
    {
     "data": {
      "text/html": [
       "<div>                            <div id=\"ba58afcf-d976-407f-bd66-f09bce57288e\" class=\"plotly-graph-div\" style=\"height:1000px; width:100%;\"></div>            <script type=\"text/javascript\">                require([\"plotly\"], function(Plotly) {                    window.PLOTLYENV=window.PLOTLYENV || {};                                    if (document.getElementById(\"ba58afcf-d976-407f-bd66-f09bce57288e\")) {                    Plotly.newPlot(                        \"ba58afcf-d976-407f-bd66-f09bce57288e\",                        [{\"name\": \"Recovery Rate\", \"type\": \"scatter\", \"x\": [\"2020-01-22T00:00:00\", \"2020-01-23T00:00:00\", \"2020-01-24T00:00:00\", \"2020-01-25T00:00:00\", \"2020-01-26T00:00:00\", \"2020-01-27T00:00:00\", \"2020-01-28T00:00:00\", \"2020-01-29T00:00:00\", \"2020-01-30T00:00:00\", \"2020-01-31T00:00:00\", \"2020-02-01T00:00:00\", \"2020-02-02T00:00:00\", \"2020-02-03T00:00:00\", \"2020-02-04T00:00:00\", \"2020-02-05T00:00:00\", \"2020-02-06T00:00:00\", \"2020-02-07T00:00:00\", \"2020-02-08T00:00:00\", \"2020-02-09T00:00:00\", \"2020-02-10T00:00:00\", \"2020-02-11T00:00:00\", \"2020-02-12T00:00:00\", \"2020-02-13T00:00:00\", \"2020-02-14T00:00:00\", \"2020-02-15T00:00:00\", \"2020-02-16T00:00:00\", \"2020-02-17T00:00:00\", \"2020-02-18T00:00:00\", \"2020-02-19T00:00:00\", \"2020-02-20T00:00:00\", \"2020-02-21T00:00:00\", \"2020-02-22T00:00:00\", \"2020-02-23T00:00:00\", \"2020-02-24T00:00:00\", \"2020-02-25T00:00:00\", \"2020-02-26T00:00:00\", \"2020-02-27T00:00:00\", \"2020-02-28T00:00:00\", \"2020-02-29T00:00:00\", \"2020-03-01T00:00:00\", \"2020-03-02T00:00:00\", \"2020-03-03T00:00:00\", \"2020-03-04T00:00:00\", \"2020-03-05T00:00:00\", \"2020-03-06T00:00:00\", \"2020-03-07T00:00:00\", \"2020-03-08T00:00:00\", \"2020-03-09T00:00:00\", \"2020-03-10T00:00:00\", \"2020-03-11T00:00:00\", \"2020-03-12T00:00:00\", \"2020-03-13T00:00:00\", \"2020-03-14T00:00:00\", \"2020-03-15T00:00:00\", \"2020-03-16T00:00:00\", \"2020-03-17T00:00:00\", \"2020-03-18T00:00:00\", \"2020-03-19T00:00:00\", \"2020-03-20T00:00:00\", \"2020-03-21T00:00:00\", \"2020-03-22T00:00:00\", \"2020-03-23T00:00:00\", \"2020-03-24T00:00:00\", \"2020-03-25T00:00:00\", \"2020-03-26T00:00:00\", \"2020-03-27T00:00:00\", \"2020-03-28T00:00:00\", \"2020-03-29T00:00:00\", \"2020-03-30T00:00:00\", \"2020-03-31T00:00:00\", \"2020-04-01T00:00:00\", \"2020-04-02T00:00:00\", \"2020-04-03T00:00:00\", \"2020-04-04T00:00:00\", \"2020-04-05T00:00:00\", \"2020-04-06T00:00:00\", \"2020-04-07T00:00:00\", \"2020-04-08T00:00:00\", \"2020-04-09T00:00:00\", \"2020-04-10T00:00:00\", \"2020-04-11T00:00:00\", \"2020-04-12T00:00:00\", \"2020-04-13T00:00:00\", \"2020-04-14T00:00:00\", \"2020-04-15T00:00:00\", \"2020-04-16T00:00:00\", \"2020-04-17T00:00:00\", \"2020-04-18T00:00:00\", \"2020-04-19T00:00:00\", \"2020-04-20T00:00:00\", \"2020-04-21T00:00:00\", \"2020-04-22T00:00:00\", \"2020-04-23T00:00:00\", \"2020-04-24T00:00:00\", \"2020-04-25T00:00:00\", \"2020-04-26T00:00:00\", \"2020-04-27T00:00:00\", \"2020-04-28T00:00:00\", \"2020-04-29T00:00:00\", \"2020-04-30T00:00:00\", \"2020-05-01T00:00:00\", \"2020-05-02T00:00:00\", \"2020-05-03T00:00:00\", \"2020-05-04T00:00:00\", \"2020-05-05T00:00:00\", \"2020-05-06T00:00:00\", \"2020-05-07T00:00:00\", \"2020-05-08T00:00:00\", \"2020-05-09T00:00:00\", \"2020-05-10T00:00:00\", \"2020-05-11T00:00:00\", \"2020-05-12T00:00:00\", \"2020-05-13T00:00:00\", \"2020-05-14T00:00:00\", \"2020-05-15T00:00:00\", \"2020-05-16T00:00:00\", \"2020-05-17T00:00:00\", \"2020-05-18T00:00:00\", \"2020-05-19T00:00:00\", \"2020-05-20T00:00:00\", \"2020-05-21T00:00:00\", \"2020-05-22T00:00:00\", \"2020-05-23T00:00:00\", \"2020-05-24T00:00:00\", \"2020-05-25T00:00:00\", \"2020-05-26T00:00:00\", \"2020-05-27T00:00:00\", \"2020-05-28T00:00:00\", \"2020-05-29T00:00:00\", \"2020-05-30T00:00:00\", \"2020-05-31T00:00:00\", \"2020-06-01T00:00:00\", \"2020-06-02T00:00:00\", \"2020-06-03T00:00:00\", \"2020-06-04T00:00:00\", \"2020-06-05T00:00:00\", \"2020-06-06T00:00:00\", \"2020-06-07T00:00:00\", \"2020-06-08T00:00:00\", \"2020-06-09T00:00:00\", \"2020-06-10T00:00:00\", \"2020-06-11T00:00:00\", \"2020-06-12T00:00:00\", \"2020-06-13T00:00:00\", \"2020-06-14T00:00:00\", \"2020-06-15T00:00:00\", \"2020-06-16T00:00:00\", \"2020-06-17T00:00:00\", \"2020-06-18T00:00:00\", \"2020-06-19T00:00:00\", \"2020-06-20T00:00:00\", \"2020-06-21T00:00:00\", \"2020-06-22T00:00:00\", \"2020-06-23T00:00:00\", \"2020-06-24T00:00:00\", \"2020-06-25T00:00:00\", \"2020-06-26T00:00:00\", \"2020-06-27T00:00:00\", \"2020-06-28T00:00:00\", \"2020-06-29T00:00:00\", \"2020-06-30T00:00:00\", \"2020-07-01T00:00:00\", \"2020-07-02T00:00:00\", \"2020-07-03T00:00:00\", \"2020-07-04T00:00:00\", \"2020-07-05T00:00:00\", \"2020-07-06T00:00:00\", \"2020-07-07T00:00:00\", \"2020-07-08T00:00:00\", \"2020-07-09T00:00:00\", \"2020-07-10T00:00:00\", \"2020-07-11T00:00:00\", \"2020-07-12T00:00:00\", \"2020-07-13T00:00:00\", \"2020-07-14T00:00:00\", \"2020-07-15T00:00:00\", \"2020-07-16T00:00:00\", \"2020-07-17T00:00:00\", \"2020-07-18T00:00:00\", \"2020-07-19T00:00:00\", \"2020-07-20T00:00:00\", \"2020-07-21T00:00:00\", \"2020-07-22T00:00:00\", \"2020-07-23T00:00:00\", \"2020-07-24T00:00:00\", \"2020-07-25T00:00:00\", \"2020-07-26T00:00:00\", \"2020-07-27T00:00:00\", \"2020-07-28T00:00:00\", \"2020-07-29T00:00:00\", \"2020-07-30T00:00:00\", \"2020-07-31T00:00:00\", \"2020-08-01T00:00:00\", \"2020-08-02T00:00:00\", \"2020-08-03T00:00:00\", \"2020-08-04T00:00:00\", \"2020-08-05T00:00:00\", \"2020-08-06T00:00:00\", \"2020-08-07T00:00:00\", \"2020-08-08T00:00:00\", \"2020-08-09T00:00:00\", \"2020-08-10T00:00:00\", \"2020-08-11T00:00:00\", \"2020-08-12T00:00:00\", \"2020-08-13T00:00:00\", \"2020-08-14T00:00:00\", \"2020-08-15T00:00:00\", \"2020-08-16T00:00:00\", \"2020-08-17T00:00:00\", \"2020-08-18T00:00:00\", \"2020-08-19T00:00:00\", \"2020-08-20T00:00:00\", \"2020-08-21T00:00:00\", \"2020-08-22T00:00:00\", \"2020-08-23T00:00:00\", \"2020-08-24T00:00:00\", \"2020-08-25T00:00:00\", \"2020-08-26T00:00:00\", \"2020-08-27T00:00:00\", \"2020-08-28T00:00:00\", \"2020-08-29T00:00:00\", \"2020-08-30T00:00:00\", \"2020-08-31T00:00:00\", \"2020-09-01T00:00:00\", \"2020-09-02T00:00:00\", \"2020-09-03T00:00:00\", \"2020-09-04T00:00:00\", \"2020-09-05T00:00:00\", \"2020-09-06T00:00:00\", \"2020-09-07T00:00:00\", \"2020-09-08T00:00:00\", \"2020-09-09T00:00:00\", \"2020-09-10T00:00:00\", \"2020-09-11T00:00:00\", \"2020-09-12T00:00:00\", \"2020-09-13T00:00:00\", \"2020-09-14T00:00:00\", \"2020-09-15T00:00:00\", \"2020-09-16T00:00:00\", \"2020-09-17T00:00:00\", \"2020-09-18T00:00:00\", \"2020-09-19T00:00:00\", \"2020-09-20T00:00:00\", \"2020-09-21T00:00:00\", \"2020-09-22T00:00:00\", \"2020-09-23T00:00:00\", \"2020-09-24T00:00:00\", \"2020-09-25T00:00:00\", \"2020-09-26T00:00:00\", \"2020-09-27T00:00:00\", \"2020-09-28T00:00:00\", \"2020-09-29T00:00:00\", \"2020-09-30T00:00:00\", \"2020-10-01T00:00:00\", \"2020-10-02T00:00:00\", \"2020-10-03T00:00:00\", \"2020-10-04T00:00:00\", \"2020-10-05T00:00:00\", \"2020-10-06T00:00:00\", \"2020-10-07T00:00:00\", \"2020-10-08T00:00:00\", \"2020-10-09T00:00:00\", \"2020-10-10T00:00:00\", \"2020-10-11T00:00:00\", \"2020-10-12T00:00:00\", \"2020-10-13T00:00:00\", \"2020-10-14T00:00:00\", \"2020-10-15T00:00:00\", \"2020-10-16T00:00:00\", \"2020-10-17T00:00:00\", \"2020-10-18T00:00:00\", \"2020-10-19T00:00:00\", \"2020-10-20T00:00:00\", \"2020-10-21T00:00:00\", \"2020-10-22T00:00:00\", \"2020-10-23T00:00:00\", \"2020-10-24T00:00:00\", \"2020-10-25T00:00:00\", \"2020-10-26T00:00:00\", \"2020-10-27T00:00:00\", \"2020-10-28T00:00:00\", \"2020-10-29T00:00:00\", \"2020-10-30T00:00:00\", \"2020-10-31T00:00:00\", \"2020-11-01T00:00:00\", \"2020-11-02T00:00:00\", \"2020-11-03T00:00:00\", \"2020-11-04T00:00:00\", \"2020-11-05T00:00:00\", \"2020-11-06T00:00:00\", \"2020-11-07T00:00:00\", \"2020-11-08T00:00:00\", \"2020-11-09T00:00:00\", \"2020-11-10T00:00:00\", \"2020-11-11T00:00:00\", \"2020-11-12T00:00:00\", \"2020-11-13T00:00:00\", \"2020-11-14T00:00:00\", \"2020-11-15T00:00:00\", \"2020-11-16T00:00:00\", \"2020-11-17T00:00:00\", \"2020-11-18T00:00:00\", \"2020-11-19T00:00:00\", \"2020-11-20T00:00:00\", \"2020-11-21T00:00:00\", \"2020-11-22T00:00:00\", \"2020-11-23T00:00:00\", \"2020-11-24T00:00:00\", \"2020-11-25T00:00:00\", \"2020-11-26T00:00:00\", \"2020-11-27T00:00:00\", \"2020-11-28T00:00:00\", \"2020-11-29T00:00:00\", \"2020-11-30T00:00:00\", \"2020-12-01T00:00:00\", \"2020-12-02T00:00:00\", \"2020-12-03T00:00:00\", \"2020-12-04T00:00:00\", \"2020-12-05T00:00:00\", \"2020-12-06T00:00:00\"], \"xaxis\": \"x\", \"y\": [5.045045045045045, 4.594180704441041, 3.825717321997875, 2.7121001390820583, 2.4551463644948064, 2.0840450973693203, 1.9182502689135892, 2.0437956204379564, 1.7364905889496054, 2.2367758186397984, 2.3591958797142385, 2.8116995293977483, 3.1336451888737993, 3.566047212456052, 4.06715877840498, 4.825102212992407, 5.847290067457548, 7.047223943320493, 8.07949988792309, 9.227603301919885, 10.45242506082182, 11.38826235018354, 10.427364585058804, 12.04718405669263, 13.609630316375016, 15.254261084435457, 17.175812175812176, 19.100854427852752, 21.312515699157863, 23.854643761729157, 24.58259047668623, 29.1174187966768, 29.61828195226942, 31.704159859243436, 34.701237331343656, 37.32815705738541, 40.209773309488135, 43.636925564034904, 46.2505231828117, 48.337633532500455, 50.49329539037326, 51.94296053765294, 53.791247490197314, 54.955562365920926, 54.87461076785557, 55.135436448324405, 55.2603545447096, 55.03415974080856, 54.301084335317626, 53.23718712753278, 53.23816128856299, 48.38516375658642, 46.52627397716643, 45.41577315708048, 43.00403136978455, 40.98757168717769, 38.75079075652141, 35.010610899350986, 32.10110514891413, 30.08146091385886, 28.82132704091161, 26.66950245180927, 25.753085888264653, 24.31471050353253, 23.04554006291409, 22.04596171821711, 21.087343570133072, 20.690358825007394, 21.02080158205977, 20.74941457450144, 20.731022419621404, 20.76803103139739, 20.619835577653667, 20.573831941107425, 20.45924966641887, 20.577161475597467, 21.053712577704626, 21.76371182432991, 22.198995791044833, 22.2425713406011, 22.70928971247391, 22.846123612598383, 23.413544490521236, 24.011824362781084, 24.861935945670087, 25.195891094305477, 25.38613670477933, 25.567454591338223, 25.996286940631435, 26.13998676775798, 26.6852748299165, 27.05549479652924, 27.269868117435177, 28.237334951825893, 28.198094456997563, 29.14668226381162, 29.403698664048044, 29.810684202099004, 30.46201300500532, 31.16843400661739, 31.50788127678269, 31.89450680267147, 32.093662694188374, 32.45535791534261, 32.733421191944856, 33.16889382521037, 33.41274565097949, 33.57341813327551, 34.186167183068775, 34.356311184727964, 34.86025554666678, 35.040788316030266, 35.62620927847123, 35.74860761152108, 36.04395793092426, 36.537840730574686, 36.78629205560192, 37.21105731688271, 37.54753812390629, 37.97657213292215, 38.19140275767406, 39.46681071828474, 39.770929407090364, 40.100281631800165, 40.61066960347293, 40.91046839545379, 41.28440012382165, 41.58597714212333, 42.08445865942542, 42.321249987622906, 42.82615886522983, 43.025546765514335, 42.737844630993756, 43.093329318243974, 43.264464722393626, 44.500610564087964, 44.73887075365489, 44.79953329748434, 46.25949667216156, 46.60668607264027, 46.9337931238727, 47.11422016633425, 47.334174094063286, 47.61025126080982, 47.70833813193831, 48.00870015216305, 48.38683986941897, 48.786335017111405, 48.944357594226986, 48.97786388790774, 49.79959724955912, 49.657448130380075, 49.74605666047226, 49.98110518223164, 50.32226769583104, 50.34950591794506, 50.44435066105558, 50.61475929338629, 50.65481299574384, 50.81275127619334, 51.0919156339945, 52.15421379926, 52.922496688116716, 52.9374248026654, 53.7716342941002, 53.95974257494228, 54.23162976412781, 54.49454722681172, 54.84536340993642, 54.92989233276191, 55.0286959923841, 55.073195955151334, 55.116736827203106, 55.374656808951606, 55.52775513120073, 55.75778126194938, 55.85324656389987, 56.16412931504916, 56.287675032697024, 56.06266817750723, 56.36601293147845, 56.64483202030664, 56.77301358256146, 56.88169565614272, 57.31178674146863, 57.77540862841456, 57.89189768841566, 58.140915143132354, 58.24057186042451, 58.480876579692264, 58.76577062333611, 58.92630097955901, 59.128824375450826, 59.13734324952813, 59.69591618144815, 60.055211956742674, 60.3588513263731, 60.44151642702794, 60.54980624671343, 60.76969174143555, 60.97687766644165, 61.105166778045195, 61.83986076831277, 62.1441270280386, 62.10347253161529, 62.54721719452537, 62.60225799223126, 63.05799197246279, 63.41537598725891, 63.70991564999201, 63.90080257049353, 64.06201567187529, 64.03783599555844, 64.19365329279876, 64.5650273074416, 64.79079364195603, 65.09973428526281, 65.25892978254312, 65.37633177759274, 65.4323761669442, 65.59057939857225, 65.83358248940378, 65.94336761875468, 66.2544367605181, 66.37295161772727, 66.52364846623497, 66.52717356645852, 66.62452917297877, 66.86932631537209, 66.99172018864664, 67.13626930774332, 67.33397366702948, 67.38981741142663, 67.41589688389466, 67.54227293059904, 67.63948262491311, 67.69574347019936, 67.87811959993381, 67.9573685617726, 67.97759123518414, 68.07543571611473, 68.22621563789181, 68.45640295518533, 68.58573315891806, 68.65715466277662, 68.9186924656921, 68.93332994960633, 68.95778210008739, 69.17909314815836, 69.3150924281793, 69.41498747705664, 69.53691938364528, 69.5979605564457, 69.58610942098261, 69.4942478849089, 69.62525680768117, 69.73498486568256, 69.7649293652995, 69.76720600174355, 69.80066739967666, 69.71027297061353, 69.59011117354316, 69.49877816081546, 69.58975305679829, 69.52117947412589, 69.41817234928084, 69.28274547031545, 69.08898751919081, 68.88357055351302, 68.79162222103717, 68.80162229647252, 68.53936303439943, 68.39658728109951, 68.17379598195144, 67.94516146151041, 67.6222879106649, 67.46831567213538, 67.31315082116267, 67.09927316726538, 67.72165532099552, 67.52658943254535, 67.26649469024136, 65.1015880167771, 66.864051514144, 66.78394585645091, 66.74057988204989, 66.59630540544109, 66.2292673297397, 66.04512195099453, 65.76988774123545, 65.69543705112429, 65.46029788250516, 65.36304469073119, 65.15037360540764, 65.07347639792935, 64.7027970690946, 64.48221534883494, 64.28818521237689, 64.1510334420884, 64.24144824173543, 64.31954155515763, 64.25160189038785, 64.1725191541741, 64.04769733088524, 63.985307545946135, 63.92147057992157, 64.0507828706135, 64.04195245817274, 64.09417899539118, 64.0821075550389, 63.99438358061034, 63.949540703924434, 63.9731919632602, 64.0960450307816, 64.23352268960679, 64.304952027581, 64.29227592813608, 64.26764834014298, 64.30696894444029, 64.26335360396249], \"yaxis\": \"y\"}, {\"name\": \"Mortality Rate\", \"type\": \"scatter\", \"x\": [\"2020-01-22T00:00:00\", \"2020-01-23T00:00:00\", \"2020-01-24T00:00:00\", \"2020-01-25T00:00:00\", \"2020-01-26T00:00:00\", \"2020-01-27T00:00:00\", \"2020-01-28T00:00:00\", \"2020-01-29T00:00:00\", \"2020-01-30T00:00:00\", \"2020-01-31T00:00:00\", \"2020-02-01T00:00:00\", \"2020-02-02T00:00:00\", \"2020-02-03T00:00:00\", \"2020-02-04T00:00:00\", \"2020-02-05T00:00:00\", \"2020-02-06T00:00:00\", \"2020-02-07T00:00:00\", \"2020-02-08T00:00:00\", \"2020-02-09T00:00:00\", \"2020-02-10T00:00:00\", \"2020-02-11T00:00:00\", \"2020-02-12T00:00:00\", \"2020-02-13T00:00:00\", \"2020-02-14T00:00:00\", \"2020-02-15T00:00:00\", \"2020-02-16T00:00:00\", \"2020-02-17T00:00:00\", \"2020-02-18T00:00:00\", \"2020-02-19T00:00:00\", \"2020-02-20T00:00:00\", \"2020-02-21T00:00:00\", \"2020-02-22T00:00:00\", \"2020-02-23T00:00:00\", \"2020-02-24T00:00:00\", \"2020-02-25T00:00:00\", \"2020-02-26T00:00:00\", \"2020-02-27T00:00:00\", \"2020-02-28T00:00:00\", \"2020-02-29T00:00:00\", \"2020-03-01T00:00:00\", \"2020-03-02T00:00:00\", \"2020-03-03T00:00:00\", \"2020-03-04T00:00:00\", \"2020-03-05T00:00:00\", \"2020-03-06T00:00:00\", \"2020-03-07T00:00:00\", \"2020-03-08T00:00:00\", \"2020-03-09T00:00:00\", \"2020-03-10T00:00:00\", \"2020-03-11T00:00:00\", \"2020-03-12T00:00:00\", \"2020-03-13T00:00:00\", \"2020-03-14T00:00:00\", \"2020-03-15T00:00:00\", \"2020-03-16T00:00:00\", \"2020-03-17T00:00:00\", \"2020-03-18T00:00:00\", \"2020-03-19T00:00:00\", \"2020-03-20T00:00:00\", \"2020-03-21T00:00:00\", \"2020-03-22T00:00:00\", \"2020-03-23T00:00:00\", \"2020-03-24T00:00:00\", \"2020-03-25T00:00:00\", \"2020-03-26T00:00:00\", \"2020-03-27T00:00:00\", \"2020-03-28T00:00:00\", \"2020-03-29T00:00:00\", \"2020-03-30T00:00:00\", \"2020-03-31T00:00:00\", \"2020-04-01T00:00:00\", \"2020-04-02T00:00:00\", \"2020-04-03T00:00:00\", \"2020-04-04T00:00:00\", \"2020-04-05T00:00:00\", \"2020-04-06T00:00:00\", \"2020-04-07T00:00:00\", \"2020-04-08T00:00:00\", \"2020-04-09T00:00:00\", \"2020-04-10T00:00:00\", \"2020-04-11T00:00:00\", \"2020-04-12T00:00:00\", \"2020-04-13T00:00:00\", \"2020-04-14T00:00:00\", \"2020-04-15T00:00:00\", \"2020-04-16T00:00:00\", \"2020-04-17T00:00:00\", \"2020-04-18T00:00:00\", \"2020-04-19T00:00:00\", \"2020-04-20T00:00:00\", \"2020-04-21T00:00:00\", \"2020-04-22T00:00:00\", \"2020-04-23T00:00:00\", \"2020-04-24T00:00:00\", \"2020-04-25T00:00:00\", \"2020-04-26T00:00:00\", \"2020-04-27T00:00:00\", \"2020-04-28T00:00:00\", \"2020-04-29T00:00:00\", \"2020-04-30T00:00:00\", \"2020-05-01T00:00:00\", \"2020-05-02T00:00:00\", \"2020-05-03T00:00:00\", \"2020-05-04T00:00:00\", \"2020-05-05T00:00:00\", \"2020-05-06T00:00:00\", \"2020-05-07T00:00:00\", \"2020-05-08T00:00:00\", \"2020-05-09T00:00:00\", \"2020-05-10T00:00:00\", \"2020-05-11T00:00:00\", \"2020-05-12T00:00:00\", \"2020-05-13T00:00:00\", \"2020-05-14T00:00:00\", \"2020-05-15T00:00:00\", \"2020-05-16T00:00:00\", \"2020-05-17T00:00:00\", \"2020-05-18T00:00:00\", \"2020-05-19T00:00:00\", \"2020-05-20T00:00:00\", \"2020-05-21T00:00:00\", \"2020-05-22T00:00:00\", \"2020-05-23T00:00:00\", \"2020-05-24T00:00:00\", \"2020-05-25T00:00:00\", \"2020-05-26T00:00:00\", \"2020-05-27T00:00:00\", \"2020-05-28T00:00:00\", \"2020-05-29T00:00:00\", \"2020-05-30T00:00:00\", \"2020-05-31T00:00:00\", \"2020-06-01T00:00:00\", \"2020-06-02T00:00:00\", \"2020-06-03T00:00:00\", \"2020-06-04T00:00:00\", \"2020-06-05T00:00:00\", \"2020-06-06T00:00:00\", \"2020-06-07T00:00:00\", \"2020-06-08T00:00:00\", \"2020-06-09T00:00:00\", \"2020-06-10T00:00:00\", \"2020-06-11T00:00:00\", \"2020-06-12T00:00:00\", \"2020-06-13T00:00:00\", \"2020-06-14T00:00:00\", \"2020-06-15T00:00:00\", \"2020-06-16T00:00:00\", \"2020-06-17T00:00:00\", \"2020-06-18T00:00:00\", \"2020-06-19T00:00:00\", \"2020-06-20T00:00:00\", \"2020-06-21T00:00:00\", \"2020-06-22T00:00:00\", \"2020-06-23T00:00:00\", \"2020-06-24T00:00:00\", \"2020-06-25T00:00:00\", \"2020-06-26T00:00:00\", \"2020-06-27T00:00:00\", \"2020-06-28T00:00:00\", \"2020-06-29T00:00:00\", \"2020-06-30T00:00:00\", \"2020-07-01T00:00:00\", \"2020-07-02T00:00:00\", \"2020-07-03T00:00:00\", \"2020-07-04T00:00:00\", \"2020-07-05T00:00:00\", \"2020-07-06T00:00:00\", \"2020-07-07T00:00:00\", \"2020-07-08T00:00:00\", \"2020-07-09T00:00:00\", \"2020-07-10T00:00:00\", \"2020-07-11T00:00:00\", \"2020-07-12T00:00:00\", \"2020-07-13T00:00:00\", \"2020-07-14T00:00:00\", \"2020-07-15T00:00:00\", \"2020-07-16T00:00:00\", \"2020-07-17T00:00:00\", \"2020-07-18T00:00:00\", \"2020-07-19T00:00:00\", \"2020-07-20T00:00:00\", \"2020-07-21T00:00:00\", \"2020-07-22T00:00:00\", \"2020-07-23T00:00:00\", \"2020-07-24T00:00:00\", \"2020-07-25T00:00:00\", \"2020-07-26T00:00:00\", \"2020-07-27T00:00:00\", \"2020-07-28T00:00:00\", \"2020-07-29T00:00:00\", \"2020-07-30T00:00:00\", \"2020-07-31T00:00:00\", \"2020-08-01T00:00:00\", \"2020-08-02T00:00:00\", \"2020-08-03T00:00:00\", \"2020-08-04T00:00:00\", \"2020-08-05T00:00:00\", \"2020-08-06T00:00:00\", \"2020-08-07T00:00:00\", \"2020-08-08T00:00:00\", \"2020-08-09T00:00:00\", \"2020-08-10T00:00:00\", \"2020-08-11T00:00:00\", \"2020-08-12T00:00:00\", \"2020-08-13T00:00:00\", \"2020-08-14T00:00:00\", \"2020-08-15T00:00:00\", \"2020-08-16T00:00:00\", \"2020-08-17T00:00:00\", \"2020-08-18T00:00:00\", \"2020-08-19T00:00:00\", \"2020-08-20T00:00:00\", \"2020-08-21T00:00:00\", \"2020-08-22T00:00:00\", \"2020-08-23T00:00:00\", \"2020-08-24T00:00:00\", \"2020-08-25T00:00:00\", \"2020-08-26T00:00:00\", \"2020-08-27T00:00:00\", \"2020-08-28T00:00:00\", \"2020-08-29T00:00:00\", \"2020-08-30T00:00:00\", \"2020-08-31T00:00:00\", \"2020-09-01T00:00:00\", \"2020-09-02T00:00:00\", \"2020-09-03T00:00:00\", \"2020-09-04T00:00:00\", \"2020-09-05T00:00:00\", \"2020-09-06T00:00:00\", \"2020-09-07T00:00:00\", \"2020-09-08T00:00:00\", \"2020-09-09T00:00:00\", \"2020-09-10T00:00:00\", \"2020-09-11T00:00:00\", \"2020-09-12T00:00:00\", \"2020-09-13T00:00:00\", \"2020-09-14T00:00:00\", \"2020-09-15T00:00:00\", \"2020-09-16T00:00:00\", \"2020-09-17T00:00:00\", \"2020-09-18T00:00:00\", \"2020-09-19T00:00:00\", \"2020-09-20T00:00:00\", \"2020-09-21T00:00:00\", \"2020-09-22T00:00:00\", \"2020-09-23T00:00:00\", \"2020-09-24T00:00:00\", \"2020-09-25T00:00:00\", \"2020-09-26T00:00:00\", \"2020-09-27T00:00:00\", \"2020-09-28T00:00:00\", \"2020-09-29T00:00:00\", \"2020-09-30T00:00:00\", \"2020-10-01T00:00:00\", \"2020-10-02T00:00:00\", \"2020-10-03T00:00:00\", \"2020-10-04T00:00:00\", \"2020-10-05T00:00:00\", \"2020-10-06T00:00:00\", \"2020-10-07T00:00:00\", \"2020-10-08T00:00:00\", \"2020-10-09T00:00:00\", \"2020-10-10T00:00:00\", \"2020-10-11T00:00:00\", \"2020-10-12T00:00:00\", \"2020-10-13T00:00:00\", \"2020-10-14T00:00:00\", \"2020-10-15T00:00:00\", \"2020-10-16T00:00:00\", \"2020-10-17T00:00:00\", \"2020-10-18T00:00:00\", \"2020-10-19T00:00:00\", \"2020-10-20T00:00:00\", \"2020-10-21T00:00:00\", \"2020-10-22T00:00:00\", \"2020-10-23T00:00:00\", \"2020-10-24T00:00:00\", \"2020-10-25T00:00:00\", \"2020-10-26T00:00:00\", \"2020-10-27T00:00:00\", \"2020-10-28T00:00:00\", \"2020-10-29T00:00:00\", \"2020-10-30T00:00:00\", \"2020-10-31T00:00:00\", \"2020-11-01T00:00:00\", \"2020-11-02T00:00:00\", \"2020-11-03T00:00:00\", \"2020-11-04T00:00:00\", \"2020-11-05T00:00:00\", \"2020-11-06T00:00:00\", \"2020-11-07T00:00:00\", \"2020-11-08T00:00:00\", \"2020-11-09T00:00:00\", \"2020-11-10T00:00:00\", \"2020-11-11T00:00:00\", \"2020-11-12T00:00:00\", \"2020-11-13T00:00:00\", \"2020-11-14T00:00:00\", \"2020-11-15T00:00:00\", \"2020-11-16T00:00:00\", \"2020-11-17T00:00:00\", \"2020-11-18T00:00:00\", \"2020-11-19T00:00:00\", \"2020-11-20T00:00:00\", \"2020-11-21T00:00:00\", \"2020-11-22T00:00:00\", \"2020-11-23T00:00:00\", \"2020-11-24T00:00:00\", \"2020-11-25T00:00:00\", \"2020-11-26T00:00:00\", \"2020-11-27T00:00:00\", \"2020-11-28T00:00:00\", \"2020-11-29T00:00:00\", \"2020-11-30T00:00:00\", \"2020-12-01T00:00:00\", \"2020-12-02T00:00:00\", \"2020-12-03T00:00:00\", \"2020-12-04T00:00:00\", \"2020-12-05T00:00:00\", \"2020-12-06T00:00:00\"], \"xaxis\": \"x2\", \"y\": [3.063063063063063, 2.756508422664625, 2.763018065887354, 2.920723226703755, 2.644003777148253, 2.801503245644004, 2.3485120114736464, 2.1573398215733985, 2.0765027322404372, 2.146095717884131, 2.1515201860774216, 2.1564305712753917, 2.142749358684171, 2.059266700150678, 2.0408163265306123, 2.057239275747939, 2.0906024656896953, 2.1712777134236685, 2.256481781275684, 2.368870285059514, 2.4842086467424056, 2.4722480208747957, 2.270995527579924, 2.276974598950469, 2.4133735079383474, 2.4850475949793616, 2.54982254982255, 2.6710852032260637, 2.8053568831718247, 2.9488575965563855, 2.929349452780344, 3.1272662502067456, 3.125909982908147, 3.304009048636421, 3.367530933283591, 3.4030738233595836, 3.4003576779931364, 3.4139267289541877, 3.4192903315816396, 3.3903675538656532, 3.415973690912513, 3.4034120282612443, 3.4206902351593134, 3.420165491878639, 3.398721059300806, 3.3615827215781864, 3.4625925285210912, 3.5181011410057756, 3.5936525067876355, 3.6670639650377432, 3.678046271692291, 3.722147604780108, 3.7280729854054817, 3.8468201014270265, 3.924527470590827, 4.008397097524986, 4.062162765601161, 4.065931801792521, 4.149174902945962, 4.257826089810494, 4.334834305160714, 4.358566537030774, 4.452384881598993, 4.527838048717921, 4.523436158428771, 4.580508795715405, 4.636813451947498, 4.709604249985077, 4.801367439257924, 4.908365902301255, 5.017566573992896, 5.22688059284806, 5.3626531596983735, 5.394033603764103, 5.452420879585464, 5.542483329815476, 5.739627466429639, 5.843609967425633, 5.981140221432272, 6.05970348596354, 6.12362955830945, 6.1773275485908625, 6.230221611804696, 6.374339331689768, 6.525492919187366, 6.679387008344705, 6.8659022710930735, 6.881151280242784, 6.871782872212551, 6.874497522594296, 6.925664479678027, 6.9761947405123825, 7.045401607456032, 7.014187187771938, 7.002052452483964, 6.951105912062793, 6.942334491967095, 6.968158789231149, 7.127236340877789, 7.166109076438988, 7.137185684238732, 7.11372992971205, 7.0571541253328265, 7.020296093779217, 7.023255775857338, 7.025461850362532, 7.009528177981361, 6.980632307386417, 6.941234534030352, 6.892526497433514, 6.854058618990921, 6.850067452636519, 6.8366919960976436, 6.807930418057592, 6.773196924820482, 6.727972275450135, 6.686320439513629, 6.6319745952418145, 6.6005282660301505, 6.5667153454710805, 6.524538156813267, 6.489307909374134, 6.4418831052670225, 6.380911170408504, 6.300588574406694, 6.269495009921481, 6.2479510925573845, 6.20247087336107, 6.158631693492483, 6.0917093263889575, 6.032520219741732, 5.993661147661361, 5.956270171783898, 5.929759494098741, 5.89670929478255, 5.850589325791917, 5.799553590522606, 5.74467720931294, 5.710532555283245, 5.680741405207692, 5.65423358379184, 5.608248662793846, 5.572797394873142, 5.532385191478953, 5.480888559054227, 5.437719560482013, 5.427994179271821, 5.376318591264161, 5.347578339524356, 5.30888099921998, 5.282889248178325, 5.229873095687183, 5.189262603228877, 5.15507404922799, 5.118548284490436, 5.091348291353535, 5.041350211486983, 4.997546494111937, 4.946100715142354, 4.906596255464235, 4.880131249414167, 4.827541512934971, 4.79523537689241, 4.752913950323307, 4.710489307920908, 4.666239651102549, 4.630392317158175, 4.599760167745647, 4.5627060705772315, 4.522869976646806, 4.481441535760141, 4.443315992225158, 4.407854159431959, 4.37260227898237, 4.342714619509489, 4.308822540138129, 4.272890742202843, 4.243830755835961, 4.212810656693332, 4.17834948940206, 4.14680123591664, 4.1241766517839284, 4.093987679723233, 4.08356699743223, 4.050236548290585, 4.021085803212048, 3.9910256709198157, 3.9673572288141665, 3.952244718112099, 3.9171834981427884, 3.8894776554891637, 3.8609721442434144, 3.8378938555139914, 3.8125050040275514, 3.7954240835079798, 3.778810569062822, 3.761238709754201, 3.7421257867671613, 3.7204818442059895, 3.699182159523878, 3.6800152295505604, 3.664105582364605, 3.6489227345084507, 3.6316682048647353, 3.6123642691772373, 3.608296715756941, 3.591247099036396, 3.5751720729844836, 3.5353267417609073, 3.525561733940199, 3.512315142921165, 3.4974456436969517, 3.4800767305841545, 3.464271110752544, 3.4502304491227633, 3.436166964955463, 3.4274679719179577, 3.4127131721706396, 3.3984120023658435, 3.3817842844266783, 3.367298856215053, 3.3530057726326445, 3.3347870254781786, 3.3254849370566997, 3.3127998700039734, 3.30008586711701, 3.283402157778381, 3.2698013666300563, 3.2567063080358367, 3.2628074808926377, 3.2523692845145495, 3.240857734585124, 3.2271162785682996, 3.211448021989305, 3.197551976394951, 3.1841061004251547, 3.1743160889867, 3.160313615808133, 3.147710512442709, 3.132992598239247, 3.118265662236758, 3.1069431940076635, 3.094571622138985, 3.078211245193419, 3.0695026984215463, 3.061781287824534, 3.047981961636406, 3.0347189043573843, 3.0254427046174164, 3.0140667780044965, 3.001155989337077, 2.9936679721352655, 2.983817242722719, 2.9815556442822437, 2.970138437995276, 2.959764795123958, 2.948311588764797, 2.94099828304712, 2.9300121820251284, 2.9179301935894424, 2.906000784759539, 2.8943001167274263, 2.8815867354418248, 2.871174006849535, 2.8568704888866012, 2.8465410885067466, 2.8340741320535474, 2.8200708620924964, 2.8062090483357855, 2.795893835662483, 2.7842493476657553, 2.765661485765252, 2.7554197145780592, 2.741902983483028, 2.7249024655842025, 2.7088311509099112, 2.6959963660251094, 2.6809223794079524, 2.663443237382866, 2.651724985819331, 2.6370662001237957, 2.6211340156449467, 2.6057984150676354, 2.592562174449553, 2.578611345172812, 2.5660756543962764, 2.557269819435239, 2.5447934744379666, 2.5302822279891104, 2.516889879651768, 2.506263852408753, 2.4895569097925465, 2.4806485852371862, 2.4731055723926696, 2.4625291222105212, 2.451186471197252, 2.439296366757253, 2.4291317518810853, 2.419514184890565, 2.41053731044997, 2.404123124256428, 2.39759348349374, 2.3894786856124615, 2.382410817416015, 2.373503073097192, 2.3659478554326783, 2.359143361117565, 2.357302404097589, 2.3525604017733706, 2.3477505279652098, 2.3393804220390706, 2.3325347962786487, 2.3254716238715947, 2.3206077792663873, 2.318743891759414, 2.3147838719469735, 2.3094694595486365, 2.3045263767867166, 2.297666394339384, 2.2901008275550154], \"yaxis\": \"y2\"}],                        {\"annotations\": [{\"font\": {\"size\": 16}, \"showarrow\": false, \"text\": \"Recovery Rate\", \"x\": 0.5, \"xanchor\": \"center\", \"xref\": \"paper\", \"y\": 1.0, \"yanchor\": \"bottom\", \"yref\": \"paper\"}, {\"font\": {\"size\": 16}, \"showarrow\": false, \"text\": \"Mortality Rate\", \"x\": 0.5, \"xanchor\": \"center\", \"xref\": \"paper\", \"y\": 0.375, \"yanchor\": \"bottom\", \"yref\": \"paper\"}], \"height\": 1000, \"legend\": {\"traceorder\": \"normal\", \"x\": -0.1, \"y\": 1.2}, \"template\": {\"data\": {\"bar\": [{\"error_x\": {\"color\": \"#2a3f5f\"}, \"error_y\": {\"color\": \"#2a3f5f\"}, \"marker\": {\"line\": {\"color\": \"#E5ECF6\", \"width\": 0.5}}, \"type\": \"bar\"}], \"barpolar\": [{\"marker\": {\"line\": {\"color\": \"#E5ECF6\", \"width\": 0.5}}, \"type\": \"barpolar\"}], \"carpet\": [{\"aaxis\": {\"endlinecolor\": \"#2a3f5f\", \"gridcolor\": \"white\", \"linecolor\": \"white\", \"minorgridcolor\": \"white\", \"startlinecolor\": \"#2a3f5f\"}, \"baxis\": {\"endlinecolor\": \"#2a3f5f\", \"gridcolor\": \"white\", \"linecolor\": \"white\", \"minorgridcolor\": \"white\", \"startlinecolor\": \"#2a3f5f\"}, \"type\": \"carpet\"}], \"choropleth\": [{\"colorbar\": {\"outlinewidth\": 0, \"ticks\": \"\"}, \"type\": \"choropleth\"}], \"contour\": [{\"colorbar\": {\"outlinewidth\": 0, \"ticks\": \"\"}, \"colorscale\": [[0.0, \"#0d0887\"], [0.1111111111111111, \"#46039f\"], [0.2222222222222222, \"#7201a8\"], [0.3333333333333333, \"#9c179e\"], [0.4444444444444444, \"#bd3786\"], [0.5555555555555556, \"#d8576b\"], [0.6666666666666666, \"#ed7953\"], [0.7777777777777778, \"#fb9f3a\"], [0.8888888888888888, \"#fdca26\"], [1.0, \"#f0f921\"]], \"type\": \"contour\"}], \"contourcarpet\": [{\"colorbar\": {\"outlinewidth\": 0, \"ticks\": \"\"}, \"type\": \"contourcarpet\"}], \"heatmap\": [{\"colorbar\": {\"outlinewidth\": 0, \"ticks\": \"\"}, \"colorscale\": [[0.0, \"#0d0887\"], [0.1111111111111111, \"#46039f\"], [0.2222222222222222, \"#7201a8\"], [0.3333333333333333, \"#9c179e\"], [0.4444444444444444, \"#bd3786\"], [0.5555555555555556, \"#d8576b\"], [0.6666666666666666, \"#ed7953\"], [0.7777777777777778, \"#fb9f3a\"], [0.8888888888888888, \"#fdca26\"], [1.0, \"#f0f921\"]], \"type\": \"heatmap\"}], \"heatmapgl\": [{\"colorbar\": {\"outlinewidth\": 0, \"ticks\": \"\"}, \"colorscale\": [[0.0, \"#0d0887\"], [0.1111111111111111, \"#46039f\"], [0.2222222222222222, \"#7201a8\"], [0.3333333333333333, \"#9c179e\"], [0.4444444444444444, \"#bd3786\"], [0.5555555555555556, \"#d8576b\"], [0.6666666666666666, \"#ed7953\"], [0.7777777777777778, \"#fb9f3a\"], [0.8888888888888888, \"#fdca26\"], [1.0, \"#f0f921\"]], \"type\": \"heatmapgl\"}], \"histogram\": [{\"marker\": {\"colorbar\": {\"outlinewidth\": 0, \"ticks\": \"\"}}, \"type\": \"histogram\"}], \"histogram2d\": [{\"colorbar\": {\"outlinewidth\": 0, \"ticks\": \"\"}, \"colorscale\": [[0.0, \"#0d0887\"], [0.1111111111111111, \"#46039f\"], [0.2222222222222222, \"#7201a8\"], [0.3333333333333333, \"#9c179e\"], [0.4444444444444444, \"#bd3786\"], [0.5555555555555556, \"#d8576b\"], [0.6666666666666666, \"#ed7953\"], [0.7777777777777778, \"#fb9f3a\"], [0.8888888888888888, \"#fdca26\"], [1.0, \"#f0f921\"]], \"type\": \"histogram2d\"}], \"histogram2dcontour\": [{\"colorbar\": {\"outlinewidth\": 0, \"ticks\": \"\"}, \"colorscale\": [[0.0, \"#0d0887\"], [0.1111111111111111, \"#46039f\"], [0.2222222222222222, \"#7201a8\"], [0.3333333333333333, \"#9c179e\"], [0.4444444444444444, \"#bd3786\"], [0.5555555555555556, \"#d8576b\"], [0.6666666666666666, \"#ed7953\"], [0.7777777777777778, \"#fb9f3a\"], [0.8888888888888888, \"#fdca26\"], [1.0, \"#f0f921\"]], \"type\": \"histogram2dcontour\"}], \"mesh3d\": [{\"colorbar\": {\"outlinewidth\": 0, \"ticks\": \"\"}, \"type\": \"mesh3d\"}], \"parcoords\": [{\"line\": {\"colorbar\": {\"outlinewidth\": 0, \"ticks\": \"\"}}, \"type\": \"parcoords\"}], \"pie\": [{\"automargin\": true, \"type\": \"pie\"}], \"scatter\": [{\"marker\": {\"colorbar\": {\"outlinewidth\": 0, \"ticks\": \"\"}}, \"type\": \"scatter\"}], \"scatter3d\": [{\"line\": {\"colorbar\": {\"outlinewidth\": 0, \"ticks\": \"\"}}, \"marker\": {\"colorbar\": {\"outlinewidth\": 0, \"ticks\": \"\"}}, \"type\": \"scatter3d\"}], \"scattercarpet\": [{\"marker\": {\"colorbar\": {\"outlinewidth\": 0, \"ticks\": \"\"}}, \"type\": \"scattercarpet\"}], \"scattergeo\": [{\"marker\": {\"colorbar\": {\"outlinewidth\": 0, \"ticks\": \"\"}}, \"type\": \"scattergeo\"}], \"scattergl\": [{\"marker\": {\"colorbar\": {\"outlinewidth\": 0, \"ticks\": \"\"}}, \"type\": \"scattergl\"}], \"scattermapbox\": [{\"marker\": {\"colorbar\": {\"outlinewidth\": 0, \"ticks\": \"\"}}, \"type\": \"scattermapbox\"}], \"scatterpolar\": [{\"marker\": {\"colorbar\": {\"outlinewidth\": 0, \"ticks\": \"\"}}, \"type\": \"scatterpolar\"}], \"scatterpolargl\": [{\"marker\": {\"colorbar\": {\"outlinewidth\": 0, \"ticks\": \"\"}}, \"type\": \"scatterpolargl\"}], \"scatterternary\": [{\"marker\": {\"colorbar\": {\"outlinewidth\": 0, \"ticks\": \"\"}}, \"type\": \"scatterternary\"}], \"surface\": [{\"colorbar\": {\"outlinewidth\": 0, \"ticks\": \"\"}, \"colorscale\": [[0.0, \"#0d0887\"], [0.1111111111111111, \"#46039f\"], [0.2222222222222222, \"#7201a8\"], [0.3333333333333333, \"#9c179e\"], [0.4444444444444444, \"#bd3786\"], [0.5555555555555556, \"#d8576b\"], [0.6666666666666666, \"#ed7953\"], [0.7777777777777778, \"#fb9f3a\"], [0.8888888888888888, \"#fdca26\"], [1.0, \"#f0f921\"]], \"type\": \"surface\"}], \"table\": [{\"cells\": {\"fill\": {\"color\": \"#EBF0F8\"}, \"line\": {\"color\": \"white\"}}, \"header\": {\"fill\": {\"color\": \"#C8D4E3\"}, \"line\": {\"color\": \"white\"}}, \"type\": \"table\"}]}, \"layout\": {\"annotationdefaults\": {\"arrowcolor\": \"#2a3f5f\", \"arrowhead\": 0, \"arrowwidth\": 1}, \"autotypenumbers\": \"strict\", \"coloraxis\": {\"colorbar\": {\"outlinewidth\": 0, \"ticks\": \"\"}}, \"colorscale\": {\"diverging\": [[0, \"#8e0152\"], [0.1, \"#c51b7d\"], [0.2, \"#de77ae\"], [0.3, \"#f1b6da\"], [0.4, \"#fde0ef\"], [0.5, \"#f7f7f7\"], [0.6, \"#e6f5d0\"], [0.7, \"#b8e186\"], [0.8, \"#7fbc41\"], [0.9, \"#4d9221\"], [1, \"#276419\"]], \"sequential\": [[0.0, \"#0d0887\"], [0.1111111111111111, \"#46039f\"], [0.2222222222222222, \"#7201a8\"], [0.3333333333333333, \"#9c179e\"], [0.4444444444444444, \"#bd3786\"], [0.5555555555555556, \"#d8576b\"], [0.6666666666666666, \"#ed7953\"], [0.7777777777777778, \"#fb9f3a\"], [0.8888888888888888, \"#fdca26\"], [1.0, \"#f0f921\"]], \"sequentialminus\": [[0.0, \"#0d0887\"], [0.1111111111111111, \"#46039f\"], [0.2222222222222222, \"#7201a8\"], [0.3333333333333333, \"#9c179e\"], [0.4444444444444444, \"#bd3786\"], [0.5555555555555556, \"#d8576b\"], [0.6666666666666666, \"#ed7953\"], [0.7777777777777778, \"#fb9f3a\"], [0.8888888888888888, \"#fdca26\"], [1.0, \"#f0f921\"]]}, \"colorway\": [\"#636efa\", \"#EF553B\", \"#00cc96\", \"#ab63fa\", \"#FFA15A\", \"#19d3f3\", \"#FF6692\", \"#B6E880\", \"#FF97FF\", \"#FECB52\"], \"font\": {\"color\": \"#2a3f5f\"}, \"geo\": {\"bgcolor\": \"white\", \"lakecolor\": \"white\", \"landcolor\": \"#E5ECF6\", \"showlakes\": true, \"showland\": true, \"subunitcolor\": \"white\"}, \"hoverlabel\": {\"align\": \"left\"}, \"hovermode\": \"closest\", \"mapbox\": {\"style\": \"light\"}, \"paper_bgcolor\": \"white\", \"plot_bgcolor\": \"#E5ECF6\", \"polar\": {\"angularaxis\": {\"gridcolor\": \"white\", \"linecolor\": \"white\", \"ticks\": \"\"}, \"bgcolor\": \"#E5ECF6\", \"radialaxis\": {\"gridcolor\": \"white\", \"linecolor\": \"white\", \"ticks\": \"\"}}, \"scene\": {\"xaxis\": {\"backgroundcolor\": \"#E5ECF6\", \"gridcolor\": \"white\", \"gridwidth\": 2, \"linecolor\": \"white\", \"showbackground\": true, \"ticks\": \"\", \"zerolinecolor\": \"white\"}, \"yaxis\": {\"backgroundcolor\": \"#E5ECF6\", \"gridcolor\": \"white\", \"gridwidth\": 2, \"linecolor\": \"white\", \"showbackground\": true, \"ticks\": \"\", \"zerolinecolor\": \"white\"}, \"zaxis\": {\"backgroundcolor\": \"#E5ECF6\", \"gridcolor\": \"white\", \"gridwidth\": 2, \"linecolor\": \"white\", \"showbackground\": true, \"ticks\": \"\", \"zerolinecolor\": \"white\"}}, \"shapedefaults\": {\"line\": {\"color\": \"#2a3f5f\"}}, \"ternary\": {\"aaxis\": {\"gridcolor\": \"white\", \"linecolor\": \"white\", \"ticks\": \"\"}, \"baxis\": {\"gridcolor\": \"white\", \"linecolor\": \"white\", \"ticks\": \"\"}, \"bgcolor\": \"#E5ECF6\", \"caxis\": {\"gridcolor\": \"white\", \"linecolor\": \"white\", \"ticks\": \"\"}}, \"title\": {\"x\": 0.05}, \"xaxis\": {\"automargin\": true, \"gridcolor\": \"white\", \"linecolor\": \"white\", \"ticks\": \"\", \"title\": {\"standoff\": 15}, \"zerolinecolor\": \"white\", \"zerolinewidth\": 2}, \"yaxis\": {\"automargin\": true, \"gridcolor\": \"white\", \"linecolor\": \"white\", \"ticks\": \"\", \"title\": {\"standoff\": 15}, \"zerolinecolor\": \"white\", \"zerolinewidth\": 2}}}, \"xaxis\": {\"anchor\": \"y\", \"domain\": [0.0, 1.0], \"title\": {\"text\": \"Date\"}}, \"xaxis2\": {\"anchor\": \"y2\", \"domain\": [0.0, 1.0]}, \"yaxis\": {\"anchor\": \"x\", \"domain\": [0.625, 1.0], \"title\": {\"text\": \"Recovery Rate\"}}, \"yaxis2\": {\"anchor\": \"x2\", \"domain\": [0.0, 0.375]}},                        {\"responsive\": true}                    ).then(function(){\n",
       "                            \n",
       "var gd = document.getElementById('ba58afcf-d976-407f-bd66-f09bce57288e');\n",
       "var x = new MutationObserver(function (mutations, observer) {{\n",
       "        var display = window.getComputedStyle(gd).display;\n",
       "        if (!display || display === 'none') {{\n",
       "            console.log([gd, 'removed!']);\n",
       "            Plotly.purge(gd);\n",
       "            observer.disconnect();\n",
       "        }}\n",
       "}});\n",
       "\n",
       "// Listen for the removal of the full notebook cells\n",
       "var notebookContainer = gd.closest('#notebook-container');\n",
       "if (notebookContainer) {{\n",
       "    x.observe(notebookContainer, {childList: true});\n",
       "}}\n",
       "\n",
       "// Listen for the clearing of the current output cell\n",
       "var outputEl = gd.closest('.output');\n",
       "if (outputEl) {{\n",
       "    x.observe(outputEl, {childList: true});\n",
       "}}\n",
       "\n",
       "                        })                };                });            </script>        </div>"
      ]
     },
     "metadata": {},
     "output_type": "display_data"
    }
   ],
   "source": [
    "#Mortality Rate and Recovery Rate Plot\n",
    "figure = make_subplots(rows = 2,cols = 1, subplot_titles =(\"Recovery Rate\", \"Mortality Rate\"))\n",
    "figure.add_trace(go.Scatter(x = grouped_date.index, y = (grouped_date[\"Recovered\"] / grouped_date[\"Confirmed\"]) * 100, name = \"Recovery Rate\"), row = 1, col = 1)\n",
    "figure.add_trace(go.Scatter(x = grouped_date.index, y = (grouped_date[\"Deaths\"]/grouped_date[\"Confirmed\"]) * 100, name = \"Mortality Rate\"), row = 2, col = 1)\n",
    "figure.update_layout( height = 1000, legend = dict(x = -0.1, y = 1.2, traceorder = \"normal\"))\n",
    "figure.update_xaxes(title_text = \"Date\", row = 1, col = 1)\n",
    "figure.update_yaxes(title_text = \"Recovery Rate\", row = 1, col = 1)\n",
    "figure.update_xaxes(title_text = \"Date\", row = 1, col = 2)\n",
    "figure.update_yaxes(title_text = \"Mortality Rate\", row = 1, col = 2)\n",
    "figure.show()"
   ]
  },
  {
   "cell_type": "markdown",
   "metadata": {
    "papermill": {
     "duration": 0.031314,
     "end_time": "2021-01-14T18:16:23.616914",
     "exception": false,
     "start_time": "2021-01-14T18:16:23.585600",
     "status": "completed"
    },
    "tags": []
   },
   "source": [
    "We know that the number of closed cases is the sum of recovered cases and death cases. From the end of March, we can see a steady increase in recovery rates, and from the end of April we can see a decrease in mortality rate, both of which reflecting a positive change in survival and both changes leading to an increase in the number of closed cases. "
   ]
  },
  {
   "cell_type": "code",
   "execution_count": 16,
   "metadata": {
    "execution": {
     "iopub.execute_input": "2021-01-14T18:16:23.690013Z",
     "iopub.status.busy": "2021-01-14T18:16:23.689180Z",
     "iopub.status.idle": "2021-01-14T18:16:23.694104Z",
     "shell.execute_reply": "2021-01-14T18:16:23.695429Z"
    },
    "papermill": {
     "duration": 0.047488,
     "end_time": "2021-01-14T18:16:23.695854",
     "exception": false,
     "start_time": "2021-01-14T18:16:23.648366",
     "status": "completed"
    },
    "tags": []
   },
   "outputs": [
    {
     "name": "stdout",
     "output_type": "stream",
     "text": [
      "Average increase in the number of cases every day: 209604.0\n",
      "Average increase in the number of recovered cases every day: 134699.0\n",
      "Average increase in the number of death cases every day: 4800.0\n"
     ]
    }
   ],
   "source": [
    "#Calculating the average change in the number of total cases from day to day\n",
    "print(\"Average increase in the number of cases every day:\" , np.round(grouped_date[\"Confirmed\"].diff().fillna(0).mean()))\n",
    "\n",
    "#Calculating the average change in the number of recovered cases from day to day\n",
    "print(\"Average increase in the number of recovered cases every day:\", np.round(grouped_date[\"Recovered\"].diff().fillna(0).mean()))\n",
    "\n",
    "#Calculating the average change in the number of deaths from day to day\n",
    "print(\"Average increase in the number of death cases every day:\", np.round(grouped_date[\"Deaths\"].diff().fillna(0).mean()))\n",
    "\n"
   ]
  },
  {
   "cell_type": "code",
   "execution_count": 17,
   "metadata": {
    "execution": {
     "iopub.execute_input": "2021-01-14T18:16:23.782086Z",
     "iopub.status.busy": "2021-01-14T18:16:23.781406Z",
     "iopub.status.idle": "2021-01-14T18:16:23.829553Z",
     "shell.execute_reply": "2021-01-14T18:16:23.830015Z"
    },
    "papermill": {
     "duration": 0.094459,
     "end_time": "2021-01-14T18:16:23.830159",
     "exception": false,
     "start_time": "2021-01-14T18:16:23.735700",
     "status": "completed"
    },
    "tags": []
   },
   "outputs": [
    {
     "data": {
      "text/html": [
       "<div>                            <div id=\"c3d44473-3bda-452a-af46-3b308e5033bb\" class=\"plotly-graph-div\" style=\"height:525px; width:100%;\"></div>            <script type=\"text/javascript\">                require([\"plotly\"], function(Plotly) {                    window.PLOTLYENV=window.PLOTLYENV || {};                                    if (document.getElementById(\"c3d44473-3bda-452a-af46-3b308e5033bb\")) {                    Plotly.newPlot(                        \"c3d44473-3bda-452a-af46-3b308e5033bb\",                        [{\"mode\": \"lines+markers\", \"name\": \"Confirmed Cases\", \"type\": \"scatter\", \"x\": [\"2020-01-22T00:00:00\", \"2020-01-23T00:00:00\", \"2020-01-24T00:00:00\", \"2020-01-25T00:00:00\", \"2020-01-26T00:00:00\", \"2020-01-27T00:00:00\", \"2020-01-28T00:00:00\", \"2020-01-29T00:00:00\", \"2020-01-30T00:00:00\", \"2020-01-31T00:00:00\", \"2020-02-01T00:00:00\", \"2020-02-02T00:00:00\", \"2020-02-03T00:00:00\", \"2020-02-04T00:00:00\", \"2020-02-05T00:00:00\", \"2020-02-06T00:00:00\", \"2020-02-07T00:00:00\", \"2020-02-08T00:00:00\", \"2020-02-09T00:00:00\", \"2020-02-10T00:00:00\", \"2020-02-11T00:00:00\", \"2020-02-12T00:00:00\", \"2020-02-13T00:00:00\", \"2020-02-14T00:00:00\", \"2020-02-15T00:00:00\", \"2020-02-16T00:00:00\", \"2020-02-17T00:00:00\", \"2020-02-18T00:00:00\", \"2020-02-19T00:00:00\", \"2020-02-20T00:00:00\", \"2020-02-21T00:00:00\", \"2020-02-22T00:00:00\", \"2020-02-23T00:00:00\", \"2020-02-24T00:00:00\", \"2020-02-25T00:00:00\", \"2020-02-26T00:00:00\", \"2020-02-27T00:00:00\", \"2020-02-28T00:00:00\", \"2020-02-29T00:00:00\", \"2020-03-01T00:00:00\", \"2020-03-02T00:00:00\", \"2020-03-03T00:00:00\", \"2020-03-04T00:00:00\", \"2020-03-05T00:00:00\", \"2020-03-06T00:00:00\", \"2020-03-07T00:00:00\", \"2020-03-08T00:00:00\", \"2020-03-09T00:00:00\", \"2020-03-10T00:00:00\", \"2020-03-11T00:00:00\", \"2020-03-12T00:00:00\", \"2020-03-13T00:00:00\", \"2020-03-14T00:00:00\", \"2020-03-15T00:00:00\", \"2020-03-16T00:00:00\", \"2020-03-17T00:00:00\", \"2020-03-18T00:00:00\", \"2020-03-19T00:00:00\", \"2020-03-20T00:00:00\", \"2020-03-21T00:00:00\", \"2020-03-22T00:00:00\", \"2020-03-23T00:00:00\", \"2020-03-24T00:00:00\", \"2020-03-25T00:00:00\", \"2020-03-26T00:00:00\", \"2020-03-27T00:00:00\", \"2020-03-28T00:00:00\", \"2020-03-29T00:00:00\", \"2020-03-30T00:00:00\", \"2020-03-31T00:00:00\", \"2020-04-01T00:00:00\", \"2020-04-02T00:00:00\", \"2020-04-03T00:00:00\", \"2020-04-04T00:00:00\", \"2020-04-05T00:00:00\", \"2020-04-06T00:00:00\", \"2020-04-07T00:00:00\", \"2020-04-08T00:00:00\", \"2020-04-09T00:00:00\", \"2020-04-10T00:00:00\", \"2020-04-11T00:00:00\", \"2020-04-12T00:00:00\", \"2020-04-13T00:00:00\", \"2020-04-14T00:00:00\", \"2020-04-15T00:00:00\", \"2020-04-16T00:00:00\", \"2020-04-17T00:00:00\", \"2020-04-18T00:00:00\", \"2020-04-19T00:00:00\", \"2020-04-20T00:00:00\", \"2020-04-21T00:00:00\", \"2020-04-22T00:00:00\", \"2020-04-23T00:00:00\", \"2020-04-24T00:00:00\", \"2020-04-25T00:00:00\", \"2020-04-26T00:00:00\", \"2020-04-27T00:00:00\", \"2020-04-28T00:00:00\", \"2020-04-29T00:00:00\", \"2020-04-30T00:00:00\", \"2020-05-01T00:00:00\", \"2020-05-02T00:00:00\", \"2020-05-03T00:00:00\", \"2020-05-04T00:00:00\", \"2020-05-05T00:00:00\", \"2020-05-06T00:00:00\", \"2020-05-07T00:00:00\", \"2020-05-08T00:00:00\", \"2020-05-09T00:00:00\", \"2020-05-10T00:00:00\", \"2020-05-11T00:00:00\", \"2020-05-12T00:00:00\", \"2020-05-13T00:00:00\", \"2020-05-14T00:00:00\", \"2020-05-15T00:00:00\", \"2020-05-16T00:00:00\", \"2020-05-17T00:00:00\", \"2020-05-18T00:00:00\", \"2020-05-19T00:00:00\", \"2020-05-20T00:00:00\", \"2020-05-21T00:00:00\", \"2020-05-22T00:00:00\", \"2020-05-23T00:00:00\", \"2020-05-24T00:00:00\", \"2020-05-25T00:00:00\", \"2020-05-26T00:00:00\", \"2020-05-27T00:00:00\", \"2020-05-28T00:00:00\", \"2020-05-29T00:00:00\", \"2020-05-30T00:00:00\", \"2020-05-31T00:00:00\", \"2020-06-01T00:00:00\", \"2020-06-02T00:00:00\", \"2020-06-03T00:00:00\", \"2020-06-04T00:00:00\", \"2020-06-05T00:00:00\", \"2020-06-06T00:00:00\", \"2020-06-07T00:00:00\", \"2020-06-08T00:00:00\", \"2020-06-09T00:00:00\", \"2020-06-10T00:00:00\", \"2020-06-11T00:00:00\", \"2020-06-12T00:00:00\", \"2020-06-13T00:00:00\", \"2020-06-14T00:00:00\", \"2020-06-15T00:00:00\", \"2020-06-16T00:00:00\", \"2020-06-17T00:00:00\", \"2020-06-18T00:00:00\", \"2020-06-19T00:00:00\", \"2020-06-20T00:00:00\", \"2020-06-21T00:00:00\", \"2020-06-22T00:00:00\", \"2020-06-23T00:00:00\", \"2020-06-24T00:00:00\", \"2020-06-25T00:00:00\", \"2020-06-26T00:00:00\", \"2020-06-27T00:00:00\", \"2020-06-28T00:00:00\", \"2020-06-29T00:00:00\", \"2020-06-30T00:00:00\", \"2020-07-01T00:00:00\", \"2020-07-02T00:00:00\", \"2020-07-03T00:00:00\", \"2020-07-04T00:00:00\", \"2020-07-05T00:00:00\", \"2020-07-06T00:00:00\", \"2020-07-07T00:00:00\", \"2020-07-08T00:00:00\", \"2020-07-09T00:00:00\", \"2020-07-10T00:00:00\", \"2020-07-11T00:00:00\", \"2020-07-12T00:00:00\", \"2020-07-13T00:00:00\", \"2020-07-14T00:00:00\", \"2020-07-15T00:00:00\", \"2020-07-16T00:00:00\", \"2020-07-17T00:00:00\", \"2020-07-18T00:00:00\", \"2020-07-19T00:00:00\", \"2020-07-20T00:00:00\", \"2020-07-21T00:00:00\", \"2020-07-22T00:00:00\", \"2020-07-23T00:00:00\", \"2020-07-24T00:00:00\", \"2020-07-25T00:00:00\", \"2020-07-26T00:00:00\", \"2020-07-27T00:00:00\", \"2020-07-28T00:00:00\", \"2020-07-29T00:00:00\", \"2020-07-30T00:00:00\", \"2020-07-31T00:00:00\", \"2020-08-01T00:00:00\", \"2020-08-02T00:00:00\", \"2020-08-03T00:00:00\", \"2020-08-04T00:00:00\", \"2020-08-05T00:00:00\", \"2020-08-06T00:00:00\", \"2020-08-07T00:00:00\", \"2020-08-08T00:00:00\", \"2020-08-09T00:00:00\", \"2020-08-10T00:00:00\", \"2020-08-11T00:00:00\", \"2020-08-12T00:00:00\", \"2020-08-13T00:00:00\", \"2020-08-14T00:00:00\", \"2020-08-15T00:00:00\", \"2020-08-16T00:00:00\", \"2020-08-17T00:00:00\", \"2020-08-18T00:00:00\", \"2020-08-19T00:00:00\", \"2020-08-20T00:00:00\", \"2020-08-21T00:00:00\", \"2020-08-22T00:00:00\", \"2020-08-23T00:00:00\", \"2020-08-24T00:00:00\", \"2020-08-25T00:00:00\", \"2020-08-26T00:00:00\", \"2020-08-27T00:00:00\", \"2020-08-28T00:00:00\", \"2020-08-29T00:00:00\", \"2020-08-30T00:00:00\", \"2020-08-31T00:00:00\", \"2020-09-01T00:00:00\", \"2020-09-02T00:00:00\", \"2020-09-03T00:00:00\", \"2020-09-04T00:00:00\", \"2020-09-05T00:00:00\", \"2020-09-06T00:00:00\", \"2020-09-07T00:00:00\", \"2020-09-08T00:00:00\", \"2020-09-09T00:00:00\", \"2020-09-10T00:00:00\", \"2020-09-11T00:00:00\", \"2020-09-12T00:00:00\", \"2020-09-13T00:00:00\", \"2020-09-14T00:00:00\", \"2020-09-15T00:00:00\", \"2020-09-16T00:00:00\", \"2020-09-17T00:00:00\", \"2020-09-18T00:00:00\", \"2020-09-19T00:00:00\", \"2020-09-20T00:00:00\", \"2020-09-21T00:00:00\", \"2020-09-22T00:00:00\", \"2020-09-23T00:00:00\", \"2020-09-24T00:00:00\", \"2020-09-25T00:00:00\", \"2020-09-26T00:00:00\", \"2020-09-27T00:00:00\", \"2020-09-28T00:00:00\", \"2020-09-29T00:00:00\", \"2020-09-30T00:00:00\", \"2020-10-01T00:00:00\", \"2020-10-02T00:00:00\", \"2020-10-03T00:00:00\", \"2020-10-04T00:00:00\", \"2020-10-05T00:00:00\", \"2020-10-06T00:00:00\", \"2020-10-07T00:00:00\", \"2020-10-08T00:00:00\", \"2020-10-09T00:00:00\", \"2020-10-10T00:00:00\", \"2020-10-11T00:00:00\", \"2020-10-12T00:00:00\", \"2020-10-13T00:00:00\", \"2020-10-14T00:00:00\", \"2020-10-15T00:00:00\", \"2020-10-16T00:00:00\", \"2020-10-17T00:00:00\", \"2020-10-18T00:00:00\", \"2020-10-19T00:00:00\", \"2020-10-20T00:00:00\", \"2020-10-21T00:00:00\", \"2020-10-22T00:00:00\", \"2020-10-23T00:00:00\", \"2020-10-24T00:00:00\", \"2020-10-25T00:00:00\", \"2020-10-26T00:00:00\", \"2020-10-27T00:00:00\", \"2020-10-28T00:00:00\", \"2020-10-29T00:00:00\", \"2020-10-30T00:00:00\", \"2020-10-31T00:00:00\", \"2020-11-01T00:00:00\", \"2020-11-02T00:00:00\", \"2020-11-03T00:00:00\", \"2020-11-04T00:00:00\", \"2020-11-05T00:00:00\", \"2020-11-06T00:00:00\", \"2020-11-07T00:00:00\", \"2020-11-08T00:00:00\", \"2020-11-09T00:00:00\", \"2020-11-10T00:00:00\", \"2020-11-11T00:00:00\", \"2020-11-12T00:00:00\", \"2020-11-13T00:00:00\", \"2020-11-14T00:00:00\", \"2020-11-15T00:00:00\", \"2020-11-16T00:00:00\", \"2020-11-17T00:00:00\", \"2020-11-18T00:00:00\", \"2020-11-19T00:00:00\", \"2020-11-20T00:00:00\", \"2020-11-21T00:00:00\", \"2020-11-22T00:00:00\", \"2020-11-23T00:00:00\", \"2020-11-24T00:00:00\", \"2020-11-25T00:00:00\", \"2020-11-26T00:00:00\", \"2020-11-27T00:00:00\", \"2020-11-28T00:00:00\", \"2020-11-29T00:00:00\", \"2020-11-30T00:00:00\", \"2020-12-01T00:00:00\", \"2020-12-02T00:00:00\", \"2020-12-03T00:00:00\", \"2020-12-04T00:00:00\", \"2020-12-05T00:00:00\", \"2020-12-06T00:00:00\"], \"y\": [0.0, 98.0, 288.0, 497.0, 680.0, 809.0, 2651.0, 587.0, 2070.0, 1690.0, 2113.0, 4749.0, 3094.0, 4011.0, 3744.0, 3182.0, 3574.0, 2729.0, 3030.0, 2612.0, 2040.0, 419.0, 15148.0, 6517.0, 2145.0, 2194.0, 2034.0, 1878.0, 503.0, 558.0, 644.0, 1756.0, 386.0, 585.0, 845.0, 982.0, 1359.0, 1370.0, 1886.0, 2356.0, 1943.0, 2537.0, 2279.0, 2763.0, 3913.0, 4040.0, 3988.0, 3753.0, 5014.0, 7252.0, 2479.0, 16856.0, 10901.0, 11325.0, 14165.0, 15635.0, 17773.0, 27691.0, 29596.0, 32415.0, 32651.0, 41159.0, 39617.0, 49682.0, 62134.0, 63826.0, 67324.0, 59300.0, 62398.0, 75146.0, 75099.0, 80661.0, 82640.0, 101519.0, 74712.0, 72962.0, 81040.0, 85369.0, 83958.0, 96246.0, 79745.0, 75284.0, 70655.0, 58784.0, 79876.0, 96509.0, 87481.0, 77652.0, 83678.0, 70955.0, 77029.0, 74433.0, 84791.0, 101845.0, 86176.0, 74462.0, 70317.0, 74632.0, 77568.0, 62871.0, 86939.0, 83519.0, 79381.0, 76343.0, 79649.0, 92680.0, 90368.0, 92302.0, 85943.0, 77722.0, 75836.0, 84696.0, 84867.0, 95070.0, 100247.0, 91726.0, 79778.0, 88312.0, 95661.0, 98788.0, 106007.0, 108389.0, 99495.0, 97180.0, 87542.0, 94580.0, 102166.0, 117143.0, 115378.0, 135001.0, 107660.0, 98563.0, 120593.0, 122384.0, 124479.0, 137529.0, 126467.0, 113635.0, 108446.0, 123451.0, 118246.0, 154076.0, 118454.0, 134262.0, 133777.0, 133200.0, 139433.0, 176628.0, 138849.0, 179290.0, 123043.0, 163679.0, 143353.0, 165368.0, 167155.0, 179253.0, 191878.0, 176866.0, 168033.0, 155276.0, 173636.0, 216872.0, 178044.0, 204400.0, 192016.0, 182138.0, 170688.0, 210069.0, 212435.0, 226638.0, 231381.0, 218264.0, 192805.0, 193382.0, 219862.0, 231648.0, 249675.0, 250252.0, 237004.0, 214365.0, 200279.0, 239655.0, 281114.0, 282768.0, 281942.0, 253716.0, 205963.0, 234389.0, 203879.0, 338189.0, 280768.0, 291575.0, 250721.0, 231994.0, 203407.0, 258955.0, 273984.0, 286639.0, 282996.0, 259363.0, 226370.0, 226969.0, 254469.0, 288952.0, 276046.0, 304384.0, 250673.0, 214191.0, 210492.0, 256012.0, 274957.0, 267906.0, 271693.0, 254344.0, 217939.0, 226076.0, 243248.0, 287416.0, 275461.0, 284057.0, 262553.0, 226926.0, 262433.0, 265446.0, 282546.0, 273707.0, 305897.0, 262050.0, 232477.0, 228771.0, 238455.0, 294262.0, 298334.0, 320848.0, 276704.0, 236317.0, 196233.0, 369312.0, 303172.0, 315018.0, 325488.0, 279851.0, 242645.0, 299292.0, 284740.0, 262119.0, 364080.0, 335460.0, 274629.0, 244011.0, 272890.0, 286636.0, 327074.0, 312328.0, 305170.0, 301964.0, 263570.0, 325229.0, 330114.0, 348416.0, 361920.0, 360396.0, 329715.0, 271210.0, 325079.0, 328731.0, 381058.0, 407555.0, 410885.0, 340919.0, 286966.0, 448388.0, 388799.0, 443648.0, 472701.0, 505236.0, 410028.0, 392570.0, 492350.0, 470494.0, 516142.0, 538923.0, 565577.0, 485859.0, 441291.0, 450284.0, 479459.0, 684888.0, 593968.0, 642595.0, 511285.0, 565691.0, 467905.0, 560867.0, 645408.0, 647336.0, 649123.0, 593937.0, 473653.0, 528314.0, 608968.0, 624071.0, 650767.0, 665858.0, 586335.0, 484273.0, 521699.0, 588303.0, 633045.0, 581314.0, 672317.0, 598701.0, 486714.0, 505910.0, 604959.0, 646532.0, 690523.0, 678401.0, 640593.0, 533694.0]}, {\"mode\": \"lines+markers\", \"name\": \"Recovered Cases\", \"type\": \"scatter\", \"x\": [\"2020-01-22T00:00:00\", \"2020-01-23T00:00:00\", \"2020-01-24T00:00:00\", \"2020-01-25T00:00:00\", \"2020-01-26T00:00:00\", \"2020-01-27T00:00:00\", \"2020-01-28T00:00:00\", \"2020-01-29T00:00:00\", \"2020-01-30T00:00:00\", \"2020-01-31T00:00:00\", \"2020-02-01T00:00:00\", \"2020-02-02T00:00:00\", \"2020-02-03T00:00:00\", \"2020-02-04T00:00:00\", \"2020-02-05T00:00:00\", \"2020-02-06T00:00:00\", \"2020-02-07T00:00:00\", \"2020-02-08T00:00:00\", \"2020-02-09T00:00:00\", \"2020-02-10T00:00:00\", \"2020-02-11T00:00:00\", \"2020-02-12T00:00:00\", \"2020-02-13T00:00:00\", \"2020-02-14T00:00:00\", \"2020-02-15T00:00:00\", \"2020-02-16T00:00:00\", \"2020-02-17T00:00:00\", \"2020-02-18T00:00:00\", \"2020-02-19T00:00:00\", \"2020-02-20T00:00:00\", \"2020-02-21T00:00:00\", \"2020-02-22T00:00:00\", \"2020-02-23T00:00:00\", \"2020-02-24T00:00:00\", \"2020-02-25T00:00:00\", \"2020-02-26T00:00:00\", \"2020-02-27T00:00:00\", \"2020-02-28T00:00:00\", \"2020-02-29T00:00:00\", \"2020-03-01T00:00:00\", \"2020-03-02T00:00:00\", \"2020-03-03T00:00:00\", \"2020-03-04T00:00:00\", \"2020-03-05T00:00:00\", \"2020-03-06T00:00:00\", \"2020-03-07T00:00:00\", \"2020-03-08T00:00:00\", \"2020-03-09T00:00:00\", \"2020-03-10T00:00:00\", \"2020-03-11T00:00:00\", \"2020-03-12T00:00:00\", \"2020-03-13T00:00:00\", \"2020-03-14T00:00:00\", \"2020-03-15T00:00:00\", \"2020-03-16T00:00:00\", \"2020-03-17T00:00:00\", \"2020-03-18T00:00:00\", \"2020-03-19T00:00:00\", \"2020-03-20T00:00:00\", \"2020-03-21T00:00:00\", \"2020-03-22T00:00:00\", \"2020-03-23T00:00:00\", \"2020-03-24T00:00:00\", \"2020-03-25T00:00:00\", \"2020-03-26T00:00:00\", \"2020-03-27T00:00:00\", \"2020-03-28T00:00:00\", \"2020-03-29T00:00:00\", \"2020-03-30T00:00:00\", \"2020-03-31T00:00:00\", \"2020-04-01T00:00:00\", \"2020-04-02T00:00:00\", \"2020-04-03T00:00:00\", \"2020-04-04T00:00:00\", \"2020-04-05T00:00:00\", \"2020-04-06T00:00:00\", \"2020-04-07T00:00:00\", \"2020-04-08T00:00:00\", \"2020-04-09T00:00:00\", \"2020-04-10T00:00:00\", \"2020-04-11T00:00:00\", \"2020-04-12T00:00:00\", \"2020-04-13T00:00:00\", \"2020-04-14T00:00:00\", \"2020-04-15T00:00:00\", \"2020-04-16T00:00:00\", \"2020-04-17T00:00:00\", \"2020-04-18T00:00:00\", \"2020-04-19T00:00:00\", \"2020-04-20T00:00:00\", \"2020-04-21T00:00:00\", \"2020-04-22T00:00:00\", \"2020-04-23T00:00:00\", \"2020-04-24T00:00:00\", \"2020-04-25T00:00:00\", \"2020-04-26T00:00:00\", \"2020-04-27T00:00:00\", \"2020-04-28T00:00:00\", \"2020-04-29T00:00:00\", \"2020-04-30T00:00:00\", \"2020-05-01T00:00:00\", \"2020-05-02T00:00:00\", \"2020-05-03T00:00:00\", \"2020-05-04T00:00:00\", \"2020-05-05T00:00:00\", \"2020-05-06T00:00:00\", \"2020-05-07T00:00:00\", \"2020-05-08T00:00:00\", \"2020-05-09T00:00:00\", \"2020-05-10T00:00:00\", \"2020-05-11T00:00:00\", \"2020-05-12T00:00:00\", \"2020-05-13T00:00:00\", \"2020-05-14T00:00:00\", \"2020-05-15T00:00:00\", \"2020-05-16T00:00:00\", \"2020-05-17T00:00:00\", \"2020-05-18T00:00:00\", \"2020-05-19T00:00:00\", \"2020-05-20T00:00:00\", \"2020-05-21T00:00:00\", \"2020-05-22T00:00:00\", \"2020-05-23T00:00:00\", \"2020-05-24T00:00:00\", \"2020-05-25T00:00:00\", \"2020-05-26T00:00:00\", \"2020-05-27T00:00:00\", \"2020-05-28T00:00:00\", \"2020-05-29T00:00:00\", \"2020-05-30T00:00:00\", \"2020-05-31T00:00:00\", \"2020-06-01T00:00:00\", \"2020-06-02T00:00:00\", \"2020-06-03T00:00:00\", \"2020-06-04T00:00:00\", \"2020-06-05T00:00:00\", \"2020-06-06T00:00:00\", \"2020-06-07T00:00:00\", \"2020-06-08T00:00:00\", \"2020-06-09T00:00:00\", \"2020-06-10T00:00:00\", \"2020-06-11T00:00:00\", \"2020-06-12T00:00:00\", \"2020-06-13T00:00:00\", \"2020-06-14T00:00:00\", \"2020-06-15T00:00:00\", \"2020-06-16T00:00:00\", \"2020-06-17T00:00:00\", \"2020-06-18T00:00:00\", \"2020-06-19T00:00:00\", \"2020-06-20T00:00:00\", \"2020-06-21T00:00:00\", \"2020-06-22T00:00:00\", \"2020-06-23T00:00:00\", \"2020-06-24T00:00:00\", \"2020-06-25T00:00:00\", \"2020-06-26T00:00:00\", \"2020-06-27T00:00:00\", \"2020-06-28T00:00:00\", \"2020-06-29T00:00:00\", \"2020-06-30T00:00:00\", \"2020-07-01T00:00:00\", \"2020-07-02T00:00:00\", \"2020-07-03T00:00:00\", \"2020-07-04T00:00:00\", \"2020-07-05T00:00:00\", \"2020-07-06T00:00:00\", \"2020-07-07T00:00:00\", \"2020-07-08T00:00:00\", \"2020-07-09T00:00:00\", \"2020-07-10T00:00:00\", \"2020-07-11T00:00:00\", \"2020-07-12T00:00:00\", \"2020-07-13T00:00:00\", \"2020-07-14T00:00:00\", \"2020-07-15T00:00:00\", \"2020-07-16T00:00:00\", \"2020-07-17T00:00:00\", \"2020-07-18T00:00:00\", \"2020-07-19T00:00:00\", \"2020-07-20T00:00:00\", \"2020-07-21T00:00:00\", \"2020-07-22T00:00:00\", \"2020-07-23T00:00:00\", \"2020-07-24T00:00:00\", \"2020-07-25T00:00:00\", \"2020-07-26T00:00:00\", \"2020-07-27T00:00:00\", \"2020-07-28T00:00:00\", \"2020-07-29T00:00:00\", \"2020-07-30T00:00:00\", \"2020-07-31T00:00:00\", \"2020-08-01T00:00:00\", \"2020-08-02T00:00:00\", \"2020-08-03T00:00:00\", \"2020-08-04T00:00:00\", \"2020-08-05T00:00:00\", \"2020-08-06T00:00:00\", \"2020-08-07T00:00:00\", \"2020-08-08T00:00:00\", \"2020-08-09T00:00:00\", \"2020-08-10T00:00:00\", \"2020-08-11T00:00:00\", \"2020-08-12T00:00:00\", \"2020-08-13T00:00:00\", \"2020-08-14T00:00:00\", \"2020-08-15T00:00:00\", \"2020-08-16T00:00:00\", \"2020-08-17T00:00:00\", \"2020-08-18T00:00:00\", \"2020-08-19T00:00:00\", \"2020-08-20T00:00:00\", \"2020-08-21T00:00:00\", \"2020-08-22T00:00:00\", \"2020-08-23T00:00:00\", \"2020-08-24T00:00:00\", \"2020-08-25T00:00:00\", \"2020-08-26T00:00:00\", \"2020-08-27T00:00:00\", \"2020-08-28T00:00:00\", \"2020-08-29T00:00:00\", \"2020-08-30T00:00:00\", \"2020-08-31T00:00:00\", \"2020-09-01T00:00:00\", \"2020-09-02T00:00:00\", \"2020-09-03T00:00:00\", \"2020-09-04T00:00:00\", \"2020-09-05T00:00:00\", \"2020-09-06T00:00:00\", \"2020-09-07T00:00:00\", \"2020-09-08T00:00:00\", \"2020-09-09T00:00:00\", \"2020-09-10T00:00:00\", \"2020-09-11T00:00:00\", \"2020-09-12T00:00:00\", \"2020-09-13T00:00:00\", \"2020-09-14T00:00:00\", \"2020-09-15T00:00:00\", \"2020-09-16T00:00:00\", \"2020-09-17T00:00:00\", \"2020-09-18T00:00:00\", \"2020-09-19T00:00:00\", \"2020-09-20T00:00:00\", \"2020-09-21T00:00:00\", \"2020-09-22T00:00:00\", \"2020-09-23T00:00:00\", \"2020-09-24T00:00:00\", \"2020-09-25T00:00:00\", \"2020-09-26T00:00:00\", \"2020-09-27T00:00:00\", \"2020-09-28T00:00:00\", \"2020-09-29T00:00:00\", \"2020-09-30T00:00:00\", \"2020-10-01T00:00:00\", \"2020-10-02T00:00:00\", \"2020-10-03T00:00:00\", \"2020-10-04T00:00:00\", \"2020-10-05T00:00:00\", \"2020-10-06T00:00:00\", \"2020-10-07T00:00:00\", \"2020-10-08T00:00:00\", \"2020-10-09T00:00:00\", \"2020-10-10T00:00:00\", \"2020-10-11T00:00:00\", \"2020-10-12T00:00:00\", \"2020-10-13T00:00:00\", \"2020-10-14T00:00:00\", \"2020-10-15T00:00:00\", \"2020-10-16T00:00:00\", \"2020-10-17T00:00:00\", \"2020-10-18T00:00:00\", \"2020-10-19T00:00:00\", \"2020-10-20T00:00:00\", \"2020-10-21T00:00:00\", \"2020-10-22T00:00:00\", \"2020-10-23T00:00:00\", \"2020-10-24T00:00:00\", \"2020-10-25T00:00:00\", \"2020-10-26T00:00:00\", \"2020-10-27T00:00:00\", \"2020-10-28T00:00:00\", \"2020-10-29T00:00:00\", \"2020-10-30T00:00:00\", \"2020-10-31T00:00:00\", \"2020-11-01T00:00:00\", \"2020-11-02T00:00:00\", \"2020-11-03T00:00:00\", \"2020-11-04T00:00:00\", \"2020-11-05T00:00:00\", \"2020-11-06T00:00:00\", \"2020-11-07T00:00:00\", \"2020-11-08T00:00:00\", \"2020-11-09T00:00:00\", \"2020-11-10T00:00:00\", \"2020-11-11T00:00:00\", \"2020-11-12T00:00:00\", \"2020-11-13T00:00:00\", \"2020-11-14T00:00:00\", \"2020-11-15T00:00:00\", \"2020-11-16T00:00:00\", \"2020-11-17T00:00:00\", \"2020-11-18T00:00:00\", \"2020-11-19T00:00:00\", \"2020-11-20T00:00:00\", \"2020-11-21T00:00:00\", \"2020-11-22T00:00:00\", \"2020-11-23T00:00:00\", \"2020-11-24T00:00:00\", \"2020-11-25T00:00:00\", \"2020-11-26T00:00:00\", \"2020-11-27T00:00:00\", \"2020-11-28T00:00:00\", \"2020-11-29T00:00:00\", \"2020-11-30T00:00:00\", \"2020-12-01T00:00:00\", \"2020-12-02T00:00:00\", \"2020-12-03T00:00:00\", \"2020-12-04T00:00:00\", \"2020-12-05T00:00:00\", \"2020-12-06T00:00:00\"], \"y\": [0.0, 2.0, 6.0, 3.0, 13.0, 9.0, 46.0, 19.0, 17.0, 79.0, 62.0, 188.0, 151.0, 229.0, 272.0, 363.0, 524.0, 605.0, 628.0, 702.0, 737.0, 467.0, 1145.0, 1763.0, 1337.0, 1470.0, 1718.0, 1769.0, 1769.0, 2056.0, 713.0, 3996.0, 508.0, 1833.0, 2678.0, 2479.0, 2892.0, 3434.0, 3071.0, 2934.0, 2886.0, 2627.0, 2942.0, 2626.0, 2068.0, 2493.0, 2336.0, 1817.0, 1890.0, 2599.0, 1321.0, 1928.0, 2373.0, 3410.0, 2054.0, 2747.0, 2476.0, 1654.0, 2440.0, 4252.0, 5571.0, 3718.0, 6734.0, 6066.0, 8382.0, 8774.0, 8505.0, 9645.0, 15497.0, 13468.0, 15411.0, 17097.0, 15538.0, 20382.0, 13913.0, 16514.0, 23474.0, 28708.0, 25219.0, 22103.0, 26007.0, 19624.0, 27024.0, 25589.0, 36662.0, 31184.0, 26304.0, 23916.0, 31694.0, 21999.0, 34039.0, 29578.0, 28748.0, 54967.0, 23197.0, 49184.0, 28313.0, 34628.0, 43927.0, 42159.0, 38448.0, 39566.0, 32302.0, 37461.0, 36035.0, 46691.0, 39352.0, 37168.0, 53511.0, 33549.0, 47107.0, 37220.0, 55187.0, 39307.0, 49253.0, 55949.0, 40861.0, 52885.0, 52077.0, 58530.0, 51220.0, 107858.0, 55418.0, 56460.0, 63152.0, 55168.0, 63081.0, 65881.0, 77514.0, 71163.0, 76702.0, 54704.0, 33512.0, 75442.0, 64994.0, 143198.0, 72712.0, 55092.0, 152523.0, 82254.0, 79189.0, 85873.0, 72599.0, 84997.0, 71442.0, 87681.0, 97850.0, 118826.0, 81155.0, 90657.0, 132511.0, 68781.0, 79248.0, 104040.0, 115723.0, 92822.0, 105907.0, 106225.0, 89114.0, 94927.0, 117476.0, 224400.0, 176381.0, 109827.0, 195646.0, 119477.0, 123698.0, 145029.0, 158015.0, 134672.0, 139449.0, 125768.0, 111806.0, 140388.0, 142149.0, 159814.0, 152394.0, 183475.0, 150771.0, 88016.0, 156900.0, 176763.0, 178758.0, 177395.0, 228303.0, 219811.0, 137930.0, 176751.0, 135172.0, 237888.0, 213514.0, 199604.0, 183898.0, 138716.0, 222446.0, 221227.0, 221692.0, 188808.0, 192046.0, 200253.0, 178747.0, 164190.0, 305067.0, 241511.0, 163040.0, 283231.0, 168611.0, 232950.0, 211011.0, 227619.0, 217999.0, 207793.0, 168497.0, 199070.0, 226976.0, 199410.0, 231487.0, 225637.0, 208501.0, 199584.0, 211385.0, 210205.0, 200780.0, 255237.0, 218087.0, 221355.0, 204433.0, 200527.0, 221316.0, 186471.0, 199646.0, 252712.0, 216626.0, 223656.0, 222931.0, 187834.0, 149174.0, 303984.0, 229482.0, 220188.0, 251140.0, 236979.0, 237048.0, 245444.0, 217893.0, 263415.0, 255643.0, 239217.0, 262150.0, 213856.0, 222518.0, 240042.0, 248199.0, 213306.0, 180544.0, 255612.0, 222131.0, 237435.0, 231120.0, 255193.0, 219573.0, 206867.0, 195426.0, 222624.0, 200268.0, 189213.0, 212306.0, 206867.0, 202991.0, 198318.0, 201409.0, 202408.0, 208169.0, 211461.0, 226786.0, 206828.0, 211566.0, 198038.0, 238256.0, 589722.0, 262649.0, 246657.0, -607812.0, 1129410.0, 257755.0, 280324.0, 251455.0, 279232.0, 303546.0, 288362.0, 299092.0, 252878.0, 256720.0, 257004.0, 380362.0, 225430.0, 302045.0, 278074.0, 229697.0, 388711.0, 434692.0, 363147.0, 373087.0, 355375.0, 339219.0, 272397.0, 410047.0, 371532.0, 436977.0, 365223.0, 376720.0, 355204.0, 326098.0, 401387.0, 475581.0, 461384.0, 435773.0, 419930.0, 437858.0, 313948.0]}, {\"mode\": \"lines+markers\", \"name\": \"Death Cases\", \"type\": \"scatter\", \"x\": [\"2020-01-22T00:00:00\", \"2020-01-23T00:00:00\", \"2020-01-24T00:00:00\", \"2020-01-25T00:00:00\", \"2020-01-26T00:00:00\", \"2020-01-27T00:00:00\", \"2020-01-28T00:00:00\", \"2020-01-29T00:00:00\", \"2020-01-30T00:00:00\", \"2020-01-31T00:00:00\", \"2020-02-01T00:00:00\", \"2020-02-02T00:00:00\", \"2020-02-03T00:00:00\", \"2020-02-04T00:00:00\", \"2020-02-05T00:00:00\", \"2020-02-06T00:00:00\", \"2020-02-07T00:00:00\", \"2020-02-08T00:00:00\", \"2020-02-09T00:00:00\", \"2020-02-10T00:00:00\", \"2020-02-11T00:00:00\", \"2020-02-12T00:00:00\", \"2020-02-13T00:00:00\", \"2020-02-14T00:00:00\", \"2020-02-15T00:00:00\", \"2020-02-16T00:00:00\", \"2020-02-17T00:00:00\", \"2020-02-18T00:00:00\", \"2020-02-19T00:00:00\", \"2020-02-20T00:00:00\", \"2020-02-21T00:00:00\", \"2020-02-22T00:00:00\", \"2020-02-23T00:00:00\", \"2020-02-24T00:00:00\", \"2020-02-25T00:00:00\", \"2020-02-26T00:00:00\", \"2020-02-27T00:00:00\", \"2020-02-28T00:00:00\", \"2020-02-29T00:00:00\", \"2020-03-01T00:00:00\", \"2020-03-02T00:00:00\", \"2020-03-03T00:00:00\", \"2020-03-04T00:00:00\", \"2020-03-05T00:00:00\", \"2020-03-06T00:00:00\", \"2020-03-07T00:00:00\", \"2020-03-08T00:00:00\", \"2020-03-09T00:00:00\", \"2020-03-10T00:00:00\", \"2020-03-11T00:00:00\", \"2020-03-12T00:00:00\", \"2020-03-13T00:00:00\", \"2020-03-14T00:00:00\", \"2020-03-15T00:00:00\", \"2020-03-16T00:00:00\", \"2020-03-17T00:00:00\", \"2020-03-18T00:00:00\", \"2020-03-19T00:00:00\", \"2020-03-20T00:00:00\", \"2020-03-21T00:00:00\", \"2020-03-22T00:00:00\", \"2020-03-23T00:00:00\", \"2020-03-24T00:00:00\", \"2020-03-25T00:00:00\", \"2020-03-26T00:00:00\", \"2020-03-27T00:00:00\", \"2020-03-28T00:00:00\", \"2020-03-29T00:00:00\", \"2020-03-30T00:00:00\", \"2020-03-31T00:00:00\", \"2020-04-01T00:00:00\", \"2020-04-02T00:00:00\", \"2020-04-03T00:00:00\", \"2020-04-04T00:00:00\", \"2020-04-05T00:00:00\", \"2020-04-06T00:00:00\", \"2020-04-07T00:00:00\", \"2020-04-08T00:00:00\", \"2020-04-09T00:00:00\", \"2020-04-10T00:00:00\", \"2020-04-11T00:00:00\", \"2020-04-12T00:00:00\", \"2020-04-13T00:00:00\", \"2020-04-14T00:00:00\", \"2020-04-15T00:00:00\", \"2020-04-16T00:00:00\", \"2020-04-17T00:00:00\", \"2020-04-18T00:00:00\", \"2020-04-19T00:00:00\", \"2020-04-20T00:00:00\", \"2020-04-21T00:00:00\", \"2020-04-22T00:00:00\", \"2020-04-23T00:00:00\", \"2020-04-24T00:00:00\", \"2020-04-25T00:00:00\", \"2020-04-26T00:00:00\", \"2020-04-27T00:00:00\", \"2020-04-28T00:00:00\", \"2020-04-29T00:00:00\", \"2020-04-30T00:00:00\", \"2020-05-01T00:00:00\", \"2020-05-02T00:00:00\", \"2020-05-03T00:00:00\", \"2020-05-04T00:00:00\", \"2020-05-05T00:00:00\", \"2020-05-06T00:00:00\", \"2020-05-07T00:00:00\", \"2020-05-08T00:00:00\", \"2020-05-09T00:00:00\", \"2020-05-10T00:00:00\", \"2020-05-11T00:00:00\", \"2020-05-12T00:00:00\", \"2020-05-13T00:00:00\", \"2020-05-14T00:00:00\", \"2020-05-15T00:00:00\", \"2020-05-16T00:00:00\", \"2020-05-17T00:00:00\", \"2020-05-18T00:00:00\", \"2020-05-19T00:00:00\", \"2020-05-20T00:00:00\", \"2020-05-21T00:00:00\", \"2020-05-22T00:00:00\", \"2020-05-23T00:00:00\", \"2020-05-24T00:00:00\", \"2020-05-25T00:00:00\", \"2020-05-26T00:00:00\", \"2020-05-27T00:00:00\", \"2020-05-28T00:00:00\", \"2020-05-29T00:00:00\", \"2020-05-30T00:00:00\", \"2020-05-31T00:00:00\", \"2020-06-01T00:00:00\", \"2020-06-02T00:00:00\", \"2020-06-03T00:00:00\", \"2020-06-04T00:00:00\", \"2020-06-05T00:00:00\", \"2020-06-06T00:00:00\", \"2020-06-07T00:00:00\", \"2020-06-08T00:00:00\", \"2020-06-09T00:00:00\", \"2020-06-10T00:00:00\", \"2020-06-11T00:00:00\", \"2020-06-12T00:00:00\", \"2020-06-13T00:00:00\", \"2020-06-14T00:00:00\", \"2020-06-15T00:00:00\", \"2020-06-16T00:00:00\", \"2020-06-17T00:00:00\", \"2020-06-18T00:00:00\", \"2020-06-19T00:00:00\", \"2020-06-20T00:00:00\", \"2020-06-21T00:00:00\", \"2020-06-22T00:00:00\", \"2020-06-23T00:00:00\", \"2020-06-24T00:00:00\", \"2020-06-25T00:00:00\", \"2020-06-26T00:00:00\", \"2020-06-27T00:00:00\", \"2020-06-28T00:00:00\", \"2020-06-29T00:00:00\", \"2020-06-30T00:00:00\", \"2020-07-01T00:00:00\", \"2020-07-02T00:00:00\", \"2020-07-03T00:00:00\", \"2020-07-04T00:00:00\", \"2020-07-05T00:00:00\", \"2020-07-06T00:00:00\", \"2020-07-07T00:00:00\", \"2020-07-08T00:00:00\", \"2020-07-09T00:00:00\", \"2020-07-10T00:00:00\", \"2020-07-11T00:00:00\", \"2020-07-12T00:00:00\", \"2020-07-13T00:00:00\", \"2020-07-14T00:00:00\", \"2020-07-15T00:00:00\", \"2020-07-16T00:00:00\", \"2020-07-17T00:00:00\", \"2020-07-18T00:00:00\", \"2020-07-19T00:00:00\", \"2020-07-20T00:00:00\", \"2020-07-21T00:00:00\", \"2020-07-22T00:00:00\", \"2020-07-23T00:00:00\", \"2020-07-24T00:00:00\", \"2020-07-25T00:00:00\", \"2020-07-26T00:00:00\", \"2020-07-27T00:00:00\", \"2020-07-28T00:00:00\", \"2020-07-29T00:00:00\", \"2020-07-30T00:00:00\", \"2020-07-31T00:00:00\", \"2020-08-01T00:00:00\", \"2020-08-02T00:00:00\", \"2020-08-03T00:00:00\", \"2020-08-04T00:00:00\", \"2020-08-05T00:00:00\", \"2020-08-06T00:00:00\", \"2020-08-07T00:00:00\", \"2020-08-08T00:00:00\", \"2020-08-09T00:00:00\", \"2020-08-10T00:00:00\", \"2020-08-11T00:00:00\", \"2020-08-12T00:00:00\", \"2020-08-13T00:00:00\", \"2020-08-14T00:00:00\", \"2020-08-15T00:00:00\", \"2020-08-16T00:00:00\", \"2020-08-17T00:00:00\", \"2020-08-18T00:00:00\", \"2020-08-19T00:00:00\", \"2020-08-20T00:00:00\", \"2020-08-21T00:00:00\", \"2020-08-22T00:00:00\", \"2020-08-23T00:00:00\", \"2020-08-24T00:00:00\", \"2020-08-25T00:00:00\", \"2020-08-26T00:00:00\", \"2020-08-27T00:00:00\", \"2020-08-28T00:00:00\", \"2020-08-29T00:00:00\", \"2020-08-30T00:00:00\", \"2020-08-31T00:00:00\", \"2020-09-01T00:00:00\", \"2020-09-02T00:00:00\", \"2020-09-03T00:00:00\", \"2020-09-04T00:00:00\", \"2020-09-05T00:00:00\", \"2020-09-06T00:00:00\", \"2020-09-07T00:00:00\", \"2020-09-08T00:00:00\", \"2020-09-09T00:00:00\", \"2020-09-10T00:00:00\", \"2020-09-11T00:00:00\", \"2020-09-12T00:00:00\", \"2020-09-13T00:00:00\", \"2020-09-14T00:00:00\", \"2020-09-15T00:00:00\", \"2020-09-16T00:00:00\", \"2020-09-17T00:00:00\", \"2020-09-18T00:00:00\", \"2020-09-19T00:00:00\", \"2020-09-20T00:00:00\", \"2020-09-21T00:00:00\", \"2020-09-22T00:00:00\", \"2020-09-23T00:00:00\", \"2020-09-24T00:00:00\", \"2020-09-25T00:00:00\", \"2020-09-26T00:00:00\", \"2020-09-27T00:00:00\", \"2020-09-28T00:00:00\", \"2020-09-29T00:00:00\", \"2020-09-30T00:00:00\", \"2020-10-01T00:00:00\", \"2020-10-02T00:00:00\", \"2020-10-03T00:00:00\", \"2020-10-04T00:00:00\", \"2020-10-05T00:00:00\", \"2020-10-06T00:00:00\", \"2020-10-07T00:00:00\", \"2020-10-08T00:00:00\", \"2020-10-09T00:00:00\", \"2020-10-10T00:00:00\", \"2020-10-11T00:00:00\", \"2020-10-12T00:00:00\", \"2020-10-13T00:00:00\", \"2020-10-14T00:00:00\", \"2020-10-15T00:00:00\", \"2020-10-16T00:00:00\", \"2020-10-17T00:00:00\", \"2020-10-18T00:00:00\", \"2020-10-19T00:00:00\", \"2020-10-20T00:00:00\", \"2020-10-21T00:00:00\", \"2020-10-22T00:00:00\", \"2020-10-23T00:00:00\", \"2020-10-24T00:00:00\", \"2020-10-25T00:00:00\", \"2020-10-26T00:00:00\", \"2020-10-27T00:00:00\", \"2020-10-28T00:00:00\", \"2020-10-29T00:00:00\", \"2020-10-30T00:00:00\", \"2020-10-31T00:00:00\", \"2020-11-01T00:00:00\", \"2020-11-02T00:00:00\", \"2020-11-03T00:00:00\", \"2020-11-04T00:00:00\", \"2020-11-05T00:00:00\", \"2020-11-06T00:00:00\", \"2020-11-07T00:00:00\", \"2020-11-08T00:00:00\", \"2020-11-09T00:00:00\", \"2020-11-10T00:00:00\", \"2020-11-11T00:00:00\", \"2020-11-12T00:00:00\", \"2020-11-13T00:00:00\", \"2020-11-14T00:00:00\", \"2020-11-15T00:00:00\", \"2020-11-16T00:00:00\", \"2020-11-17T00:00:00\", \"2020-11-18T00:00:00\", \"2020-11-19T00:00:00\", \"2020-11-20T00:00:00\", \"2020-11-21T00:00:00\", \"2020-11-22T00:00:00\", \"2020-11-23T00:00:00\", \"2020-11-24T00:00:00\", \"2020-11-25T00:00:00\", \"2020-11-26T00:00:00\", \"2020-11-27T00:00:00\", \"2020-11-28T00:00:00\", \"2020-11-29T00:00:00\", \"2020-11-30T00:00:00\", \"2020-12-01T00:00:00\", \"2020-12-02T00:00:00\", \"2020-12-03T00:00:00\", \"2020-12-04T00:00:00\", \"2020-12-05T00:00:00\", \"2020-12-06T00:00:00\"], \"y\": [0.0, 1.0, 8.0, 16.0, 14.0, 26.0, 49.0, 2.0, 38.0, 42.0, 46.0, 103.0, 64.0, 66.0, 72.0, 70.0, 85.0, 87.0, 100.0, 107.0, 100.0, 5.0, 253.0, 152.0, 143.0, 104.0, 98.0, 139.0, 115.0, 125.0, 4.0, 207.0, 11.0, 160.0, 79.0, 62.0, 44.0, 58.0, 69.0, 55.0, 89.0, 75.0, 94.0, 94.0, 112.0, 98.0, 245.0, 193.0, 266.0, 353.0, 105.0, 684.0, 415.0, 621.0, 686.0, 779.0, 828.0, 1134.0, 1430.0, 1676.0, 1650.0, 1874.0, 2119.0, 2565.0, 2790.0, 3226.0, 3456.0, 3274.0, 3657.0, 4526.0, 4705.0, 6169.0, 5808.0, 5820.0, 4773.0, 5190.0, 7304.0, 6472.0, 7101.0, 7086.0, 5965.0, 5602.0, 5379.0, 6511.0, 8200.0, 9611.0, 10022.0, 5685.0, 5533.0, 4943.0, 6600.0, 6481.0, 7790.0, 6298.0, 5693.0, 3700.0, 4621.0, 5986.0, 10486.0, 5747.0, 5263.0, 5157.0, 3663.0, 4067.0, 5700.0, 6592.0, 5736.0, 5332.0, 4414.0, 3397.0, 3620.0, 5635.0, 5232.0, 5222.0, 5247.0, 4117.0, 3404.0, 3295.0, 4804.0, 4831.0, 4809.0, 5236.0, 3938.0, 2963.0, 1172.0, 4221.0, 5179.0, 4677.0, 4559.0, 4259.0, 2908.0, 3511.0, 4840.0, 5564.0, 5189.0, 4987.0, 3879.0, 2743.0, 3799.0, 4892.0, 4766.0, 5256.0, 3937.0, 4343.0, 3332.0, 3832.0, 6787.0, 5272.0, 5025.0, 6233.0, 4247.0, 3899.0, 3802.0, 5414.0, 5172.0, 6561.0, 4868.0, 4545.0, 3177.0, 3610.0, 5747.0, 4960.0, 5083.0, 5114.0, 4346.0, 3513.0, 3799.0, 6103.0, 5309.0, 5453.0, 5286.0, 4932.0, 3988.0, 3904.0, 5631.0, 5465.0, 5797.0, 6608.0, 5624.0, 4031.0, 3728.0, 6556.0, 6996.0, 9960.0, 6249.0, 5598.0, 3396.0, 5452.0, 5566.0, 7395.0, 6202.0, 6323.0, 5560.0, 4312.0, 4631.0, 6747.0, 7046.0, 7129.0, 6393.0, 5464.0, 4564.0, 5154.0, 6233.0, 6981.0, 5986.0, 10132.0, 5383.0, 4205.0, -1202.0, 6887.0, 6722.0, 6034.0, 5512.0, 5180.0, 4258.0, 4471.0, 6278.0, 6280.0, 5900.0, 5536.0, 5254.0, 4032.0, 4151.0, 6454.0, 6090.0, 5719.0, 5650.0, 4945.0, 4048.0, 9120.0, 4899.0, 6359.0, 5794.0, 5886.0, 4885.0, 3653.0, 3387.0, 7579.0, 5813.0, 5469.0, 5700.0, 5237.0, 3696.0, 4131.0, 6009.0, 5582.0, 6694.0, 5900.0, 5284.0, 3614.0, 3913.0, 6080.0, 6441.0, 8543.0, 5145.0, 5345.0, 3770.0, 6991.0, 5770.0, 5835.0, 6199.0, 6153.0, 4807.0, 3908.0, 3920.0, 5448.0, 6040.0, 6094.0, 6129.0, 5470.0, 3365.0, 4965.0, 6570.0, 6644.0, 5862.0, 6975.0, 5630.0, 4092.0, 5586.0, 7372.0, 7157.0, 7029.0, 7824.0, 6554.0, 4943.0, 5716.0, 8120.0, 11502.0, 8036.0, 9640.0, 7562.0, 5740.0, 7108.0, 10026.0, 10443.0, 9949.0, 9553.0, 8992.0, 6260.0, 7839.0, 11108.0, 11327.0, 10981.0, 11838.0, 8784.0, 7060.0, 8314.0, 12778.0, 12057.0, 10741.0, 10621.0, 9742.0, 6919.0, 8687.0, 12848.0, 12436.0, 12518.0, 12410.0, 10198.0, 7188.0]}],                        {\"legend\": {\"traceorder\": \"normal\", \"x\": 0, \"y\": 1}, \"template\": {\"data\": {\"bar\": [{\"error_x\": {\"color\": \"#2a3f5f\"}, \"error_y\": {\"color\": \"#2a3f5f\"}, \"marker\": {\"line\": {\"color\": \"#E5ECF6\", \"width\": 0.5}}, \"type\": \"bar\"}], \"barpolar\": [{\"marker\": {\"line\": {\"color\": \"#E5ECF6\", \"width\": 0.5}}, \"type\": \"barpolar\"}], \"carpet\": [{\"aaxis\": {\"endlinecolor\": \"#2a3f5f\", \"gridcolor\": \"white\", \"linecolor\": \"white\", \"minorgridcolor\": \"white\", \"startlinecolor\": \"#2a3f5f\"}, \"baxis\": {\"endlinecolor\": \"#2a3f5f\", \"gridcolor\": \"white\", \"linecolor\": \"white\", \"minorgridcolor\": \"white\", \"startlinecolor\": \"#2a3f5f\"}, \"type\": \"carpet\"}], \"choropleth\": [{\"colorbar\": {\"outlinewidth\": 0, \"ticks\": \"\"}, \"type\": \"choropleth\"}], \"contour\": [{\"colorbar\": {\"outlinewidth\": 0, \"ticks\": \"\"}, \"colorscale\": [[0.0, \"#0d0887\"], [0.1111111111111111, \"#46039f\"], [0.2222222222222222, \"#7201a8\"], [0.3333333333333333, \"#9c179e\"], [0.4444444444444444, \"#bd3786\"], [0.5555555555555556, \"#d8576b\"], [0.6666666666666666, \"#ed7953\"], [0.7777777777777778, \"#fb9f3a\"], [0.8888888888888888, \"#fdca26\"], [1.0, \"#f0f921\"]], \"type\": \"contour\"}], \"contourcarpet\": [{\"colorbar\": {\"outlinewidth\": 0, \"ticks\": \"\"}, \"type\": \"contourcarpet\"}], \"heatmap\": [{\"colorbar\": {\"outlinewidth\": 0, \"ticks\": \"\"}, \"colorscale\": [[0.0, \"#0d0887\"], [0.1111111111111111, \"#46039f\"], [0.2222222222222222, \"#7201a8\"], [0.3333333333333333, \"#9c179e\"], [0.4444444444444444, \"#bd3786\"], [0.5555555555555556, \"#d8576b\"], [0.6666666666666666, \"#ed7953\"], [0.7777777777777778, \"#fb9f3a\"], [0.8888888888888888, \"#fdca26\"], [1.0, \"#f0f921\"]], \"type\": \"heatmap\"}], \"heatmapgl\": [{\"colorbar\": {\"outlinewidth\": 0, \"ticks\": \"\"}, \"colorscale\": [[0.0, \"#0d0887\"], [0.1111111111111111, \"#46039f\"], [0.2222222222222222, \"#7201a8\"], [0.3333333333333333, \"#9c179e\"], [0.4444444444444444, \"#bd3786\"], [0.5555555555555556, \"#d8576b\"], [0.6666666666666666, \"#ed7953\"], [0.7777777777777778, \"#fb9f3a\"], [0.8888888888888888, \"#fdca26\"], [1.0, \"#f0f921\"]], \"type\": \"heatmapgl\"}], \"histogram\": [{\"marker\": {\"colorbar\": {\"outlinewidth\": 0, \"ticks\": \"\"}}, \"type\": \"histogram\"}], \"histogram2d\": [{\"colorbar\": {\"outlinewidth\": 0, \"ticks\": \"\"}, \"colorscale\": [[0.0, \"#0d0887\"], [0.1111111111111111, \"#46039f\"], [0.2222222222222222, \"#7201a8\"], [0.3333333333333333, \"#9c179e\"], [0.4444444444444444, \"#bd3786\"], [0.5555555555555556, \"#d8576b\"], [0.6666666666666666, \"#ed7953\"], [0.7777777777777778, \"#fb9f3a\"], [0.8888888888888888, \"#fdca26\"], [1.0, \"#f0f921\"]], \"type\": \"histogram2d\"}], \"histogram2dcontour\": [{\"colorbar\": {\"outlinewidth\": 0, \"ticks\": \"\"}, \"colorscale\": [[0.0, \"#0d0887\"], [0.1111111111111111, \"#46039f\"], [0.2222222222222222, \"#7201a8\"], [0.3333333333333333, \"#9c179e\"], [0.4444444444444444, \"#bd3786\"], [0.5555555555555556, \"#d8576b\"], [0.6666666666666666, \"#ed7953\"], [0.7777777777777778, \"#fb9f3a\"], [0.8888888888888888, \"#fdca26\"], [1.0, \"#f0f921\"]], \"type\": \"histogram2dcontour\"}], \"mesh3d\": [{\"colorbar\": {\"outlinewidth\": 0, \"ticks\": \"\"}, \"type\": \"mesh3d\"}], \"parcoords\": [{\"line\": {\"colorbar\": {\"outlinewidth\": 0, \"ticks\": \"\"}}, \"type\": \"parcoords\"}], \"pie\": [{\"automargin\": true, \"type\": \"pie\"}], \"scatter\": [{\"marker\": {\"colorbar\": {\"outlinewidth\": 0, \"ticks\": \"\"}}, \"type\": \"scatter\"}], \"scatter3d\": [{\"line\": {\"colorbar\": {\"outlinewidth\": 0, \"ticks\": \"\"}}, \"marker\": {\"colorbar\": {\"outlinewidth\": 0, \"ticks\": \"\"}}, \"type\": \"scatter3d\"}], \"scattercarpet\": [{\"marker\": {\"colorbar\": {\"outlinewidth\": 0, \"ticks\": \"\"}}, \"type\": \"scattercarpet\"}], \"scattergeo\": [{\"marker\": {\"colorbar\": {\"outlinewidth\": 0, \"ticks\": \"\"}}, \"type\": \"scattergeo\"}], \"scattergl\": [{\"marker\": {\"colorbar\": {\"outlinewidth\": 0, \"ticks\": \"\"}}, \"type\": \"scattergl\"}], \"scattermapbox\": [{\"marker\": {\"colorbar\": {\"outlinewidth\": 0, \"ticks\": \"\"}}, \"type\": \"scattermapbox\"}], \"scatterpolar\": [{\"marker\": {\"colorbar\": {\"outlinewidth\": 0, \"ticks\": \"\"}}, \"type\": \"scatterpolar\"}], \"scatterpolargl\": [{\"marker\": {\"colorbar\": {\"outlinewidth\": 0, \"ticks\": \"\"}}, \"type\": \"scatterpolargl\"}], \"scatterternary\": [{\"marker\": {\"colorbar\": {\"outlinewidth\": 0, \"ticks\": \"\"}}, \"type\": \"scatterternary\"}], \"surface\": [{\"colorbar\": {\"outlinewidth\": 0, \"ticks\": \"\"}, \"colorscale\": [[0.0, \"#0d0887\"], [0.1111111111111111, \"#46039f\"], [0.2222222222222222, \"#7201a8\"], [0.3333333333333333, \"#9c179e\"], [0.4444444444444444, \"#bd3786\"], [0.5555555555555556, \"#d8576b\"], [0.6666666666666666, \"#ed7953\"], [0.7777777777777778, \"#fb9f3a\"], [0.8888888888888888, \"#fdca26\"], [1.0, \"#f0f921\"]], \"type\": \"surface\"}], \"table\": [{\"cells\": {\"fill\": {\"color\": \"#EBF0F8\"}, \"line\": {\"color\": \"white\"}}, \"header\": {\"fill\": {\"color\": \"#C8D4E3\"}, \"line\": {\"color\": \"white\"}}, \"type\": \"table\"}]}, \"layout\": {\"annotationdefaults\": {\"arrowcolor\": \"#2a3f5f\", \"arrowhead\": 0, \"arrowwidth\": 1}, \"autotypenumbers\": \"strict\", \"coloraxis\": {\"colorbar\": {\"outlinewidth\": 0, \"ticks\": \"\"}}, \"colorscale\": {\"diverging\": [[0, \"#8e0152\"], [0.1, \"#c51b7d\"], [0.2, \"#de77ae\"], [0.3, \"#f1b6da\"], [0.4, \"#fde0ef\"], [0.5, \"#f7f7f7\"], [0.6, \"#e6f5d0\"], [0.7, \"#b8e186\"], [0.8, \"#7fbc41\"], [0.9, \"#4d9221\"], [1, \"#276419\"]], \"sequential\": [[0.0, \"#0d0887\"], [0.1111111111111111, \"#46039f\"], [0.2222222222222222, \"#7201a8\"], [0.3333333333333333, \"#9c179e\"], [0.4444444444444444, \"#bd3786\"], [0.5555555555555556, \"#d8576b\"], [0.6666666666666666, \"#ed7953\"], [0.7777777777777778, \"#fb9f3a\"], [0.8888888888888888, \"#fdca26\"], [1.0, \"#f0f921\"]], \"sequentialminus\": [[0.0, \"#0d0887\"], [0.1111111111111111, \"#46039f\"], [0.2222222222222222, \"#7201a8\"], [0.3333333333333333, \"#9c179e\"], [0.4444444444444444, \"#bd3786\"], [0.5555555555555556, \"#d8576b\"], [0.6666666666666666, \"#ed7953\"], [0.7777777777777778, \"#fb9f3a\"], [0.8888888888888888, \"#fdca26\"], [1.0, \"#f0f921\"]]}, \"colorway\": [\"#636efa\", \"#EF553B\", \"#00cc96\", \"#ab63fa\", \"#FFA15A\", \"#19d3f3\", \"#FF6692\", \"#B6E880\", \"#FF97FF\", \"#FECB52\"], \"font\": {\"color\": \"#2a3f5f\"}, \"geo\": {\"bgcolor\": \"white\", \"lakecolor\": \"white\", \"landcolor\": \"#E5ECF6\", \"showlakes\": true, \"showland\": true, \"subunitcolor\": \"white\"}, \"hoverlabel\": {\"align\": \"left\"}, \"hovermode\": \"closest\", \"mapbox\": {\"style\": \"light\"}, \"paper_bgcolor\": \"white\", \"plot_bgcolor\": \"#E5ECF6\", \"polar\": {\"angularaxis\": {\"gridcolor\": \"white\", \"linecolor\": \"white\", \"ticks\": \"\"}, \"bgcolor\": \"#E5ECF6\", \"radialaxis\": {\"gridcolor\": \"white\", \"linecolor\": \"white\", \"ticks\": \"\"}}, \"scene\": {\"xaxis\": {\"backgroundcolor\": \"#E5ECF6\", \"gridcolor\": \"white\", \"gridwidth\": 2, \"linecolor\": \"white\", \"showbackground\": true, \"ticks\": \"\", \"zerolinecolor\": \"white\"}, \"yaxis\": {\"backgroundcolor\": \"#E5ECF6\", \"gridcolor\": \"white\", \"gridwidth\": 2, \"linecolor\": \"white\", \"showbackground\": true, \"ticks\": \"\", \"zerolinecolor\": \"white\"}, \"zaxis\": {\"backgroundcolor\": \"#E5ECF6\", \"gridcolor\": \"white\", \"gridwidth\": 2, \"linecolor\": \"white\", \"showbackground\": true, \"ticks\": \"\", \"zerolinecolor\": \"white\"}}, \"shapedefaults\": {\"line\": {\"color\": \"#2a3f5f\"}}, \"ternary\": {\"aaxis\": {\"gridcolor\": \"white\", \"linecolor\": \"white\", \"ticks\": \"\"}, \"baxis\": {\"gridcolor\": \"white\", \"linecolor\": \"white\", \"ticks\": \"\"}, \"bgcolor\": \"#E5ECF6\", \"caxis\": {\"gridcolor\": \"white\", \"linecolor\": \"white\", \"ticks\": \"\"}}, \"title\": {\"x\": 0.05}, \"xaxis\": {\"automargin\": true, \"gridcolor\": \"white\", \"linecolor\": \"white\", \"ticks\": \"\", \"title\": {\"standoff\": 15}, \"zerolinecolor\": \"white\", \"zerolinewidth\": 2}, \"yaxis\": {\"automargin\": true, \"gridcolor\": \"white\", \"linecolor\": \"white\", \"ticks\": \"\", \"title\": {\"standoff\": 15}, \"zerolinecolor\": \"white\", \"zerolinewidth\": 2}}}, \"title\": {\"text\": \"Daily Increase in Different Types of Cases\"}, \"xaxis\": {\"title\": {\"text\": \"Date\"}}, \"yaxis\": {\"title\": {\"text\": \"Number of Cases\"}}},                        {\"responsive\": true}                    ).then(function(){\n",
       "                            \n",
       "var gd = document.getElementById('c3d44473-3bda-452a-af46-3b308e5033bb');\n",
       "var x = new MutationObserver(function (mutations, observer) {{\n",
       "        var display = window.getComputedStyle(gd).display;\n",
       "        if (!display || display === 'none') {{\n",
       "            console.log([gd, 'removed!']);\n",
       "            Plotly.purge(gd);\n",
       "            observer.disconnect();\n",
       "        }}\n",
       "}});\n",
       "\n",
       "// Listen for the removal of the full notebook cells\n",
       "var notebookContainer = gd.closest('#notebook-container');\n",
       "if (notebookContainer) {{\n",
       "    x.observe(notebookContainer, {childList: true});\n",
       "}}\n",
       "\n",
       "// Listen for the clearing of the current output cell\n",
       "var outputEl = gd.closest('.output');\n",
       "if (outputEl) {{\n",
       "    x.observe(outputEl, {childList: true});\n",
       "}}\n",
       "\n",
       "                        })                };                });            </script>        </div>"
      ]
     },
     "metadata": {},
     "output_type": "display_data"
    }
   ],
   "source": [
    "#Plotting the daily changes in confirmed, recovered and death cases\n",
    "figure = go.Figure()\n",
    "figure.add_trace(go.Scatter(x = grouped_date.index, y = grouped_date[\"Confirmed\"].diff().fillna(0), mode = 'lines+markers', name = 'Confirmed Cases'))\n",
    "figure.add_trace(go.Scatter(x = grouped_date.index, y = grouped_date[\"Recovered\"].diff().fillna(0), mode = 'lines+markers', name = 'Recovered Cases'))\n",
    "figure.add_trace(go.Scatter(x = grouped_date.index, y = grouped_date[\"Deaths\"].diff().fillna(0), mode = 'lines+markers', name = 'Death Cases'))\n",
    "figure.update_layout(title = \"Daily Increase in Different Types of Cases\", xaxis_title = 'Date', yaxis_title = 'Number of Cases', legend = dict(x = 0, y = 1, traceorder = \"normal\"))\n",
    "figure.show()"
   ]
  },
  {
   "cell_type": "markdown",
   "metadata": {
    "papermill": {
     "duration": 0.034225,
     "end_time": "2021-01-14T18:16:23.898079",
     "exception": false,
     "start_time": "2021-01-14T18:16:23.863854",
     "status": "completed"
    },
    "tags": []
   },
   "source": [
    "The growth factor is the factor by which the quantity multiplies itself over time. \n",
    "The growth factor for confirmed cases can be calculated as:\n",
    "(Number of new confirmed cases everyday) / (Number of new confirmed cases in the previous day)\n",
    "The growth factor for recovered cases can be calculated as:\n",
    "(Number of new recovered cases everyday) / (Number of new recovered cases in the previous day)\n",
    "The growth factor for death cases can be calculated as:\n",
    "(Number of new death cases everyday) / (Number of new death cases in the previous day)"
   ]
  },
  {
   "cell_type": "code",
   "execution_count": 18,
   "metadata": {
    "execution": {
     "iopub.execute_input": "2021-01-14T18:16:23.968589Z",
     "iopub.status.busy": "2021-01-14T18:16:23.967914Z",
     "iopub.status.idle": "2021-01-14T18:16:23.985527Z",
     "shell.execute_reply": "2021-01-14T18:16:23.984897Z"
    },
    "papermill": {
     "duration": 0.054219,
     "end_time": "2021-01-14T18:16:23.985647",
     "exception": false,
     "start_time": "2021-01-14T18:16:23.931428",
     "status": "completed"
    },
    "tags": []
   },
   "outputs": [
    {
     "name": "stdout",
     "output_type": "stream",
     "text": [
      "Average growth factor of number of confirmed cases:  1.0399402922323804\n",
      "Median growth factor of number of confirmed cases:  1.0166498743993266\n",
      "Average growth factor of number of recovered cases:  1.0485227401725867\n",
      "Median growth factor of number of recovered cases:  1.0214816243889693\n",
      "Average growth factor of number of death cases:  1.0387711531071646\n",
      "Median growth factor of number of death cases:  1.0097199552251062\n"
     ]
    }
   ],
   "source": [
    "#Calculating the growth factor for confirmed, recovered and death cases\n",
    "print(\"Average growth factor of number of confirmed cases: \", (grouped_date[\"Confirmed\"] / grouped_date[\"Confirmed\"].shift()).mean())\n",
    "print(\"Median growth factor of number of confirmed cases: \", (grouped_date[\"Confirmed\"] / grouped_date[\"Confirmed\"].shift()).median())\n",
    "print(\"Average growth factor of number of recovered cases: \", (grouped_date[\"Recovered\"] / grouped_date[\"Recovered\"].shift()).mean())\n",
    "print(\"Median growth factor of number of recovered cases: \", (grouped_date[\"Recovered\"] / grouped_date[\"Recovered\"].shift()).median())\n",
    "print(\"Average growth factor of number of death cases: \", (grouped_date[\"Deaths\"] / grouped_date[\"Deaths\"].shift()).mean())\n",
    "print(\"Median growth factor of number of death cases: \", (grouped_date[\"Deaths\"] / grouped_date[\"Deaths\"].shift()).median())\n"
   ]
  },
  {
   "cell_type": "markdown",
   "metadata": {
    "papermill": {
     "duration": 0.033805,
     "end_time": "2021-01-14T18:16:24.053563",
     "exception": false,
     "start_time": "2021-01-14T18:16:24.019758",
     "status": "completed"
    },
    "tags": []
   },
   "source": [
    "A growth factor of 1 indicates there is no change in the rate of growth of cases from one day to another. A growth factor below 1 indicates a decrease in the number of new cases from day to day.\n",
    "\n",
    "A growth factor above 1 and trending upward is a negative sign, indicating an exponential growth. This can be noticed in the numbers presented above, indicating an exponential growth in the number of new daily cases."
   ]
  },
  {
   "cell_type": "code",
   "execution_count": 19,
   "metadata": {
    "execution": {
     "iopub.execute_input": "2021-01-14T18:16:24.172397Z",
     "iopub.status.busy": "2021-01-14T18:16:24.130445Z",
     "iopub.status.idle": "2021-01-14T18:16:24.187155Z",
     "shell.execute_reply": "2021-01-14T18:16:24.186501Z"
    },
    "papermill": {
     "duration": 0.099507,
     "end_time": "2021-01-14T18:16:24.187267",
     "exception": false,
     "start_time": "2021-01-14T18:16:24.087760",
     "status": "completed"
    },
    "tags": []
   },
   "outputs": [
    {
     "data": {
      "text/html": [
       "<div>                            <div id=\"d4b2ef19-485d-4ebf-a4df-101c191456d4\" class=\"plotly-graph-div\" style=\"height:525px; width:100%;\"></div>            <script type=\"text/javascript\">                require([\"plotly\"], function(Plotly) {                    window.PLOTLYENV=window.PLOTLYENV || {};                                    if (document.getElementById(\"d4b2ef19-485d-4ebf-a4df-101c191456d4\")) {                    Plotly.newPlot(                        \"d4b2ef19-485d-4ebf-a4df-101c191456d4\",                        [{\"mode\": \"lines\", \"name\": \"Growth Factor of Confirmed Cases\", \"type\": \"scatter\", \"x\": [\"2020-01-22T00:00:00\", \"2020-01-23T00:00:00\", \"2020-01-24T00:00:00\", \"2020-01-25T00:00:00\", \"2020-01-26T00:00:00\", \"2020-01-27T00:00:00\", \"2020-01-28T00:00:00\", \"2020-01-29T00:00:00\", \"2020-01-30T00:00:00\", \"2020-01-31T00:00:00\", \"2020-02-01T00:00:00\", \"2020-02-02T00:00:00\", \"2020-02-03T00:00:00\", \"2020-02-04T00:00:00\", \"2020-02-05T00:00:00\", \"2020-02-06T00:00:00\", \"2020-02-07T00:00:00\", \"2020-02-08T00:00:00\", \"2020-02-09T00:00:00\", \"2020-02-10T00:00:00\", \"2020-02-11T00:00:00\", \"2020-02-12T00:00:00\", \"2020-02-13T00:00:00\", \"2020-02-14T00:00:00\", \"2020-02-15T00:00:00\", \"2020-02-16T00:00:00\", \"2020-02-17T00:00:00\", \"2020-02-18T00:00:00\", \"2020-02-19T00:00:00\", \"2020-02-20T00:00:00\", \"2020-02-21T00:00:00\", \"2020-02-22T00:00:00\", \"2020-02-23T00:00:00\", \"2020-02-24T00:00:00\", \"2020-02-25T00:00:00\", \"2020-02-26T00:00:00\", \"2020-02-27T00:00:00\", \"2020-02-28T00:00:00\", \"2020-02-29T00:00:00\", \"2020-03-01T00:00:00\", \"2020-03-02T00:00:00\", \"2020-03-03T00:00:00\", \"2020-03-04T00:00:00\", \"2020-03-05T00:00:00\", \"2020-03-06T00:00:00\", \"2020-03-07T00:00:00\", \"2020-03-08T00:00:00\", \"2020-03-09T00:00:00\", \"2020-03-10T00:00:00\", \"2020-03-11T00:00:00\", \"2020-03-12T00:00:00\", \"2020-03-13T00:00:00\", \"2020-03-14T00:00:00\", \"2020-03-15T00:00:00\", \"2020-03-16T00:00:00\", \"2020-03-17T00:00:00\", \"2020-03-18T00:00:00\", \"2020-03-19T00:00:00\", \"2020-03-20T00:00:00\", \"2020-03-21T00:00:00\", \"2020-03-22T00:00:00\", \"2020-03-23T00:00:00\", \"2020-03-24T00:00:00\", \"2020-03-25T00:00:00\", \"2020-03-26T00:00:00\", \"2020-03-27T00:00:00\", \"2020-03-28T00:00:00\", \"2020-03-29T00:00:00\", \"2020-03-30T00:00:00\", \"2020-03-31T00:00:00\", \"2020-04-01T00:00:00\", \"2020-04-02T00:00:00\", \"2020-04-03T00:00:00\", \"2020-04-04T00:00:00\", \"2020-04-05T00:00:00\", \"2020-04-06T00:00:00\", \"2020-04-07T00:00:00\", \"2020-04-08T00:00:00\", \"2020-04-09T00:00:00\", \"2020-04-10T00:00:00\", \"2020-04-11T00:00:00\", \"2020-04-12T00:00:00\", \"2020-04-13T00:00:00\", \"2020-04-14T00:00:00\", \"2020-04-15T00:00:00\", \"2020-04-16T00:00:00\", \"2020-04-17T00:00:00\", \"2020-04-18T00:00:00\", \"2020-04-19T00:00:00\", \"2020-04-20T00:00:00\", \"2020-04-21T00:00:00\", \"2020-04-22T00:00:00\", \"2020-04-23T00:00:00\", \"2020-04-24T00:00:00\", \"2020-04-25T00:00:00\", \"2020-04-26T00:00:00\", \"2020-04-27T00:00:00\", \"2020-04-28T00:00:00\", \"2020-04-29T00:00:00\", \"2020-04-30T00:00:00\", \"2020-05-01T00:00:00\", \"2020-05-02T00:00:00\", \"2020-05-03T00:00:00\", \"2020-05-04T00:00:00\", \"2020-05-05T00:00:00\", \"2020-05-06T00:00:00\", \"2020-05-07T00:00:00\", \"2020-05-08T00:00:00\", \"2020-05-09T00:00:00\", \"2020-05-10T00:00:00\", \"2020-05-11T00:00:00\", \"2020-05-12T00:00:00\", \"2020-05-13T00:00:00\", \"2020-05-14T00:00:00\", \"2020-05-15T00:00:00\", \"2020-05-16T00:00:00\", \"2020-05-17T00:00:00\", \"2020-05-18T00:00:00\", \"2020-05-19T00:00:00\", \"2020-05-20T00:00:00\", \"2020-05-21T00:00:00\", \"2020-05-22T00:00:00\", \"2020-05-23T00:00:00\", \"2020-05-24T00:00:00\", \"2020-05-25T00:00:00\", \"2020-05-26T00:00:00\", \"2020-05-27T00:00:00\", \"2020-05-28T00:00:00\", \"2020-05-29T00:00:00\", \"2020-05-30T00:00:00\", \"2020-05-31T00:00:00\", \"2020-06-01T00:00:00\", \"2020-06-02T00:00:00\", \"2020-06-03T00:00:00\", \"2020-06-04T00:00:00\", \"2020-06-05T00:00:00\", \"2020-06-06T00:00:00\", \"2020-06-07T00:00:00\", \"2020-06-08T00:00:00\", \"2020-06-09T00:00:00\", \"2020-06-10T00:00:00\", \"2020-06-11T00:00:00\", \"2020-06-12T00:00:00\", \"2020-06-13T00:00:00\", \"2020-06-14T00:00:00\", \"2020-06-15T00:00:00\", \"2020-06-16T00:00:00\", \"2020-06-17T00:00:00\", \"2020-06-18T00:00:00\", \"2020-06-19T00:00:00\", \"2020-06-20T00:00:00\", \"2020-06-21T00:00:00\", \"2020-06-22T00:00:00\", \"2020-06-23T00:00:00\", \"2020-06-24T00:00:00\", \"2020-06-25T00:00:00\", \"2020-06-26T00:00:00\", \"2020-06-27T00:00:00\", \"2020-06-28T00:00:00\", \"2020-06-29T00:00:00\", \"2020-06-30T00:00:00\", \"2020-07-01T00:00:00\", \"2020-07-02T00:00:00\", \"2020-07-03T00:00:00\", \"2020-07-04T00:00:00\", \"2020-07-05T00:00:00\", \"2020-07-06T00:00:00\", \"2020-07-07T00:00:00\", \"2020-07-08T00:00:00\", \"2020-07-09T00:00:00\", \"2020-07-10T00:00:00\", \"2020-07-11T00:00:00\", \"2020-07-12T00:00:00\", \"2020-07-13T00:00:00\", \"2020-07-14T00:00:00\", \"2020-07-15T00:00:00\", \"2020-07-16T00:00:00\", \"2020-07-17T00:00:00\", \"2020-07-18T00:00:00\", \"2020-07-19T00:00:00\", \"2020-07-20T00:00:00\", \"2020-07-21T00:00:00\", \"2020-07-22T00:00:00\", \"2020-07-23T00:00:00\", \"2020-07-24T00:00:00\", \"2020-07-25T00:00:00\", \"2020-07-26T00:00:00\", \"2020-07-27T00:00:00\", \"2020-07-28T00:00:00\", \"2020-07-29T00:00:00\", \"2020-07-30T00:00:00\", \"2020-07-31T00:00:00\", \"2020-08-01T00:00:00\", \"2020-08-02T00:00:00\", \"2020-08-03T00:00:00\", \"2020-08-04T00:00:00\", \"2020-08-05T00:00:00\", \"2020-08-06T00:00:00\", \"2020-08-07T00:00:00\", \"2020-08-08T00:00:00\", \"2020-08-09T00:00:00\", \"2020-08-10T00:00:00\", \"2020-08-11T00:00:00\", \"2020-08-12T00:00:00\", \"2020-08-13T00:00:00\", \"2020-08-14T00:00:00\", \"2020-08-15T00:00:00\", \"2020-08-16T00:00:00\", \"2020-08-17T00:00:00\", \"2020-08-18T00:00:00\", \"2020-08-19T00:00:00\", \"2020-08-20T00:00:00\", \"2020-08-21T00:00:00\", \"2020-08-22T00:00:00\", \"2020-08-23T00:00:00\", \"2020-08-24T00:00:00\", \"2020-08-25T00:00:00\", \"2020-08-26T00:00:00\", \"2020-08-27T00:00:00\", \"2020-08-28T00:00:00\", \"2020-08-29T00:00:00\", \"2020-08-30T00:00:00\", \"2020-08-31T00:00:00\", \"2020-09-01T00:00:00\", \"2020-09-02T00:00:00\", \"2020-09-03T00:00:00\", \"2020-09-04T00:00:00\", \"2020-09-05T00:00:00\", \"2020-09-06T00:00:00\", \"2020-09-07T00:00:00\", \"2020-09-08T00:00:00\", \"2020-09-09T00:00:00\", \"2020-09-10T00:00:00\", \"2020-09-11T00:00:00\", \"2020-09-12T00:00:00\", \"2020-09-13T00:00:00\", \"2020-09-14T00:00:00\", \"2020-09-15T00:00:00\", \"2020-09-16T00:00:00\", \"2020-09-17T00:00:00\", \"2020-09-18T00:00:00\", \"2020-09-19T00:00:00\", \"2020-09-20T00:00:00\", \"2020-09-21T00:00:00\", \"2020-09-22T00:00:00\", \"2020-09-23T00:00:00\", \"2020-09-24T00:00:00\", \"2020-09-25T00:00:00\", \"2020-09-26T00:00:00\", \"2020-09-27T00:00:00\", \"2020-09-28T00:00:00\", \"2020-09-29T00:00:00\", \"2020-09-30T00:00:00\", \"2020-10-01T00:00:00\", \"2020-10-02T00:00:00\", \"2020-10-03T00:00:00\", \"2020-10-04T00:00:00\", \"2020-10-05T00:00:00\", \"2020-10-06T00:00:00\", \"2020-10-07T00:00:00\", \"2020-10-08T00:00:00\", \"2020-10-09T00:00:00\", \"2020-10-10T00:00:00\", \"2020-10-11T00:00:00\", \"2020-10-12T00:00:00\", \"2020-10-13T00:00:00\", \"2020-10-14T00:00:00\", \"2020-10-15T00:00:00\", \"2020-10-16T00:00:00\", \"2020-10-17T00:00:00\", \"2020-10-18T00:00:00\", \"2020-10-19T00:00:00\", \"2020-10-20T00:00:00\", \"2020-10-21T00:00:00\", \"2020-10-22T00:00:00\", \"2020-10-23T00:00:00\", \"2020-10-24T00:00:00\", \"2020-10-25T00:00:00\", \"2020-10-26T00:00:00\", \"2020-10-27T00:00:00\", \"2020-10-28T00:00:00\", \"2020-10-29T00:00:00\", \"2020-10-30T00:00:00\", \"2020-10-31T00:00:00\", \"2020-11-01T00:00:00\", \"2020-11-02T00:00:00\", \"2020-11-03T00:00:00\", \"2020-11-04T00:00:00\", \"2020-11-05T00:00:00\", \"2020-11-06T00:00:00\", \"2020-11-07T00:00:00\", \"2020-11-08T00:00:00\", \"2020-11-09T00:00:00\", \"2020-11-10T00:00:00\", \"2020-11-11T00:00:00\", \"2020-11-12T00:00:00\", \"2020-11-13T00:00:00\", \"2020-11-14T00:00:00\", \"2020-11-15T00:00:00\", \"2020-11-16T00:00:00\", \"2020-11-17T00:00:00\", \"2020-11-18T00:00:00\", \"2020-11-19T00:00:00\", \"2020-11-20T00:00:00\", \"2020-11-21T00:00:00\", \"2020-11-22T00:00:00\", \"2020-11-23T00:00:00\", \"2020-11-24T00:00:00\", \"2020-11-25T00:00:00\", \"2020-11-26T00:00:00\", \"2020-11-27T00:00:00\", \"2020-11-28T00:00:00\", \"2020-11-29T00:00:00\", \"2020-11-30T00:00:00\", \"2020-12-01T00:00:00\", \"2020-12-02T00:00:00\", \"2020-12-03T00:00:00\", \"2020-12-04T00:00:00\", \"2020-12-05T00:00:00\", \"2020-12-06T00:00:00\"], \"y\": [null, 1.1765765765765765, 1.44104134762634, 1.5281615302869287, 1.4728789986091795, 1.381964117091596, 1.9057055005124701, 1.1052348512011474, 1.3357664233576643, 1.2052216150576807, 1.212896725440806, 1.394500747632497, 1.1843092869482337, 1.2017504149690659, 1.1567051732797589, 1.1151396728904328, 1.115971185670712, 1.079349848802047, 1.0816249562242397, 1.0650544195661378, 1.047704791525384, 1.0093520523179251, 1.3349697050108353, 1.1079509690243499, 1.0320690119156188, 1.0317823618032218, 1.0285569876168814, 1.0256347256347256, 1.0066943490643883, 1.0073769516532038, 1.0084515544823422, 1.0228517887120492, 1.0049110039567934, 1.0074064695828322, 1.0106195802438105, 1.0122116520549649, 1.0166959470250747, 1.0165546908985452, 1.0224187528231463, 1.0273915267637075, 1.021987597320297, 1.0280918160578445, 1.02454549371015, 1.0290453814374467, 1.0399734395750333, 1.0396844886692926, 1.0376784482677173, 1.034170680408992, 1.0441435413438513, 1.061147742794988, 1.0196980532379818, 1.1313498897365366, 1.0750835141371353, 1.0725561549402252, 1.084612122261978, 1.0861071947834515, 1.09012174777269, 1.1288049343206936, 1.1219573503657154, 1.1190541776391905, 1.1071627839808853, 1.1220115196376323, 1.1046695341562394, 1.1188243369615392, 1.1328231383405125, 1.1204425498510178, 1.113386834637182, 1.0897018359379136, 1.0866182939813627, 1.0959992437181982, 1.0875358278073906, 1.0864513376962173, 1.0815245002629028, 1.0925995349910564, 1.0623721659450913, 1.057335091477454, 1.0602296814010388, 1.0598427261180072, 1.0555305322684656, 1.0603089324217376, 1.0471270216396031, 1.042488348494306, 1.0382506531655658, 1.0306515807328451, 1.0404108677692012, 1.0469293786011291, 1.040632480903231, 1.0346589075561614, 1.0360974326122734, 1.0295425126145343, 1.0311511727034053, 1.0291919646306324, 1.032311057422996, 1.0375950396474567, 1.0306583854113673, 1.025702945990745, 1.0236639335766238, 1.024535464351547, 1.0248899944263201, 1.0196840890156265, 1.0266940180639583, 1.0249771892011839, 1.0231611779431802, 1.0217705422545513, 1.0222293607631925, 1.0253037169543913, 1.0240635908507867, 1.0240010338682874, 1.0218237286293506, 1.0193146315254786, 1.0184888380917458, 1.020274064679954, 1.0199113144465952, 1.021869666723946, 1.0225670373624522, 1.0201931387445586, 1.0172152018920366, 1.0187342302762574, 1.0199200374824302, 1.0201694150832876, 1.0212154064113128, 1.0212414746215048, 1.019092916172129, 1.0182992850135295, 1.0161881884769508, 1.01721103369563, 1.0182769184091571, 1.0205800784180343, 1.0198612511427991, 1.0227865980013096, 1.0177669079375138, 1.015981703322718, 1.0192462163269416, 1.0191632338489502, 1.0191247822172511, 1.0207332474127726, 1.0186783281355138, 1.0164753949216028, 1.0154682215809976, 1.0173402407190784, 1.016326035820189, 1.0209313013540355, 1.0157621133638914, 1.0175883791094669, 1.0172219379298582, 1.0168573410809605, 1.0173536323608223, 1.0216078935827022, 1.0166269043091714, 1.0211185020175007, 1.0141934446433396, 1.018616715451297, 1.0160068577370183, 1.0181741510704878, 1.0180426350418186, 1.0190055769964799, 1.0199647211334935, 1.018042523047914, 1.016837653865181, 1.0153017009883096, 1.0168531092101587, 1.020700723578448, 1.0166498743993266, 1.0188015259774723, 1.017336444725095, 1.016164362505296, 1.0149072332849958, 1.0180771382102627, 1.0179561446935528, 1.0188187462406184, 1.0188577000421033, 1.0174594117711524, 1.0151582371207266, 1.0149765820041865, 1.0167760925535, 1.0173837660263723, 1.018416435153495, 1.0181251941516893, 1.0168600788597315, 1.014996731172234, 1.0138042717086835, 1.0162933528246672, 1.0188056070697533, 1.0185670888815463, 1.0181753880921303, 1.016063832899061, 1.0128342217331878, 1.0144204624645248, 1.0123650664901538, 1.0202603194249285, 1.0164863085214688, 1.0168431984441004, 1.0142433125522612, 1.0129943599658509, 1.0112470080891627, 1.014159182001657, 1.0147717836417636, 1.0152291138488616, 1.0148100180145745, 1.013375147030286, 1.011519646857712, 1.0114185909788056, 1.0126575579178692, 1.0141931285594323, 1.013369440305129, 1.0145474135355983, 1.011808620759992, 1.0099722799009752, 1.00970329827874, 1.0116882726738894, 1.012408179776522, 1.0119418081899714, 1.0119676963423407, 1.011071002777501, 1.0093825040681095, 1.0096423412042554, 1.010275660753653, 1.012017981478704, 1.0113813159597773, 1.0116044064037915, 1.0106028765915591, 1.0090679778256801, 1.0103926000053065, 1.0104037952300007, 1.0109599810921648, 1.010502013729775, 1.0116151470293069, 1.0098359957959517, 1.0086409862864574, 1.0084303903094824, 1.008713792612138, 1.0106602406663572, 1.0106937591193963, 1.0113790864953571, 1.0097030781772756, 1.0082072068192363, 1.0067596258607903, 1.0126362510046572, 1.010243784722525, 1.0105361158416868, 1.0107727928596555, 1.0091636110490783, 1.0078731685420703, 1.0096353484895761, 1.0090793812271277, 1.008282871832908, 1.011410294970604, 1.010394734995146, 1.0084222475108309, 1.0074207635037513, 1.0082378885092398, 1.0085821481940065, 1.0097095705175838, 1.0091826587555681, 1.0088905695491073, 1.0087196459863694, 1.0075451726310707, 1.0092405525550905, 1.0092934705679457, 1.009718396453428, 1.009997901081664, 1.0098572493625675, 1.0089300625097604, 1.0072804869821934, 1.0086634969171708, 1.0086855768393919, 1.0099814417970525, 1.01057000095986, 1.0105449053569817, 1.0086580081083099, 1.007225256769974, 1.0112085701761262, 1.0096112667672292, 1.0108627511828185, 1.0114497401675049, 1.0120992678500818, 1.0097018645521012, 1.0091995300429089, 1.0114326112641419, 1.0108016134533298, 1.0117229743833085, 1.0120985611026916, 1.012545152240482, 1.0106433917952173, 1.0095652632494116, 1.0096677179797904, 1.0101955453798832, 1.014416940119351, 1.0123253736112274, 1.0131720771028798, 1.0103441964947582, 1.0113277492801798, 1.0092646735495783, 1.01100340886398, 1.012524173839743, 1.0124062092527657, 1.012288009531114, 1.0111068480476437, 1.0087601933122816, 1.0096862925285133, 1.0110579207463504, 1.0112082282599164, 1.011558138448584, 1.0116910399285521, 1.010175820496954, 1.0083198769902115, 1.0088889062301742, 1.0099354155682962, 1.0105858553427804, 1.0096189781691023, 1.011018811255863, 1.0097053543947114, 1.007814129318306, 1.0080593418367187, 1.0095601819155686, 1.010120408111673, 1.0107007200949591, 1.0104015667336799, 1.0097207653096785, 1.0080206451352278]}, {\"mode\": \"lines\", \"name\": \"Growth Factor of Recovered Cases\", \"type\": \"scatter\", \"x\": [\"2020-01-22T00:00:00\", \"2020-01-23T00:00:00\", \"2020-01-24T00:00:00\", \"2020-01-25T00:00:00\", \"2020-01-26T00:00:00\", \"2020-01-27T00:00:00\", \"2020-01-28T00:00:00\", \"2020-01-29T00:00:00\", \"2020-01-30T00:00:00\", \"2020-01-31T00:00:00\", \"2020-02-01T00:00:00\", \"2020-02-02T00:00:00\", \"2020-02-03T00:00:00\", \"2020-02-04T00:00:00\", \"2020-02-05T00:00:00\", \"2020-02-06T00:00:00\", \"2020-02-07T00:00:00\", \"2020-02-08T00:00:00\", \"2020-02-09T00:00:00\", \"2020-02-10T00:00:00\", \"2020-02-11T00:00:00\", \"2020-02-12T00:00:00\", \"2020-02-13T00:00:00\", \"2020-02-14T00:00:00\", \"2020-02-15T00:00:00\", \"2020-02-16T00:00:00\", \"2020-02-17T00:00:00\", \"2020-02-18T00:00:00\", \"2020-02-19T00:00:00\", \"2020-02-20T00:00:00\", \"2020-02-21T00:00:00\", \"2020-02-22T00:00:00\", \"2020-02-23T00:00:00\", \"2020-02-24T00:00:00\", \"2020-02-25T00:00:00\", \"2020-02-26T00:00:00\", \"2020-02-27T00:00:00\", \"2020-02-28T00:00:00\", \"2020-02-29T00:00:00\", \"2020-03-01T00:00:00\", \"2020-03-02T00:00:00\", \"2020-03-03T00:00:00\", \"2020-03-04T00:00:00\", \"2020-03-05T00:00:00\", \"2020-03-06T00:00:00\", \"2020-03-07T00:00:00\", \"2020-03-08T00:00:00\", \"2020-03-09T00:00:00\", \"2020-03-10T00:00:00\", \"2020-03-11T00:00:00\", \"2020-03-12T00:00:00\", \"2020-03-13T00:00:00\", \"2020-03-14T00:00:00\", \"2020-03-15T00:00:00\", \"2020-03-16T00:00:00\", \"2020-03-17T00:00:00\", \"2020-03-18T00:00:00\", \"2020-03-19T00:00:00\", \"2020-03-20T00:00:00\", \"2020-03-21T00:00:00\", \"2020-03-22T00:00:00\", \"2020-03-23T00:00:00\", \"2020-03-24T00:00:00\", \"2020-03-25T00:00:00\", \"2020-03-26T00:00:00\", \"2020-03-27T00:00:00\", \"2020-03-28T00:00:00\", \"2020-03-29T00:00:00\", \"2020-03-30T00:00:00\", \"2020-03-31T00:00:00\", \"2020-04-01T00:00:00\", \"2020-04-02T00:00:00\", \"2020-04-03T00:00:00\", \"2020-04-04T00:00:00\", \"2020-04-05T00:00:00\", \"2020-04-06T00:00:00\", \"2020-04-07T00:00:00\", \"2020-04-08T00:00:00\", \"2020-04-09T00:00:00\", \"2020-04-10T00:00:00\", \"2020-04-11T00:00:00\", \"2020-04-12T00:00:00\", \"2020-04-13T00:00:00\", \"2020-04-14T00:00:00\", \"2020-04-15T00:00:00\", \"2020-04-16T00:00:00\", \"2020-04-17T00:00:00\", \"2020-04-18T00:00:00\", \"2020-04-19T00:00:00\", \"2020-04-20T00:00:00\", \"2020-04-21T00:00:00\", \"2020-04-22T00:00:00\", \"2020-04-23T00:00:00\", \"2020-04-24T00:00:00\", \"2020-04-25T00:00:00\", \"2020-04-26T00:00:00\", \"2020-04-27T00:00:00\", \"2020-04-28T00:00:00\", \"2020-04-29T00:00:00\", \"2020-04-30T00:00:00\", \"2020-05-01T00:00:00\", \"2020-05-02T00:00:00\", \"2020-05-03T00:00:00\", \"2020-05-04T00:00:00\", \"2020-05-05T00:00:00\", \"2020-05-06T00:00:00\", \"2020-05-07T00:00:00\", \"2020-05-08T00:00:00\", \"2020-05-09T00:00:00\", \"2020-05-10T00:00:00\", \"2020-05-11T00:00:00\", \"2020-05-12T00:00:00\", \"2020-05-13T00:00:00\", \"2020-05-14T00:00:00\", \"2020-05-15T00:00:00\", \"2020-05-16T00:00:00\", \"2020-05-17T00:00:00\", \"2020-05-18T00:00:00\", \"2020-05-19T00:00:00\", \"2020-05-20T00:00:00\", \"2020-05-21T00:00:00\", \"2020-05-22T00:00:00\", \"2020-05-23T00:00:00\", \"2020-05-24T00:00:00\", \"2020-05-25T00:00:00\", \"2020-05-26T00:00:00\", \"2020-05-27T00:00:00\", \"2020-05-28T00:00:00\", \"2020-05-29T00:00:00\", \"2020-05-30T00:00:00\", \"2020-05-31T00:00:00\", \"2020-06-01T00:00:00\", \"2020-06-02T00:00:00\", \"2020-06-03T00:00:00\", \"2020-06-04T00:00:00\", \"2020-06-05T00:00:00\", \"2020-06-06T00:00:00\", \"2020-06-07T00:00:00\", \"2020-06-08T00:00:00\", \"2020-06-09T00:00:00\", \"2020-06-10T00:00:00\", \"2020-06-11T00:00:00\", \"2020-06-12T00:00:00\", \"2020-06-13T00:00:00\", \"2020-06-14T00:00:00\", \"2020-06-15T00:00:00\", \"2020-06-16T00:00:00\", \"2020-06-17T00:00:00\", \"2020-06-18T00:00:00\", \"2020-06-19T00:00:00\", \"2020-06-20T00:00:00\", \"2020-06-21T00:00:00\", \"2020-06-22T00:00:00\", \"2020-06-23T00:00:00\", \"2020-06-24T00:00:00\", \"2020-06-25T00:00:00\", \"2020-06-26T00:00:00\", \"2020-06-27T00:00:00\", \"2020-06-28T00:00:00\", \"2020-06-29T00:00:00\", \"2020-06-30T00:00:00\", \"2020-07-01T00:00:00\", \"2020-07-02T00:00:00\", \"2020-07-03T00:00:00\", \"2020-07-04T00:00:00\", \"2020-07-05T00:00:00\", \"2020-07-06T00:00:00\", \"2020-07-07T00:00:00\", \"2020-07-08T00:00:00\", \"2020-07-09T00:00:00\", \"2020-07-10T00:00:00\", \"2020-07-11T00:00:00\", \"2020-07-12T00:00:00\", \"2020-07-13T00:00:00\", \"2020-07-14T00:00:00\", \"2020-07-15T00:00:00\", \"2020-07-16T00:00:00\", \"2020-07-17T00:00:00\", \"2020-07-18T00:00:00\", \"2020-07-19T00:00:00\", \"2020-07-20T00:00:00\", \"2020-07-21T00:00:00\", \"2020-07-22T00:00:00\", \"2020-07-23T00:00:00\", \"2020-07-24T00:00:00\", \"2020-07-25T00:00:00\", \"2020-07-26T00:00:00\", \"2020-07-27T00:00:00\", \"2020-07-28T00:00:00\", \"2020-07-29T00:00:00\", \"2020-07-30T00:00:00\", \"2020-07-31T00:00:00\", \"2020-08-01T00:00:00\", \"2020-08-02T00:00:00\", \"2020-08-03T00:00:00\", \"2020-08-04T00:00:00\", \"2020-08-05T00:00:00\", \"2020-08-06T00:00:00\", \"2020-08-07T00:00:00\", \"2020-08-08T00:00:00\", \"2020-08-09T00:00:00\", \"2020-08-10T00:00:00\", \"2020-08-11T00:00:00\", \"2020-08-12T00:00:00\", \"2020-08-13T00:00:00\", \"2020-08-14T00:00:00\", \"2020-08-15T00:00:00\", \"2020-08-16T00:00:00\", \"2020-08-17T00:00:00\", \"2020-08-18T00:00:00\", \"2020-08-19T00:00:00\", \"2020-08-20T00:00:00\", \"2020-08-21T00:00:00\", \"2020-08-22T00:00:00\", \"2020-08-23T00:00:00\", \"2020-08-24T00:00:00\", \"2020-08-25T00:00:00\", \"2020-08-26T00:00:00\", \"2020-08-27T00:00:00\", \"2020-08-28T00:00:00\", \"2020-08-29T00:00:00\", \"2020-08-30T00:00:00\", \"2020-08-31T00:00:00\", \"2020-09-01T00:00:00\", \"2020-09-02T00:00:00\", \"2020-09-03T00:00:00\", \"2020-09-04T00:00:00\", \"2020-09-05T00:00:00\", \"2020-09-06T00:00:00\", \"2020-09-07T00:00:00\", \"2020-09-08T00:00:00\", \"2020-09-09T00:00:00\", \"2020-09-10T00:00:00\", \"2020-09-11T00:00:00\", \"2020-09-12T00:00:00\", \"2020-09-13T00:00:00\", \"2020-09-14T00:00:00\", \"2020-09-15T00:00:00\", \"2020-09-16T00:00:00\", \"2020-09-17T00:00:00\", \"2020-09-18T00:00:00\", \"2020-09-19T00:00:00\", \"2020-09-20T00:00:00\", \"2020-09-21T00:00:00\", \"2020-09-22T00:00:00\", \"2020-09-23T00:00:00\", \"2020-09-24T00:00:00\", \"2020-09-25T00:00:00\", \"2020-09-26T00:00:00\", \"2020-09-27T00:00:00\", \"2020-09-28T00:00:00\", \"2020-09-29T00:00:00\", \"2020-09-30T00:00:00\", \"2020-10-01T00:00:00\", \"2020-10-02T00:00:00\", \"2020-10-03T00:00:00\", \"2020-10-04T00:00:00\", \"2020-10-05T00:00:00\", \"2020-10-06T00:00:00\", \"2020-10-07T00:00:00\", \"2020-10-08T00:00:00\", \"2020-10-09T00:00:00\", \"2020-10-10T00:00:00\", \"2020-10-11T00:00:00\", \"2020-10-12T00:00:00\", \"2020-10-13T00:00:00\", \"2020-10-14T00:00:00\", \"2020-10-15T00:00:00\", \"2020-10-16T00:00:00\", \"2020-10-17T00:00:00\", \"2020-10-18T00:00:00\", \"2020-10-19T00:00:00\", \"2020-10-20T00:00:00\", \"2020-10-21T00:00:00\", \"2020-10-22T00:00:00\", \"2020-10-23T00:00:00\", \"2020-10-24T00:00:00\", \"2020-10-25T00:00:00\", \"2020-10-26T00:00:00\", \"2020-10-27T00:00:00\", \"2020-10-28T00:00:00\", \"2020-10-29T00:00:00\", \"2020-10-30T00:00:00\", \"2020-10-31T00:00:00\", \"2020-11-01T00:00:00\", \"2020-11-02T00:00:00\", \"2020-11-03T00:00:00\", \"2020-11-04T00:00:00\", \"2020-11-05T00:00:00\", \"2020-11-06T00:00:00\", \"2020-11-07T00:00:00\", \"2020-11-08T00:00:00\", \"2020-11-09T00:00:00\", \"2020-11-10T00:00:00\", \"2020-11-11T00:00:00\", \"2020-11-12T00:00:00\", \"2020-11-13T00:00:00\", \"2020-11-14T00:00:00\", \"2020-11-15T00:00:00\", \"2020-11-16T00:00:00\", \"2020-11-17T00:00:00\", \"2020-11-18T00:00:00\", \"2020-11-19T00:00:00\", \"2020-11-20T00:00:00\", \"2020-11-21T00:00:00\", \"2020-11-22T00:00:00\", \"2020-11-23T00:00:00\", \"2020-11-24T00:00:00\", \"2020-11-25T00:00:00\", \"2020-11-26T00:00:00\", \"2020-11-27T00:00:00\", \"2020-11-28T00:00:00\", \"2020-11-29T00:00:00\", \"2020-11-30T00:00:00\", \"2020-12-01T00:00:00\", \"2020-12-02T00:00:00\", \"2020-12-03T00:00:00\", \"2020-12-04T00:00:00\", \"2020-12-05T00:00:00\", \"2020-12-06T00:00:00\"], \"y\": [null, 1.0714285714285714, 1.2, 1.0833333333333333, 1.3333333333333333, 1.1730769230769231, 1.7540983606557377, 1.1775700934579438, 1.1349206349206349, 1.5524475524475525, 1.2792792792792793, 1.6619718309859155, 1.319915254237288, 1.3675762439807384, 1.3192488262910798, 1.3229537366548043, 1.3523873570948217, 1.300845350571855, 1.2400611620795108, 1.216399506781751, 1.186771414090218, 1.0997224001708306, 1.2223300970873787, 1.280063542494043, 1.1659220650285431, 1.1564662054284194, 1.1581224114127933, 1.1405865056027975, 1.123258082497213, 1.1275355126853173, 1.0392253947296033, 1.2115404976177873, 1.0221969763173993, 1.0783534239548602, 1.1061561025884965, 1.0888371259630891, 1.095181674565561, 1.103197499699483, 1.0836556796513213, 1.073753802066313, 1.0675640875570642, 1.0576083857810137, 1.0610019076055404, 1.0513191323040845, 1.0384415198155996, 1.0446262351424889, 1.0400294737563618, 1.0299375545779579, 1.0302351623740202, 1.0403571428571428, 1.0197167121897341, 1.0282201405152225, 1.033780321147933, 1.0469561146224922, 1.027015296392261, 1.0351796119613241, 1.0306314330958037, 1.0198540356268306, 1.0287187213107036, 1.0486487723393056, 1.0607829445523382, 1.0382411931087683, 1.0667109160615398, 1.056335150496392, 1.073692447007728, 1.0718444216990788, 1.064973758393876, 1.0691873977791169, 1.1039725191044556, 1.0818494524327544, 1.08657184266406, 1.0883908491663437, 1.0738070130437674, 1.0901619039193136, 1.0564554743103853, 1.0634287799350886, 1.084783778610101, 1.0955840489040862, 1.0766416148256652, 1.0623902673102437, 1.069099005507834, 1.0487698195735375, 1.0640373077032446, 1.0569875375254996, 1.0772454421143784, 1.0609921393211925, 1.048489943092893, 1.0420488530452716, 1.0534754666491193, 1.035233520773507, 1.0526612993056672, 1.0434705290153803, 1.040490540047578, 1.074406321024554, 1.0292261133817475, 1.0602077352935775, 1.0326906357198855, 1.0387163713855738, 1.047282649645329, 1.043330794680546, 1.0378754743300274, 1.0375544342821128, 1.0295500077758364, 1.03328588488687, 1.0309873737308592, 1.0389439566012304, 1.0315923247798886, 1.0289251664045336, 1.0404730516231653, 1.024387743975575, 1.0334282099263483, 1.0255578154591136, 1.0369508130424245, 1.0253804287818338, 1.0310153524514805, 1.034172065379445, 1.0241320984489926, 1.0304973868032845, 1.029142659521603, 1.031826301150869, 1.0269923454935905, 1.0553459958589795, 1.0269457220056082, 1.026732055882591, 1.0291220185461956, 1.0247203567890242, 1.0275842195228286, 1.0280352793187206, 1.0320860927563515, 1.0285413826585923, 1.0299092607107065, 1.0207118604024243, 1.0124307465866635, 1.0276404260557601, 1.0231720056330997, 1.0498974857169936, 1.0241324216522703, 1.0178536591056837, 1.0485611201567986, 1.0249756404459993, 1.0234590770355576, 1.0248560558432702, 1.02050422446504, 1.0235234761507814, 1.0193176235121129, 1.0232592686518347, 1.0253668010921335, 1.030042571222986, 1.0199198346620586, 1.0218175385989, 1.0312092252935308, 1.015709152401001, 1.0178198158655005, 1.0229849912690614, 1.024991620724626, 1.0195571399826597, 1.0218860566102579, 1.0214816243889693, 1.0176423225685878, 1.0184673430133828, 1.022439682227388, 1.0419230342412547, 1.0316261274297274, 1.0190889044428497, 1.03336804658967, 1.0197191908789025, 1.0200210507676992, 1.0230128235134506, 1.0245093781351189, 1.0203889728891398, 1.020690342800414, 1.018282198957446, 1.015960821284369, 1.0197261872343797, 1.0195872470209675, 1.0215983223438858, 1.0201601098531126, 1.0237921442547628, 1.0190968928141593, 1.0109393381039236, 1.0192897795764633, 1.021320530939273, 1.0211110617721586, 1.0205169586579728, 1.0258739658624536, 1.0242832491526697, 1.0148763380803947, 1.0187839124750084, 1.0141003157372508, 1.0244699856731756, 1.0214381989800303, 1.0196209072895321, 1.017729158371599, 1.0131403052215653, 1.0207985904762902, 1.0202631692235262, 1.0199024734630844, 1.0166195315761681, 1.0166281986354808, 1.0170552000206448, 1.0149682842901304, 1.0135465122083207, 1.0248331800662176, 1.019183190730215, 1.0127064971396742, 1.02179660559642, 1.012699000158313, 1.017324709378837, 1.0154258372813987, 1.0163871697155824, 1.0154415455839705, 1.0144948008090575, 1.0115857375312727, 1.013531147604721, 1.0152219977503936, 1.013172785781609, 1.0150929379470026, 1.0144927796877434, 1.0132008092405476, 1.0124716124656885, 1.0130463250850308, 1.0128064207502459, 1.012077546777034, 1.0151700886840114, 1.0127683698380598, 1.0127963138199207, 1.0116687526998185, 1.0113137858565575, 1.012347015195159, 1.010276164870088, 1.01089031069127, 1.0136364551238666, 1.0115319826917517, 1.0117704843957247, 1.0115958407045629, 1.0096582612497091, 1.0075970235662854, 1.0153643498602125, 1.0114232630524378, 1.0108368299845933, 1.0122276625815607, 1.0113988021827611, 1.011273615403584, 1.0115427865038318, 1.0101301823719215, 1.0121237546704174, 1.0116251060964927, 1.0107531439697803, 1.0116586477791978, 1.009401253450638, 1.0096909338652276, 1.01035378784634, 1.0105959177546844, 1.009010815208713, 1.0075587198707703, 1.0106212605547977, 1.0091330443346804, 1.0096739247483673, 1.009326406805662, 1.010202672533844, 1.0086899166880412, 1.0081165265580665, 1.0076058999141473, 1.008599031566052, 1.0076695622262686, 1.0071910423402817, 1.0080110840384624, 1.0077438142733366, 1.0075403300173602, 1.0073116141693963, 1.0073716747235397, 1.0073540271498933, 1.0075081248241036, 1.0075700221951744, 1.0080576402710193, 1.0072897997821604, 1.0074028288179375, 1.006878554735895, 1.0082189326391864, 1.0201773466838038, 1.008808801067135, 1.0082002224386426, 0.9799573718400962, 1.0380040467524376, 1.008355765955046, 1.0090120929811484, 1.008011785007411, 1.008826094810538, 1.0095106808499612, 1.008949818020698, 1.0092004995042025, 1.0077079732829195, 1.0077652271061235, 1.0077139171757297, 1.011329088114769, 1.0066392197675398, 1.00883696505305, 1.008064378141189, 1.0066081144217005, 1.0111093496321486, 1.0122869849292706, 1.0101401057829935, 1.0103130833359617, 1.0097232019525257, 1.0091917936729156, 1.0073138947702607, 1.0109298751618137, 1.0097961800139703, 1.011409993236155, 1.009428827433661, 1.0096347964078924, 1.0089978221057383, 1.0081868618363568, 1.0099952024462593, 1.0117255568647754, 1.0112436881219304, 1.0105014859390657, 1.01001452562907, 1.010338538507997, 1.007336968632232]}, {\"mode\": \"lines\", \"name\": \"Growth Factor of Death Cases\", \"type\": \"scatter\", \"x\": [\"2020-01-22T00:00:00\", \"2020-01-23T00:00:00\", \"2020-01-24T00:00:00\", \"2020-01-25T00:00:00\", \"2020-01-26T00:00:00\", \"2020-01-27T00:00:00\", \"2020-01-28T00:00:00\", \"2020-01-29T00:00:00\", \"2020-01-30T00:00:00\", \"2020-01-31T00:00:00\", \"2020-02-01T00:00:00\", \"2020-02-02T00:00:00\", \"2020-02-03T00:00:00\", \"2020-02-04T00:00:00\", \"2020-02-05T00:00:00\", \"2020-02-06T00:00:00\", \"2020-02-07T00:00:00\", \"2020-02-08T00:00:00\", \"2020-02-09T00:00:00\", \"2020-02-10T00:00:00\", \"2020-02-11T00:00:00\", \"2020-02-12T00:00:00\", \"2020-02-13T00:00:00\", \"2020-02-14T00:00:00\", \"2020-02-15T00:00:00\", \"2020-02-16T00:00:00\", \"2020-02-17T00:00:00\", \"2020-02-18T00:00:00\", \"2020-02-19T00:00:00\", \"2020-02-20T00:00:00\", \"2020-02-21T00:00:00\", \"2020-02-22T00:00:00\", \"2020-02-23T00:00:00\", \"2020-02-24T00:00:00\", \"2020-02-25T00:00:00\", \"2020-02-26T00:00:00\", \"2020-02-27T00:00:00\", \"2020-02-28T00:00:00\", \"2020-02-29T00:00:00\", \"2020-03-01T00:00:00\", \"2020-03-02T00:00:00\", \"2020-03-03T00:00:00\", \"2020-03-04T00:00:00\", \"2020-03-05T00:00:00\", \"2020-03-06T00:00:00\", \"2020-03-07T00:00:00\", \"2020-03-08T00:00:00\", \"2020-03-09T00:00:00\", \"2020-03-10T00:00:00\", \"2020-03-11T00:00:00\", \"2020-03-12T00:00:00\", \"2020-03-13T00:00:00\", \"2020-03-14T00:00:00\", \"2020-03-15T00:00:00\", \"2020-03-16T00:00:00\", \"2020-03-17T00:00:00\", \"2020-03-18T00:00:00\", \"2020-03-19T00:00:00\", \"2020-03-20T00:00:00\", \"2020-03-21T00:00:00\", \"2020-03-22T00:00:00\", \"2020-03-23T00:00:00\", \"2020-03-24T00:00:00\", \"2020-03-25T00:00:00\", \"2020-03-26T00:00:00\", \"2020-03-27T00:00:00\", \"2020-03-28T00:00:00\", \"2020-03-29T00:00:00\", \"2020-03-30T00:00:00\", \"2020-03-31T00:00:00\", \"2020-04-01T00:00:00\", \"2020-04-02T00:00:00\", \"2020-04-03T00:00:00\", \"2020-04-04T00:00:00\", \"2020-04-05T00:00:00\", \"2020-04-06T00:00:00\", \"2020-04-07T00:00:00\", \"2020-04-08T00:00:00\", \"2020-04-09T00:00:00\", \"2020-04-10T00:00:00\", \"2020-04-11T00:00:00\", \"2020-04-12T00:00:00\", \"2020-04-13T00:00:00\", \"2020-04-14T00:00:00\", \"2020-04-15T00:00:00\", \"2020-04-16T00:00:00\", \"2020-04-17T00:00:00\", \"2020-04-18T00:00:00\", \"2020-04-19T00:00:00\", \"2020-04-20T00:00:00\", \"2020-04-21T00:00:00\", \"2020-04-22T00:00:00\", \"2020-04-23T00:00:00\", \"2020-04-24T00:00:00\", \"2020-04-25T00:00:00\", \"2020-04-26T00:00:00\", \"2020-04-27T00:00:00\", \"2020-04-28T00:00:00\", \"2020-04-29T00:00:00\", \"2020-04-30T00:00:00\", \"2020-05-01T00:00:00\", \"2020-05-02T00:00:00\", \"2020-05-03T00:00:00\", \"2020-05-04T00:00:00\", \"2020-05-05T00:00:00\", \"2020-05-06T00:00:00\", \"2020-05-07T00:00:00\", \"2020-05-08T00:00:00\", \"2020-05-09T00:00:00\", \"2020-05-10T00:00:00\", \"2020-05-11T00:00:00\", \"2020-05-12T00:00:00\", \"2020-05-13T00:00:00\", \"2020-05-14T00:00:00\", \"2020-05-15T00:00:00\", \"2020-05-16T00:00:00\", \"2020-05-17T00:00:00\", \"2020-05-18T00:00:00\", \"2020-05-19T00:00:00\", \"2020-05-20T00:00:00\", \"2020-05-21T00:00:00\", \"2020-05-22T00:00:00\", \"2020-05-23T00:00:00\", \"2020-05-24T00:00:00\", \"2020-05-25T00:00:00\", \"2020-05-26T00:00:00\", \"2020-05-27T00:00:00\", \"2020-05-28T00:00:00\", \"2020-05-29T00:00:00\", \"2020-05-30T00:00:00\", \"2020-05-31T00:00:00\", \"2020-06-01T00:00:00\", \"2020-06-02T00:00:00\", \"2020-06-03T00:00:00\", \"2020-06-04T00:00:00\", \"2020-06-05T00:00:00\", \"2020-06-06T00:00:00\", \"2020-06-07T00:00:00\", \"2020-06-08T00:00:00\", \"2020-06-09T00:00:00\", \"2020-06-10T00:00:00\", \"2020-06-11T00:00:00\", \"2020-06-12T00:00:00\", \"2020-06-13T00:00:00\", \"2020-06-14T00:00:00\", \"2020-06-15T00:00:00\", \"2020-06-16T00:00:00\", \"2020-06-17T00:00:00\", \"2020-06-18T00:00:00\", \"2020-06-19T00:00:00\", \"2020-06-20T00:00:00\", \"2020-06-21T00:00:00\", \"2020-06-22T00:00:00\", \"2020-06-23T00:00:00\", \"2020-06-24T00:00:00\", \"2020-06-25T00:00:00\", \"2020-06-26T00:00:00\", \"2020-06-27T00:00:00\", \"2020-06-28T00:00:00\", \"2020-06-29T00:00:00\", \"2020-06-30T00:00:00\", \"2020-07-01T00:00:00\", \"2020-07-02T00:00:00\", \"2020-07-03T00:00:00\", \"2020-07-04T00:00:00\", \"2020-07-05T00:00:00\", \"2020-07-06T00:00:00\", \"2020-07-07T00:00:00\", \"2020-07-08T00:00:00\", \"2020-07-09T00:00:00\", \"2020-07-10T00:00:00\", \"2020-07-11T00:00:00\", \"2020-07-12T00:00:00\", \"2020-07-13T00:00:00\", \"2020-07-14T00:00:00\", \"2020-07-15T00:00:00\", \"2020-07-16T00:00:00\", \"2020-07-17T00:00:00\", \"2020-07-18T00:00:00\", \"2020-07-19T00:00:00\", \"2020-07-20T00:00:00\", \"2020-07-21T00:00:00\", \"2020-07-22T00:00:00\", \"2020-07-23T00:00:00\", \"2020-07-24T00:00:00\", \"2020-07-25T00:00:00\", \"2020-07-26T00:00:00\", \"2020-07-27T00:00:00\", \"2020-07-28T00:00:00\", \"2020-07-29T00:00:00\", \"2020-07-30T00:00:00\", \"2020-07-31T00:00:00\", \"2020-08-01T00:00:00\", \"2020-08-02T00:00:00\", \"2020-08-03T00:00:00\", \"2020-08-04T00:00:00\", \"2020-08-05T00:00:00\", \"2020-08-06T00:00:00\", \"2020-08-07T00:00:00\", \"2020-08-08T00:00:00\", \"2020-08-09T00:00:00\", \"2020-08-10T00:00:00\", \"2020-08-11T00:00:00\", \"2020-08-12T00:00:00\", \"2020-08-13T00:00:00\", \"2020-08-14T00:00:00\", \"2020-08-15T00:00:00\", \"2020-08-16T00:00:00\", \"2020-08-17T00:00:00\", \"2020-08-18T00:00:00\", \"2020-08-19T00:00:00\", \"2020-08-20T00:00:00\", \"2020-08-21T00:00:00\", \"2020-08-22T00:00:00\", \"2020-08-23T00:00:00\", \"2020-08-24T00:00:00\", \"2020-08-25T00:00:00\", \"2020-08-26T00:00:00\", \"2020-08-27T00:00:00\", \"2020-08-28T00:00:00\", \"2020-08-29T00:00:00\", \"2020-08-30T00:00:00\", \"2020-08-31T00:00:00\", \"2020-09-01T00:00:00\", \"2020-09-02T00:00:00\", \"2020-09-03T00:00:00\", \"2020-09-04T00:00:00\", \"2020-09-05T00:00:00\", \"2020-09-06T00:00:00\", \"2020-09-07T00:00:00\", \"2020-09-08T00:00:00\", \"2020-09-09T00:00:00\", \"2020-09-10T00:00:00\", \"2020-09-11T00:00:00\", \"2020-09-12T00:00:00\", \"2020-09-13T00:00:00\", \"2020-09-14T00:00:00\", \"2020-09-15T00:00:00\", \"2020-09-16T00:00:00\", \"2020-09-17T00:00:00\", \"2020-09-18T00:00:00\", \"2020-09-19T00:00:00\", \"2020-09-20T00:00:00\", \"2020-09-21T00:00:00\", \"2020-09-22T00:00:00\", \"2020-09-23T00:00:00\", \"2020-09-24T00:00:00\", \"2020-09-25T00:00:00\", \"2020-09-26T00:00:00\", \"2020-09-27T00:00:00\", \"2020-09-28T00:00:00\", \"2020-09-29T00:00:00\", \"2020-09-30T00:00:00\", \"2020-10-01T00:00:00\", \"2020-10-02T00:00:00\", \"2020-10-03T00:00:00\", \"2020-10-04T00:00:00\", \"2020-10-05T00:00:00\", \"2020-10-06T00:00:00\", \"2020-10-07T00:00:00\", \"2020-10-08T00:00:00\", \"2020-10-09T00:00:00\", \"2020-10-10T00:00:00\", \"2020-10-11T00:00:00\", \"2020-10-12T00:00:00\", \"2020-10-13T00:00:00\", \"2020-10-14T00:00:00\", \"2020-10-15T00:00:00\", \"2020-10-16T00:00:00\", \"2020-10-17T00:00:00\", \"2020-10-18T00:00:00\", \"2020-10-19T00:00:00\", \"2020-10-20T00:00:00\", \"2020-10-21T00:00:00\", \"2020-10-22T00:00:00\", \"2020-10-23T00:00:00\", \"2020-10-24T00:00:00\", \"2020-10-25T00:00:00\", \"2020-10-26T00:00:00\", \"2020-10-27T00:00:00\", \"2020-10-28T00:00:00\", \"2020-10-29T00:00:00\", \"2020-10-30T00:00:00\", \"2020-10-31T00:00:00\", \"2020-11-01T00:00:00\", \"2020-11-02T00:00:00\", \"2020-11-03T00:00:00\", \"2020-11-04T00:00:00\", \"2020-11-05T00:00:00\", \"2020-11-06T00:00:00\", \"2020-11-07T00:00:00\", \"2020-11-08T00:00:00\", \"2020-11-09T00:00:00\", \"2020-11-10T00:00:00\", \"2020-11-11T00:00:00\", \"2020-11-12T00:00:00\", \"2020-11-13T00:00:00\", \"2020-11-14T00:00:00\", \"2020-11-15T00:00:00\", \"2020-11-16T00:00:00\", \"2020-11-17T00:00:00\", \"2020-11-18T00:00:00\", \"2020-11-19T00:00:00\", \"2020-11-20T00:00:00\", \"2020-11-21T00:00:00\", \"2020-11-22T00:00:00\", \"2020-11-23T00:00:00\", \"2020-11-24T00:00:00\", \"2020-11-25T00:00:00\", \"2020-11-26T00:00:00\", \"2020-11-27T00:00:00\", \"2020-11-28T00:00:00\", \"2020-11-29T00:00:00\", \"2020-11-30T00:00:00\", \"2020-12-01T00:00:00\", \"2020-12-02T00:00:00\", \"2020-12-03T00:00:00\", \"2020-12-04T00:00:00\", \"2020-12-05T00:00:00\", \"2020-12-06T00:00:00\"], \"y\": [null, 1.0588235294117647, 1.4444444444444444, 1.6153846153846154, 1.3333333333333333, 1.4642857142857142, 1.5975609756097562, 1.015267175572519, 1.2857142857142858, 1.2456140350877194, 1.215962441314554, 1.3976833976833978, 1.1767955801104972, 1.1549295774647887, 1.146341463414634, 1.124113475177305, 1.1340694006309149, 1.1210013908205843, 1.1240694789081886, 1.1181015452538632, 1.0987166831194473, 1.004492362982929, 1.2262969588550985, 1.1108679795769512, 1.0938936309914642, 1.0624249699879953, 1.0553672316384182, 1.0744111349036403, 1.057299451918286, 1.0589066918001886, 1.0017801513128617, 1.0919591292758775, 1.0044751830756713, 1.0648035641960307, 1.0300494484594902, 1.0228951255539143, 1.015884476534296, 1.0206112295664533, 1.024025069637883, 1.018701122067324, 1.0297062750333779, 1.0243111831442464, 1.029746835443038, 1.0288875230485557, 1.033452807646356, 1.0283236994219653, 1.068858909499719, 1.0507494083618196, 1.0665665665665667, 1.0828249648052557, 1.0227518959913326, 1.1449152542372882, 1.0767949666913397, 1.1067193675889329, 1.1065217391304347, 1.1093179904574797, 1.1047438330170778, 1.1298522844383374, 1.144927536231884, 1.1483579711427814, 1.1271872350265937, 1.1281542775080353, 1.128447596532703, 1.1377847013321873, 1.131721826164959, 1.134579283300655, 1.127072838916057, 1.1068084689916158, 1.107790255548678, 1.1204235845040442, 1.1117311802422227, 1.1317740040585282, 1.1096179978861542, 1.0989930602803102, 1.0738717266142512, 1.074800028824674, 1.0979416694602748, 1.079043466578732, 1.080372604724338, 1.0742362653480284, 1.0581735551697906, 1.0516299088504466, 1.047140791376364, 1.0544926517357973, 1.0650819476963371, 1.0716196579604307, 1.0696911116365102, 1.0369568609095874, 1.034686828032825, 1.0299492262763108, 1.03882604168505, 1.0367010402686465, 1.042552029278418, 1.0329980090118411, 1.0288753182726544, 1.018239988957412, 1.0223721986337515, 1.0283465610971152, 1.0482874220613563, 1.0252455588550544, 1.0225501411793942, 1.0216086887292901, 1.0150239324722838, 1.0164340496375377, 1.0226603217765693, 1.0256257750514108, 1.021741025572995, 1.0197797224458303, 1.0160566894991288, 1.0121618960671643, 1.012804550213645, 1.0196799519438973, 1.0179198334058301, 1.0175707186094165, 1.0173499856160781, 1.0133813071232627, 1.0109177798803664, 1.0104540450332975, 1.01508396026174, 1.014943332261018, 1.014656268000329, 1.0157271241830066, 1.0116452372221763, 1.0086611595372141, 1.0033964615362323, 1.012191071433729, 1.0147778050436858, 1.0131510500875893, 1.0126528527895113, 1.0116725545600798, 1.0078779406824658, 1.0094371572949146, 1.0128877302949533, 1.0146270547936203, 1.013444572553795, 1.0127497801321252, 1.0097922152015368, 1.006857328566786, 1.009432580266317, 1.0120329010803046, 1.0115835933930255, 1.0126282405516447, 1.0093412042727052, 1.0102091428598294, 1.0077534171347726, 1.0088482906081584, 1.015534091689364, 1.0118819825241099, 1.0111923094913011, 1.013729256333784, 1.009228054851193, 1.0083944418847988, 1.0081174619373876, 1.011466087785249, 1.0108293951493859, 1.013590575875019, 1.0099484592967412, 1.0091968676015297, 1.006370116394478, 1.0071924958956948, 1.0113684468727375, 1.0097013509522383, 1.009846405374359, 1.0098098643422748, 1.0082556712624375, 1.006618661120029, 1.0071104373134188, 1.0113420952862378, 1.009755837607293, 1.0099236391165722, 1.0095251996129373, 1.0088034485528394, 1.0070563214058854, 1.0068592914056804, 1.00982621335674, 1.0094437436278492, 1.0099237359947275, 1.011200911260577, 1.0094273836663539, 1.0066939672923891, 1.0061496333808961, 1.0107485453558775, 1.0113479502805358, 1.015974466515369, 1.0098649469970242, 1.0087509223015645, 1.0052626522155519, 1.0084045272222204, 1.0085087518153328, 1.0112093688799422, 1.0092968036803471, 1.009390877645315, 1.0081808497489833, 1.0062930898604194, 1.0067163832761912, 1.0097199552251062, 1.0100529900725652, 1.0100701762316155, 1.0089404959856572, 1.0075735944356812, 1.0062785623687953, 1.007045969688933, 1.0084614382137176, 1.0093973500038365, 1.0079829299193173, 1.013405024370366, 1.0070277087293464, 1.005451474101933, 0.9984501441546452, 1.0088938650797956, 1.008604259121065, 1.0076577199690848, 1.0069420917207497, 1.0064789764718096, 1.0052914852818915, 1.0055269381059575, 1.0077180490227657, 1.0076613769007046, 1.007143064689531, 1.0066548379806606, 1.0062740920837054, 1.0047848139120363, 1.0049025744716533, 1.0075853647356934, 1.0071036727971323, 1.0066238665358649, 1.0065008882629627, 1.005652966178229, 1.004601532101029, 1.01031960215218, 1.0054867702645947, 1.0070830743594714, 1.006408349214109, 1.0064686507818759, 1.0053340583721786, 1.003967641941223, 1.0036641924983043, 1.0081693322899352, 1.006215005180062, 1.005811099423034, 1.0060215571746853, 1.0054993232167628, 1.0038599070948768, 1.0042976097341745, 1.0062246015229503, 1.0057465111203534, 1.0068519090970507, 1.0059980806142035, 1.005339811712014, 1.0036327741769464, 1.0039190902662738, 1.0060656910348489, 1.0063870992692667, 1.0084177439697304, 1.0050272467982446, 1.0051965450995948, 1.0036463416167511, 1.0067371249215802, 1.005523254144355, 1.0055547939728344, 1.005868714610439, 1.005791178734995, 1.0044982786387444, 1.003640638770008, 1.0036385710811568, 1.005038538158048, 1.0055580401099093, 1.0055767354775182, 1.0055776595125077, 1.0049503292828719, 1.0030303112170145, 1.0044576643095962, 1.0058724839713367, 1.0059039567351227, 1.0051784864013937, 1.0061299658215956, 1.0049177693068303, 1.0035568443176544, 1.0048382486683123, 1.0063544274119587, 1.0061301507141707, 1.0059838336887539, 1.0066210034069734, 1.0055097947235772, 1.0041326943528484, 1.004759307752193, 1.0067289230159828, 1.0094678277418383, 1.0065527625406387, 1.0078095316792357, 1.0060786364305012, 1.0045861627320747, 1.005653244849606, 1.0079292081310367, 1.008194026513086, 1.0077429668116316, 1.00737764865155, 1.006893538074685, 1.0047662482621467, 1.0059401574039413, 1.008367601982974, 1.008461768895921, 1.0081344597077195, 1.0086985466417129, 1.006398811149841, 1.0051102429971213, 1.0059873296754498, 1.0091473126816057, 1.0085529381970944, 1.0075547846735147, 1.007414367579786, 1.0067506981449785, 1.0047623570742237, 1.0059509333998278, 1.0087493139061519, 1.0083952944226244, 1.0083802959279446, 1.008238949450958, 1.0067150862267642, 1.0047015177242247]}],                        {\"legend\": {\"traceorder\": \"normal\", \"x\": 0, \"y\": -0.4}, \"template\": {\"data\": {\"bar\": [{\"error_x\": {\"color\": \"#2a3f5f\"}, \"error_y\": {\"color\": \"#2a3f5f\"}, \"marker\": {\"line\": {\"color\": \"#E5ECF6\", \"width\": 0.5}}, \"type\": \"bar\"}], \"barpolar\": [{\"marker\": {\"line\": {\"color\": \"#E5ECF6\", \"width\": 0.5}}, \"type\": \"barpolar\"}], \"carpet\": [{\"aaxis\": {\"endlinecolor\": \"#2a3f5f\", \"gridcolor\": \"white\", \"linecolor\": \"white\", \"minorgridcolor\": \"white\", \"startlinecolor\": \"#2a3f5f\"}, \"baxis\": {\"endlinecolor\": \"#2a3f5f\", \"gridcolor\": \"white\", \"linecolor\": \"white\", \"minorgridcolor\": \"white\", \"startlinecolor\": \"#2a3f5f\"}, \"type\": \"carpet\"}], \"choropleth\": [{\"colorbar\": {\"outlinewidth\": 0, \"ticks\": \"\"}, \"type\": \"choropleth\"}], \"contour\": [{\"colorbar\": {\"outlinewidth\": 0, \"ticks\": \"\"}, \"colorscale\": [[0.0, \"#0d0887\"], [0.1111111111111111, \"#46039f\"], [0.2222222222222222, \"#7201a8\"], [0.3333333333333333, \"#9c179e\"], [0.4444444444444444, \"#bd3786\"], [0.5555555555555556, \"#d8576b\"], [0.6666666666666666, \"#ed7953\"], [0.7777777777777778, \"#fb9f3a\"], [0.8888888888888888, \"#fdca26\"], [1.0, \"#f0f921\"]], \"type\": \"contour\"}], \"contourcarpet\": [{\"colorbar\": {\"outlinewidth\": 0, \"ticks\": \"\"}, \"type\": \"contourcarpet\"}], \"heatmap\": [{\"colorbar\": {\"outlinewidth\": 0, \"ticks\": \"\"}, \"colorscale\": [[0.0, \"#0d0887\"], [0.1111111111111111, \"#46039f\"], [0.2222222222222222, \"#7201a8\"], [0.3333333333333333, \"#9c179e\"], [0.4444444444444444, \"#bd3786\"], [0.5555555555555556, \"#d8576b\"], [0.6666666666666666, \"#ed7953\"], [0.7777777777777778, \"#fb9f3a\"], [0.8888888888888888, \"#fdca26\"], [1.0, \"#f0f921\"]], \"type\": \"heatmap\"}], \"heatmapgl\": [{\"colorbar\": {\"outlinewidth\": 0, \"ticks\": \"\"}, \"colorscale\": [[0.0, \"#0d0887\"], [0.1111111111111111, \"#46039f\"], [0.2222222222222222, \"#7201a8\"], [0.3333333333333333, \"#9c179e\"], [0.4444444444444444, \"#bd3786\"], [0.5555555555555556, \"#d8576b\"], [0.6666666666666666, \"#ed7953\"], [0.7777777777777778, \"#fb9f3a\"], [0.8888888888888888, \"#fdca26\"], [1.0, \"#f0f921\"]], \"type\": \"heatmapgl\"}], \"histogram\": [{\"marker\": {\"colorbar\": {\"outlinewidth\": 0, \"ticks\": \"\"}}, \"type\": \"histogram\"}], \"histogram2d\": [{\"colorbar\": {\"outlinewidth\": 0, \"ticks\": \"\"}, \"colorscale\": [[0.0, \"#0d0887\"], [0.1111111111111111, \"#46039f\"], [0.2222222222222222, \"#7201a8\"], [0.3333333333333333, \"#9c179e\"], [0.4444444444444444, \"#bd3786\"], [0.5555555555555556, \"#d8576b\"], [0.6666666666666666, \"#ed7953\"], [0.7777777777777778, \"#fb9f3a\"], [0.8888888888888888, \"#fdca26\"], [1.0, \"#f0f921\"]], \"type\": \"histogram2d\"}], \"histogram2dcontour\": [{\"colorbar\": {\"outlinewidth\": 0, \"ticks\": \"\"}, \"colorscale\": [[0.0, \"#0d0887\"], [0.1111111111111111, \"#46039f\"], [0.2222222222222222, \"#7201a8\"], [0.3333333333333333, \"#9c179e\"], [0.4444444444444444, \"#bd3786\"], [0.5555555555555556, \"#d8576b\"], [0.6666666666666666, \"#ed7953\"], [0.7777777777777778, \"#fb9f3a\"], [0.8888888888888888, \"#fdca26\"], [1.0, \"#f0f921\"]], \"type\": \"histogram2dcontour\"}], \"mesh3d\": [{\"colorbar\": {\"outlinewidth\": 0, \"ticks\": \"\"}, \"type\": \"mesh3d\"}], \"parcoords\": [{\"line\": {\"colorbar\": {\"outlinewidth\": 0, \"ticks\": \"\"}}, \"type\": \"parcoords\"}], \"pie\": [{\"automargin\": true, \"type\": \"pie\"}], \"scatter\": [{\"marker\": {\"colorbar\": {\"outlinewidth\": 0, \"ticks\": \"\"}}, \"type\": \"scatter\"}], \"scatter3d\": [{\"line\": {\"colorbar\": {\"outlinewidth\": 0, \"ticks\": \"\"}}, \"marker\": {\"colorbar\": {\"outlinewidth\": 0, \"ticks\": \"\"}}, \"type\": \"scatter3d\"}], \"scattercarpet\": [{\"marker\": {\"colorbar\": {\"outlinewidth\": 0, \"ticks\": \"\"}}, \"type\": \"scattercarpet\"}], \"scattergeo\": [{\"marker\": {\"colorbar\": {\"outlinewidth\": 0, \"ticks\": \"\"}}, \"type\": \"scattergeo\"}], \"scattergl\": [{\"marker\": {\"colorbar\": {\"outlinewidth\": 0, \"ticks\": \"\"}}, \"type\": \"scattergl\"}], \"scattermapbox\": [{\"marker\": {\"colorbar\": {\"outlinewidth\": 0, \"ticks\": \"\"}}, \"type\": \"scattermapbox\"}], \"scatterpolar\": [{\"marker\": {\"colorbar\": {\"outlinewidth\": 0, \"ticks\": \"\"}}, \"type\": \"scatterpolar\"}], \"scatterpolargl\": [{\"marker\": {\"colorbar\": {\"outlinewidth\": 0, \"ticks\": \"\"}}, \"type\": \"scatterpolargl\"}], \"scatterternary\": [{\"marker\": {\"colorbar\": {\"outlinewidth\": 0, \"ticks\": \"\"}}, \"type\": \"scatterternary\"}], \"surface\": [{\"colorbar\": {\"outlinewidth\": 0, \"ticks\": \"\"}, \"colorscale\": [[0.0, \"#0d0887\"], [0.1111111111111111, \"#46039f\"], [0.2222222222222222, \"#7201a8\"], [0.3333333333333333, \"#9c179e\"], [0.4444444444444444, \"#bd3786\"], [0.5555555555555556, \"#d8576b\"], [0.6666666666666666, \"#ed7953\"], [0.7777777777777778, \"#fb9f3a\"], [0.8888888888888888, \"#fdca26\"], [1.0, \"#f0f921\"]], \"type\": \"surface\"}], \"table\": [{\"cells\": {\"fill\": {\"color\": \"#EBF0F8\"}, \"line\": {\"color\": \"white\"}}, \"header\": {\"fill\": {\"color\": \"#C8D4E3\"}, \"line\": {\"color\": \"white\"}}, \"type\": \"table\"}]}, \"layout\": {\"annotationdefaults\": {\"arrowcolor\": \"#2a3f5f\", \"arrowhead\": 0, \"arrowwidth\": 1}, \"autotypenumbers\": \"strict\", \"coloraxis\": {\"colorbar\": {\"outlinewidth\": 0, \"ticks\": \"\"}}, \"colorscale\": {\"diverging\": [[0, \"#8e0152\"], [0.1, \"#c51b7d\"], [0.2, \"#de77ae\"], [0.3, \"#f1b6da\"], [0.4, \"#fde0ef\"], [0.5, \"#f7f7f7\"], [0.6, \"#e6f5d0\"], [0.7, \"#b8e186\"], [0.8, \"#7fbc41\"], [0.9, \"#4d9221\"], [1, \"#276419\"]], \"sequential\": [[0.0, \"#0d0887\"], [0.1111111111111111, \"#46039f\"], [0.2222222222222222, \"#7201a8\"], [0.3333333333333333, \"#9c179e\"], [0.4444444444444444, \"#bd3786\"], [0.5555555555555556, \"#d8576b\"], [0.6666666666666666, \"#ed7953\"], [0.7777777777777778, \"#fb9f3a\"], [0.8888888888888888, \"#fdca26\"], [1.0, \"#f0f921\"]], \"sequentialminus\": [[0.0, \"#0d0887\"], [0.1111111111111111, \"#46039f\"], [0.2222222222222222, \"#7201a8\"], [0.3333333333333333, \"#9c179e\"], [0.4444444444444444, \"#bd3786\"], [0.5555555555555556, \"#d8576b\"], [0.6666666666666666, \"#ed7953\"], [0.7777777777777778, \"#fb9f3a\"], [0.8888888888888888, \"#fdca26\"], [1.0, \"#f0f921\"]]}, \"colorway\": [\"#636efa\", \"#EF553B\", \"#00cc96\", \"#ab63fa\", \"#FFA15A\", \"#19d3f3\", \"#FF6692\", \"#B6E880\", \"#FF97FF\", \"#FECB52\"], \"font\": {\"color\": \"#2a3f5f\"}, \"geo\": {\"bgcolor\": \"white\", \"lakecolor\": \"white\", \"landcolor\": \"#E5ECF6\", \"showlakes\": true, \"showland\": true, \"subunitcolor\": \"white\"}, \"hoverlabel\": {\"align\": \"left\"}, \"hovermode\": \"closest\", \"mapbox\": {\"style\": \"light\"}, \"paper_bgcolor\": \"white\", \"plot_bgcolor\": \"#E5ECF6\", \"polar\": {\"angularaxis\": {\"gridcolor\": \"white\", \"linecolor\": \"white\", \"ticks\": \"\"}, \"bgcolor\": \"#E5ECF6\", \"radialaxis\": {\"gridcolor\": \"white\", \"linecolor\": \"white\", \"ticks\": \"\"}}, \"scene\": {\"xaxis\": {\"backgroundcolor\": \"#E5ECF6\", \"gridcolor\": \"white\", \"gridwidth\": 2, \"linecolor\": \"white\", \"showbackground\": true, \"ticks\": \"\", \"zerolinecolor\": \"white\"}, \"yaxis\": {\"backgroundcolor\": \"#E5ECF6\", \"gridcolor\": \"white\", \"gridwidth\": 2, \"linecolor\": \"white\", \"showbackground\": true, \"ticks\": \"\", \"zerolinecolor\": \"white\"}, \"zaxis\": {\"backgroundcolor\": \"#E5ECF6\", \"gridcolor\": \"white\", \"gridwidth\": 2, \"linecolor\": \"white\", \"showbackground\": true, \"ticks\": \"\", \"zerolinecolor\": \"white\"}}, \"shapedefaults\": {\"line\": {\"color\": \"#2a3f5f\"}}, \"ternary\": {\"aaxis\": {\"gridcolor\": \"white\", \"linecolor\": \"white\", \"ticks\": \"\"}, \"baxis\": {\"gridcolor\": \"white\", \"linecolor\": \"white\", \"ticks\": \"\"}, \"bgcolor\": \"#E5ECF6\", \"caxis\": {\"gridcolor\": \"white\", \"linecolor\": \"white\", \"ticks\": \"\"}}, \"title\": {\"x\": 0.05}, \"xaxis\": {\"automargin\": true, \"gridcolor\": \"white\", \"linecolor\": \"white\", \"ticks\": \"\", \"title\": {\"standoff\": 15}, \"zerolinecolor\": \"white\", \"zerolinewidth\": 2}, \"yaxis\": {\"automargin\": true, \"gridcolor\": \"white\", \"linecolor\": \"white\", \"ticks\": \"\", \"title\": {\"standoff\": 15}, \"zerolinecolor\": \"white\", \"zerolinewidth\": 2}}}, \"title\": {\"text\": \"Growth Factor for different types of cases\"}, \"xaxis\": {\"title\": {\"text\": \"Date\"}}, \"yaxis\": {\"title\": {\"text\": \"Growth Factor\"}}},                        {\"responsive\": true}                    ).then(function(){\n",
       "                            \n",
       "var gd = document.getElementById('d4b2ef19-485d-4ebf-a4df-101c191456d4');\n",
       "var x = new MutationObserver(function (mutations, observer) {{\n",
       "        var display = window.getComputedStyle(gd).display;\n",
       "        if (!display || display === 'none') {{\n",
       "            console.log([gd, 'removed!']);\n",
       "            Plotly.purge(gd);\n",
       "            observer.disconnect();\n",
       "        }}\n",
       "}});\n",
       "\n",
       "// Listen for the removal of the full notebook cells\n",
       "var notebookContainer = gd.closest('#notebook-container');\n",
       "if (notebookContainer) {{\n",
       "    x.observe(notebookContainer, {childList: true});\n",
       "}}\n",
       "\n",
       "// Listen for the clearing of the current output cell\n",
       "var outputEl = gd.closest('.output');\n",
       "if (outputEl) {{\n",
       "    x.observe(outputEl, {childList: true});\n",
       "}}\n",
       "\n",
       "                        })                };                });            </script>        </div>"
      ]
     },
     "metadata": {},
     "output_type": "display_data"
    }
   ],
   "source": [
    "#Plotting the growth factor for confirmed, recovered and death cases\n",
    "figure = go.Figure()\n",
    "figure.add_trace(go.Scatter(x = grouped_date.index, y = grouped_date[\"Confirmed\"] / grouped_date[\"Confirmed\"].shift(), mode = 'lines', name = 'Growth Factor of Confirmed Cases'))\n",
    "figure.add_trace(go.Scatter(x = grouped_date.index, y = grouped_date[\"Recovered\"] / grouped_date[\"Recovered\"].shift(), mode = 'lines', name = 'Growth Factor of Recovered Cases'))\n",
    "figure.add_trace(go.Scatter(x = grouped_date.index, y = grouped_date[\"Deaths\"] / grouped_date[\"Deaths\"].shift(), mode = 'lines', name = 'Growth Factor of Death Cases'))\n",
    "figure.update_layout(title = \"Growth Factor for different types of cases\", xaxis_title = \"Date\", yaxis_title = \"Growth Factor\", legend = dict(x = 0, y = -0.4, traceorder = \"normal\"))\n",
    "figure.show()"
   ]
  },
  {
   "cell_type": "code",
   "execution_count": 20,
   "metadata": {
    "execution": {
     "iopub.execute_input": "2021-01-14T18:16:24.304302Z",
     "iopub.status.busy": "2021-01-14T18:16:24.301645Z",
     "iopub.status.idle": "2021-01-14T18:16:24.310998Z",
     "shell.execute_reply": "2021-01-14T18:16:24.310443Z"
    },
    "papermill": {
     "duration": 0.087961,
     "end_time": "2021-01-14T18:16:24.311112",
     "exception": false,
     "start_time": "2021-01-14T18:16:24.223151",
     "status": "completed"
    },
    "tags": []
   },
   "outputs": [
    {
     "data": {
      "text/html": [
       "<div>                            <div id=\"66c97414-636b-4777-9b73-1107d613e108\" class=\"plotly-graph-div\" style=\"height:525px; width:100%;\"></div>            <script type=\"text/javascript\">                require([\"plotly\"], function(Plotly) {                    window.PLOTLYENV=window.PLOTLYENV || {};                                    if (document.getElementById(\"66c97414-636b-4777-9b73-1107d613e108\")) {                    Plotly.newPlot(                        \"66c97414-636b-4777-9b73-1107d613e108\",                        [{\"mode\": \"lines\", \"name\": \"Grouth Factor of Active Cases\", \"type\": \"scatter\", \"x\": [\"2020-01-22T00:00:00\", \"2020-01-23T00:00:00\", \"2020-01-24T00:00:00\", \"2020-01-25T00:00:00\", \"2020-01-26T00:00:00\", \"2020-01-27T00:00:00\", \"2020-01-28T00:00:00\", \"2020-01-29T00:00:00\", \"2020-01-30T00:00:00\", \"2020-01-31T00:00:00\", \"2020-02-01T00:00:00\", \"2020-02-02T00:00:00\", \"2020-02-03T00:00:00\", \"2020-02-04T00:00:00\", \"2020-02-05T00:00:00\", \"2020-02-06T00:00:00\", \"2020-02-07T00:00:00\", \"2020-02-08T00:00:00\", \"2020-02-09T00:00:00\", \"2020-02-10T00:00:00\", \"2020-02-11T00:00:00\", \"2020-02-12T00:00:00\", \"2020-02-13T00:00:00\", \"2020-02-14T00:00:00\", \"2020-02-15T00:00:00\", \"2020-02-16T00:00:00\", \"2020-02-17T00:00:00\", \"2020-02-18T00:00:00\", \"2020-02-19T00:00:00\", \"2020-02-20T00:00:00\", \"2020-02-21T00:00:00\", \"2020-02-22T00:00:00\", \"2020-02-23T00:00:00\", \"2020-02-24T00:00:00\", \"2020-02-25T00:00:00\", \"2020-02-26T00:00:00\", \"2020-02-27T00:00:00\", \"2020-02-28T00:00:00\", \"2020-02-29T00:00:00\", \"2020-03-01T00:00:00\", \"2020-03-02T00:00:00\", \"2020-03-03T00:00:00\", \"2020-03-04T00:00:00\", \"2020-03-05T00:00:00\", \"2020-03-06T00:00:00\", \"2020-03-07T00:00:00\", \"2020-03-08T00:00:00\", \"2020-03-09T00:00:00\", \"2020-03-10T00:00:00\", \"2020-03-11T00:00:00\", \"2020-03-12T00:00:00\", \"2020-03-13T00:00:00\", \"2020-03-14T00:00:00\", \"2020-03-15T00:00:00\", \"2020-03-16T00:00:00\", \"2020-03-17T00:00:00\", \"2020-03-18T00:00:00\", \"2020-03-19T00:00:00\", \"2020-03-20T00:00:00\", \"2020-03-21T00:00:00\", \"2020-03-22T00:00:00\", \"2020-03-23T00:00:00\", \"2020-03-24T00:00:00\", \"2020-03-25T00:00:00\", \"2020-03-26T00:00:00\", \"2020-03-27T00:00:00\", \"2020-03-28T00:00:00\", \"2020-03-29T00:00:00\", \"2020-03-30T00:00:00\", \"2020-03-31T00:00:00\", \"2020-04-01T00:00:00\", \"2020-04-02T00:00:00\", \"2020-04-03T00:00:00\", \"2020-04-04T00:00:00\", \"2020-04-05T00:00:00\", \"2020-04-06T00:00:00\", \"2020-04-07T00:00:00\", \"2020-04-08T00:00:00\", \"2020-04-09T00:00:00\", \"2020-04-10T00:00:00\", \"2020-04-11T00:00:00\", \"2020-04-12T00:00:00\", \"2020-04-13T00:00:00\", \"2020-04-14T00:00:00\", \"2020-04-15T00:00:00\", \"2020-04-16T00:00:00\", \"2020-04-17T00:00:00\", \"2020-04-18T00:00:00\", \"2020-04-19T00:00:00\", \"2020-04-20T00:00:00\", \"2020-04-21T00:00:00\", \"2020-04-22T00:00:00\", \"2020-04-23T00:00:00\", \"2020-04-24T00:00:00\", \"2020-04-25T00:00:00\", \"2020-04-26T00:00:00\", \"2020-04-27T00:00:00\", \"2020-04-28T00:00:00\", \"2020-04-29T00:00:00\", \"2020-04-30T00:00:00\", \"2020-05-01T00:00:00\", \"2020-05-02T00:00:00\", \"2020-05-03T00:00:00\", \"2020-05-04T00:00:00\", \"2020-05-05T00:00:00\", \"2020-05-06T00:00:00\", \"2020-05-07T00:00:00\", \"2020-05-08T00:00:00\", \"2020-05-09T00:00:00\", \"2020-05-10T00:00:00\", \"2020-05-11T00:00:00\", \"2020-05-12T00:00:00\", \"2020-05-13T00:00:00\", \"2020-05-14T00:00:00\", \"2020-05-15T00:00:00\", \"2020-05-16T00:00:00\", \"2020-05-17T00:00:00\", \"2020-05-18T00:00:00\", \"2020-05-19T00:00:00\", \"2020-05-20T00:00:00\", \"2020-05-21T00:00:00\", \"2020-05-22T00:00:00\", \"2020-05-23T00:00:00\", \"2020-05-24T00:00:00\", \"2020-05-25T00:00:00\", \"2020-05-26T00:00:00\", \"2020-05-27T00:00:00\", \"2020-05-28T00:00:00\", \"2020-05-29T00:00:00\", \"2020-05-30T00:00:00\", \"2020-05-31T00:00:00\", \"2020-06-01T00:00:00\", \"2020-06-02T00:00:00\", \"2020-06-03T00:00:00\", \"2020-06-04T00:00:00\", \"2020-06-05T00:00:00\", \"2020-06-06T00:00:00\", \"2020-06-07T00:00:00\", \"2020-06-08T00:00:00\", \"2020-06-09T00:00:00\", \"2020-06-10T00:00:00\", \"2020-06-11T00:00:00\", \"2020-06-12T00:00:00\", \"2020-06-13T00:00:00\", \"2020-06-14T00:00:00\", \"2020-06-15T00:00:00\", \"2020-06-16T00:00:00\", \"2020-06-17T00:00:00\", \"2020-06-18T00:00:00\", \"2020-06-19T00:00:00\", \"2020-06-20T00:00:00\", \"2020-06-21T00:00:00\", \"2020-06-22T00:00:00\", \"2020-06-23T00:00:00\", \"2020-06-24T00:00:00\", \"2020-06-25T00:00:00\", \"2020-06-26T00:00:00\", \"2020-06-27T00:00:00\", \"2020-06-28T00:00:00\", \"2020-06-29T00:00:00\", \"2020-06-30T00:00:00\", \"2020-07-01T00:00:00\", \"2020-07-02T00:00:00\", \"2020-07-03T00:00:00\", \"2020-07-04T00:00:00\", \"2020-07-05T00:00:00\", \"2020-07-06T00:00:00\", \"2020-07-07T00:00:00\", \"2020-07-08T00:00:00\", \"2020-07-09T00:00:00\", \"2020-07-10T00:00:00\", \"2020-07-11T00:00:00\", \"2020-07-12T00:00:00\", \"2020-07-13T00:00:00\", \"2020-07-14T00:00:00\", \"2020-07-15T00:00:00\", \"2020-07-16T00:00:00\", \"2020-07-17T00:00:00\", \"2020-07-18T00:00:00\", \"2020-07-19T00:00:00\", \"2020-07-20T00:00:00\", \"2020-07-21T00:00:00\", \"2020-07-22T00:00:00\", \"2020-07-23T00:00:00\", \"2020-07-24T00:00:00\", \"2020-07-25T00:00:00\", \"2020-07-26T00:00:00\", \"2020-07-27T00:00:00\", \"2020-07-28T00:00:00\", \"2020-07-29T00:00:00\", \"2020-07-30T00:00:00\", \"2020-07-31T00:00:00\", \"2020-08-01T00:00:00\", \"2020-08-02T00:00:00\", \"2020-08-03T00:00:00\", \"2020-08-04T00:00:00\", \"2020-08-05T00:00:00\", \"2020-08-06T00:00:00\", \"2020-08-07T00:00:00\", \"2020-08-08T00:00:00\", \"2020-08-09T00:00:00\", \"2020-08-10T00:00:00\", \"2020-08-11T00:00:00\", \"2020-08-12T00:00:00\", \"2020-08-13T00:00:00\", \"2020-08-14T00:00:00\", \"2020-08-15T00:00:00\", \"2020-08-16T00:00:00\", \"2020-08-17T00:00:00\", \"2020-08-18T00:00:00\", \"2020-08-19T00:00:00\", \"2020-08-20T00:00:00\", \"2020-08-21T00:00:00\", \"2020-08-22T00:00:00\", \"2020-08-23T00:00:00\", \"2020-08-24T00:00:00\", \"2020-08-25T00:00:00\", \"2020-08-26T00:00:00\", \"2020-08-27T00:00:00\", \"2020-08-28T00:00:00\", \"2020-08-29T00:00:00\", \"2020-08-30T00:00:00\", \"2020-08-31T00:00:00\", \"2020-09-01T00:00:00\", \"2020-09-02T00:00:00\", \"2020-09-03T00:00:00\", \"2020-09-04T00:00:00\", \"2020-09-05T00:00:00\", \"2020-09-06T00:00:00\", \"2020-09-07T00:00:00\", \"2020-09-08T00:00:00\", \"2020-09-09T00:00:00\", \"2020-09-10T00:00:00\", \"2020-09-11T00:00:00\", \"2020-09-12T00:00:00\", \"2020-09-13T00:00:00\", \"2020-09-14T00:00:00\", \"2020-09-15T00:00:00\", \"2020-09-16T00:00:00\", \"2020-09-17T00:00:00\", \"2020-09-18T00:00:00\", \"2020-09-19T00:00:00\", \"2020-09-20T00:00:00\", \"2020-09-21T00:00:00\", \"2020-09-22T00:00:00\", \"2020-09-23T00:00:00\", \"2020-09-24T00:00:00\", \"2020-09-25T00:00:00\", \"2020-09-26T00:00:00\", \"2020-09-27T00:00:00\", \"2020-09-28T00:00:00\", \"2020-09-29T00:00:00\", \"2020-09-30T00:00:00\", \"2020-10-01T00:00:00\", \"2020-10-02T00:00:00\", \"2020-10-03T00:00:00\", \"2020-10-04T00:00:00\", \"2020-10-05T00:00:00\", \"2020-10-06T00:00:00\", \"2020-10-07T00:00:00\", \"2020-10-08T00:00:00\", \"2020-10-09T00:00:00\", \"2020-10-10T00:00:00\", \"2020-10-11T00:00:00\", \"2020-10-12T00:00:00\", \"2020-10-13T00:00:00\", \"2020-10-14T00:00:00\", \"2020-10-15T00:00:00\", \"2020-10-16T00:00:00\", \"2020-10-17T00:00:00\", \"2020-10-18T00:00:00\", \"2020-10-19T00:00:00\", \"2020-10-20T00:00:00\", \"2020-10-21T00:00:00\", \"2020-10-22T00:00:00\", \"2020-10-23T00:00:00\", \"2020-10-24T00:00:00\", \"2020-10-25T00:00:00\", \"2020-10-26T00:00:00\", \"2020-10-27T00:00:00\", \"2020-10-28T00:00:00\", \"2020-10-29T00:00:00\", \"2020-10-30T00:00:00\", \"2020-10-31T00:00:00\", \"2020-11-01T00:00:00\", \"2020-11-02T00:00:00\", \"2020-11-03T00:00:00\", \"2020-11-04T00:00:00\", \"2020-11-05T00:00:00\", \"2020-11-06T00:00:00\", \"2020-11-07T00:00:00\", \"2020-11-08T00:00:00\", \"2020-11-09T00:00:00\", \"2020-11-10T00:00:00\", \"2020-11-11T00:00:00\", \"2020-11-12T00:00:00\", \"2020-11-13T00:00:00\", \"2020-11-14T00:00:00\", \"2020-11-15T00:00:00\", \"2020-11-16T00:00:00\", \"2020-11-17T00:00:00\", \"2020-11-18T00:00:00\", \"2020-11-19T00:00:00\", \"2020-11-20T00:00:00\", \"2020-11-21T00:00:00\", \"2020-11-22T00:00:00\", \"2020-11-23T00:00:00\", \"2020-11-24T00:00:00\", \"2020-11-25T00:00:00\", \"2020-11-26T00:00:00\", \"2020-11-27T00:00:00\", \"2020-11-28T00:00:00\", \"2020-11-29T00:00:00\", \"2020-11-30T00:00:00\", \"2020-12-01T00:00:00\", \"2020-12-02T00:00:00\", \"2020-12-03T00:00:00\", \"2020-12-04T00:00:00\", \"2020-12-05T00:00:00\", \"2020-12-06T00:00:00\"], \"y\": [null, 1.1862745098039216, 1.4528925619834712, 1.5437997724687145, 1.4812085482682387, 1.3850746268656717, 1.918103448275862, 1.1059925093632959, 1.3411784625804266, 1.1980810503724277, 1.2112750263435195, 1.3878207916485428, 1.1804676236444556, 1.19732370433305, 1.1507894270001775, 1.105942654539849, 1.1033209046241768, 1.0643357968542733, 1.068310632362978, 1.050081942168273, 1.0318220294148768, 0.998641269515728, 1.3529804384658828, 1.0873178506375227, 1.011604369525006, 1.0106950026737507, 1.0037207079585602, 0.9994898739988777, 0.9765052144473366, 0.9717237534408865, 0.998691169878978, 0.9560698000071811, 0.9975025819171909, 0.9734949738338164, 0.9630274200409947, 0.9686960363037629, 0.9673113197769625, 0.9545279218274547, 0.9718480603448276, 0.9853776853776853, 0.9758070187776918, 0.9960360360360361, 0.9817414375301495, 1.001056433186743, 1.0425317822608353, 1.0341109724805198, 1.0320296849389912, 1.038447115914856, 1.0607077615871532, 1.0861102210829863, 1.0194151486097796, 1.2576280996219862, 1.1166784116894137, 1.0939391597764212, 1.1345067106192606, 1.12565765578789, 1.1333868023673876, 1.202557282643176, 1.1740053839806286, 1.1525994976148226, 1.1271125018119654, 1.1577327497128462, 1.1178444471684237, 1.1406723322596122, 1.1530983474078547, 1.135022262285942, 1.1270787473689285, 1.0944580894542404, 1.0804684752411133, 1.0984281327553573, 1.086207410171543, 1.0828471294000133, 1.0817060507053669, 1.0928153932796119, 1.0631785725562366, 1.0543670331581838, 1.050561729935055, 1.0480583797903735, 1.0471785426162812, 1.0585057422124815, 1.0393770946359187, 1.0396973491484078, 1.0291766364186237, 1.0197761655849955, 1.0254464983266534, 1.0394854992810059, 1.0348773072850652, 1.0316569029718, 1.0296637310103525, 1.027297084416108, 1.0219695565578735, 1.0226693124240522, 1.0278734272710521, 1.0228054400359672, 1.031476170067803, 1.0114943753309333, 1.0196872412899638, 1.0175692209642775, 1.0117523455204809, 1.007507274004214, 1.0215239759705033, 1.0189101834525658, 1.02076934006063, 1.0163159239012, 1.01748300762697, 1.0178546988172401, 1.0201609043198567, 1.0217361037460102, 1.0119683231148224, 1.017212100643681, 1.0104195066243895, 1.0171837550042795, 1.0098709724046404, 1.0202066603896922, 1.017927724781385, 1.0121886757731398, 1.0135073919243194, 1.0120585469248304, 1.0143800165974612, 1.0129504623885701, 1.0180360555105459, 0.9983321416683475, 1.0142524992206026, 1.0132183081111756, 1.0080223234677665, 1.012062485946352, 1.0114835044433976, 1.0155985841568478, 1.0109806091114164, 1.019429757378328, 1.0089732491607373, 1.0127926118132864, 1.0257457215163244, 1.0126283458112182, 1.0163641980424807, 0.9968401116043165, 1.0148369161846316, 1.0163564845986697, 0.9861921021339137, 1.0106173131953857, 1.0099229682960424, 1.0180363328367732, 1.0117980567178109, 1.012496119476722, 1.016210514979128, 1.011270408978477, 1.0093025295095186, 1.0139141849990623, 1.0137595504901753, 1.0212344700389102, 0.9965391357756461, 1.0230425750436547, 1.0149258681633704, 1.0136359978246396, 1.0111298667303117, 1.0190047027537903, 1.0189381750999529, 1.0151470672151108, 1.0170986246738785, 1.0125934006665254, 1.0110501657755018, 0.9972926373306895, 0.9992565409720923, 1.0194615744907378, 0.998297966052361, 1.0126433730025894, 1.0091171609324239, 1.0123285725551672, 1.010148037238881, 1.0176969988559024, 1.0174159943494399, 1.0172992306184765, 1.014955648271646, 1.0093928729352277, 1.0136638161365419, 1.0124112782200945, 1.016898159607111, 1.0109292307379325, 1.0144837019946287, 1.0216641345380337, 1.0068738012323644, 1.0096995992648166, 1.0162607975464202, 1.0160095077478648, 1.0078263517673451, 1.0046385344938054, 1.010542856728095, 1.0084231859224684, 1.0101062726403172, 1.0147216418720473, 1.0095337873068457, 1.0132483542035233, 1.009352485805939, 1.0134558149369437, 0.9964675226991887, 1.0046399511158437, 1.006745089550657, 1.0134308924742312, 1.0123550195289583, 1.0077428059422997, 1.0061670186598897, 1.008202612281129, 0.9919762253089375, 1.005758614971972, 1.015144793252062, 1.0015363544167923, 1.0106728433003511, 0.996837426449576, 1.0000943603329606, 1.0029708958302195, 1.0069191780067215, 1.007397304420573, 1.0132637854961122, 1.0067128546731419, 0.9982302812129076, 1.002959649818554, 1.0007289873032827, 1.0073734441752462, 1.00805288580425, 1.0103274247769491, 1.00594558252309, 1.0016334362560801, 1.0073900764364363, 1.0004790471414282, 1.0074429065602752, 1.0059024623569777, 1.012056270143801, 1.007034397904874, 1.0008781886966138, 1.0040928911119502, 1.004165889120027, 1.004305326181891, 1.0092476324823183, 1.011020727503683, 1.0058365089825507, 1.005320987408144, 1.00515610585082, 1.0067831230626654, 1.0079190291317184, 1.0103435990321388, 1.0078647052562852, 1.0042780341390194, 1.0002151693850525, 1.0056261309946892, 1.0068461010262963, 0.9992312812857788, 1.0113800403065698, 1.0099912399840703, 1.000787840085216, 1.0029039058907352, 1.0050684572837458, 1.0043975968545362, 1.0078279328838564, 1.0097021062317313, 1.0126888954827358, 1.0043003808752968, 1.0039334115372414, 1.0084044224342734, 1.0096155333813437, 1.008927737713225, 1.013786081027907, 1.0147200742795628, 1.0127451920322716, 1.0043424069207925, 1.0116990060040014, 1.0128243475695675, 1.0153670010482223, 1.0180998901044218, 1.0184332508748406, 1.0123015312706718, 1.007283551351598, 1.0212034225648614, 1.0149950740070566, 1.0191432227408344, 1.0199920632375912, 1.0237953673363342, 1.015378700254512, 1.0149579008607863, 1.019231130863207, 0.9903877407705798, 1.0188848873293566, 1.021461854808619, 1.0858570054893857, 0.955898830347748, 1.0126741576287013, 1.011509977044378, 1.0152338053523946, 1.0268976687672544, 1.0187656968648768, 1.0224777932698972, 1.013054635901011, 1.0193375789905021, 1.0126077182511637, 1.0179270026037248, 1.0152597733021365, 1.0243197593462119, 1.0194526056088744, 1.0173484486200235, 1.013208604664422, 1.007226582574088, 1.0088847254141329, 1.013471217071087, 1.014202913477412, 1.0156814583302047, 1.012321285857275, 1.0104596990119676, 1.0052227154208382, 1.0102562661274634, 1.0091576965589524, 1.0101269375997683, 1.0139128390240253, 1.0112555769287903, 1.007318318599434, 1.0045301008315664, 1.0054834511814972, 1.0080828370050279, 1.0112454438640741, 1.0112961719280846, 1.008740259887647, 1.0095655125645964]}, {\"mode\": \"lines\", \"name\": \"Growth Factor for Closes Cases\", \"type\": \"scatter\", \"x\": [\"2020-01-22T00:00:00\", \"2020-01-23T00:00:00\", \"2020-01-24T00:00:00\", \"2020-01-25T00:00:00\", \"2020-01-26T00:00:00\", \"2020-01-27T00:00:00\", \"2020-01-28T00:00:00\", \"2020-01-29T00:00:00\", \"2020-01-30T00:00:00\", \"2020-01-31T00:00:00\", \"2020-02-01T00:00:00\", \"2020-02-02T00:00:00\", \"2020-02-03T00:00:00\", \"2020-02-04T00:00:00\", \"2020-02-05T00:00:00\", \"2020-02-06T00:00:00\", \"2020-02-07T00:00:00\", \"2020-02-08T00:00:00\", \"2020-02-09T00:00:00\", \"2020-02-10T00:00:00\", \"2020-02-11T00:00:00\", \"2020-02-12T00:00:00\", \"2020-02-13T00:00:00\", \"2020-02-14T00:00:00\", \"2020-02-15T00:00:00\", \"2020-02-16T00:00:00\", \"2020-02-17T00:00:00\", \"2020-02-18T00:00:00\", \"2020-02-19T00:00:00\", \"2020-02-20T00:00:00\", \"2020-02-21T00:00:00\", \"2020-02-22T00:00:00\", \"2020-02-23T00:00:00\", \"2020-02-24T00:00:00\", \"2020-02-25T00:00:00\", \"2020-02-26T00:00:00\", \"2020-02-27T00:00:00\", \"2020-02-28T00:00:00\", \"2020-02-29T00:00:00\", \"2020-03-01T00:00:00\", \"2020-03-02T00:00:00\", \"2020-03-03T00:00:00\", \"2020-03-04T00:00:00\", \"2020-03-05T00:00:00\", \"2020-03-06T00:00:00\", \"2020-03-07T00:00:00\", \"2020-03-08T00:00:00\", \"2020-03-09T00:00:00\", \"2020-03-10T00:00:00\", \"2020-03-11T00:00:00\", \"2020-03-12T00:00:00\", \"2020-03-13T00:00:00\", \"2020-03-14T00:00:00\", \"2020-03-15T00:00:00\", \"2020-03-16T00:00:00\", \"2020-03-17T00:00:00\", \"2020-03-18T00:00:00\", \"2020-03-19T00:00:00\", \"2020-03-20T00:00:00\", \"2020-03-21T00:00:00\", \"2020-03-22T00:00:00\", \"2020-03-23T00:00:00\", \"2020-03-24T00:00:00\", \"2020-03-25T00:00:00\", \"2020-03-26T00:00:00\", \"2020-03-27T00:00:00\", \"2020-03-28T00:00:00\", \"2020-03-29T00:00:00\", \"2020-03-30T00:00:00\", \"2020-03-31T00:00:00\", \"2020-04-01T00:00:00\", \"2020-04-02T00:00:00\", \"2020-04-03T00:00:00\", \"2020-04-04T00:00:00\", \"2020-04-05T00:00:00\", \"2020-04-06T00:00:00\", \"2020-04-07T00:00:00\", \"2020-04-08T00:00:00\", \"2020-04-09T00:00:00\", \"2020-04-10T00:00:00\", \"2020-04-11T00:00:00\", \"2020-04-12T00:00:00\", \"2020-04-13T00:00:00\", \"2020-04-14T00:00:00\", \"2020-04-15T00:00:00\", \"2020-04-16T00:00:00\", \"2020-04-17T00:00:00\", \"2020-04-18T00:00:00\", \"2020-04-19T00:00:00\", \"2020-04-20T00:00:00\", \"2020-04-21T00:00:00\", \"2020-04-22T00:00:00\", \"2020-04-23T00:00:00\", \"2020-04-24T00:00:00\", \"2020-04-25T00:00:00\", \"2020-04-26T00:00:00\", \"2020-04-27T00:00:00\", \"2020-04-28T00:00:00\", \"2020-04-29T00:00:00\", \"2020-04-30T00:00:00\", \"2020-05-01T00:00:00\", \"2020-05-02T00:00:00\", \"2020-05-03T00:00:00\", \"2020-05-04T00:00:00\", \"2020-05-05T00:00:00\", \"2020-05-06T00:00:00\", \"2020-05-07T00:00:00\", \"2020-05-08T00:00:00\", \"2020-05-09T00:00:00\", \"2020-05-10T00:00:00\", \"2020-05-11T00:00:00\", \"2020-05-12T00:00:00\", \"2020-05-13T00:00:00\", \"2020-05-14T00:00:00\", \"2020-05-15T00:00:00\", \"2020-05-16T00:00:00\", \"2020-05-17T00:00:00\", \"2020-05-18T00:00:00\", \"2020-05-19T00:00:00\", \"2020-05-20T00:00:00\", \"2020-05-21T00:00:00\", \"2020-05-22T00:00:00\", \"2020-05-23T00:00:00\", \"2020-05-24T00:00:00\", \"2020-05-25T00:00:00\", \"2020-05-26T00:00:00\", \"2020-05-27T00:00:00\", \"2020-05-28T00:00:00\", \"2020-05-29T00:00:00\", \"2020-05-30T00:00:00\", \"2020-05-31T00:00:00\", \"2020-06-01T00:00:00\", \"2020-06-02T00:00:00\", \"2020-06-03T00:00:00\", \"2020-06-04T00:00:00\", \"2020-06-05T00:00:00\", \"2020-06-06T00:00:00\", \"2020-06-07T00:00:00\", \"2020-06-08T00:00:00\", \"2020-06-09T00:00:00\", \"2020-06-10T00:00:00\", \"2020-06-11T00:00:00\", \"2020-06-12T00:00:00\", \"2020-06-13T00:00:00\", \"2020-06-14T00:00:00\", \"2020-06-15T00:00:00\", \"2020-06-16T00:00:00\", \"2020-06-17T00:00:00\", \"2020-06-18T00:00:00\", \"2020-06-19T00:00:00\", \"2020-06-20T00:00:00\", \"2020-06-21T00:00:00\", \"2020-06-22T00:00:00\", \"2020-06-23T00:00:00\", \"2020-06-24T00:00:00\", \"2020-06-25T00:00:00\", \"2020-06-26T00:00:00\", \"2020-06-27T00:00:00\", \"2020-06-28T00:00:00\", \"2020-06-29T00:00:00\", \"2020-06-30T00:00:00\", \"2020-07-01T00:00:00\", \"2020-07-02T00:00:00\", \"2020-07-03T00:00:00\", \"2020-07-04T00:00:00\", \"2020-07-05T00:00:00\", \"2020-07-06T00:00:00\", \"2020-07-07T00:00:00\", \"2020-07-08T00:00:00\", \"2020-07-09T00:00:00\", \"2020-07-10T00:00:00\", \"2020-07-11T00:00:00\", \"2020-07-12T00:00:00\", \"2020-07-13T00:00:00\", \"2020-07-14T00:00:00\", \"2020-07-15T00:00:00\", \"2020-07-16T00:00:00\", \"2020-07-17T00:00:00\", \"2020-07-18T00:00:00\", \"2020-07-19T00:00:00\", \"2020-07-20T00:00:00\", \"2020-07-21T00:00:00\", \"2020-07-22T00:00:00\", \"2020-07-23T00:00:00\", \"2020-07-24T00:00:00\", \"2020-07-25T00:00:00\", \"2020-07-26T00:00:00\", \"2020-07-27T00:00:00\", \"2020-07-28T00:00:00\", \"2020-07-29T00:00:00\", \"2020-07-30T00:00:00\", \"2020-07-31T00:00:00\", \"2020-08-01T00:00:00\", \"2020-08-02T00:00:00\", \"2020-08-03T00:00:00\", \"2020-08-04T00:00:00\", \"2020-08-05T00:00:00\", \"2020-08-06T00:00:00\", \"2020-08-07T00:00:00\", \"2020-08-08T00:00:00\", \"2020-08-09T00:00:00\", \"2020-08-10T00:00:00\", \"2020-08-11T00:00:00\", \"2020-08-12T00:00:00\", \"2020-08-13T00:00:00\", \"2020-08-14T00:00:00\", \"2020-08-15T00:00:00\", \"2020-08-16T00:00:00\", \"2020-08-17T00:00:00\", \"2020-08-18T00:00:00\", \"2020-08-19T00:00:00\", \"2020-08-20T00:00:00\", \"2020-08-21T00:00:00\", \"2020-08-22T00:00:00\", \"2020-08-23T00:00:00\", \"2020-08-24T00:00:00\", \"2020-08-25T00:00:00\", \"2020-08-26T00:00:00\", \"2020-08-27T00:00:00\", \"2020-08-28T00:00:00\", \"2020-08-29T00:00:00\", \"2020-08-30T00:00:00\", \"2020-08-31T00:00:00\", \"2020-09-01T00:00:00\", \"2020-09-02T00:00:00\", \"2020-09-03T00:00:00\", \"2020-09-04T00:00:00\", \"2020-09-05T00:00:00\", \"2020-09-06T00:00:00\", \"2020-09-07T00:00:00\", \"2020-09-08T00:00:00\", \"2020-09-09T00:00:00\", \"2020-09-10T00:00:00\", \"2020-09-11T00:00:00\", \"2020-09-12T00:00:00\", \"2020-09-13T00:00:00\", \"2020-09-14T00:00:00\", \"2020-09-15T00:00:00\", \"2020-09-16T00:00:00\", \"2020-09-17T00:00:00\", \"2020-09-18T00:00:00\", \"2020-09-19T00:00:00\", \"2020-09-20T00:00:00\", \"2020-09-21T00:00:00\", \"2020-09-22T00:00:00\", \"2020-09-23T00:00:00\", \"2020-09-24T00:00:00\", \"2020-09-25T00:00:00\", \"2020-09-26T00:00:00\", \"2020-09-27T00:00:00\", \"2020-09-28T00:00:00\", \"2020-09-29T00:00:00\", \"2020-09-30T00:00:00\", \"2020-10-01T00:00:00\", \"2020-10-02T00:00:00\", \"2020-10-03T00:00:00\", \"2020-10-04T00:00:00\", \"2020-10-05T00:00:00\", \"2020-10-06T00:00:00\", \"2020-10-07T00:00:00\", \"2020-10-08T00:00:00\", \"2020-10-09T00:00:00\", \"2020-10-10T00:00:00\", \"2020-10-11T00:00:00\", \"2020-10-12T00:00:00\", \"2020-10-13T00:00:00\", \"2020-10-14T00:00:00\", \"2020-10-15T00:00:00\", \"2020-10-16T00:00:00\", \"2020-10-17T00:00:00\", \"2020-10-18T00:00:00\", \"2020-10-19T00:00:00\", \"2020-10-20T00:00:00\", \"2020-10-21T00:00:00\", \"2020-10-22T00:00:00\", \"2020-10-23T00:00:00\", \"2020-10-24T00:00:00\", \"2020-10-25T00:00:00\", \"2020-10-26T00:00:00\", \"2020-10-27T00:00:00\", \"2020-10-28T00:00:00\", \"2020-10-29T00:00:00\", \"2020-10-30T00:00:00\", \"2020-10-31T00:00:00\", \"2020-11-01T00:00:00\", \"2020-11-02T00:00:00\", \"2020-11-03T00:00:00\", \"2020-11-04T00:00:00\", \"2020-11-05T00:00:00\", \"2020-11-06T00:00:00\", \"2020-11-07T00:00:00\", \"2020-11-08T00:00:00\", \"2020-11-09T00:00:00\", \"2020-11-10T00:00:00\", \"2020-11-11T00:00:00\", \"2020-11-12T00:00:00\", \"2020-11-13T00:00:00\", \"2020-11-14T00:00:00\", \"2020-11-15T00:00:00\", \"2020-11-16T00:00:00\", \"2020-11-17T00:00:00\", \"2020-11-18T00:00:00\", \"2020-11-19T00:00:00\", \"2020-11-20T00:00:00\", \"2020-11-21T00:00:00\", \"2020-11-22T00:00:00\", \"2020-11-23T00:00:00\", \"2020-11-24T00:00:00\", \"2020-11-25T00:00:00\", \"2020-11-26T00:00:00\", \"2020-11-27T00:00:00\", \"2020-11-28T00:00:00\", \"2020-11-29T00:00:00\", \"2020-11-30T00:00:00\", \"2020-12-01T00:00:00\", \"2020-12-02T00:00:00\", \"2020-12-03T00:00:00\", \"2020-12-04T00:00:00\", \"2020-12-05T00:00:00\", \"2020-12-06T00:00:00\"], \"y\": [null, 1.0666666666666667, 1.2916666666666667, 1.3064516129032258, 1.3333333333333333, 1.3240740740740742, 1.6643356643356644, 1.088235294117647, 1.2123552123552124, 1.3853503184713376, 1.2482758620689656, 1.5359116022099448, 1.2577937649880095, 1.2812202097235463, 1.255952380952381, 1.2565165876777251, 1.2871287128712872, 1.2534798534798535, 1.2127410870835769, 1.1949397590361446, 1.1687840290381126, 1.0814354727398205, 1.223037651563497, 1.2498043308113749, 1.1544723932783634, 1.1423017810324563, 1.1437277404036408, 1.1320323853020553, 1.115165963689712, 1.1195527051471796, 1.0351057579318448, 1.1988080034057045, 1.0204782196969697, 1.0770598925105364, 1.0989732912119472, 1.08300395256917, 1.088556433612837, 1.0967581047381547, 1.0793289879238037, 1.069963952998455, 1.0650828028264532, 1.0554985005956539, 1.05907994084222, 1.049977950904013, 1.0381492370152596, 1.0436754096149956, 1.0416861826697892, 1.031164723393699, 1.0324181276877273, 1.0429932131309896, 1.0199123076493424, 1.0357612267250822, 1.0368529582826627, 1.0513895971443141, 1.0332237998811704, 1.0413796340848012, 1.0372336229532213, 1.0302908486435394, 1.0408103006464267, 1.0600613987983667, 1.0690166018331788, 1.049996423717903, 1.0753831743869209, 1.0683410798698265, 1.0828021701105808, 1.0821377724236119, 1.0756565631009007, 1.0759686458069941, 1.104680395243092, 1.0890219165883341, 1.0913848558085444, 1.096844821844822, 1.0810076430897209, 1.0919846095516268, 1.060073170574884, 1.0658215563777522, 1.087575830004211, 1.0920407511864831, 1.0774313491550112, 1.0649045410275682, 1.0667597946173715, 1.0493772546747493, 1.0604410670218183, 1.0564631881121243, 1.0746938123114422, 1.063201616176639, 1.0529325964017024, 1.0409648558321052, 1.0494910900882217, 1.0341287243974397, 1.0497804290972788, 1.0420756495885666, 1.040913127069423, 1.0659046192936539, 1.0291563137699749, 1.0518594644209007, 1.0307036843675417, 1.036735668530555, 1.0474730148980795, 1.0399016825739775, 1.0350106166805633, 1.034609485396427, 1.02690096272012, 1.0302482471487486, 1.029506502247542, 1.0365912198378073, 1.0298704430482055, 1.027339277213838, 1.0362702249160949, 1.0223243391854209, 1.0299820735251441, 1.0245920265712098, 1.0338388333082236, 1.0241230351176005, 1.0288292520105098, 1.0308831990276313, 1.0220772296555574, 1.027414613579847, 1.027016051660166, 1.0293021472640893, 1.0251737210955325, 1.0495651750891761, 1.02478519235499, 1.0242130444756747, 1.0255904290108673, 1.0230375651688182, 1.0258824430508522, 1.0260788026474283, 1.029563849204305, 1.0263879364635085, 1.0271371021897164, 1.0193197868600892, 1.012486622754682, 1.0260486288663673, 1.021995389878103, 1.045441749555656, 1.022466152348385, 1.0165917715599795, 1.0441139079224258, 1.023553475871512, 1.0221688710550936, 1.0235413283623809, 1.0193167802034804, 1.022121050727625, 1.0181137381126626, 1.021774288147357, 1.02436640636898, 1.028210816624236, 1.0190535189868604, 1.0210208692169558, 1.029059613664678, 1.015007608080899, 1.016895338615746, 1.0218969004764726, 1.0236674933991587, 1.0190062796474095, 1.0207897808303863, 1.020365449225738, 1.0166293565775428, 1.0174643643630337, 1.0214647590751809, 1.03911366684658, 1.0297809313351807, 1.0183179943644052, 1.0312991220245082, 1.0186639982566712, 1.0189934514997134, 1.022094743427036, 1.0233609976726825, 1.0195852059539026, 1.0198409543288607, 1.01756839677962, 1.0152960392697943, 1.01877338101837, 1.0188728859155884, 1.020716687927054, 1.0194258129956504, 1.022897342670888, 1.0184175823347599, 1.0106437215779955, 1.0183783719463582, 1.0205960575614188, 1.0204484740923137, 1.0202114251754388, 1.0248016519207979, 1.0232580287554336, 1.0142507774219267, 1.018114513055209, 1.0137431373663384, 1.023627296668831, 1.0206759946221862, 1.0189858531989457, 1.0171420050874636, 1.012722959574528, 1.0199457133541425, 1.0196329105432056, 1.0193194092840903, 1.0162353510668771, 1.0161799792865216, 1.0165063283338884, 1.01446967368384, 1.0131765269770452, 1.0239070033696356, 1.0186379404630264, 1.0124456955966907, 1.0213353248814718, 1.0123896729227178, 1.0166805416212061, 1.014515014197192, 1.015991486336869, 1.0150830254030254, 1.0141385795960038, 1.011345343388178, 1.0131676574482749, 1.0147135283026107, 1.0127849325655807, 1.0147215107360255, 1.0141510991071183, 1.0128997629318617, 1.0121841843323578, 1.0127135123182378, 1.0124147157237149, 1.011729824419815, 1.0148049889040798, 1.0124976327601356, 1.0125028810575025, 1.0114245034262144, 1.0110475404151784, 1.0119846654736457, 1.010278182130516, 1.0106393558743736, 1.0133336503710808, 1.011296700979342, 1.0115281964250147, 1.0113111154538508, 1.0094010362559989, 1.0074202102810386, 1.015042080340814, 1.0111915613168614, 1.010614348762052, 1.0119542337717344, 1.011140406533587, 1.0109507084841471, 1.0112294334214844, 1.0099624243314134, 1.011850844053841, 1.0114220720722094, 1.0105517952175918, 1.011392288213978, 1.009159548364812, 1.009450412307527, 1.0101760754356448, 1.0104222006298178, 1.0089864342105797, 1.0074547103532951, 1.0103989147004233, 1.008909315675692, 1.0095547969516716, 1.009172567004578, 1.0100153429338323, 1.0085767122122, 1.0080234694201935, 1.0074818127006342, 1.0084016294262497, 1.0075098392215172, 1.007106079762835, 1.007914457483089, 1.007658651588803, 1.0074633596046303, 1.0072191845504037, 1.0072021201400752, 1.0072413764806554, 1.0074446842890012, 1.0075055024464246, 1.0079463199188234, 1.0072450788035283, 1.0073071157579812, 1.0067509212003207, 1.0080894452283131, 1.0196496069002505, 1.0087078673896812, 1.0081169205666698, 0.980957390770123, 1.0367534672381795, 1.0081981340879793, 1.008853992116901, 1.0079642871026475, 1.0088498258215814, 1.009401231282443, 1.0089077439520262, 1.009085434980006, 1.0075932535496284, 1.0076878479853566, 1.0077217891116153, 1.0112144335833668, 1.0066794651036195, 1.0087836985685918, 1.0080217008936636, 1.0065410533380947, 1.0109214747480384, 1.012145236431492, 1.0100796335571365, 1.0102347109897576, 1.0096864183206524, 1.0090916277698136, 1.0072350751801145, 1.0107534645371452, 1.009773129678783, 1.0113085622377773, 1.0093624765663536, 1.0095563224640376, 1.008918573206196, 1.0080663499716118, 1.009853346903509, 1.0116215664908172, 1.0111444473923377, 1.0104277826083519, 1.009952956087122, 1.010213105601642, 1.0072460532334093]}],                        {\"legend\": {\"traceorder\": \"normal\", \"x\": 0, \"y\": -0.4}, \"template\": {\"data\": {\"bar\": [{\"error_x\": {\"color\": \"#2a3f5f\"}, \"error_y\": {\"color\": \"#2a3f5f\"}, \"marker\": {\"line\": {\"color\": \"#E5ECF6\", \"width\": 0.5}}, \"type\": \"bar\"}], \"barpolar\": [{\"marker\": {\"line\": {\"color\": \"#E5ECF6\", \"width\": 0.5}}, \"type\": \"barpolar\"}], \"carpet\": [{\"aaxis\": {\"endlinecolor\": \"#2a3f5f\", \"gridcolor\": \"white\", \"linecolor\": \"white\", \"minorgridcolor\": \"white\", \"startlinecolor\": \"#2a3f5f\"}, \"baxis\": {\"endlinecolor\": \"#2a3f5f\", \"gridcolor\": \"white\", \"linecolor\": \"white\", \"minorgridcolor\": \"white\", \"startlinecolor\": \"#2a3f5f\"}, \"type\": \"carpet\"}], \"choropleth\": [{\"colorbar\": {\"outlinewidth\": 0, \"ticks\": \"\"}, \"type\": \"choropleth\"}], \"contour\": [{\"colorbar\": {\"outlinewidth\": 0, \"ticks\": \"\"}, \"colorscale\": [[0.0, \"#0d0887\"], [0.1111111111111111, \"#46039f\"], [0.2222222222222222, \"#7201a8\"], [0.3333333333333333, \"#9c179e\"], [0.4444444444444444, \"#bd3786\"], [0.5555555555555556, \"#d8576b\"], [0.6666666666666666, \"#ed7953\"], [0.7777777777777778, \"#fb9f3a\"], [0.8888888888888888, \"#fdca26\"], [1.0, \"#f0f921\"]], \"type\": \"contour\"}], \"contourcarpet\": [{\"colorbar\": {\"outlinewidth\": 0, \"ticks\": \"\"}, \"type\": \"contourcarpet\"}], \"heatmap\": [{\"colorbar\": {\"outlinewidth\": 0, \"ticks\": \"\"}, \"colorscale\": [[0.0, \"#0d0887\"], [0.1111111111111111, \"#46039f\"], [0.2222222222222222, \"#7201a8\"], [0.3333333333333333, \"#9c179e\"], [0.4444444444444444, \"#bd3786\"], [0.5555555555555556, \"#d8576b\"], [0.6666666666666666, \"#ed7953\"], [0.7777777777777778, \"#fb9f3a\"], [0.8888888888888888, \"#fdca26\"], [1.0, \"#f0f921\"]], \"type\": \"heatmap\"}], \"heatmapgl\": [{\"colorbar\": {\"outlinewidth\": 0, \"ticks\": \"\"}, \"colorscale\": [[0.0, \"#0d0887\"], [0.1111111111111111, \"#46039f\"], [0.2222222222222222, \"#7201a8\"], [0.3333333333333333, \"#9c179e\"], [0.4444444444444444, \"#bd3786\"], [0.5555555555555556, \"#d8576b\"], [0.6666666666666666, \"#ed7953\"], [0.7777777777777778, \"#fb9f3a\"], [0.8888888888888888, \"#fdca26\"], [1.0, \"#f0f921\"]], \"type\": \"heatmapgl\"}], \"histogram\": [{\"marker\": {\"colorbar\": {\"outlinewidth\": 0, \"ticks\": \"\"}}, \"type\": \"histogram\"}], \"histogram2d\": [{\"colorbar\": {\"outlinewidth\": 0, \"ticks\": \"\"}, \"colorscale\": [[0.0, \"#0d0887\"], [0.1111111111111111, \"#46039f\"], [0.2222222222222222, \"#7201a8\"], [0.3333333333333333, \"#9c179e\"], [0.4444444444444444, \"#bd3786\"], [0.5555555555555556, \"#d8576b\"], [0.6666666666666666, \"#ed7953\"], [0.7777777777777778, \"#fb9f3a\"], [0.8888888888888888, \"#fdca26\"], [1.0, \"#f0f921\"]], \"type\": \"histogram2d\"}], \"histogram2dcontour\": [{\"colorbar\": {\"outlinewidth\": 0, \"ticks\": \"\"}, \"colorscale\": [[0.0, \"#0d0887\"], [0.1111111111111111, \"#46039f\"], [0.2222222222222222, \"#7201a8\"], [0.3333333333333333, \"#9c179e\"], [0.4444444444444444, \"#bd3786\"], [0.5555555555555556, \"#d8576b\"], [0.6666666666666666, \"#ed7953\"], [0.7777777777777778, \"#fb9f3a\"], [0.8888888888888888, \"#fdca26\"], [1.0, \"#f0f921\"]], \"type\": \"histogram2dcontour\"}], \"mesh3d\": [{\"colorbar\": {\"outlinewidth\": 0, \"ticks\": \"\"}, \"type\": \"mesh3d\"}], \"parcoords\": [{\"line\": {\"colorbar\": {\"outlinewidth\": 0, \"ticks\": \"\"}}, \"type\": \"parcoords\"}], \"pie\": [{\"automargin\": true, \"type\": \"pie\"}], \"scatter\": [{\"marker\": {\"colorbar\": {\"outlinewidth\": 0, \"ticks\": \"\"}}, \"type\": \"scatter\"}], \"scatter3d\": [{\"line\": {\"colorbar\": {\"outlinewidth\": 0, \"ticks\": \"\"}}, \"marker\": {\"colorbar\": {\"outlinewidth\": 0, \"ticks\": \"\"}}, \"type\": \"scatter3d\"}], \"scattercarpet\": [{\"marker\": {\"colorbar\": {\"outlinewidth\": 0, \"ticks\": \"\"}}, \"type\": \"scattercarpet\"}], \"scattergeo\": [{\"marker\": {\"colorbar\": {\"outlinewidth\": 0, \"ticks\": \"\"}}, \"type\": \"scattergeo\"}], \"scattergl\": [{\"marker\": {\"colorbar\": {\"outlinewidth\": 0, \"ticks\": \"\"}}, \"type\": \"scattergl\"}], \"scattermapbox\": [{\"marker\": {\"colorbar\": {\"outlinewidth\": 0, \"ticks\": \"\"}}, \"type\": \"scattermapbox\"}], \"scatterpolar\": [{\"marker\": {\"colorbar\": {\"outlinewidth\": 0, \"ticks\": \"\"}}, \"type\": \"scatterpolar\"}], \"scatterpolargl\": [{\"marker\": {\"colorbar\": {\"outlinewidth\": 0, \"ticks\": \"\"}}, \"type\": \"scatterpolargl\"}], \"scatterternary\": [{\"marker\": {\"colorbar\": {\"outlinewidth\": 0, \"ticks\": \"\"}}, \"type\": \"scatterternary\"}], \"surface\": [{\"colorbar\": {\"outlinewidth\": 0, \"ticks\": \"\"}, \"colorscale\": [[0.0, \"#0d0887\"], [0.1111111111111111, \"#46039f\"], [0.2222222222222222, \"#7201a8\"], [0.3333333333333333, \"#9c179e\"], [0.4444444444444444, \"#bd3786\"], [0.5555555555555556, \"#d8576b\"], [0.6666666666666666, \"#ed7953\"], [0.7777777777777778, \"#fb9f3a\"], [0.8888888888888888, \"#fdca26\"], [1.0, \"#f0f921\"]], \"type\": \"surface\"}], \"table\": [{\"cells\": {\"fill\": {\"color\": \"#EBF0F8\"}, \"line\": {\"color\": \"white\"}}, \"header\": {\"fill\": {\"color\": \"#C8D4E3\"}, \"line\": {\"color\": \"white\"}}, \"type\": \"table\"}]}, \"layout\": {\"annotationdefaults\": {\"arrowcolor\": \"#2a3f5f\", \"arrowhead\": 0, \"arrowwidth\": 1}, \"autotypenumbers\": \"strict\", \"coloraxis\": {\"colorbar\": {\"outlinewidth\": 0, \"ticks\": \"\"}}, \"colorscale\": {\"diverging\": [[0, \"#8e0152\"], [0.1, \"#c51b7d\"], [0.2, \"#de77ae\"], [0.3, \"#f1b6da\"], [0.4, \"#fde0ef\"], [0.5, \"#f7f7f7\"], [0.6, \"#e6f5d0\"], [0.7, \"#b8e186\"], [0.8, \"#7fbc41\"], [0.9, \"#4d9221\"], [1, \"#276419\"]], \"sequential\": [[0.0, \"#0d0887\"], [0.1111111111111111, \"#46039f\"], [0.2222222222222222, \"#7201a8\"], [0.3333333333333333, \"#9c179e\"], [0.4444444444444444, \"#bd3786\"], [0.5555555555555556, \"#d8576b\"], [0.6666666666666666, \"#ed7953\"], [0.7777777777777778, \"#fb9f3a\"], [0.8888888888888888, \"#fdca26\"], [1.0, \"#f0f921\"]], \"sequentialminus\": [[0.0, \"#0d0887\"], [0.1111111111111111, \"#46039f\"], [0.2222222222222222, \"#7201a8\"], [0.3333333333333333, \"#9c179e\"], [0.4444444444444444, \"#bd3786\"], [0.5555555555555556, \"#d8576b\"], [0.6666666666666666, \"#ed7953\"], [0.7777777777777778, \"#fb9f3a\"], [0.8888888888888888, \"#fdca26\"], [1.0, \"#f0f921\"]]}, \"colorway\": [\"#636efa\", \"#EF553B\", \"#00cc96\", \"#ab63fa\", \"#FFA15A\", \"#19d3f3\", \"#FF6692\", \"#B6E880\", \"#FF97FF\", \"#FECB52\"], \"font\": {\"color\": \"#2a3f5f\"}, \"geo\": {\"bgcolor\": \"white\", \"lakecolor\": \"white\", \"landcolor\": \"#E5ECF6\", \"showlakes\": true, \"showland\": true, \"subunitcolor\": \"white\"}, \"hoverlabel\": {\"align\": \"left\"}, \"hovermode\": \"closest\", \"mapbox\": {\"style\": \"light\"}, \"paper_bgcolor\": \"white\", \"plot_bgcolor\": \"#E5ECF6\", \"polar\": {\"angularaxis\": {\"gridcolor\": \"white\", \"linecolor\": \"white\", \"ticks\": \"\"}, \"bgcolor\": \"#E5ECF6\", \"radialaxis\": {\"gridcolor\": \"white\", \"linecolor\": \"white\", \"ticks\": \"\"}}, \"scene\": {\"xaxis\": {\"backgroundcolor\": \"#E5ECF6\", \"gridcolor\": \"white\", \"gridwidth\": 2, \"linecolor\": \"white\", \"showbackground\": true, \"ticks\": \"\", \"zerolinecolor\": \"white\"}, \"yaxis\": {\"backgroundcolor\": \"#E5ECF6\", \"gridcolor\": \"white\", \"gridwidth\": 2, \"linecolor\": \"white\", \"showbackground\": true, \"ticks\": \"\", \"zerolinecolor\": \"white\"}, \"zaxis\": {\"backgroundcolor\": \"#E5ECF6\", \"gridcolor\": \"white\", \"gridwidth\": 2, \"linecolor\": \"white\", \"showbackground\": true, \"ticks\": \"\", \"zerolinecolor\": \"white\"}}, \"shapedefaults\": {\"line\": {\"color\": \"#2a3f5f\"}}, \"ternary\": {\"aaxis\": {\"gridcolor\": \"white\", \"linecolor\": \"white\", \"ticks\": \"\"}, \"baxis\": {\"gridcolor\": \"white\", \"linecolor\": \"white\", \"ticks\": \"\"}, \"bgcolor\": \"#E5ECF6\", \"caxis\": {\"gridcolor\": \"white\", \"linecolor\": \"white\", \"ticks\": \"\"}}, \"title\": {\"x\": 0.05}, \"xaxis\": {\"automargin\": true, \"gridcolor\": \"white\", \"linecolor\": \"white\", \"ticks\": \"\", \"title\": {\"standoff\": 15}, \"zerolinecolor\": \"white\", \"zerolinewidth\": 2}, \"yaxis\": {\"automargin\": true, \"gridcolor\": \"white\", \"linecolor\": \"white\", \"ticks\": \"\", \"title\": {\"standoff\": 15}, \"zerolinecolor\": \"white\", \"zerolinewidth\": 2}}}, \"title\": {\"text\": \"Growth Factor of Active and Closed Cases\"}, \"xaxis\": {\"title\": {\"text\": \"Date\"}}, \"yaxis\": {\"title\": {\"text\": \"Growth Factor\"}}},                        {\"responsive\": true}                    ).then(function(){\n",
       "                            \n",
       "var gd = document.getElementById('66c97414-636b-4777-9b73-1107d613e108');\n",
       "var x = new MutationObserver(function (mutations, observer) {{\n",
       "        var display = window.getComputedStyle(gd).display;\n",
       "        if (!display || display === 'none') {{\n",
       "            console.log([gd, 'removed!']);\n",
       "            Plotly.purge(gd);\n",
       "            observer.disconnect();\n",
       "        }}\n",
       "}});\n",
       "\n",
       "// Listen for the removal of the full notebook cells\n",
       "var notebookContainer = gd.closest('#notebook-container');\n",
       "if (notebookContainer) {{\n",
       "    x.observe(notebookContainer, {childList: true});\n",
       "}}\n",
       "\n",
       "// Listen for the clearing of the current output cell\n",
       "var outputEl = gd.closest('.output');\n",
       "if (outputEl) {{\n",
       "    x.observe(outputEl, {childList: true});\n",
       "}}\n",
       "\n",
       "                        })                };                });            </script>        </div>"
      ]
     },
     "metadata": {},
     "output_type": "display_data"
    }
   ],
   "source": [
    "#Plotting only the active and closed cases\n",
    "figure = go.Figure()\n",
    "figure.add_trace(go.Scatter(x = grouped_date.index, y = (grouped_date[\"Confirmed\"] - grouped_date[\"Recovered\"] - grouped_date[\"Deaths\"]) / (grouped_date[\"Confirmed\"] - grouped_date[\"Recovered\"] - grouped_date[\"Deaths\"]).shift(), mode = 'lines', name = 'Grouth Factor of Active Cases'))\n",
    "figure.add_trace(go.Scatter(x = grouped_date.index, y = (grouped_date[\"Recovered\"] + grouped_date[\"Deaths\"]) / (grouped_date[\"Recovered\"] + grouped_date[\"Deaths\"]).shift(), mode = 'lines', name = 'Growth Factor for Closes Cases'))\n",
    "figure.update_layout(title = \"Growth Factor of Active and Closed Cases\", xaxis_title = \"Date\", yaxis_title = \"Growth Factor\", legend = dict(x = 0, y = -0.4, traceorder = 'normal'))\n",
    "figure.show()"
   ]
  },
  {
   "cell_type": "markdown",
   "metadata": {
    "papermill": {
     "duration": 0.036678,
     "end_time": "2021-01-14T18:16:24.385323",
     "exception": false,
     "start_time": "2021-01-14T18:16:24.348645",
     "status": "completed"
    },
    "tags": []
   },
   "source": [
    "Country Specific Analysis "
   ]
  },
  {
   "cell_type": "code",
   "execution_count": 21,
   "metadata": {
    "execution": {
     "iopub.execute_input": "2021-01-14T18:16:24.467464Z",
     "iopub.status.busy": "2021-01-14T18:16:24.466704Z",
     "iopub.status.idle": "2021-01-14T18:16:24.480541Z",
     "shell.execute_reply": "2021-01-14T18:16:24.479905Z"
    },
    "papermill": {
     "duration": 0.058467,
     "end_time": "2021-01-14T18:16:24.480658",
     "exception": false,
     "start_time": "2021-01-14T18:16:24.422191",
     "status": "completed"
    },
    "tags": []
   },
   "outputs": [],
   "source": [
    "#Grouping the data by country\n",
    "grouped_country = data[data[\"ObservationDate\"] == data[\"ObservationDate\"].max()].groupby([\"Country/Region\"]).agg({\"Confirmed\" : 'sum', \"Recovered\": 'sum', \"Deaths\": 'sum'}).sort_values([\"Confirmed\"], ascending = False)\n",
    "grouped_country[\"Mortality\"] = (grouped_country[\"Deaths\"] / grouped_country[\"Confirmed\"]) * 100\n",
    "grouped_country[\"Recovery\"] = (grouped_country[\"Recovered\"] / grouped_country[\"Confirmed\"]) *100"
   ]
  },
  {
   "cell_type": "code",
   "execution_count": 22,
   "metadata": {
    "execution": {
     "iopub.execute_input": "2021-01-14T18:16:24.563568Z",
     "iopub.status.busy": "2021-01-14T18:16:24.562870Z",
     "iopub.status.idle": "2021-01-14T18:16:24.566579Z",
     "shell.execute_reply": "2021-01-14T18:16:24.567078Z"
    },
    "papermill": {
     "duration": 0.048883,
     "end_time": "2021-01-14T18:16:24.567227",
     "exception": false,
     "start_time": "2021-01-14T18:16:24.518344",
     "status": "completed"
    },
    "tags": []
   },
   "outputs": [],
   "source": [
    "Grouped_country = pd.DataFrame(list(zip(grouped_country.index, grouped_country[\"Confirmed\"], grouped_country[\"Recovered\"], grouped_country[\"Deaths\"])), columns = [\"Country/Region\", \"Confirmed\", \"Recovered\", \"Deaths\"])"
   ]
  },
  {
   "cell_type": "code",
   "execution_count": 23,
   "metadata": {
    "execution": {
     "iopub.execute_input": "2021-01-14T18:16:24.645210Z",
     "iopub.status.busy": "2021-01-14T18:16:24.644518Z",
     "iopub.status.idle": "2021-01-14T18:16:24.659920Z",
     "shell.execute_reply": "2021-01-14T18:16:24.660552Z"
    },
    "papermill": {
     "duration": 0.05598,
     "end_time": "2021-01-14T18:16:24.660731",
     "exception": false,
     "start_time": "2021-01-14T18:16:24.604751",
     "status": "completed"
    },
    "tags": []
   },
   "outputs": [
    {
     "data": {
      "text/html": [
       "<div>\n",
       "<style scoped>\n",
       "    .dataframe tbody tr th:only-of-type {\n",
       "        vertical-align: middle;\n",
       "    }\n",
       "\n",
       "    .dataframe tbody tr th {\n",
       "        vertical-align: top;\n",
       "    }\n",
       "\n",
       "    .dataframe thead th {\n",
       "        text-align: right;\n",
       "    }\n",
       "</style>\n",
       "<table border=\"1\" class=\"dataframe\">\n",
       "  <thead>\n",
       "    <tr style=\"text-align: right;\">\n",
       "      <th></th>\n",
       "      <th>Country/Region</th>\n",
       "      <th>Confirmed</th>\n",
       "      <th>Recovered</th>\n",
       "      <th>Deaths</th>\n",
       "    </tr>\n",
       "  </thead>\n",
       "  <tbody>\n",
       "    <tr>\n",
       "      <th>0</th>\n",
       "      <td>US</td>\n",
       "      <td>14757000.0</td>\n",
       "      <td>5624444.0</td>\n",
       "      <td>282299.0</td>\n",
       "    </tr>\n",
       "    <tr>\n",
       "      <th>1</th>\n",
       "      <td>India</td>\n",
       "      <td>9677203.0</td>\n",
       "      <td>9139901.0</td>\n",
       "      <td>140573.0</td>\n",
       "    </tr>\n",
       "    <tr>\n",
       "      <th>2</th>\n",
       "      <td>Brazil</td>\n",
       "      <td>6603540.0</td>\n",
       "      <td>5866657.0</td>\n",
       "      <td>176941.0</td>\n",
       "    </tr>\n",
       "    <tr>\n",
       "      <th>3</th>\n",
       "      <td>Russia</td>\n",
       "      <td>2439163.0</td>\n",
       "      <td>1920744.0</td>\n",
       "      <td>42675.0</td>\n",
       "    </tr>\n",
       "    <tr>\n",
       "      <th>4</th>\n",
       "      <td>France</td>\n",
       "      <td>2345648.0</td>\n",
       "      <td>175220.0</td>\n",
       "      <td>55247.0</td>\n",
       "    </tr>\n",
       "    <tr>\n",
       "      <th>5</th>\n",
       "      <td>Italy</td>\n",
       "      <td>1728878.0</td>\n",
       "      <td>913494.0</td>\n",
       "      <td>60078.0</td>\n",
       "    </tr>\n",
       "    <tr>\n",
       "      <th>6</th>\n",
       "      <td>UK</td>\n",
       "      <td>1727751.0</td>\n",
       "      <td>3736.0</td>\n",
       "      <td>61342.0</td>\n",
       "    </tr>\n",
       "    <tr>\n",
       "      <th>7</th>\n",
       "      <td>Spain</td>\n",
       "      <td>1684647.0</td>\n",
       "      <td>150376.0</td>\n",
       "      <td>46252.0</td>\n",
       "    </tr>\n",
       "    <tr>\n",
       "      <th>8</th>\n",
       "      <td>Argentina</td>\n",
       "      <td>1463110.0</td>\n",
       "      <td>1294692.0</td>\n",
       "      <td>39770.0</td>\n",
       "    </tr>\n",
       "    <tr>\n",
       "      <th>9</th>\n",
       "      <td>Colombia</td>\n",
       "      <td>1371103.0</td>\n",
       "      <td>1257410.0</td>\n",
       "      <td>37808.0</td>\n",
       "    </tr>\n",
       "    <tr>\n",
       "      <th>10</th>\n",
       "      <td>Germany</td>\n",
       "      <td>1194550.0</td>\n",
       "      <td>868285.0</td>\n",
       "      <td>18989.0</td>\n",
       "    </tr>\n",
       "    <tr>\n",
       "      <th>11</th>\n",
       "      <td>Mexico</td>\n",
       "      <td>1175850.0</td>\n",
       "      <td>866186.0</td>\n",
       "      <td>109717.0</td>\n",
       "    </tr>\n",
       "    <tr>\n",
       "      <th>12</th>\n",
       "      <td>Poland</td>\n",
       "      <td>1063449.0</td>\n",
       "      <td>706720.0</td>\n",
       "      <td>20089.0</td>\n",
       "    </tr>\n",
       "    <tr>\n",
       "      <th>13</th>\n",
       "      <td>Iran</td>\n",
       "      <td>1040547.0</td>\n",
       "      <td>730798.0</td>\n",
       "      <td>50310.0</td>\n",
       "    </tr>\n",
       "    <tr>\n",
       "      <th>14</th>\n",
       "      <td>Peru</td>\n",
       "      <td>972688.0</td>\n",
       "      <td>907654.0</td>\n",
       "      <td>36231.0</td>\n",
       "    </tr>\n",
       "    <tr>\n",
       "      <th>15</th>\n",
       "      <td>Ukraine</td>\n",
       "      <td>834913.0</td>\n",
       "      <td>435575.0</td>\n",
       "      <td>14054.0</td>\n",
       "    </tr>\n",
       "    <tr>\n",
       "      <th>16</th>\n",
       "      <td>Turkey</td>\n",
       "      <td>828295.0</td>\n",
       "      <td>431253.0</td>\n",
       "      <td>14900.0</td>\n",
       "    </tr>\n",
       "    <tr>\n",
       "      <th>17</th>\n",
       "      <td>South Africa</td>\n",
       "      <td>814565.0</td>\n",
       "      <td>744780.0</td>\n",
       "      <td>22206.0</td>\n",
       "    </tr>\n",
       "    <tr>\n",
       "      <th>18</th>\n",
       "      <td>Belgium</td>\n",
       "      <td>591756.0</td>\n",
       "      <td>0.0</td>\n",
       "      <td>17320.0</td>\n",
       "    </tr>\n",
       "    <tr>\n",
       "      <th>19</th>\n",
       "      <td>Indonesia</td>\n",
       "      <td>575796.0</td>\n",
       "      <td>474771.0</td>\n",
       "      <td>17740.0</td>\n",
       "    </tr>\n",
       "  </tbody>\n",
       "</table>\n",
       "</div>"
      ],
      "text/plain": [
       "   Country/Region   Confirmed  Recovered    Deaths\n",
       "0              US  14757000.0  5624444.0  282299.0\n",
       "1           India   9677203.0  9139901.0  140573.0\n",
       "2          Brazil   6603540.0  5866657.0  176941.0\n",
       "3          Russia   2439163.0  1920744.0   42675.0\n",
       "4          France   2345648.0   175220.0   55247.0\n",
       "5           Italy   1728878.0   913494.0   60078.0\n",
       "6              UK   1727751.0     3736.0   61342.0\n",
       "7           Spain   1684647.0   150376.0   46252.0\n",
       "8       Argentina   1463110.0  1294692.0   39770.0\n",
       "9        Colombia   1371103.0  1257410.0   37808.0\n",
       "10        Germany   1194550.0   868285.0   18989.0\n",
       "11         Mexico   1175850.0   866186.0  109717.0\n",
       "12         Poland   1063449.0   706720.0   20089.0\n",
       "13           Iran   1040547.0   730798.0   50310.0\n",
       "14           Peru    972688.0   907654.0   36231.0\n",
       "15        Ukraine    834913.0   435575.0   14054.0\n",
       "16         Turkey    828295.0   431253.0   14900.0\n",
       "17   South Africa    814565.0   744780.0   22206.0\n",
       "18        Belgium    591756.0        0.0   17320.0\n",
       "19      Indonesia    575796.0   474771.0   17740.0"
      ]
     },
     "execution_count": 23,
     "metadata": {},
     "output_type": "execute_result"
    }
   ],
   "source": [
    "#Visualing the first 20 entries in the dataframe\n",
    "Grouped_country.head(20)"
   ]
  },
  {
   "cell_type": "code",
   "execution_count": 24,
   "metadata": {
    "execution": {
     "iopub.execute_input": "2021-01-14T18:16:24.741146Z",
     "iopub.status.busy": "2021-01-14T18:16:24.740515Z",
     "iopub.status.idle": "2021-01-14T18:16:24.747665Z",
     "shell.execute_reply": "2021-01-14T18:16:24.748207Z"
    },
    "papermill": {
     "duration": 0.048945,
     "end_time": "2021-01-14T18:16:24.748349",
     "exception": false,
     "start_time": "2021-01-14T18:16:24.699404",
     "status": "completed"
    },
    "tags": []
   },
   "outputs": [],
   "source": [
    "#Calculating the top 20 countries in terms of confirmed, recovered and death cases\n",
    "top20_confirmed = Grouped_country.sort_values([\"Confirmed\"], ascending = False).head(20)\n",
    "top20_recovered = Grouped_country.sort_values([\"Recovered\"], ascending = False).head(20)\n",
    "top20_deaths = Grouped_country.sort_values([\"Deaths\"], ascending = False).head(20)"
   ]
  },
  {
   "cell_type": "code",
   "execution_count": 25,
   "metadata": {
    "execution": {
     "iopub.execute_input": "2021-01-14T18:16:24.829749Z",
     "iopub.status.busy": "2021-01-14T18:16:24.829126Z",
     "iopub.status.idle": "2021-01-14T18:16:24.843540Z",
     "shell.execute_reply": "2021-01-14T18:16:24.844048Z"
    },
    "papermill": {
     "duration": 0.056777,
     "end_time": "2021-01-14T18:16:24.844202",
     "exception": false,
     "start_time": "2021-01-14T18:16:24.787425",
     "status": "completed"
    },
    "tags": []
   },
   "outputs": [
    {
     "data": {
      "text/html": [
       "<div>\n",
       "<style scoped>\n",
       "    .dataframe tbody tr th:only-of-type {\n",
       "        vertical-align: middle;\n",
       "    }\n",
       "\n",
       "    .dataframe tbody tr th {\n",
       "        vertical-align: top;\n",
       "    }\n",
       "\n",
       "    .dataframe thead th {\n",
       "        text-align: right;\n",
       "    }\n",
       "</style>\n",
       "<table border=\"1\" class=\"dataframe\">\n",
       "  <thead>\n",
       "    <tr style=\"text-align: right;\">\n",
       "      <th></th>\n",
       "      <th>Country/Region</th>\n",
       "      <th>Confirmed</th>\n",
       "      <th>Recovered</th>\n",
       "      <th>Deaths</th>\n",
       "    </tr>\n",
       "  </thead>\n",
       "  <tbody>\n",
       "    <tr>\n",
       "      <th>0</th>\n",
       "      <td>US</td>\n",
       "      <td>14757000.0</td>\n",
       "      <td>5624444.0</td>\n",
       "      <td>282299.0</td>\n",
       "    </tr>\n",
       "    <tr>\n",
       "      <th>1</th>\n",
       "      <td>India</td>\n",
       "      <td>9677203.0</td>\n",
       "      <td>9139901.0</td>\n",
       "      <td>140573.0</td>\n",
       "    </tr>\n",
       "    <tr>\n",
       "      <th>2</th>\n",
       "      <td>Brazil</td>\n",
       "      <td>6603540.0</td>\n",
       "      <td>5866657.0</td>\n",
       "      <td>176941.0</td>\n",
       "    </tr>\n",
       "    <tr>\n",
       "      <th>3</th>\n",
       "      <td>Russia</td>\n",
       "      <td>2439163.0</td>\n",
       "      <td>1920744.0</td>\n",
       "      <td>42675.0</td>\n",
       "    </tr>\n",
       "    <tr>\n",
       "      <th>4</th>\n",
       "      <td>France</td>\n",
       "      <td>2345648.0</td>\n",
       "      <td>175220.0</td>\n",
       "      <td>55247.0</td>\n",
       "    </tr>\n",
       "    <tr>\n",
       "      <th>5</th>\n",
       "      <td>Italy</td>\n",
       "      <td>1728878.0</td>\n",
       "      <td>913494.0</td>\n",
       "      <td>60078.0</td>\n",
       "    </tr>\n",
       "    <tr>\n",
       "      <th>6</th>\n",
       "      <td>UK</td>\n",
       "      <td>1727751.0</td>\n",
       "      <td>3736.0</td>\n",
       "      <td>61342.0</td>\n",
       "    </tr>\n",
       "    <tr>\n",
       "      <th>7</th>\n",
       "      <td>Spain</td>\n",
       "      <td>1684647.0</td>\n",
       "      <td>150376.0</td>\n",
       "      <td>46252.0</td>\n",
       "    </tr>\n",
       "    <tr>\n",
       "      <th>8</th>\n",
       "      <td>Argentina</td>\n",
       "      <td>1463110.0</td>\n",
       "      <td>1294692.0</td>\n",
       "      <td>39770.0</td>\n",
       "    </tr>\n",
       "    <tr>\n",
       "      <th>9</th>\n",
       "      <td>Colombia</td>\n",
       "      <td>1371103.0</td>\n",
       "      <td>1257410.0</td>\n",
       "      <td>37808.0</td>\n",
       "    </tr>\n",
       "    <tr>\n",
       "      <th>10</th>\n",
       "      <td>Germany</td>\n",
       "      <td>1194550.0</td>\n",
       "      <td>868285.0</td>\n",
       "      <td>18989.0</td>\n",
       "    </tr>\n",
       "    <tr>\n",
       "      <th>11</th>\n",
       "      <td>Mexico</td>\n",
       "      <td>1175850.0</td>\n",
       "      <td>866186.0</td>\n",
       "      <td>109717.0</td>\n",
       "    </tr>\n",
       "    <tr>\n",
       "      <th>12</th>\n",
       "      <td>Poland</td>\n",
       "      <td>1063449.0</td>\n",
       "      <td>706720.0</td>\n",
       "      <td>20089.0</td>\n",
       "    </tr>\n",
       "    <tr>\n",
       "      <th>13</th>\n",
       "      <td>Iran</td>\n",
       "      <td>1040547.0</td>\n",
       "      <td>730798.0</td>\n",
       "      <td>50310.0</td>\n",
       "    </tr>\n",
       "    <tr>\n",
       "      <th>14</th>\n",
       "      <td>Peru</td>\n",
       "      <td>972688.0</td>\n",
       "      <td>907654.0</td>\n",
       "      <td>36231.0</td>\n",
       "    </tr>\n",
       "    <tr>\n",
       "      <th>15</th>\n",
       "      <td>Ukraine</td>\n",
       "      <td>834913.0</td>\n",
       "      <td>435575.0</td>\n",
       "      <td>14054.0</td>\n",
       "    </tr>\n",
       "    <tr>\n",
       "      <th>16</th>\n",
       "      <td>Turkey</td>\n",
       "      <td>828295.0</td>\n",
       "      <td>431253.0</td>\n",
       "      <td>14900.0</td>\n",
       "    </tr>\n",
       "    <tr>\n",
       "      <th>17</th>\n",
       "      <td>South Africa</td>\n",
       "      <td>814565.0</td>\n",
       "      <td>744780.0</td>\n",
       "      <td>22206.0</td>\n",
       "    </tr>\n",
       "    <tr>\n",
       "      <th>18</th>\n",
       "      <td>Belgium</td>\n",
       "      <td>591756.0</td>\n",
       "      <td>0.0</td>\n",
       "      <td>17320.0</td>\n",
       "    </tr>\n",
       "    <tr>\n",
       "      <th>19</th>\n",
       "      <td>Indonesia</td>\n",
       "      <td>575796.0</td>\n",
       "      <td>474771.0</td>\n",
       "      <td>17740.0</td>\n",
       "    </tr>\n",
       "  </tbody>\n",
       "</table>\n",
       "</div>"
      ],
      "text/plain": [
       "   Country/Region   Confirmed  Recovered    Deaths\n",
       "0              US  14757000.0  5624444.0  282299.0\n",
       "1           India   9677203.0  9139901.0  140573.0\n",
       "2          Brazil   6603540.0  5866657.0  176941.0\n",
       "3          Russia   2439163.0  1920744.0   42675.0\n",
       "4          France   2345648.0   175220.0   55247.0\n",
       "5           Italy   1728878.0   913494.0   60078.0\n",
       "6              UK   1727751.0     3736.0   61342.0\n",
       "7           Spain   1684647.0   150376.0   46252.0\n",
       "8       Argentina   1463110.0  1294692.0   39770.0\n",
       "9        Colombia   1371103.0  1257410.0   37808.0\n",
       "10        Germany   1194550.0   868285.0   18989.0\n",
       "11         Mexico   1175850.0   866186.0  109717.0\n",
       "12         Poland   1063449.0   706720.0   20089.0\n",
       "13           Iran   1040547.0   730798.0   50310.0\n",
       "14           Peru    972688.0   907654.0   36231.0\n",
       "15        Ukraine    834913.0   435575.0   14054.0\n",
       "16         Turkey    828295.0   431253.0   14900.0\n",
       "17   South Africa    814565.0   744780.0   22206.0\n",
       "18        Belgium    591756.0        0.0   17320.0\n",
       "19      Indonesia    575796.0   474771.0   17740.0"
      ]
     },
     "execution_count": 25,
     "metadata": {},
     "output_type": "execute_result"
    }
   ],
   "source": [
    "#Displaying the top 20 countries with highest number of confirmed cases\n",
    "top20_confirmed.head(20)"
   ]
  },
  {
   "cell_type": "code",
   "execution_count": 26,
   "metadata": {
    "execution": {
     "iopub.execute_input": "2021-01-14T18:16:24.925746Z",
     "iopub.status.busy": "2021-01-14T18:16:24.925064Z",
     "iopub.status.idle": "2021-01-14T18:16:24.940812Z",
     "shell.execute_reply": "2021-01-14T18:16:24.940184Z"
    },
    "papermill": {
     "duration": 0.057534,
     "end_time": "2021-01-14T18:16:24.940921",
     "exception": false,
     "start_time": "2021-01-14T18:16:24.883387",
     "status": "completed"
    },
    "tags": []
   },
   "outputs": [
    {
     "data": {
      "text/html": [
       "<div>\n",
       "<style scoped>\n",
       "    .dataframe tbody tr th:only-of-type {\n",
       "        vertical-align: middle;\n",
       "    }\n",
       "\n",
       "    .dataframe tbody tr th {\n",
       "        vertical-align: top;\n",
       "    }\n",
       "\n",
       "    .dataframe thead th {\n",
       "        text-align: right;\n",
       "    }\n",
       "</style>\n",
       "<table border=\"1\" class=\"dataframe\">\n",
       "  <thead>\n",
       "    <tr style=\"text-align: right;\">\n",
       "      <th></th>\n",
       "      <th>Country/Region</th>\n",
       "      <th>Confirmed</th>\n",
       "      <th>Recovered</th>\n",
       "      <th>Deaths</th>\n",
       "    </tr>\n",
       "  </thead>\n",
       "  <tbody>\n",
       "    <tr>\n",
       "      <th>0</th>\n",
       "      <td>US</td>\n",
       "      <td>14757000.0</td>\n",
       "      <td>5624444.0</td>\n",
       "      <td>282299.0</td>\n",
       "    </tr>\n",
       "    <tr>\n",
       "      <th>2</th>\n",
       "      <td>Brazil</td>\n",
       "      <td>6603540.0</td>\n",
       "      <td>5866657.0</td>\n",
       "      <td>176941.0</td>\n",
       "    </tr>\n",
       "    <tr>\n",
       "      <th>1</th>\n",
       "      <td>India</td>\n",
       "      <td>9677203.0</td>\n",
       "      <td>9139901.0</td>\n",
       "      <td>140573.0</td>\n",
       "    </tr>\n",
       "    <tr>\n",
       "      <th>11</th>\n",
       "      <td>Mexico</td>\n",
       "      <td>1175850.0</td>\n",
       "      <td>866186.0</td>\n",
       "      <td>109717.0</td>\n",
       "    </tr>\n",
       "    <tr>\n",
       "      <th>6</th>\n",
       "      <td>UK</td>\n",
       "      <td>1727751.0</td>\n",
       "      <td>3736.0</td>\n",
       "      <td>61342.0</td>\n",
       "    </tr>\n",
       "    <tr>\n",
       "      <th>5</th>\n",
       "      <td>Italy</td>\n",
       "      <td>1728878.0</td>\n",
       "      <td>913494.0</td>\n",
       "      <td>60078.0</td>\n",
       "    </tr>\n",
       "    <tr>\n",
       "      <th>4</th>\n",
       "      <td>France</td>\n",
       "      <td>2345648.0</td>\n",
       "      <td>175220.0</td>\n",
       "      <td>55247.0</td>\n",
       "    </tr>\n",
       "    <tr>\n",
       "      <th>13</th>\n",
       "      <td>Iran</td>\n",
       "      <td>1040547.0</td>\n",
       "      <td>730798.0</td>\n",
       "      <td>50310.0</td>\n",
       "    </tr>\n",
       "    <tr>\n",
       "      <th>7</th>\n",
       "      <td>Spain</td>\n",
       "      <td>1684647.0</td>\n",
       "      <td>150376.0</td>\n",
       "      <td>46252.0</td>\n",
       "    </tr>\n",
       "    <tr>\n",
       "      <th>3</th>\n",
       "      <td>Russia</td>\n",
       "      <td>2439163.0</td>\n",
       "      <td>1920744.0</td>\n",
       "      <td>42675.0</td>\n",
       "    </tr>\n",
       "    <tr>\n",
       "      <th>8</th>\n",
       "      <td>Argentina</td>\n",
       "      <td>1463110.0</td>\n",
       "      <td>1294692.0</td>\n",
       "      <td>39770.0</td>\n",
       "    </tr>\n",
       "    <tr>\n",
       "      <th>9</th>\n",
       "      <td>Colombia</td>\n",
       "      <td>1371103.0</td>\n",
       "      <td>1257410.0</td>\n",
       "      <td>37808.0</td>\n",
       "    </tr>\n",
       "    <tr>\n",
       "      <th>14</th>\n",
       "      <td>Peru</td>\n",
       "      <td>972688.0</td>\n",
       "      <td>907654.0</td>\n",
       "      <td>36231.0</td>\n",
       "    </tr>\n",
       "    <tr>\n",
       "      <th>17</th>\n",
       "      <td>South Africa</td>\n",
       "      <td>814565.0</td>\n",
       "      <td>744780.0</td>\n",
       "      <td>22206.0</td>\n",
       "    </tr>\n",
       "    <tr>\n",
       "      <th>12</th>\n",
       "      <td>Poland</td>\n",
       "      <td>1063449.0</td>\n",
       "      <td>706720.0</td>\n",
       "      <td>20089.0</td>\n",
       "    </tr>\n",
       "    <tr>\n",
       "      <th>10</th>\n",
       "      <td>Germany</td>\n",
       "      <td>1194550.0</td>\n",
       "      <td>868285.0</td>\n",
       "      <td>18989.0</td>\n",
       "    </tr>\n",
       "    <tr>\n",
       "      <th>19</th>\n",
       "      <td>Indonesia</td>\n",
       "      <td>575796.0</td>\n",
       "      <td>474771.0</td>\n",
       "      <td>17740.0</td>\n",
       "    </tr>\n",
       "    <tr>\n",
       "      <th>18</th>\n",
       "      <td>Belgium</td>\n",
       "      <td>591756.0</td>\n",
       "      <td>0.0</td>\n",
       "      <td>17320.0</td>\n",
       "    </tr>\n",
       "    <tr>\n",
       "      <th>22</th>\n",
       "      <td>Chile</td>\n",
       "      <td>560382.0</td>\n",
       "      <td>534789.0</td>\n",
       "      <td>15628.0</td>\n",
       "    </tr>\n",
       "    <tr>\n",
       "      <th>16</th>\n",
       "      <td>Turkey</td>\n",
       "      <td>828295.0</td>\n",
       "      <td>431253.0</td>\n",
       "      <td>14900.0</td>\n",
       "    </tr>\n",
       "  </tbody>\n",
       "</table>\n",
       "</div>"
      ],
      "text/plain": [
       "   Country/Region   Confirmed  Recovered    Deaths\n",
       "0              US  14757000.0  5624444.0  282299.0\n",
       "2          Brazil   6603540.0  5866657.0  176941.0\n",
       "1           India   9677203.0  9139901.0  140573.0\n",
       "11         Mexico   1175850.0   866186.0  109717.0\n",
       "6              UK   1727751.0     3736.0   61342.0\n",
       "5           Italy   1728878.0   913494.0   60078.0\n",
       "4          France   2345648.0   175220.0   55247.0\n",
       "13           Iran   1040547.0   730798.0   50310.0\n",
       "7           Spain   1684647.0   150376.0   46252.0\n",
       "3          Russia   2439163.0  1920744.0   42675.0\n",
       "8       Argentina   1463110.0  1294692.0   39770.0\n",
       "9        Colombia   1371103.0  1257410.0   37808.0\n",
       "14           Peru    972688.0   907654.0   36231.0\n",
       "17   South Africa    814565.0   744780.0   22206.0\n",
       "12         Poland   1063449.0   706720.0   20089.0\n",
       "10        Germany   1194550.0   868285.0   18989.0\n",
       "19      Indonesia    575796.0   474771.0   17740.0\n",
       "18        Belgium    591756.0        0.0   17320.0\n",
       "22          Chile    560382.0   534789.0   15628.0\n",
       "16         Turkey    828295.0   431253.0   14900.0"
      ]
     },
     "execution_count": 26,
     "metadata": {},
     "output_type": "execute_result"
    }
   ],
   "source": [
    "#Displaying the top 20 countries with highest number of death cases\n",
    "top20_deaths.head(20)"
   ]
  },
  {
   "cell_type": "code",
   "execution_count": 27,
   "metadata": {
    "execution": {
     "iopub.execute_input": "2021-01-14T18:16:25.024604Z",
     "iopub.status.busy": "2021-01-14T18:16:25.023908Z",
     "iopub.status.idle": "2021-01-14T18:16:26.052639Z",
     "shell.execute_reply": "2021-01-14T18:16:26.053199Z"
    },
    "papermill": {
     "duration": 1.072494,
     "end_time": "2021-01-14T18:16:26.053362",
     "exception": false,
     "start_time": "2021-01-14T18:16:24.980868",
     "status": "completed"
    },
    "tags": []
   },
   "outputs": [
    {
     "data": {
      "text/plain": [
       "Text(0.5, 1.0, 'Top 20 countries with highest number of death cases')"
      ]
     },
     "execution_count": 27,
     "metadata": {},
     "output_type": "execute_result"
    },
    {
     "data": {
      "image/png": "[encoded data removed]",
      "text/plain": [
       "<Figure size 720x1440 with 3 Axes>"
      ]
     },
     "metadata": {
      "needs_background": "light"
     },
     "output_type": "display_data"
    }
   ],
   "source": [
    "#Plotting the top 20 countries in terms of confirmed, recovered and death cases\n",
    "figure, (ax1, ax2, ax3) = plt.subplots(3, 1, figsize = (10, 20))\n",
    "top20_confirmed.keys()\n",
    "\n",
    "sns.barplot(x = top20_confirmed[\"Confirmed\"], y = top20_confirmed[\"Country/Region\"], ax = ax1)\n",
    "ax1.set_title(\"Top 20 Countries with highest number of confirmed cases\")\n",
    "\n",
    "sns.barplot(x = top20_recovered[\"Recovered\"], y = top20_recovered[\"Country/Region\"], ax = ax2)\n",
    "ax2.set_title(\"Top 20 Countries with highest number of recovered cases\")\n",
    "\n",
    "sns.barplot(x = top20_deaths[\"Deaths\"], y = top20_deaths[\"Country/Region\"], ax = ax3)\n",
    "ax3.set_title(\"Top 20 countries with highest number of death cases\")\n",
    "\n"
   ]
  },
  {
   "cell_type": "code",
   "execution_count": 28,
   "metadata": {
    "execution": {
     "iopub.execute_input": "2021-01-14T18:16:26.142189Z",
     "iopub.status.busy": "2021-01-14T18:16:26.141565Z",
     "iopub.status.idle": "2021-01-14T18:16:26.154175Z",
     "shell.execute_reply": "2021-01-14T18:16:26.153594Z"
    },
    "papermill": {
     "duration": 0.058045,
     "end_time": "2021-01-14T18:16:26.154289",
     "exception": false,
     "start_time": "2021-01-14T18:16:26.096244",
     "status": "completed"
    },
    "tags": []
   },
   "outputs": [
    {
     "data": {
      "text/html": [
       "<div>\n",
       "<style scoped>\n",
       "    .dataframe tbody tr th:only-of-type {\n",
       "        vertical-align: middle;\n",
       "    }\n",
       "\n",
       "    .dataframe tbody tr th {\n",
       "        vertical-align: top;\n",
       "    }\n",
       "\n",
       "    .dataframe thead th {\n",
       "        text-align: right;\n",
       "    }\n",
       "</style>\n",
       "<table border=\"1\" class=\"dataframe\">\n",
       "  <thead>\n",
       "    <tr style=\"text-align: right;\">\n",
       "      <th></th>\n",
       "      <th>Country/Region</th>\n",
       "      <th>Confirmed</th>\n",
       "      <th>Recovered</th>\n",
       "      <th>Deaths</th>\n",
       "    </tr>\n",
       "  </thead>\n",
       "  <tbody>\n",
       "    <tr>\n",
       "      <th>0</th>\n",
       "      <td>US</td>\n",
       "      <td>14757000.0</td>\n",
       "      <td>5624444.0</td>\n",
       "      <td>282299.0</td>\n",
       "    </tr>\n",
       "    <tr>\n",
       "      <th>1</th>\n",
       "      <td>India</td>\n",
       "      <td>9677203.0</td>\n",
       "      <td>9139901.0</td>\n",
       "      <td>140573.0</td>\n",
       "    </tr>\n",
       "    <tr>\n",
       "      <th>2</th>\n",
       "      <td>Brazil</td>\n",
       "      <td>6603540.0</td>\n",
       "      <td>5866657.0</td>\n",
       "      <td>176941.0</td>\n",
       "    </tr>\n",
       "    <tr>\n",
       "      <th>3</th>\n",
       "      <td>Russia</td>\n",
       "      <td>2439163.0</td>\n",
       "      <td>1920744.0</td>\n",
       "      <td>42675.0</td>\n",
       "    </tr>\n",
       "    <tr>\n",
       "      <th>4</th>\n",
       "      <td>France</td>\n",
       "      <td>2345648.0</td>\n",
       "      <td>175220.0</td>\n",
       "      <td>55247.0</td>\n",
       "    </tr>\n",
       "  </tbody>\n",
       "</table>\n",
       "</div>"
      ],
      "text/plain": [
       "  Country/Region   Confirmed  Recovered    Deaths\n",
       "0             US  14757000.0  5624444.0  282299.0\n",
       "1          India   9677203.0  9139901.0  140573.0\n",
       "2         Brazil   6603540.0  5866657.0  176941.0\n",
       "3         Russia   2439163.0  1920744.0   42675.0\n",
       "4         France   2345648.0   175220.0   55247.0"
      ]
     },
     "execution_count": 28,
     "metadata": {},
     "output_type": "execute_result"
    }
   ],
   "source": [
    "Grouped_country.head()"
   ]
  },
  {
   "cell_type": "code",
   "execution_count": 29,
   "metadata": {
    "execution": {
     "iopub.execute_input": "2021-01-14T18:16:26.243167Z",
     "iopub.status.busy": "2021-01-14T18:16:26.242577Z",
     "iopub.status.idle": "2021-01-14T18:16:26.252755Z",
     "shell.execute_reply": "2021-01-14T18:16:26.253308Z"
    },
    "papermill": {
     "duration": 0.056008,
     "end_time": "2021-01-14T18:16:26.253457",
     "exception": false,
     "start_time": "2021-01-14T18:16:26.197449",
     "status": "completed"
    },
    "tags": []
   },
   "outputs": [],
   "source": [
    "#Looking at the countries that have the highest percentages of active, closed and recovered cases globally\n",
    "Grouped_country[\"Proportion of Confirmed\"] = round((Grouped_country[\"Confirmed\"] / Grouped_country[\"Confirmed\"].sum()) * 100)\n",
    "Grouped_country[\"Proportion of Recovered\"] = round ((Grouped_country[\"Recovered\"] / Grouped_country[\"Recovered\"].sum()) * 100)\n",
    "Grouped_country[\"Proportionof Deaths\"] = round((Grouped_country[\"Deaths\"] / Grouped_country[\"Deaths\"].sum()) * 100)"
   ]
  },
  {
   "cell_type": "code",
   "execution_count": 30,
   "metadata": {
    "execution": {
     "iopub.execute_input": "2021-01-14T18:16:26.344144Z",
     "iopub.status.busy": "2021-01-14T18:16:26.343511Z",
     "iopub.status.idle": "2021-01-14T18:16:26.363139Z",
     "shell.execute_reply": "2021-01-14T18:16:26.363694Z"
    },
    "papermill": {
     "duration": 0.066613,
     "end_time": "2021-01-14T18:16:26.363837",
     "exception": false,
     "start_time": "2021-01-14T18:16:26.297224",
     "status": "completed"
    },
    "tags": []
   },
   "outputs": [
    {
     "data": {
      "text/html": [
       "<div>\n",
       "<style scoped>\n",
       "    .dataframe tbody tr th:only-of-type {\n",
       "        vertical-align: middle;\n",
       "    }\n",
       "\n",
       "    .dataframe tbody tr th {\n",
       "        vertical-align: top;\n",
       "    }\n",
       "\n",
       "    .dataframe thead th {\n",
       "        text-align: right;\n",
       "    }\n",
       "</style>\n",
       "<table border=\"1\" class=\"dataframe\">\n",
       "  <thead>\n",
       "    <tr style=\"text-align: right;\">\n",
       "      <th></th>\n",
       "      <th>Country/Region</th>\n",
       "      <th>Confirmed</th>\n",
       "      <th>Recovered</th>\n",
       "      <th>Deaths</th>\n",
       "      <th>Proportion of Confirmed</th>\n",
       "      <th>Proportion of Recovered</th>\n",
       "      <th>Proportionof Deaths</th>\n",
       "    </tr>\n",
       "  </thead>\n",
       "  <tbody>\n",
       "    <tr>\n",
       "      <th>0</th>\n",
       "      <td>US</td>\n",
       "      <td>14757000.0</td>\n",
       "      <td>5624444.0</td>\n",
       "      <td>282299.0</td>\n",
       "      <td>22.0</td>\n",
       "      <td>13.0</td>\n",
       "      <td>18.0</td>\n",
       "    </tr>\n",
       "    <tr>\n",
       "      <th>1</th>\n",
       "      <td>India</td>\n",
       "      <td>9677203.0</td>\n",
       "      <td>9139901.0</td>\n",
       "      <td>140573.0</td>\n",
       "      <td>14.0</td>\n",
       "      <td>21.0</td>\n",
       "      <td>9.0</td>\n",
       "    </tr>\n",
       "    <tr>\n",
       "      <th>2</th>\n",
       "      <td>Brazil</td>\n",
       "      <td>6603540.0</td>\n",
       "      <td>5866657.0</td>\n",
       "      <td>176941.0</td>\n",
       "      <td>10.0</td>\n",
       "      <td>14.0</td>\n",
       "      <td>12.0</td>\n",
       "    </tr>\n",
       "    <tr>\n",
       "      <th>3</th>\n",
       "      <td>Russia</td>\n",
       "      <td>2439163.0</td>\n",
       "      <td>1920744.0</td>\n",
       "      <td>42675.0</td>\n",
       "      <td>4.0</td>\n",
       "      <td>4.0</td>\n",
       "      <td>3.0</td>\n",
       "    </tr>\n",
       "    <tr>\n",
       "      <th>4</th>\n",
       "      <td>France</td>\n",
       "      <td>2345648.0</td>\n",
       "      <td>175220.0</td>\n",
       "      <td>55247.0</td>\n",
       "      <td>3.0</td>\n",
       "      <td>0.0</td>\n",
       "      <td>4.0</td>\n",
       "    </tr>\n",
       "    <tr>\n",
       "      <th>5</th>\n",
       "      <td>Italy</td>\n",
       "      <td>1728878.0</td>\n",
       "      <td>913494.0</td>\n",
       "      <td>60078.0</td>\n",
       "      <td>3.0</td>\n",
       "      <td>2.0</td>\n",
       "      <td>4.0</td>\n",
       "    </tr>\n",
       "    <tr>\n",
       "      <th>6</th>\n",
       "      <td>UK</td>\n",
       "      <td>1727751.0</td>\n",
       "      <td>3736.0</td>\n",
       "      <td>61342.0</td>\n",
       "      <td>3.0</td>\n",
       "      <td>0.0</td>\n",
       "      <td>4.0</td>\n",
       "    </tr>\n",
       "    <tr>\n",
       "      <th>7</th>\n",
       "      <td>Spain</td>\n",
       "      <td>1684647.0</td>\n",
       "      <td>150376.0</td>\n",
       "      <td>46252.0</td>\n",
       "      <td>3.0</td>\n",
       "      <td>0.0</td>\n",
       "      <td>3.0</td>\n",
       "    </tr>\n",
       "    <tr>\n",
       "      <th>8</th>\n",
       "      <td>Argentina</td>\n",
       "      <td>1463110.0</td>\n",
       "      <td>1294692.0</td>\n",
       "      <td>39770.0</td>\n",
       "      <td>2.0</td>\n",
       "      <td>3.0</td>\n",
       "      <td>3.0</td>\n",
       "    </tr>\n",
       "    <tr>\n",
       "      <th>9</th>\n",
       "      <td>Colombia</td>\n",
       "      <td>1371103.0</td>\n",
       "      <td>1257410.0</td>\n",
       "      <td>37808.0</td>\n",
       "      <td>2.0</td>\n",
       "      <td>3.0</td>\n",
       "      <td>2.0</td>\n",
       "    </tr>\n",
       "    <tr>\n",
       "      <th>10</th>\n",
       "      <td>Germany</td>\n",
       "      <td>1194550.0</td>\n",
       "      <td>868285.0</td>\n",
       "      <td>18989.0</td>\n",
       "      <td>2.0</td>\n",
       "      <td>2.0</td>\n",
       "      <td>1.0</td>\n",
       "    </tr>\n",
       "    <tr>\n",
       "      <th>11</th>\n",
       "      <td>Mexico</td>\n",
       "      <td>1175850.0</td>\n",
       "      <td>866186.0</td>\n",
       "      <td>109717.0</td>\n",
       "      <td>2.0</td>\n",
       "      <td>2.0</td>\n",
       "      <td>7.0</td>\n",
       "    </tr>\n",
       "    <tr>\n",
       "      <th>12</th>\n",
       "      <td>Poland</td>\n",
       "      <td>1063449.0</td>\n",
       "      <td>706720.0</td>\n",
       "      <td>20089.0</td>\n",
       "      <td>2.0</td>\n",
       "      <td>2.0</td>\n",
       "      <td>1.0</td>\n",
       "    </tr>\n",
       "    <tr>\n",
       "      <th>13</th>\n",
       "      <td>Iran</td>\n",
       "      <td>1040547.0</td>\n",
       "      <td>730798.0</td>\n",
       "      <td>50310.0</td>\n",
       "      <td>2.0</td>\n",
       "      <td>2.0</td>\n",
       "      <td>3.0</td>\n",
       "    </tr>\n",
       "    <tr>\n",
       "      <th>14</th>\n",
       "      <td>Peru</td>\n",
       "      <td>972688.0</td>\n",
       "      <td>907654.0</td>\n",
       "      <td>36231.0</td>\n",
       "      <td>1.0</td>\n",
       "      <td>2.0</td>\n",
       "      <td>2.0</td>\n",
       "    </tr>\n",
       "    <tr>\n",
       "      <th>15</th>\n",
       "      <td>Ukraine</td>\n",
       "      <td>834913.0</td>\n",
       "      <td>435575.0</td>\n",
       "      <td>14054.0</td>\n",
       "      <td>1.0</td>\n",
       "      <td>1.0</td>\n",
       "      <td>1.0</td>\n",
       "    </tr>\n",
       "    <tr>\n",
       "      <th>16</th>\n",
       "      <td>Turkey</td>\n",
       "      <td>828295.0</td>\n",
       "      <td>431253.0</td>\n",
       "      <td>14900.0</td>\n",
       "      <td>1.0</td>\n",
       "      <td>1.0</td>\n",
       "      <td>1.0</td>\n",
       "    </tr>\n",
       "    <tr>\n",
       "      <th>17</th>\n",
       "      <td>South Africa</td>\n",
       "      <td>814565.0</td>\n",
       "      <td>744780.0</td>\n",
       "      <td>22206.0</td>\n",
       "      <td>1.0</td>\n",
       "      <td>2.0</td>\n",
       "      <td>1.0</td>\n",
       "    </tr>\n",
       "    <tr>\n",
       "      <th>18</th>\n",
       "      <td>Belgium</td>\n",
       "      <td>591756.0</td>\n",
       "      <td>0.0</td>\n",
       "      <td>17320.0</td>\n",
       "      <td>1.0</td>\n",
       "      <td>0.0</td>\n",
       "      <td>1.0</td>\n",
       "    </tr>\n",
       "    <tr>\n",
       "      <th>19</th>\n",
       "      <td>Indonesia</td>\n",
       "      <td>575796.0</td>\n",
       "      <td>474771.0</td>\n",
       "      <td>17740.0</td>\n",
       "      <td>1.0</td>\n",
       "      <td>1.0</td>\n",
       "      <td>1.0</td>\n",
       "    </tr>\n",
       "  </tbody>\n",
       "</table>\n",
       "</div>"
      ],
      "text/plain": [
       "   Country/Region   Confirmed  Recovered    Deaths  Proportion of Confirmed  \\\n",
       "0              US  14757000.0  5624444.0  282299.0                     22.0   \n",
       "1           India   9677203.0  9139901.0  140573.0                     14.0   \n",
       "2          Brazil   6603540.0  5866657.0  176941.0                     10.0   \n",
       "3          Russia   2439163.0  1920744.0   42675.0                      4.0   \n",
       "4          France   2345648.0   175220.0   55247.0                      3.0   \n",
       "5           Italy   1728878.0   913494.0   60078.0                      3.0   \n",
       "6              UK   1727751.0     3736.0   61342.0                      3.0   \n",
       "7           Spain   1684647.0   150376.0   46252.0                      3.0   \n",
       "8       Argentina   1463110.0  1294692.0   39770.0                      2.0   \n",
       "9        Colombia   1371103.0  1257410.0   37808.0                      2.0   \n",
       "10        Germany   1194550.0   868285.0   18989.0                      2.0   \n",
       "11         Mexico   1175850.0   866186.0  109717.0                      2.0   \n",
       "12         Poland   1063449.0   706720.0   20089.0                      2.0   \n",
       "13           Iran   1040547.0   730798.0   50310.0                      2.0   \n",
       "14           Peru    972688.0   907654.0   36231.0                      1.0   \n",
       "15        Ukraine    834913.0   435575.0   14054.0                      1.0   \n",
       "16         Turkey    828295.0   431253.0   14900.0                      1.0   \n",
       "17   South Africa    814565.0   744780.0   22206.0                      1.0   \n",
       "18        Belgium    591756.0        0.0   17320.0                      1.0   \n",
       "19      Indonesia    575796.0   474771.0   17740.0                      1.0   \n",
       "\n",
       "    Proportion of Recovered  Proportionof Deaths  \n",
       "0                      13.0                 18.0  \n",
       "1                      21.0                  9.0  \n",
       "2                      14.0                 12.0  \n",
       "3                       4.0                  3.0  \n",
       "4                       0.0                  4.0  \n",
       "5                       2.0                  4.0  \n",
       "6                       0.0                  4.0  \n",
       "7                       0.0                  3.0  \n",
       "8                       3.0                  3.0  \n",
       "9                       3.0                  2.0  \n",
       "10                      2.0                  1.0  \n",
       "11                      2.0                  7.0  \n",
       "12                      2.0                  1.0  \n",
       "13                      2.0                  3.0  \n",
       "14                      2.0                  2.0  \n",
       "15                      1.0                  1.0  \n",
       "16                      1.0                  1.0  \n",
       "17                      2.0                  1.0  \n",
       "18                      0.0                  1.0  \n",
       "19                      1.0                  1.0  "
      ]
     },
     "execution_count": 30,
     "metadata": {},
     "output_type": "execute_result"
    }
   ],
   "source": [
    "Grouped_country.head(20)"
   ]
  },
  {
   "cell_type": "markdown",
   "metadata": {
    "papermill": {
     "duration": 0.043814,
     "end_time": "2021-01-14T18:16:26.452441",
     "exception": false,
     "start_time": "2021-01-14T18:16:26.408627",
     "status": "completed"
    },
    "tags": []
   },
   "source": [
    "References:\n",
    "https://www.kaggle.com/sudalairajkumar/novel-corona-virus-2019-dataset\n",
    "https://www.kaggle.com/neelkudu28/covid-19-visualizations-predictions-forecasting/notebook#Countrywise-Analysis"
   ]
  }
 ],
 "metadata": {
  "kernelspec": {
   "display_name": "Python 3",
   "language": "python",
   "name": "python3"
  },
  "language_info": {
   "codemirror_mode": {
    "name": "ipython",
    "version": 3
   },
   "file_extension": ".py",
   "mimetype": "text/x-python",
   "name": "python",
   "nbconvert_exporter": "python",
   "pygments_lexer": "ipython3",
   "version": "3.7.6"
  },
  "papermill": {
   "duration": 13.980003,
   "end_time": "2021-01-14T18:16:26.605191",
   "environment_variables": {},
   "exception": null,
   "input_path": "__notebook__.ipynb",
   "output_path": "__notebook__.ipynb",
   "parameters": {},
   "start_time": "2021-01-14T18:16:12.625188",
   "version": "2.1.0"
  }
 },
 "nbformat": 4,
 "nbformat_minor": 4
}
